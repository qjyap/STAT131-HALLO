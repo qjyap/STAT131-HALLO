{
 "cells": [
  {
   "cell_type": "markdown",
   "metadata": {},
   "source": [
    "# STATS 131 Project: Kickstarter\n",
    "Team 15: HALLO\n",
    "\n",
    "Data: https://www.kaggle.com/kemical/kickstarter-projects/\n",
    "\n",
    "Presentation:\n",
    "\n",
    "Members: \n",
    "Kai Chen Tan,\n",
    "Qi Jing Yap,\n",
    "Yuqing Yang,\n",
    "Steven Salmeron"
   ]
  },
  {
   "cell_type": "markdown",
   "metadata": {},
   "source": [
    "# Data Background\n",
    "## What is Kickstarter?\n",
    "\n",
    "Kickstarter is a fundraising platform with the goal of helping to “bring creative projects to life”, by providing a way for artists to be funded directly by fans of the project. This is done through a campaign, a page where an artist outlines their project, what its purpose is, how much money they need to complete it and what this money will be used for, how much time they plan on giving the campaign to raise its funding goal, and why people should help fund it, including rewards for pledging certain amounts and potential stretch goals past the initial goal to enhance the project. The platform launched on April 28, 2009 and has seen over 450,000 projects pass through it.\n",
    "\n",
    "## Basics of a Kickstarter Project\n",
    "\n",
    "Each campaign has a unique Kickstarter ID used for internal identification, and each project has a name, although this does not have to be unique and only needs to title a project for people to find and refer to it with. A campaign also makes itself easier to distinguish from others through the use of categories. Kickstarter has 15 main categories to choose from: Art, Comics, Crafts, Dance, Design, Fashion, Film & Video, Food, Games, Journalism, Music, Photography, Publishing, Technology, and Theater. Subcategories are also attached to a project to further classify it past the main category. These include one such as footwear, accessories, and jewelry as 3 under fashion and games allowing categories based on genre and platform/medium. \n",
    "\n",
    "When a campaign starts, the team behind the project use methods, such as social media and email lists, to attract people to the campaign and get them interested. People who help fund a project are known as its ‘backers’ and the money they contribute is their ‘pledge’. Backing a project both allows the person to contribute to sometime they wish to see succeed and usually provides a reward if high enough. Rewards are usually tiered to match the amount pledged and often include things such as related merchandise (tote bags or t-shirts with the project’s logo), the project itself when it is some sort of product, or their name in the credits for the project. Project start with a specific goal for their campaign: an amount the team has determined to be the minimum they need to proceed with the project.\n",
    "    \n",
    "Because Kickstarter is a global platform and projects can be started in 22 different countries, not all campaigns are measured in USD. Kickstarter converts non USD currency numbers to USD based on conversion rates at the time of recording for use in their metrics, but does save the original numbers, currency, and country. A project has a date and time when it is launched, of course, as well as a deadline: a date and time when the project can longer receiving pledges. A project that reaches its goal by the deadline is a success and receives the pledged funding. Projects that fail to meet their goal receive no funding and Kickstarter will not collect funds from the backers; this is a failed project. This all-or-nothing model is meant to prevent disappointment in scenarios where a team may attempt to proceed with a project when only a tenth of the goal was reached and can no longer meet the standards that backers may have been expecting. More ambitious projects instead set a minimum goal and include stretch goals in their campaign: funding milestones where additional features not exactly necessary for the project will be worked on if reached. Of course, a project can be cancelled early if the team running it decided they would prefer not to continue it. Kickstarter may also suspend a campaign if upon further review, they decide it is in violation of one of their rules. \n",
    "\n",
    "## Our Dataset\n",
    "\n",
    "The dataset being analyzed here comes from a  Kaggle user, Mickaël Mouillé, and contains information about over 300,000 Kickstarter projects. Variables include most of what is described about projects above. \n",
    "- <font color=blue>ID</font> and <font color=blue>name</font>  are self explanatory. \n",
    "- <font color=blue>category</font> and <font color=blue>main_category</font> both give the one category and sub category a project is classified under.\n",
    "    - There are 15 categories, which are listed above. Each one has from 5 to 20 subcategories.\n",
    "- Currency and country use the abbreviation for the correct country of origin and currency used in the campaign <font color=blue>pledged</font> shows the amount raised in the native currency.\n",
    "    - <font color=blue>usd_pledged</font>, which is the amount pledged total, and <font color=blue>goal</font>, amount needed to succeed, are both already converted into USD by Kickstarter as detailed above. \n",
    "        - The dataset also includes a version of these variables with converstions done by fixer.io, <font color=blue>usd_pledged_real</font> and <font color=blue>usd_goal_real</font>,which we use instead for our analysis.\n",
    "- <font color=blue>launched</font> and <font color=blue>deadline</font> give the date and time the project was started and ended, respectively, in a “year-month-day hour:minute:second” format. \n",
    "- State shows whether the campaign ended successfully, failed, was cancelled, or was suspended. \n",
    "    - Some are also labeled as live, meaning the campaign was still ongoing, and undefined. \n",
    "The data was directly taken from the Kickstarter website itself and contains data from as early as the websites beginning.\n"
   ]
  },
  {
   "cell_type": "code",
   "execution_count": 1,
   "metadata": {},
   "outputs": [],
   "source": [
    "import pandas as pd\n",
    "import numpy as np\n",
    "import matplotlib\n",
    "import matplotlib.pyplot as plt\n",
    "import seaborn as sns"
   ]
  },
  {
   "cell_type": "code",
   "execution_count": 2,
   "metadata": {},
   "outputs": [],
   "source": [
    "kickstarter = pd.read_csv('ks-projects-201801.csv') #Reading in the data"
   ]
  },
  {
   "cell_type": "markdown",
   "metadata": {},
   "source": [
    "# Data Cleaning"
   ]
  },
  {
   "cell_type": "code",
   "execution_count": 3,
   "metadata": {},
   "outputs": [
    {
     "data": {
      "text/html": [
       "<div>\n",
       "<style scoped>\n",
       "    .dataframe tbody tr th:only-of-type {\n",
       "        vertical-align: middle;\n",
       "    }\n",
       "\n",
       "    .dataframe tbody tr th {\n",
       "        vertical-align: top;\n",
       "    }\n",
       "\n",
       "    .dataframe thead th {\n",
       "        text-align: right;\n",
       "    }\n",
       "</style>\n",
       "<table border=\"1\" class=\"dataframe\">\n",
       "  <thead>\n",
       "    <tr style=\"text-align: right;\">\n",
       "      <th></th>\n",
       "      <th>ID</th>\n",
       "      <th>name</th>\n",
       "      <th>category</th>\n",
       "      <th>main_category</th>\n",
       "      <th>currency</th>\n",
       "      <th>deadline</th>\n",
       "      <th>goal</th>\n",
       "      <th>launched</th>\n",
       "      <th>pledged</th>\n",
       "      <th>state</th>\n",
       "      <th>backers</th>\n",
       "      <th>country</th>\n",
       "      <th>usd pledged</th>\n",
       "      <th>usd_pledged_real</th>\n",
       "      <th>usd_goal_real</th>\n",
       "    </tr>\n",
       "  </thead>\n",
       "  <tbody>\n",
       "    <tr>\n",
       "      <th>0</th>\n",
       "      <td>1000002330</td>\n",
       "      <td>The Songs of Adelaide &amp; Abullah</td>\n",
       "      <td>Poetry</td>\n",
       "      <td>Publishing</td>\n",
       "      <td>GBP</td>\n",
       "      <td>2015-10-09</td>\n",
       "      <td>1000.0</td>\n",
       "      <td>2015-08-11 12:12:28</td>\n",
       "      <td>0.0</td>\n",
       "      <td>failed</td>\n",
       "      <td>0</td>\n",
       "      <td>GB</td>\n",
       "      <td>0.0</td>\n",
       "      <td>0.0</td>\n",
       "      <td>1533.95</td>\n",
       "    </tr>\n",
       "    <tr>\n",
       "      <th>1</th>\n",
       "      <td>1000003930</td>\n",
       "      <td>Greeting From Earth: ZGAC Arts Capsule For ET</td>\n",
       "      <td>Narrative Film</td>\n",
       "      <td>Film &amp; Video</td>\n",
       "      <td>USD</td>\n",
       "      <td>2017-11-01</td>\n",
       "      <td>30000.0</td>\n",
       "      <td>2017-09-02 04:43:57</td>\n",
       "      <td>2421.0</td>\n",
       "      <td>failed</td>\n",
       "      <td>15</td>\n",
       "      <td>US</td>\n",
       "      <td>100.0</td>\n",
       "      <td>2421.0</td>\n",
       "      <td>30000.00</td>\n",
       "    </tr>\n",
       "    <tr>\n",
       "      <th>2</th>\n",
       "      <td>1000004038</td>\n",
       "      <td>Where is Hank?</td>\n",
       "      <td>Narrative Film</td>\n",
       "      <td>Film &amp; Video</td>\n",
       "      <td>USD</td>\n",
       "      <td>2013-02-26</td>\n",
       "      <td>45000.0</td>\n",
       "      <td>2013-01-12 00:20:50</td>\n",
       "      <td>220.0</td>\n",
       "      <td>failed</td>\n",
       "      <td>3</td>\n",
       "      <td>US</td>\n",
       "      <td>220.0</td>\n",
       "      <td>220.0</td>\n",
       "      <td>45000.00</td>\n",
       "    </tr>\n",
       "    <tr>\n",
       "      <th>3</th>\n",
       "      <td>1000007540</td>\n",
       "      <td>ToshiCapital Rekordz Needs Help to Complete Album</td>\n",
       "      <td>Music</td>\n",
       "      <td>Music</td>\n",
       "      <td>USD</td>\n",
       "      <td>2012-04-16</td>\n",
       "      <td>5000.0</td>\n",
       "      <td>2012-03-17 03:24:11</td>\n",
       "      <td>1.0</td>\n",
       "      <td>failed</td>\n",
       "      <td>1</td>\n",
       "      <td>US</td>\n",
       "      <td>1.0</td>\n",
       "      <td>1.0</td>\n",
       "      <td>5000.00</td>\n",
       "    </tr>\n",
       "    <tr>\n",
       "      <th>4</th>\n",
       "      <td>1000011046</td>\n",
       "      <td>Community Film Project: The Art of Neighborhoo...</td>\n",
       "      <td>Film &amp; Video</td>\n",
       "      <td>Film &amp; Video</td>\n",
       "      <td>USD</td>\n",
       "      <td>2015-08-29</td>\n",
       "      <td>19500.0</td>\n",
       "      <td>2015-07-04 08:35:03</td>\n",
       "      <td>1283.0</td>\n",
       "      <td>canceled</td>\n",
       "      <td>14</td>\n",
       "      <td>US</td>\n",
       "      <td>1283.0</td>\n",
       "      <td>1283.0</td>\n",
       "      <td>19500.00</td>\n",
       "    </tr>\n",
       "  </tbody>\n",
       "</table>\n",
       "</div>"
      ],
      "text/plain": [
       "           ID                                               name  \\\n",
       "0  1000002330                    The Songs of Adelaide & Abullah   \n",
       "1  1000003930      Greeting From Earth: ZGAC Arts Capsule For ET   \n",
       "2  1000004038                                     Where is Hank?   \n",
       "3  1000007540  ToshiCapital Rekordz Needs Help to Complete Album   \n",
       "4  1000011046  Community Film Project: The Art of Neighborhoo...   \n",
       "\n",
       "         category main_category currency    deadline     goal  \\\n",
       "0          Poetry    Publishing      GBP  2015-10-09   1000.0   \n",
       "1  Narrative Film  Film & Video      USD  2017-11-01  30000.0   \n",
       "2  Narrative Film  Film & Video      USD  2013-02-26  45000.0   \n",
       "3           Music         Music      USD  2012-04-16   5000.0   \n",
       "4    Film & Video  Film & Video      USD  2015-08-29  19500.0   \n",
       "\n",
       "              launched  pledged     state  backers country  usd pledged  \\\n",
       "0  2015-08-11 12:12:28      0.0    failed        0      GB          0.0   \n",
       "1  2017-09-02 04:43:57   2421.0    failed       15      US        100.0   \n",
       "2  2013-01-12 00:20:50    220.0    failed        3      US        220.0   \n",
       "3  2012-03-17 03:24:11      1.0    failed        1      US          1.0   \n",
       "4  2015-07-04 08:35:03   1283.0  canceled       14      US       1283.0   \n",
       "\n",
       "   usd_pledged_real  usd_goal_real  \n",
       "0               0.0        1533.95  \n",
       "1            2421.0       30000.00  \n",
       "2             220.0       45000.00  \n",
       "3               1.0        5000.00  \n",
       "4            1283.0       19500.00  "
      ]
     },
     "execution_count": 3,
     "metadata": {},
     "output_type": "execute_result"
    }
   ],
   "source": [
    "kickstarter.head()"
   ]
  },
  {
   "cell_type": "code",
   "execution_count": 4,
   "metadata": {},
   "outputs": [
    {
     "data": {
      "text/plain": [
       "(378661, 15)"
      ]
     },
     "execution_count": 4,
     "metadata": {},
     "output_type": "execute_result"
    }
   ],
   "source": [
    "kickstarter.shape"
   ]
  },
  {
   "cell_type": "markdown",
   "metadata": {},
   "source": [
    "### 1. Drop Columns"
   ]
  },
  {
   "cell_type": "code",
   "execution_count": 5,
   "metadata": {},
   "outputs": [
    {
     "data": {
      "text/plain": [
       "(378661, 15)"
      ]
     },
     "execution_count": 5,
     "metadata": {},
     "output_type": "execute_result"
    }
   ],
   "source": [
    "## Data Cleaningkickstarter = kickstarter.drop(columns = ['pledged', 'usd pledged','goal'])\n",
    "kickstarter.shape"
   ]
  },
  {
   "cell_type": "markdown",
   "metadata": {},
   "source": [
    "why we drop the columns\n",
    "now we gather index that we want to remove..."
   ]
  },
  {
   "cell_type": "markdown",
   "metadata": {},
   "source": [
    "### 2. Data Types"
   ]
  },
  {
   "cell_type": "markdown",
   "metadata": {},
   "source": [
    "### 3. Check for Missing Values"
   ]
  },
  {
   "cell_type": "code",
   "execution_count": 6,
   "metadata": {
    "scrolled": true
   },
   "outputs": [
    {
     "name": "stdout",
     "output_type": "stream",
     "text": [
      "Empty DataFrame\n",
      "Columns: [ID, name, category, main_category, currency, deadline, goal, launched, pledged, state, backers, country, usd pledged, usd_pledged_real, usd_goal_real]\n",
      "Index: []\n",
      "ID                     0\n",
      "name                   4\n",
      "category               0\n",
      "main_category          0\n",
      "currency               0\n",
      "deadline               0\n",
      "goal                   0\n",
      "launched               0\n",
      "pledged                0\n",
      "state                  0\n",
      "backers                0\n",
      "country                0\n",
      "usd pledged         3797\n",
      "usd_pledged_real       0\n",
      "usd_goal_real          0\n",
      "dtype: int64\n"
     ]
    }
   ],
   "source": [
    "print(kickstarter[kickstarter.duplicated()])\n",
    "print(kickstarter.isna().sum()) # check for NAs## Data Cleaning\n",
    "index_A = kickstarter[kickstarter.name.isna()].index"
   ]
  },
  {
   "cell_type": "markdown",
   "metadata": {},
   "source": [
    "We observe that while there are no completely duplicated rows in our DataFrame, we also find that there are 4 NAs on our <font color='blue'>name</font> column,  We have saved the indexes of these repeated rows for later deletion.\n",
    "\n",
    "We also noticed 3797 NAs in our <font color='blue'>usd pledged</font> column (which we will not be using as earlier mentioned)."
   ]
  },
  {
   "cell_type": "markdown",
   "metadata": {},
   "source": [
    "### 4. Check Problematic Rows"
   ]
  },
  {
   "cell_type": "markdown",
   "metadata": {},
   "source": [
    "#### (a)"
   ]
  },
  {
   "cell_type": "code",
   "execution_count": 7,
   "metadata": {
    "scrolled": true
   },
   "outputs": [
    {
     "name": "stdout",
     "output_type": "stream",
     "text": [
      "375764\n",
      "Empty DataFrame\n",
      "Columns: [ID, name, category, main_category, currency, deadline, goal, launched, pledged, state, backers, country, usd pledged, usd_pledged_real, usd_goal_real]\n",
      "Index: []\n"
     ]
    },
    {
     "data": {
      "text/html": [
       "<div>\n",
       "<style scoped>\n",
       "    .dataframe tbody tr th:only-of-type {\n",
       "        vertical-align: middle;\n",
       "    }\n",
       "\n",
       "    .dataframe tbody tr th {\n",
       "        vertical-align: top;\n",
       "    }\n",
       "\n",
       "    .dataframe thead th {\n",
       "        text-align: right;\n",
       "    }\n",
       "</style>\n",
       "<table border=\"1\" class=\"dataframe\">\n",
       "  <thead>\n",
       "    <tr style=\"text-align: right;\">\n",
       "      <th></th>\n",
       "      <th>ID</th>\n",
       "      <th>name</th>\n",
       "      <th>category</th>\n",
       "      <th>main_category</th>\n",
       "      <th>currency</th>\n",
       "      <th>deadline</th>\n",
       "      <th>goal</th>\n",
       "      <th>launched</th>\n",
       "      <th>pledged</th>\n",
       "      <th>state</th>\n",
       "      <th>backers</th>\n",
       "      <th>country</th>\n",
       "      <th>usd pledged</th>\n",
       "      <th>usd_pledged_real</th>\n",
       "      <th>usd_goal_real</th>\n",
       "    </tr>\n",
       "  </thead>\n",
       "  <tbody>\n",
       "    <tr>\n",
       "      <th>342920</th>\n",
       "      <td>816998285</td>\n",
       "      <td>\"...The Last shall be first...\" LODB Lifestyle...</td>\n",
       "      <td>Fashion</td>\n",
       "      <td>Fashion</td>\n",
       "      <td>USD</td>\n",
       "      <td>2014-02-09</td>\n",
       "      <td>6500.0</td>\n",
       "      <td>2013-12-19 21:51:50</td>\n",
       "      <td>0.0</td>\n",
       "      <td>canceled</td>\n",
       "      <td>0</td>\n",
       "      <td>US</td>\n",
       "      <td>0.0</td>\n",
       "      <td>0.0</td>\n",
       "      <td>6500.0</td>\n",
       "    </tr>\n",
       "    <tr>\n",
       "      <th>342692</th>\n",
       "      <td>815783250</td>\n",
       "      <td>\"...The Last shall be first...\" LODB Lifestyle...</td>\n",
       "      <td>Fashion</td>\n",
       "      <td>Fashion</td>\n",
       "      <td>USD</td>\n",
       "      <td>2014-03-01</td>\n",
       "      <td>6500.0</td>\n",
       "      <td>2014-01-03 20:39:16</td>\n",
       "      <td>37.0</td>\n",
       "      <td>failed</td>\n",
       "      <td>3</td>\n",
       "      <td>US</td>\n",
       "      <td>37.0</td>\n",
       "      <td>37.0</td>\n",
       "      <td>6500.0</td>\n",
       "    </tr>\n",
       "    <tr>\n",
       "      <th>2024</th>\n",
       "      <td>1010584633</td>\n",
       "      <td>\"A Fresh Start\"</td>\n",
       "      <td>Shorts</td>\n",
       "      <td>Film &amp; Video</td>\n",
       "      <td>USD</td>\n",
       "      <td>2011-09-25</td>\n",
       "      <td>3000.0</td>\n",
       "      <td>2011-08-28 21:27:52</td>\n",
       "      <td>3000.0</td>\n",
       "      <td>successful</td>\n",
       "      <td>24</td>\n",
       "      <td>US</td>\n",
       "      <td>3000.0</td>\n",
       "      <td>3000.0</td>\n",
       "      <td>3000.0</td>\n",
       "    </tr>\n",
       "    <tr>\n",
       "      <th>322671</th>\n",
       "      <td>713417995</td>\n",
       "      <td>\"A Fresh Start\"</td>\n",
       "      <td>Documentary</td>\n",
       "      <td>Film &amp; Video</td>\n",
       "      <td>USD</td>\n",
       "      <td>2013-03-27</td>\n",
       "      <td>5000.0</td>\n",
       "      <td>2013-01-26 03:51:47</td>\n",
       "      <td>1417.0</td>\n",
       "      <td>failed</td>\n",
       "      <td>26</td>\n",
       "      <td>US</td>\n",
       "      <td>1417.0</td>\n",
       "      <td>1417.0</td>\n",
       "      <td>5000.0</td>\n",
       "    </tr>\n",
       "    <tr>\n",
       "      <th>173036</th>\n",
       "      <td>1880084695</td>\n",
       "      <td>\"American Sports Stories\" - An Athletic Quest</td>\n",
       "      <td>Shorts</td>\n",
       "      <td>Film &amp; Video</td>\n",
       "      <td>USD</td>\n",
       "      <td>2015-08-26</td>\n",
       "      <td>100000.0</td>\n",
       "      <td>2015-06-27 02:02:00</td>\n",
       "      <td>100.0</td>\n",
       "      <td>failed</td>\n",
       "      <td>1</td>\n",
       "      <td>US</td>\n",
       "      <td>100.0</td>\n",
       "      <td>100.0</td>\n",
       "      <td>100000.0</td>\n",
       "    </tr>\n",
       "  </tbody>\n",
       "</table>\n",
       "</div>"
      ],
      "text/plain": [
       "                ID                                               name  \\\n",
       "342920   816998285  \"...The Last shall be first...\" LODB Lifestyle...   \n",
       "342692   815783250  \"...The Last shall be first...\" LODB Lifestyle...   \n",
       "2024    1010584633                                    \"A Fresh Start\"   \n",
       "322671   713417995                                    \"A Fresh Start\"   \n",
       "173036  1880084695      \"American Sports Stories\" - An Athletic Quest   \n",
       "\n",
       "           category main_category currency    deadline      goal  \\\n",
       "342920      Fashion       Fashion      USD  2014-02-09    6500.0   \n",
       "342692      Fashion       Fashion      USD  2014-03-01    6500.0   \n",
       "2024         Shorts  Film & Video      USD  2011-09-25    3000.0   \n",
       "322671  Documentary  Film & Video      USD  2013-03-27    5000.0   \n",
       "173036       Shorts  Film & Video      USD  2015-08-26  100000.0   \n",
       "\n",
       "                   launched  pledged       state  backers country  \\\n",
       "342920  2013-12-19 21:51:50      0.0    canceled        0      US   \n",
       "342692  2014-01-03 20:39:16     37.0      failed        3      US   \n",
       "2024    2011-08-28 21:27:52   3000.0  successful       24      US   \n",
       "322671  2013-01-26 03:51:47   1417.0      failed       26      US   \n",
       "173036  2015-06-27 02:02:00    100.0      failed        1      US   \n",
       "\n",
       "        usd pledged  usd_pledged_real  usd_goal_real  \n",
       "342920          0.0               0.0         6500.0  \n",
       "342692         37.0              37.0         6500.0  \n",
       "2024         3000.0            3000.0         3000.0  \n",
       "322671       1417.0            1417.0         5000.0  \n",
       "173036        100.0             100.0       100000.0  "
      ]
     },
     "execution_count": 7,
     "metadata": {},
     "output_type": "execute_result"
    }
   ],
   "source": [
    "## Data Cleaning## Data Cleaning## Data Cleaningprint(kickstarter['ID'].nunique())\n",
    "print(kickstarter['name'].nunique()) #strange, ~3000 rows seem to have duplicated names with unique IDs\n",
    "\n",
    "print(kickstarter[kickstarter['ID'].duplicated(keep = False)].sort_values(by = 'ID'))\n",
    "kickstarter[kickstarter['name'].duplicated(keep = False)].sort_values(by = 'name').head()\n"
   ]
  },
  {
   "cell_type": "markdown",
   "metadata": {},
   "source": [
    "We also notice an interesting finding: While the <font color='blue'>ID</font> column had 378661 entries with no duplicates, there were about 2897 instances of repeated <font color='blue'>name</font> in our dataset. We will investigate this further later on."
   ]
  },
  {
   "cell_type": "markdown",
   "metadata": {},
   "source": [
    "#### (b)"
   ]
  },
  {
   "cell_type": "code",
   "execution_count": 8,
   "metadata": {
    "scrolled": true
   },
   "outputs": [
    {
     "name": "stdout",
     "output_type": "stream",
     "text": [
      "75397     1970-01-01 01:00:00\n",
      "319002    1970-01-01 01:00:00\n",
      "2842      1970-01-01 01:00:00\n",
      "94579     1970-01-01 01:00:00\n",
      "247913    1970-01-01 01:00:00\n",
      "273779    1970-01-01 01:00:00\n",
      "48147     1970-01-01 01:00:00\n",
      "169268    2009-04-21 21:02:48\n",
      "322000    2009-04-23 00:07:53\n",
      "138572    2009-04-24 21:52:03\n",
      "Name: launched, dtype: object\n"
     ]
    }
   ],
   "source": [
    "print(kickstarter.launched.sort_values().head(10))\n",
    "index_B = kickstarter.launched.sort_values()[0:7].index"
   ]
  },
  {
   "cell_type": "markdown",
   "metadata": {},
   "source": [
    "When exploring the data, we also discovered that 7 of the projects had a <font color='blue'>launched</font> date in the year 1970. Since Kickstarter was only founded in 2009, these results are not possible. We have also saved these indexes."
   ]
  },
  {
   "cell_type": "markdown",
   "metadata": {},
   "source": [
    "#### (c)"
   ]
  },
  {
   "cell_type": "code",
   "execution_count": 9,
   "metadata": {},
   "outputs": [
    {
     "data": {
      "text/html": [
       "<div>\n",
       "<style scoped>\n",
       "    .dataframe tbody tr th:only-of-type {\n",
       "        vertical-align: middle;\n",
       "    }\n",
       "\n",
       "    .dataframe tbody tr th {\n",
       "        vertical-align: top;\n",
       "    }\n",
       "\n",
       "    .dataframe thead th {\n",
       "        text-align: right;\n",
       "    }\n",
       "</style>\n",
       "<table border=\"1\" class=\"dataframe\">\n",
       "  <thead>\n",
       "    <tr style=\"text-align: right;\">\n",
       "      <th></th>\n",
       "      <th>ID</th>\n",
       "      <th>name</th>\n",
       "      <th>category</th>\n",
       "      <th>main_category</th>\n",
       "      <th>currency</th>\n",
       "      <th>deadline</th>\n",
       "      <th>goal</th>\n",
       "      <th>launched</th>\n",
       "      <th>pledged</th>\n",
       "      <th>state</th>\n",
       "      <th>backers</th>\n",
       "      <th>country</th>\n",
       "      <th>usd pledged</th>\n",
       "      <th>usd_pledged_real</th>\n",
       "      <th>usd_goal_real</th>\n",
       "    </tr>\n",
       "  </thead>\n",
       "  <tbody>\n",
       "    <tr>\n",
       "      <th>16780</th>\n",
       "      <td>1085047405</td>\n",
       "      <td>\"Balance\"</td>\n",
       "      <td>Jazz</td>\n",
       "      <td>Music</td>\n",
       "      <td>USD</td>\n",
       "      <td>2013-04-04</td>\n",
       "      <td>23000.0</td>\n",
       "      <td>2013-03-05 10:55:56</td>\n",
       "      <td>23020.01</td>\n",
       "      <td>failed</td>\n",
       "      <td>141</td>\n",
       "      <td>US</td>\n",
       "      <td>23020.01</td>\n",
       "      <td>23020.01</td>\n",
       "      <td>23000.0</td>\n",
       "    </tr>\n",
       "    <tr>\n",
       "      <th>58558</th>\n",
       "      <td>1297794474</td>\n",
       "      <td>Music Empowers - A Day with the Accende Ensemble</td>\n",
       "      <td>Classical Music</td>\n",
       "      <td>Music</td>\n",
       "      <td>USD</td>\n",
       "      <td>2012-01-04</td>\n",
       "      <td>3000.0</td>\n",
       "      <td>2011-11-07 15:20:24</td>\n",
       "      <td>3087.50</td>\n",
       "      <td>failed</td>\n",
       "      <td>20</td>\n",
       "      <td>US</td>\n",
       "      <td>3087.50</td>\n",
       "      <td>3087.50</td>\n",
       "      <td>3000.0</td>\n",
       "    </tr>\n",
       "    <tr>\n",
       "      <th>136909</th>\n",
       "      <td>1695255515</td>\n",
       "      <td>POPE! an epic musical, opening at NY Fringe Fe...</td>\n",
       "      <td>Theater</td>\n",
       "      <td>Theater</td>\n",
       "      <td>USD</td>\n",
       "      <td>2010-08-20</td>\n",
       "      <td>3600.0</td>\n",
       "      <td>2010-07-21 05:48:11</td>\n",
       "      <td>3600.00</td>\n",
       "      <td>failed</td>\n",
       "      <td>30</td>\n",
       "      <td>US</td>\n",
       "      <td>3600.00</td>\n",
       "      <td>3600.00</td>\n",
       "      <td>3600.0</td>\n",
       "    </tr>\n",
       "    <tr>\n",
       "      <th>216545</th>\n",
       "      <td>2103203254</td>\n",
       "      <td>The new face of Canadian Science Fiction</td>\n",
       "      <td>Fiction</td>\n",
       "      <td>Publishing</td>\n",
       "      <td>USD</td>\n",
       "      <td>2010-05-16</td>\n",
       "      <td>10000.0</td>\n",
       "      <td>2010-03-18 04:35:31</td>\n",
       "      <td>10797.00</td>\n",
       "      <td>failed</td>\n",
       "      <td>66</td>\n",
       "      <td>US</td>\n",
       "      <td>10797.00</td>\n",
       "      <td>10797.00</td>\n",
       "      <td>10000.0</td>\n",
       "    </tr>\n",
       "    <tr>\n",
       "      <th>298960</th>\n",
       "      <td>59246799</td>\n",
       "      <td>Key Wrench - Unlock Your Life!</td>\n",
       "      <td>Product Design</td>\n",
       "      <td>Design</td>\n",
       "      <td>USD</td>\n",
       "      <td>2013-10-04</td>\n",
       "      <td>6000.0</td>\n",
       "      <td>2013-08-24 05:42:10</td>\n",
       "      <td>6183.00</td>\n",
       "      <td>failed</td>\n",
       "      <td>208</td>\n",
       "      <td>US</td>\n",
       "      <td>6183.00</td>\n",
       "      <td>6183.00</td>\n",
       "      <td>6000.0</td>\n",
       "    </tr>\n",
       "  </tbody>\n",
       "</table>\n",
       "</div>"
      ],
      "text/plain": [
       "                ID                                               name  \\\n",
       "16780   1085047405                                          \"Balance\"   \n",
       "58558   1297794474   Music Empowers - A Day with the Accende Ensemble   \n",
       "136909  1695255515  POPE! an epic musical, opening at NY Fringe Fe...   \n",
       "216545  2103203254           The new face of Canadian Science Fiction   \n",
       "298960    59246799                     Key Wrench - Unlock Your Life!   \n",
       "\n",
       "               category main_category currency    deadline     goal  \\\n",
       "16780              Jazz         Music      USD  2013-04-04  23000.0   \n",
       "58558   Classical Music         Music      USD  2012-01-04   3000.0   \n",
       "136909          Theater       Theater      USD  2010-08-20   3600.0   \n",
       "216545          Fiction    Publishing      USD  2010-05-16  10000.0   \n",
       "298960   Product Design        Design      USD  2013-10-04   6000.0   \n",
       "\n",
       "                   launched   pledged   state  backers country  usd pledged  \\\n",
       "16780   2013-03-05 10:55:56  23020.01  failed      141      US     23020.01   \n",
       "58558   2011-11-07 15:20:24   3087.50  failed       20      US      3087.50   \n",
       "136909  2010-07-21 05:48:11   3600.00  failed       30      US      3600.00   \n",
       "216545  2010-03-18 04:35:31  10797.00  failed       66      US     10797.00   \n",
       "298960  2013-08-24 05:42:10   6183.00  failed      208      US      6183.00   \n",
       "\n",
       "        usd_pledged_real  usd_goal_real  \n",
       "16780           23020.01        23000.0  \n",
       "58558            3087.50         3000.0  \n",
       "136909           3600.00         3600.0  \n",
       "216545          10797.00        10000.0  \n",
       "298960           6183.00         6000.0  "
      ]
     },
     "execution_count": 9,
     "metadata": {},
     "output_type": "execute_result"
    }
   ],
   "source": [
    "## Data Cleaning\n",
    "success = kickstarter[kickstarter['usd_pledged_real'] >= kickstarter['usd_goal_real']] \n",
    "wrong = success[success['state']=='failed']\n",
    "index_C = wrong.index\n",
    "wrong.head()"
   ]
  },
  {
   "cell_type": "markdown",
   "metadata": {},
   "source": [
    "We further identified and saved rows where projects had their <font color = 'blue'>usd_pledged_real</font> meeting their <font color = 'blue'>usd_goal_real</font>, yet were considered failed. This is an error, since Kickstarter by definition awards projects who met their goals as successful. A good example of this can be found in the following link.\n",
    "\n",
    "https://www.kickstarter.com/projects/1755876060/music-empowers-a-day-with-the-accende-ensemble/ (3,087 pledged of 3,000 goal, \"Funding Unsuccessful\")"
   ]
  },
  {
   "cell_type": "markdown",
   "metadata": {},
   "source": [
    "#### (d)"
   ]
  },
  {
   "cell_type": "code",
   "execution_count": 10,
   "metadata": {},
   "outputs": [
    {
     "name": "stdout",
     "output_type": "stream",
     "text": [
      "['N,0\"']\n"
     ]
    }
   ],
   "source": [
    "## Data Cleaning\n",
    "undefined = kickstarter[kickstarter['state'] == 'undefined']\n",
    "print(undefined.country.unique())\n",
    "index_D = kickstarter[kickstarter.country == 'N,0\"'].index"
   ]
  },
  {
   "cell_type": "markdown",
   "metadata": {},
   "source": [
    "Finally, we saved the rows with a nonsensical country code of 'N,0'. Interestingly, these rows also contain the same rows where the <font color='blue'>state</font> was considered 'undefined'."
   ]
  },
  {
   "cell_type": "markdown",
   "metadata": {},
   "source": [
    "### 5. Remove Problematic Rows"
   ]
  },
  {
   "cell_type": "code",
   "execution_count": 11,
   "metadata": {},
   "outputs": [
    {
     "name": "stdout",
     "output_type": "stream",
     "text": [
      "3814\n",
      "True\n"
     ]
    },
    {
     "data": {
      "text/plain": [
       "(374847, 15)"
      ]
     },
     "execution_count": 11,
     "metadata": {},
     "output_type": "execute_result"
    }
   ],
   "source": [
    "## Data Cleaning## Data Cleaning\n",
    "allindexes_remove = list(index_A) + list(index_B) + list(index_C) + list(index_D)\n",
    "print(len(set(allindexes_remove)))\n",
    "print(len(allindexes_remove) == len(set(allindexes_remove)))\n",
    "kickstarter_cleaned = kickstarter.drop(labels=allindexes_remove)\n",
    "kickstarter_cleaned.shape"
   ]
  },
  {
   "cell_type": "markdown",
   "metadata": {},
   "source": [
    "Now, we have removed the 3814 rows corresponding to all the indexes saved above. After filtering our dataset, the shape of our DataFrame has gone from (378661,15) to (374847, 15), a removal of approximately 1.01% of the original data."
   ]
  },
  {
   "cell_type": "markdown",
   "metadata": {},
   "source": [
    "### 6. Feature Engineering"
   ]
  },
  {
   "cell_type": "markdown",
   "metadata": {},
   "source": [
    "In order to prepare the data for further analysis and modeling, we also create new features from existing ones. The list of features created are as follows:\n",
    "\n",
    "1. <font color = 'blue'>project_length</font>: This feature tracks the number of days between a project's launch date and deadline where a project was active for. We also checked for negative values, which did not exist thankfully.\n",
    "2. <font color = 'blue'>pledged_per_backer</font>: This feature tracks the mean amount of money (converted to USD) pledged by each individual backer. We have also removed rows with <font color = 'blue'>pledged_per_backer</font> listed as Inf, as these are caused by projects with 0 backers."
   ]
  },
  {
   "cell_type": "code",
   "execution_count": 12,
   "metadata": {
    "scrolled": true
   },
   "outputs": [
    {
     "name": "stdout",
     "output_type": "stream",
     "text": [
      "156430    0 days 00:07:17\n",
      "180186    0 days 00:51:07\n",
      "182763    0 days 01:42:57\n",
      "65731     0 days 01:48:40\n",
      "370904    0 days 02:15:07\n",
      "172743    0 days 02:15:14\n",
      "70034     0 days 02:17:45\n",
      "197881    0 days 02:22:06\n",
      "244237    0 days 02:43:30\n",
      "37608     0 days 02:52:48\n",
      "312550    0 days 03:02:18\n",
      "156411    0 days 03:11:21\n",
      "322948    0 days 04:00:25\n",
      "365411    0 days 04:29:43\n",
      "129319    0 days 04:31:24\n",
      "899       0 days 04:56:21\n",
      "357036    0 days 05:00:42\n",
      "190908    0 days 05:04:50\n",
      "20984     0 days 05:04:56\n",
      "335318    0 days 05:12:50\n",
      "128829    0 days 05:19:16\n",
      "118408    0 days 05:39:16\n",
      "246603    0 days 05:42:44\n",
      "268704    0 days 05:44:46\n",
      "184581    0 days 05:47:35\n",
      "363529    0 days 05:54:09\n",
      "372363    0 days 05:54:20\n",
      "34578     0 days 06:03:33\n",
      "281394    0 days 06:17:51\n",
      "155041    0 days 06:33:54\n",
      "               ...       \n",
      "328866   90 days 23:51:08\n",
      "374626   90 days 23:51:18\n",
      "200266   90 days 23:51:23\n",
      "9583     90 days 23:55:12\n",
      "241476   90 days 23:56:29\n",
      "140080   90 days 23:58:13\n",
      "291590   90 days 23:58:42\n",
      "327808   90 days 23:59:35\n",
      "170950   91 days 00:01:48\n",
      "61014    91 days 00:10:29\n",
      "151836   91 days 00:15:50\n",
      "38476    91 days 00:19:56\n",
      "88090    91 days 00:37:52\n",
      "153557   91 days 00:47:34\n",
      "22618    91 days 03:38:37\n",
      "173919   91 days 04:21:16\n",
      "226191   91 days 04:58:27\n",
      "85716    91 days 05:47:24\n",
      "67868    91 days 08:57:06\n",
      "226361   91 days 13:07:02\n",
      "150277   91 days 13:54:06\n",
      "275427   91 days 13:58:49\n",
      "98785    91 days 13:59:04\n",
      "243386   91 days 16:20:08\n",
      "238380   91 days 16:43:38\n",
      "135100   91 days 18:59:57\n",
      "206611   91 days 19:48:11\n",
      "305126   91 days 21:24:01\n",
      "200310   91 days 22:25:12\n",
      "74196    91 days 23:06:13\n",
      "Name: project_length, Length: 374847, dtype: timedelta64[ns]\n"
     ]
    }
   ],
   "source": [
    "kickstarter_cleaned['deadline'] = pd.to_datetime(kickstarter_cleaned.deadline)\n",
    "kickstarter_cleaned['launched'] = pd.to_datetime(kickstarter_cleaned.launched)\n",
    "kickstarter_cleaned['project_length'] = kickstarter_cleaned['deadline'] - kickstarter_cleaned['launched']\n",
    "print(kickstarter_cleaned.project_length.sort_values()) #no negative days\n",
    "kickstarter_cleaned['project_length'] = kickstarter_cleaned.project_length.dt.days\n",
    "\n",
    "kickstarter_cleaned['pledged_per_backer'] = kickstarter_cleaned['usd_pledged_real'] / kickstarter_cleaned['backers']\n",
    "kickstarter_cleaned = kickstarter_cleaned[~kickstarter_cleaned.isin([np.nan, np.inf, -np.inf]).any(1)]"
   ]
  },
  {
   "cell_type": "markdown",
   "metadata": {},
   "source": [
    "# Exploratory Analysis of the Data"
   ]
  },
  {
   "cell_type": "markdown",
   "metadata": {},
   "source": [
    "### Guiding Question 1: Which catgory is the most well-funded?"
   ]
  },
  {
   "cell_type": "markdown",
   "metadata": {},
   "source": [
    "### Frequency of Project v.s. Category"
   ]
  },
  {
   "cell_type": "code",
   "execution_count": 28,
   "metadata": {},
   "outputs": [
    {
     "data": {
      "image/png": "[encoded data removed]",
      "text/plain": [
       "<Figure size 432x288 with 1 Axes>"
      ]
     },
     "metadata": {
      "needs_background": "light"
     },
     "output_type": "display_data"
    }
   ],
   "source": [
    "freq_category = sns.countplot(projects.main_category,order = projects['main_category'].value_counts().index)\n",
    "freq_category.set_xticklabels(freq_category.get_xticklabels(), rotation=50,horizontalalignment='right')\n",
    "freq_category.set_title(\"Frequency Project v.s. Category\")\n",
    "plt.show()"
   ]
  },
  {
   "cell_type": "markdown",
   "metadata": {},
   "source": [
    "### Success Rate by Category"
   ]
  },
  {
   "cell_type": "code",
   "execution_count": 13,
   "metadata": {
    "scrolled": true
   },
   "outputs": [
    {
     "data": {
      "image/png": "[encoded data removed]",
      "text/plain": [
       "<Figure size 432x288 with 1 Axes>"
      ]
     },
     "metadata": {
      "needs_background": "light"
     },
     "output_type": "display_data"
    }
   ],
   "source": [
    "projects = kickstarter_cleaned[(kickstarter_cleaned['state'] == 'failed') | (kickstarter_cleaned['state'] == 'successful')]\n",
    "\n",
    "grouped = projects.groupby(['main_category','state']).ID.count()\n",
    "total = projects.groupby('main_category').state.count()\n",
    "prop = np.round((grouped/total),2).unstack().sort_values(by='successful')\n",
    "#print(prop.std())\n",
    "#print(prop.mean()) \n",
    "\n",
    "prop.plot(kind='bar',stacked=True)\n",
    "plt.title('Proportion of Successful vs Failed Projects by Main Category')\n",
    "plt.legend(loc='upper right',bbox_to_anchor=(1.4,1))\n",
    "plt.show()# Exploratory Analysis"
   ]
  },
  {
   "cell_type": "markdown",
   "metadata": {},
   "source": [
    "### Amount pledged v.s. Category"
   ]
  },
  {
   "cell_type": "code",
   "execution_count": 27,
   "metadata": {},
   "outputs": [
    {
     "data": {
      "image/png": "[encoded data removed]",
      "text/plain": [
       "<Figure size 432x288 with 1 Axes>"
      ]
     },
     "metadata": {
      "needs_background": "light"
     },
     "output_type": "display_data"
    }
   ],
   "source": [
    "pledged = projects.groupby(['main_category']).usd_pledged_real.sum().sort_values(ascending=False)\n",
    "pledged.plot(kind=\"bar\")\n",
    "plt.title(\"Amount Pledged v.s. Category\")\n",
    "plt.show()"
   ]
  },
  {
   "cell_type": "markdown",
   "metadata": {},
   "source": [
    "### Average Amount Pledged v.s. Category"
   ]
  },
  {
   "cell_type": "code",
   "execution_count": 16,
   "metadata": {},
   "outputs": [
    {
     "data": {
      "image/png": "[encoded data removed]",
      "text/plain": [
       "<Figure size 432x288 with 1 Axes>"
      ]
     },
     "metadata": {
      "needs_background": "light"
     },
     "output_type": "display_data"
    }
   ],
   "source": [
    "avg_pledged = projects.groupby(['main_category']).usd_pledged_real.mean().sort_values(ascending=False)\n",
    "avg_pledged\n",
    "avg_pledged.plot(kind=\"bar\")\n",
    "plt.title(\"Average Amount Pledged v.s. Category\")\n",
    "plt.show()"
   ]
  },
  {
   "cell_type": "markdown",
   "metadata": {},
   "source": [
    "### Average Amount Pledged per Backer v.s. Category"
   ]
  },
  {
   "cell_type": "code",
   "execution_count": 17,
   "metadata": {
    "scrolled": true
   },
   "outputs": [
    {
     "data": {
      "image/png": "[encoded data removed]",
      "text/plain": [
       "<Figure size 432x288 with 1 Axes>"
      ]
     },
     "metadata": {
      "needs_background": "light"
     },
     "output_type": "display_data"
    }
   ],
   "source": [
    "avg_pledged_backer = projects.groupby(['main_category']).pledged_per_backer.mean().sort_values(ascending=False)\n",
    "avg_pledged_backer\n",
    "avg_pledged_backer.plot(kind=\"bar\")\n",
    "plt.title(\"Average Amount Pledged per Backer v.s. Category\")\n",
    "plt.show()"
   ]
  },
  {
   "cell_type": "markdown",
   "metadata": {},
   "source": [
    "### Guiding Question 2: Exploring unexpected success"
   ]
  },
  {
   "cell_type": "markdown",
   "metadata": {},
   "source": [
    "### Guiding Question 3: What are some factors that may impact the outcome of a project?"
   ]
  },
  {
   "cell_type": "markdown",
   "metadata": {},
   "source": [
    "### Average Project Goal v.s. Category"
   ]
  },
  {
   "cell_type": "code",
   "execution_count": 18,
   "metadata": {
    "scrolled": true
   },
   "outputs": [
    {
     "data": {
      "image/png": "[encoded data removed]",
      "text/plain": [
       "<Figure size 432x288 with 1 Axes>"
      ]
     },
     "metadata": {
      "needs_background": "light"
     },
     "output_type": "display_data"
    }
   ],
   "source": [
    "avg_pledged_goal = projects.groupby(['main_category']).usd_goal_real.mean().sort_values(ascending=False)\n",
    "avg_pledged_goal\n",
    "avg_pledged_goal.plot(kind=\"bar\")\n",
    "plt.title(\"Average Amount Pledged Goal v.s. Category\")\n",
    "plt.show()"
   ]
  },
  {
   "cell_type": "markdown",
   "metadata": {},
   "source": [
    "### Average Pledged per Backer by Category"
   ]
  },
  {
   "cell_type": "code",
   "execution_count": 34,
   "metadata": {},
   "outputs": [
    {
     "data": {
      "image/png": "[encoded data removed]",
      "text/plain": [
       "<Figure size 432x288 with 1 Axes>"
      ]
     },
     "metadata": {
      "needs_background": "light"
     },
     "output_type": "display_data"
    }
   ],
   "source": [
    "A = projects.groupby(['main_category','state']).pledged_per_backer.mean().unstack()\n",
    "A.plot(kind=\"bar\")### Average Project Goal v.s. Category\n",
    "plt.title(\"Average pledged per Backer by Category\")\n",
    "plt.ylabel(\"Average Pledged per Backer\")\n",
    "plt.xlabel(\"Main Category\")\n",
    "plt.show()"
   ]
  },
  {
   "cell_type": "markdown",
   "metadata": {},
   "source": [
    "# Data Modeling"
   ]
  },
  {
   "cell_type": "code",
   "execution_count": 19,
   "metadata": {},
   "outputs": [],
   "source": [
    "import statsmodels.formula.api as smf\n",
    "from sklearn.model_selection import train_test_split\n",
    "from sklearn.linear_model import LogisticRegression,LassoCV"
   ]
  },
  {
   "cell_type": "markdown",
   "metadata": {},
   "source": [
    "In order to preprocess our data for modeling whether a project will be 'successful' or 'failed', we will have to filter our dataset to only include projects with the feature <font color = 'blue'>state</font> equal to one of these two. Because of the nature of the smf module, we will gave to convert the values to 1 or 0."
   ]
  },
  {
   "cell_type": "code",
   "execution_count": 20,
   "metadata": {},
   "outputs": [],
   "source": [
    "clean_state = {'state': {'failed': 0, \"successful\": 1}}\n",
    "kickstarter_cleaned.replace(clean_state, inplace=True)\n",
    "kickstarter_fail_successful = kickstarter_cleaned[(kickstarter_cleaned.state == 1) | (kickstarter_cleaned.state == 0)] "
   ]
  },
  {
   "cell_type": "markdown",
   "metadata": {},
   "source": [
    "(TO BE CONFIRMED) We have also filtered the data to only include projects with <font color = 'blue'>main_category</font> equal to 'Games'. This allows us to create a less computationally expensive model and a model that can identify important subcategories (the feature <font color = 'blue'>category</font>) within the 'Games' <font color = 'blue'>main_category</font>."
   ]
  },
  {
   "cell_type": "code",
   "execution_count": 21,
   "metadata": {},
   "outputs": [],
   "source": [
    "kickstarter_games = kickstarter_fail_successful[kickstarter_fail_successful['main_category'] == 'Games']"
   ]
  },
  {
   "cell_type": "code",
   "execution_count": 22,
   "metadata": {},
   "outputs": [
    {
     "name": "stdout",
     "output_type": "stream",
     "text": [
      "(18932, 13) (18932, 1)\n",
      "(8115, 13) (8115, 1)\n"
     ]
    }
   ],
   "source": [
    "X_train, X_test, y_train, y_test = train_test_split(kickstarter_games[['ID','name','category','main_category','currency','deadline','launched','backers','country','usd_pledged_real','usd_goal_real','project_length','pledged_per_backer']],kickstarter_games[['state']], test_size=0.3)\n",
    "print(X_train.shape, y_train.shape)\n",
    "print(X_test.shape, y_test.shape)\n",
    "\n",
    "y_train['state'] = y_train.state.apply(int)\n",
    "y_test['state'] = y_test.state.apply(int)"
   ]
  },
  {
   "cell_type": "code",
   "execution_count": 23,
   "metadata": {},
   "outputs": [
    {
     "name": "stdout",
     "output_type": "stream",
     "text": [
      "Optimization terminated successfully.\n",
      "         Current function value: 0.592662\n",
      "         Iterations 8\n",
      "                           Logit Regression Results                           \n",
      "==============================================================================\n",
      "Dep. Variable:                  state   No. Observations:                18932\n",
      "Model:                          Logit   Df Residuals:                    18921\n",
      "Method:                           MLE   Df Model:                           10\n",
      "Date:                Tue, 26 Nov 2019   Pseudo R-squ.:                  0.1416\n",
      "Time:                        19:08:41   Log-Likelihood:                -11220.\n",
      "converged:                       True   LL-Null:                       -13072.\n",
      "Covariance Type:            nonrobust   LLR p-value:                     0.000\n",
      "===============================================================================================\n",
      "                                  coef    std err          z      P>|z|      [0.025      0.975]\n",
      "-----------------------------------------------------------------------------------------------\n",
      "Intercept                       0.2983      0.076      3.915      0.000       0.149       0.448\n",
      "category[T.Gaming Hardware]     0.2057      0.164      1.251      0.211      -0.117       0.528\n",
      "category[T.Live Games]         -0.4361      0.120     -3.646      0.000      -0.671      -0.202\n",
      "category[T.Mobile Games]       -1.3239      0.121    -10.925      0.000      -1.561      -1.086\n",
      "category[T.Playing Cards]       0.5612      0.077      7.290      0.000       0.410       0.712\n",
      "category[T.Puzzles]             0.2959      0.183      1.619      0.105      -0.062       0.654\n",
      "category[T.Tabletop Games]      1.2486      0.059     21.200      0.000       1.133       1.364\n",
      "category[T.Video Games]        -0.2607      0.061     -4.251      0.000      -0.381      -0.140\n",
      "usd_goal_real               -3.564e-06   4.19e-07     -8.506      0.000   -4.39e-06   -2.74e-06\n",
      "project_length                 -0.0330      0.002    -19.545      0.000      -0.036      -0.030\n",
      "pledged_per_backer              0.0036      0.000     12.733      0.000       0.003       0.004\n",
      "===============================================================================================\n"
     ]
    }
   ],
   "source": [
    "logitmodel = smf.logit(formula = 'state ~ category + usd_goal_real + project_length + pledged_per_backer', data = pd.concat([X_train, y_train], axis=1))\n",
    "results = logitmodel.fit()\n",
    "print(results.summary())"
   ]
  },
  {
   "cell_type": "code",
   "execution_count": 24,
   "metadata": {},
   "outputs": [
    {
     "data": {
      "text/plain": [
       "0.7083179297597042"
      ]
     },
     "execution_count": 24,
     "metadata": {},
     "output_type": "execute_result"
    }
   ],
   "source": [
    "testresult_logit = results.predict(X_test)\n",
    "testresult_logit = np.where(testresult_logit > 0.5, 1, 0)\n",
    "np.mean(testresult_logit == y_test.state.to_numpy()) #~70% accuracy on test dataset"
   ]
  },
  {
   "cell_type": "code",
   "execution_count": 25,
   "metadata": {
    "scrolled": true
   },
   "outputs": [
    {
     "data": {
      "text/plain": [
       "0.5383857054836723"
      ]
     },
     "execution_count": 25,
     "metadata": {},
     "output_type": "execute_result"
    }
   ],
   "source": [
    "y_test.state.value_counts().iloc[0]/(y_test.state.value_counts().iloc[0] + y_test.state.value_counts().iloc[1])"
   ]
  },
  {
   "cell_type": "markdown",
   "metadata": {},
   "source": [
    "After splitting our results into a train and test set, we obtain an accuracy of ~70% on the test dataset. TO DO: Crossvalidation to verify our results (but based on running this code multiple times the 70% appears to hold steady). This result is indeed significant, as our model predictions represent a noticeable improvement in accuracy (compared to merely predicting 'failed' or 'successful' for all of the test data, ~53%)"
   ]
  }
 ],
 "metadata": {
  "kernelspec": {
   "display_name": "Python 3",
   "language": "python",
   "name": "python3"
  },
  "language_info": {
   "codemirror_mode": {
    "name": "ipython",
    "version": 3
   },
   "file_extension": ".py",
   "mimetype": "text/x-python",
   "name": "python",
   "nbconvert_exporter": "python",
   "pygments_lexer": "ipython3",
   "version": "3.7.3"
  }
 },
 "nbformat": 4,
 "nbformat_minor": 2
}
