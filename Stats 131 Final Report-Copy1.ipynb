{
 "cells": [
  {
   "cell_type": "markdown",
   "metadata": {},
   "source": [
    "# STATS 131 Final Project: Kickstarter\n",
    "Team 15: HALLO\n",
    "\n",
    "Data: https://www.kaggle.com/kemical/kickstarter-projects/\n",
    "\n",
    "Presentation:\n",
    "\n",
    "Members: \n",
    "Kai Chen Tan,\n",
    "Qi Jing Yap,\n",
    "Yuqing Yang,\n",
    "Steven Salmeron\n"
   ]
  },
  {
   "cell_type": "markdown",
   "metadata": {},
   "source": [
    "![](kickstarter_header.png)\n",
    "\n",
    "# Background Information\n",
    "\n",
    "## What is Kickstarter?\n",
    "\n",
    "Kickstarter is a fundraising platform with the goal to help “bring creative projects to life” by providing a way for creators and artists to be funded directly by fans of their projects. The platform was launched on April 28, 2009 and has seen over 450,000 projects pass through it since then. \n",
    "\n",
    "## Basics of a Kickstarter Project\n",
    "\n",
    "Each campaign has a unique Kickstarter ID used for internal identification. Each project also has a title name that allows people to find and refer to it with. The name of a project does not need to be unique. Kickstarter has made it easier to distinguish one project from another with the use of 15 main categories: Art, Comics, Crafts, Dance, Design, Fashion, Film & Video, Food, Games, Journalism, Music, Photography, Publishing, Technology, and Theater. Subcategories are also attached to a project to further classify it beyond the main category. For instance, under the main category Fashion, the subcategories are apparel, accessories, jewelry, footware, etc. \n",
    "\n",
    "People who help fund a project are known as its ‘backers’ and the money they contribute is their ‘pledge’. Backing a project gives backers an opportunity to contribute to something they wish to see succeed and also to receive a reward if their pledges are high enough. Rewards are usually tiered by the amount pledged and it is a strategy used by creators to incentivize backers to pledge more. Rewards often include the product itself if the project involves some sort of product, company swags, and possibly also a meetup with the creators for high pledges.\n",
    "\n",
    "Projects are required to launch with a specified goal, and the goal is usually an amount that the team has determined to be the minimum they need to proceed with the project. Since Kickstarter is a global platform and projects can be started in 22 different countries, not all campaigns are measured in USD. The goal and pledges can be processed in the local currency of each project.\n",
    "\n",
    "Before launching a project, the creator has to set a starting date, as well as a dealine. The maximum length for a project used to be 90 days but was lowered to 60 in 2011. As soon as the deadline approaches, the project can no longer receive pledges. \n",
    "- A project that reaches its goal by the deadline is considered successful and receives the pledged funding. Kickstarter collects a 5% fee from the funding total, and a payment processing fee between 3-5% will also be collected.\n",
    "- A project that fails to meet its goal is considered failed regardless of how close it was to reaching the goal. Kickstarter will not collect any funds from the backers of a failed project, and the creators will receive no funding. This all-or-nothing model is meant to prevent disappointment in scenarios where a team may attempt to proceed with a project when only a tenth of the goal was reached and can no longer meet the standards that backers may have been expecting. Due to this policy, many ambitious projects choose to set a minimum goal for their campaign and include stretch goals, which are funding milestones where additional features not exactly necessary for the project will be worked on if reached. \n",
    "- A project can be cancelled early if the creator has decided to not continue the project.\n",
    "- A project can also be suspended if Kickstarter decides that it is in violation of the platform's policies upon further review.\n",
    "\n",
    "## How was the Data Collected?\n",
    "\n",
    "The dataset being analyzed for this project was scraped from Kickstarter platform by a Kaggle user, Mickaël Mouillé. This dataset contains information of over 300,000 Kickstarter projects up to January 2, 2018.\n",
    "\n",
    "## Discussion of Variables\n",
    "\n",
    "### 1. Each Column\n",
    "\n",
    "- <font color=blue>ID</font> is the internal Kickstarter ID, unique for each project.\n",
    "- <font color=blue>name</font> is the name of a project.\n",
    "- <font color=blue>category</font> is the subcategory a project belongs to. There are 5 to 20 subcategories within each main category.\n",
    "- <font color=blue>main_category</font> is a classification of projects based on shared characteristics. There are 15 main categories set by Kickstarter.\n",
    "- <font color=blue>currency</font> is the local currency used for the campaign.\n",
    "- <font color=blue>deadline</font> is the date a project was scheduled to end.\n",
    "- <font color=blue>goal</font> is the fundraising goal set by the creator of a project. Data in this column is of different currency types and not standardized.\n",
    "- <font color=blue>launched</font> gives the date and time the project was started in the platform.\n",
    "- <font color=blue>pledged</font> is the amount of money a project fundraised. Data in this column is of different currency types and not standardized.\n",
    "- <font color=blue>state</font> indicates the outcome of a project, whether it was successful, failed, cancelled or suspended. Ongoing projects are labeled as live, and some project status are undefined. \n",
    "- <font color=blue>backers</font> is the number of backers who have agreed to contribute to a project.\n",
    "- <font color=blue>country</font> gives the abbreviation of the country where the Kickstarter project was launched.\n",
    "- <font color=blue>usd pledged</font> is the conversion of the <font color=blue>pledged</font> column to US dollars (conversion done by Kickstarter).\n",
    "- <font color=blue>usd_pledged_real</font> is the amount of money a project fundraised. Data in the <font color=blue>pledged</font> column is converted to USD and standardized.\n",
    "- <font color=blue>usd_goal_real</font> is the fundraising goal. Data in the <font color=blue>goal</font> column is converted to USD and standardized.\n",
    "\n",
    "### 2. Each Row\n",
    "\n",
    "Each row is a record of the performance of one unique project with the Kickstarter internal ID as the unique identifier. \n",
    "\n",
    "## Research Review\n",
    "\n",
    "woohoo!\n"
   ]
  },
  {
   "cell_type": "code",
   "execution_count": 1,
   "metadata": {},
   "outputs": [],
   "source": [
    "import pandas as pd\n",
    "import numpy as np\n",
    "import matplotlib\n",
    "import matplotlib.pyplot as plt\n",
    "import seaborn as sns\n",
    "import warnings\n",
    "warnings.filterwarnings('ignore')"
   ]
  },
  {
   "cell_type": "code",
   "execution_count": 2,
   "metadata": {},
   "outputs": [],
   "source": [
    "kickstarter = pd.read_csv('ks-projects-201801.csv') #Reading in the data"
   ]
  },
  {
   "cell_type": "code",
   "execution_count": 3,
   "metadata": {},
   "outputs": [
    {
     "data": {
      "text/html": [
       "<div>\n",
       "<style scoped>\n",
       "    .dataframe tbody tr th:only-of-type {\n",
       "        vertical-align: middle;\n",
       "    }\n",
       "\n",
       "    .dataframe tbody tr th {\n",
       "        vertical-align: top;\n",
       "    }\n",
       "\n",
       "    .dataframe thead th {\n",
       "        text-align: right;\n",
       "    }\n",
       "</style>\n",
       "<table border=\"1\" class=\"dataframe\">\n",
       "  <thead>\n",
       "    <tr style=\"text-align: right;\">\n",
       "      <th></th>\n",
       "      <th>ID</th>\n",
       "      <th>name</th>\n",
       "      <th>category</th>\n",
       "      <th>main_category</th>\n",
       "      <th>currency</th>\n",
       "      <th>deadline</th>\n",
       "      <th>goal</th>\n",
       "      <th>launched</th>\n",
       "      <th>pledged</th>\n",
       "      <th>state</th>\n",
       "      <th>backers</th>\n",
       "      <th>country</th>\n",
       "      <th>usd pledged</th>\n",
       "      <th>usd_pledged_real</th>\n",
       "      <th>usd_goal_real</th>\n",
       "    </tr>\n",
       "  </thead>\n",
       "  <tbody>\n",
       "    <tr>\n",
       "      <th>0</th>\n",
       "      <td>1000002330</td>\n",
       "      <td>The Songs of Adelaide &amp; Abullah</td>\n",
       "      <td>Poetry</td>\n",
       "      <td>Publishing</td>\n",
       "      <td>GBP</td>\n",
       "      <td>2015-10-09</td>\n",
       "      <td>1000.0</td>\n",
       "      <td>2015-08-11 12:12:28</td>\n",
       "      <td>0.0</td>\n",
       "      <td>failed</td>\n",
       "      <td>0</td>\n",
       "      <td>GB</td>\n",
       "      <td>0.0</td>\n",
       "      <td>0.0</td>\n",
       "      <td>1533.95</td>\n",
       "    </tr>\n",
       "    <tr>\n",
       "      <th>1</th>\n",
       "      <td>1000003930</td>\n",
       "      <td>Greeting From Earth: ZGAC Arts Capsule For ET</td>\n",
       "      <td>Narrative Film</td>\n",
       "      <td>Film &amp; Video</td>\n",
       "      <td>USD</td>\n",
       "      <td>2017-11-01</td>\n",
       "      <td>30000.0</td>\n",
       "      <td>2017-09-02 04:43:57</td>\n",
       "      <td>2421.0</td>\n",
       "      <td>failed</td>\n",
       "      <td>15</td>\n",
       "      <td>US</td>\n",
       "      <td>100.0</td>\n",
       "      <td>2421.0</td>\n",
       "      <td>30000.00</td>\n",
       "    </tr>\n",
       "    <tr>\n",
       "      <th>2</th>\n",
       "      <td>1000004038</td>\n",
       "      <td>Where is Hank?</td>\n",
       "      <td>Narrative Film</td>\n",
       "      <td>Film &amp; Video</td>\n",
       "      <td>USD</td>\n",
       "      <td>2013-02-26</td>\n",
       "      <td>45000.0</td>\n",
       "      <td>2013-01-12 00:20:50</td>\n",
       "      <td>220.0</td>\n",
       "      <td>failed</td>\n",
       "      <td>3</td>\n",
       "      <td>US</td>\n",
       "      <td>220.0</td>\n",
       "      <td>220.0</td>\n",
       "      <td>45000.00</td>\n",
       "    </tr>\n",
       "    <tr>\n",
       "      <th>3</th>\n",
       "      <td>1000007540</td>\n",
       "      <td>ToshiCapital Rekordz Needs Help to Complete Album</td>\n",
       "      <td>Music</td>\n",
       "      <td>Music</td>\n",
       "      <td>USD</td>\n",
       "      <td>2012-04-16</td>\n",
       "      <td>5000.0</td>\n",
       "      <td>2012-03-17 03:24:11</td>\n",
       "      <td>1.0</td>\n",
       "      <td>failed</td>\n",
       "      <td>1</td>\n",
       "      <td>US</td>\n",
       "      <td>1.0</td>\n",
       "      <td>1.0</td>\n",
       "      <td>5000.00</td>\n",
       "    </tr>\n",
       "    <tr>\n",
       "      <th>4</th>\n",
       "      <td>1000011046</td>\n",
       "      <td>Community Film Project: The Art of Neighborhoo...</td>\n",
       "      <td>Film &amp; Video</td>\n",
       "      <td>Film &amp; Video</td>\n",
       "      <td>USD</td>\n",
       "      <td>2015-08-29</td>\n",
       "      <td>19500.0</td>\n",
       "      <td>2015-07-04 08:35:03</td>\n",
       "      <td>1283.0</td>\n",
       "      <td>canceled</td>\n",
       "      <td>14</td>\n",
       "      <td>US</td>\n",
       "      <td>1283.0</td>\n",
       "      <td>1283.0</td>\n",
       "      <td>19500.00</td>\n",
       "    </tr>\n",
       "  </tbody>\n",
       "</table>\n",
       "</div>"
      ],
      "text/plain": [
       "           ID                                               name  \\\n",
       "0  1000002330                    The Songs of Adelaide & Abullah   \n",
       "1  1000003930      Greeting From Earth: ZGAC Arts Capsule For ET   \n",
       "2  1000004038                                     Where is Hank?   \n",
       "3  1000007540  ToshiCapital Rekordz Needs Help to Complete Album   \n",
       "4  1000011046  Community Film Project: The Art of Neighborhoo...   \n",
       "\n",
       "         category main_category currency    deadline     goal  \\\n",
       "0          Poetry    Publishing      GBP  2015-10-09   1000.0   \n",
       "1  Narrative Film  Film & Video      USD  2017-11-01  30000.0   \n",
       "2  Narrative Film  Film & Video      USD  2013-02-26  45000.0   \n",
       "3           Music         Music      USD  2012-04-16   5000.0   \n",
       "4    Film & Video  Film & Video      USD  2015-08-29  19500.0   \n",
       "\n",
       "              launched  pledged     state  backers country  usd pledged  \\\n",
       "0  2015-08-11 12:12:28      0.0    failed        0      GB          0.0   \n",
       "1  2017-09-02 04:43:57   2421.0    failed       15      US        100.0   \n",
       "2  2013-01-12 00:20:50    220.0    failed        3      US        220.0   \n",
       "3  2012-03-17 03:24:11      1.0    failed        1      US          1.0   \n",
       "4  2015-07-04 08:35:03   1283.0  canceled       14      US       1283.0   \n",
       "\n",
       "   usd_pledged_real  usd_goal_real  \n",
       "0               0.0        1533.95  \n",
       "1            2421.0       30000.00  \n",
       "2             220.0       45000.00  \n",
       "3               1.0        5000.00  \n",
       "4            1283.0       19500.00  "
      ]
     },
     "execution_count": 3,
     "metadata": {},
     "output_type": "execute_result"
    }
   ],
   "source": [
    "kickstarter.head()"
   ]
  },
  {
   "cell_type": "code",
   "execution_count": 4,
   "metadata": {},
   "outputs": [
    {
     "data": {
      "text/plain": [
       "(378661, 15)"
      ]
     },
     "execution_count": 4,
     "metadata": {},
     "output_type": "execute_result"
    }
   ],
   "source": [
    "kickstarter.shape"
   ]
  },
  {
   "cell_type": "markdown",
   "metadata": {},
   "source": [
    "# Data Cleaning"
   ]
  },
  {
   "cell_type": "markdown",
   "metadata": {},
   "source": [
    "### 1. Drop Columns"
   ]
  },
  {
   "cell_type": "code",
   "execution_count": 5,
   "metadata": {},
   "outputs": [
    {
     "data": {
      "text/plain": [
       "(378661, 12)"
      ]
     },
     "execution_count": 5,
     "metadata": {},
     "output_type": "execute_result"
    }
   ],
   "source": [
    "kickstarter = kickstarter.drop(columns = ['pledged', 'goal', 'usd pledged'])\n",
    "kickstarter.shape"
   ]
  },
  {
   "cell_type": "markdown",
   "metadata": {},
   "source": [
    "We have decided to remove the columns <font color=blue>pledged</font> and <font color=blue>goal</font> because data in these two columns are in different currency types and not standardized. Instead, we will be using columns <font color=blue>usd_pledged_real</font> and <font color=blue>usd_goal_real</font>, which are the same numbers converted to USD and standardized. In addition, <font color=blue>usd_pledged</font> is removed because the conversion done by this column is more problematic. The same information is provided by the variable <font color=blue>usd_pledged_real</font>."
   ]
  },
  {
   "cell_type": "markdown",
   "metadata": {},
   "source": [
    "### 2. Data Types"
   ]
  },
  {
   "cell_type": "code",
   "execution_count": 6,
   "metadata": {},
   "outputs": [
    {
     "name": "stdout",
     "output_type": "stream",
     "text": [
      "ID                    int64\n",
      "name                 object\n",
      "category             object\n",
      "main_category        object\n",
      "currency             object\n",
      "deadline             object\n",
      "launched             object\n",
      "state                object\n",
      "backers               int64\n",
      "country              object\n",
      "usd_pledged_real    float64\n",
      "usd_goal_real       float64\n",
      "dtype: object\n"
     ]
    }
   ],
   "source": [
    "print(kickstarter.dtypes)"
   ]
  },
  {
   "cell_type": "markdown",
   "metadata": {},
   "source": [
    "Since <font color=blue>deadline</font> and <font color=blue>launched</font> are objects, we convert them to date-time type."
   ]
  },
  {
   "cell_type": "code",
   "execution_count": 7,
   "metadata": {},
   "outputs": [],
   "source": [
    "kickstarter['deadline'] = pd.to_datetime(kickstarter.deadline)\n",
    "kickstarter['launched'] = pd.to_datetime(kickstarter.launched)"
   ]
  },
  {
   "cell_type": "markdown",
   "metadata": {},
   "source": [
    "### 3. Check for Duplicates"
   ]
  },
  {
   "cell_type": "code",
   "execution_count": 8,
   "metadata": {},
   "outputs": [
    {
     "name": "stdout",
     "output_type": "stream",
     "text": [
      "<class 'pandas.core.frame.DataFrame'>\n",
      "RangeIndex: 378661 entries, 0 to 378660\n",
      "Data columns (total 12 columns):\n",
      "ID                  378661 non-null int64\n",
      "name                378657 non-null object\n",
      "category            378661 non-null object\n",
      "main_category       378661 non-null object\n",
      "currency            378661 non-null object\n",
      "deadline            378661 non-null datetime64[ns]\n",
      "launched            378661 non-null datetime64[ns]\n",
      "state               378661 non-null object\n",
      "backers             378661 non-null int64\n",
      "country             378661 non-null object\n",
      "usd_pledged_real    378661 non-null float64\n",
      "usd_goal_real       378661 non-null float64\n",
      "dtypes: datetime64[ns](2), float64(2), int64(2), object(6)\n",
      "memory usage: 34.7+ MB\n"
     ]
    }
   ],
   "source": [
    "kickstarter.info()"
   ]
  },
  {
   "cell_type": "markdown",
   "metadata": {},
   "source": [
    "We notice that <font color='blue'>name</font> is the only column that does not have 378661 unique entries. "
   ]
  },
  {
   "cell_type": "code",
   "execution_count": 9,
   "metadata": {},
   "outputs": [
    {
     "name": "stdout",
     "output_type": "stream",
     "text": [
      "Empty DataFrame\n",
      "Columns: [ID, name, category, main_category, currency, deadline, launched, state, backers, country, usd_pledged_real, usd_goal_real]\n",
      "Index: []\n"
     ]
    }
   ],
   "source": [
    "print(kickstarter[kickstarter.duplicated()])"
   ]
  },
  {
   "cell_type": "markdown",
   "metadata": {},
   "source": [
    "There are no completely duplicated rows in our DataFrame since there are unique IDs to each project."
   ]
  },
  {
   "cell_type": "code",
   "execution_count": 10,
   "metadata": {},
   "outputs": [
    {
     "name": "stdout",
     "output_type": "stream",
     "text": [
      "378661\n",
      "375764\n"
     ]
    },
    {
     "data": {
      "text/html": [
       "<div>\n",
       "<style scoped>\n",
       "    .dataframe tbody tr th:only-of-type {\n",
       "        vertical-align: middle;\n",
       "    }\n",
       "\n",
       "    .dataframe tbody tr th {\n",
       "        vertical-align: top;\n",
       "    }\n",
       "\n",
       "    .dataframe thead th {\n",
       "        text-align: right;\n",
       "    }\n",
       "</style>\n",
       "<table border=\"1\" class=\"dataframe\">\n",
       "  <thead>\n",
       "    <tr style=\"text-align: right;\">\n",
       "      <th></th>\n",
       "      <th>ID</th>\n",
       "      <th>name</th>\n",
       "      <th>category</th>\n",
       "      <th>main_category</th>\n",
       "      <th>currency</th>\n",
       "      <th>deadline</th>\n",
       "      <th>launched</th>\n",
       "      <th>state</th>\n",
       "      <th>backers</th>\n",
       "      <th>country</th>\n",
       "      <th>usd_pledged_real</th>\n",
       "      <th>usd_goal_real</th>\n",
       "    </tr>\n",
       "  </thead>\n",
       "  <tbody>\n",
       "    <tr>\n",
       "      <th>342920</th>\n",
       "      <td>816998285</td>\n",
       "      <td>\"...The Last shall be first...\" LODB Lifestyle...</td>\n",
       "      <td>Fashion</td>\n",
       "      <td>Fashion</td>\n",
       "      <td>USD</td>\n",
       "      <td>2014-02-09</td>\n",
       "      <td>2013-12-19 21:51:50</td>\n",
       "      <td>canceled</td>\n",
       "      <td>0</td>\n",
       "      <td>US</td>\n",
       "      <td>0.0</td>\n",
       "      <td>6500.0</td>\n",
       "    </tr>\n",
       "    <tr>\n",
       "      <th>342692</th>\n",
       "      <td>815783250</td>\n",
       "      <td>\"...The Last shall be first...\" LODB Lifestyle...</td>\n",
       "      <td>Fashion</td>\n",
       "      <td>Fashion</td>\n",
       "      <td>USD</td>\n",
       "      <td>2014-03-01</td>\n",
       "      <td>2014-01-03 20:39:16</td>\n",
       "      <td>failed</td>\n",
       "      <td>3</td>\n",
       "      <td>US</td>\n",
       "      <td>37.0</td>\n",
       "      <td>6500.0</td>\n",
       "    </tr>\n",
       "    <tr>\n",
       "      <th>2024</th>\n",
       "      <td>1010584633</td>\n",
       "      <td>\"A Fresh Start\"</td>\n",
       "      <td>Shorts</td>\n",
       "      <td>Film &amp; Video</td>\n",
       "      <td>USD</td>\n",
       "      <td>2011-09-25</td>\n",
       "      <td>2011-08-28 21:27:52</td>\n",
       "      <td>successful</td>\n",
       "      <td>24</td>\n",
       "      <td>US</td>\n",
       "      <td>3000.0</td>\n",
       "      <td>3000.0</td>\n",
       "    </tr>\n",
       "    <tr>\n",
       "      <th>322671</th>\n",
       "      <td>713417995</td>\n",
       "      <td>\"A Fresh Start\"</td>\n",
       "      <td>Documentary</td>\n",
       "      <td>Film &amp; Video</td>\n",
       "      <td>USD</td>\n",
       "      <td>2013-03-27</td>\n",
       "      <td>2013-01-26 03:51:47</td>\n",
       "      <td>failed</td>\n",
       "      <td>26</td>\n",
       "      <td>US</td>\n",
       "      <td>1417.0</td>\n",
       "      <td>5000.0</td>\n",
       "    </tr>\n",
       "  </tbody>\n",
       "</table>\n",
       "</div>"
      ],
      "text/plain": [
       "                ID                                               name  \\\n",
       "342920   816998285  \"...The Last shall be first...\" LODB Lifestyle...   \n",
       "342692   815783250  \"...The Last shall be first...\" LODB Lifestyle...   \n",
       "2024    1010584633                                    \"A Fresh Start\"   \n",
       "322671   713417995                                    \"A Fresh Start\"   \n",
       "\n",
       "           category main_category currency   deadline            launched  \\\n",
       "342920      Fashion       Fashion      USD 2014-02-09 2013-12-19 21:51:50   \n",
       "342692      Fashion       Fashion      USD 2014-03-01 2014-01-03 20:39:16   \n",
       "2024         Shorts  Film & Video      USD 2011-09-25 2011-08-28 21:27:52   \n",
       "322671  Documentary  Film & Video      USD 2013-03-27 2013-01-26 03:51:47   \n",
       "\n",
       "             state  backers country  usd_pledged_real  usd_goal_real  \n",
       "342920    canceled        0      US               0.0         6500.0  \n",
       "342692      failed        3      US              37.0         6500.0  \n",
       "2024    successful       24      US            3000.0         3000.0  \n",
       "322671      failed       26      US            1417.0         5000.0  "
      ]
     },
     "execution_count": 10,
     "metadata": {},
     "output_type": "execute_result"
    }
   ],
   "source": [
    "print(kickstarter['ID'].nunique())\n",
    "print(kickstarter['name'].nunique()) #strange, ~3000 rows seem to have duplicated names with unique IDs\n",
    "\n",
    "#print(kickstarter[kickstarter['ID'].duplicated(keep = False)].sort_values(by = 'ID'))\n",
    "kickstarter[kickstarter['name'].duplicated(keep = False)].sort_values(by = 'name').head(4)"
   ]
  },
  {
   "cell_type": "markdown",
   "metadata": {},
   "source": [
    "While the <font color='blue'>ID</font> column has 378661 entries with no duplicates, there are about 2897 instances of repeated <font color='blue'>name</font> in our dataset. We found out that this is because multiple projects can take on the exact same name. Some projects are also relaunched with the same name."
   ]
  },
  {
   "cell_type": "markdown",
   "metadata": {},
   "source": [
    "### 4. Check for Problematic Rows"
   ]
  },
  {
   "cell_type": "markdown",
   "metadata": {},
   "source": [
    "#### (a) Missing Values"
   ]
  },
  {
   "cell_type": "code",
   "execution_count": 11,
   "metadata": {
    "scrolled": true
   },
   "outputs": [
    {
     "name": "stdout",
     "output_type": "stream",
     "text": [
      "ID                  0\n",
      "name                4\n",
      "category            0\n",
      "main_category       0\n",
      "currency            0\n",
      "deadline            0\n",
      "launched            0\n",
      "state               0\n",
      "backers             0\n",
      "country             0\n",
      "usd_pledged_real    0\n",
      "usd_goal_real       0\n",
      "dtype: int64\n"
     ]
    }
   ],
   "source": [
    "print(kickstarter.isna().sum()) # check for NAs\n",
    "index_A = kickstarter[kickstarter.name.isna()].index"
   ]
  },
  {
   "cell_type": "markdown",
   "metadata": {},
   "source": [
    "There are 4 NAs in the <font color='blue'>name</font> column. We save the indexes of these missing values for later deletion."
   ]
  },
  {
   "cell_type": "markdown",
   "metadata": {},
   "source": [
    "#### (b) Launched"
   ]
  },
  {
   "cell_type": "code",
   "execution_count": 12,
   "metadata": {
    "scrolled": true
   },
   "outputs": [
    {
     "name": "stdout",
     "output_type": "stream",
     "text": [
      "75397    1970-01-01 01:00:00\n",
      "319002   1970-01-01 01:00:00\n",
      "2842     1970-01-01 01:00:00\n",
      "94579    1970-01-01 01:00:00\n",
      "247913   1970-01-01 01:00:00\n",
      "273779   1970-01-01 01:00:00\n",
      "48147    1970-01-01 01:00:00\n",
      "169268   2009-04-21 21:02:48\n",
      "322000   2009-04-23 00:07:53\n",
      "138572   2009-04-24 21:52:03\n",
      "Name: launched, dtype: datetime64[ns]\n"
     ]
    }
   ],
   "source": [
    "print(kickstarter.launched.sort_values().head(10))\n",
    "index_B = kickstarter.launched.sort_values()[0:7].index"
   ]
  },
  {
   "cell_type": "markdown",
   "metadata": {},
   "source": [
    "When exploring the data, we discover that 7 projects have <font color='blue'>launched</font> dates in the year 1970. Since Kickstarter was only founded in 2009, these results are not possible. We also save these indexes for later deletion."
   ]
  },
  {
   "cell_type": "markdown",
   "metadata": {},
   "source": [
    "#### (c) State"
   ]
  },
  {
   "cell_type": "code",
   "execution_count": 13,
   "metadata": {},
   "outputs": [],
   "source": [
    "success = kickstarter[kickstarter['usd_pledged_real'] >= kickstarter['usd_goal_real']] \n",
    "wrong = success[success['state']=='failed']\n",
    "index_C = wrong.index"
   ]
  },
  {
   "cell_type": "markdown",
   "metadata": {},
   "source": [
    "We identify 6 projects that had their <font color = 'blue'>usd_pledged_real</font> meeting their <font color = 'blue'>usd_goal_real</font>, yet were considered failed. This is an error, since Kickstarter by definition awards projects that met their goals as successful. A good example of this can be found in the following link.\n",
    "\n",
    "https://www.kickstarter.com/projects/1755876060/music-empowers-a-day-with-the-accende-ensemble/ (3,087 pledged of 3,000 goal, \"Funding Unsuccessful\"). We save the indexes of these rows for deletion."
   ]
  },
  {
   "cell_type": "markdown",
   "metadata": {},
   "source": [
    "#### (d) Undefined Country and State"
   ]
  },
  {
   "cell_type": "code",
   "execution_count": 14,
   "metadata": {},
   "outputs": [
    {
     "name": "stdout",
     "output_type": "stream",
     "text": [
      "['N,0\"']\n"
     ]
    }
   ],
   "source": [
    "undefined = kickstarter[kickstarter['state'] == 'undefined']\n",
    "print(undefined.country.unique())\n",
    "index_D = kickstarter[kickstarter.country == 'N,0\"'].index"
   ]
  },
  {
   "cell_type": "markdown",
   "metadata": {},
   "source": [
    "Finally, we save the rows with a nonsensical country code of 'N,0'. Interestingly, these rows also contain the same rows where the <font color='blue'>state</font> was considered 'undefined'."
   ]
  },
  {
   "cell_type": "markdown",
   "metadata": {},
   "source": [
    "### 5. Remove Problematic Rows"
   ]
  },
  {
   "cell_type": "code",
   "execution_count": 15,
   "metadata": {},
   "outputs": [
    {
     "name": "stdout",
     "output_type": "stream",
     "text": [
      "3814\n",
      "True\n"
     ]
    },
    {
     "data": {
      "text/plain": [
       "(374847, 12)"
      ]
     },
     "execution_count": 15,
     "metadata": {},
     "output_type": "execute_result"
    }
   ],
   "source": [
    "allindexes_remove = list(index_A) + list(index_B) + list(index_C) + list(index_D)\n",
    "print(len(set(allindexes_remove))) \n",
    "print(len(allindexes_remove) == len(set(allindexes_remove)))\n",
    "kickstarter_cleaned = kickstarter.drop(labels=allindexes_remove)\n",
    "kickstarter_cleaned.shape"
   ]
  },
  {
   "cell_type": "markdown",
   "metadata": {},
   "source": [
    "Now, we have removed the 3814 rows corresponding to all the indexes saved above. After filtering our dataset, the shape of our DataFrame has gone from (378661,15) to (374847, 15), a removal of approximately 1.01% of the original data."
   ]
  },
  {
   "cell_type": "markdown",
   "metadata": {},
   "source": [
    "### 6. Feature Engineering"
   ]
  },
  {
   "cell_type": "markdown",
   "metadata": {},
   "source": [
    "In order to prepare the data for further analysis and modeling, we have created a few new features from existing ones. The list of features created are as follows:\n",
    "\n",
    "1. <font color = 'blue'>project_length</font>: This feature tracks the number of days between a project's launch date and deadline where a project was active for. We also checked for negative values, which did not exist thankfully.\n",
    "2. <font color = 'blue'>pledged_per_backer</font>: This feature tracks the mean amount of money (converted to USD) pledged by each individual backer. We have also removed rows with <font color = 'blue'>pledged_per_backer</font> listed as Inf, as these are caused by projects with 0 backers.\n",
    "3. <font color = 'blue'>percent_funded</font>: This feature tracks the percentage of the goal amount achieved."
   ]
  },
  {
   "cell_type": "code",
   "execution_count": 16,
   "metadata": {
    "scrolled": true
   },
   "outputs": [
    {
     "data": {
      "text/plain": [
       "(323043, 15)"
      ]
     },
     "execution_count": 16,
     "metadata": {},
     "output_type": "execute_result"
    }
   ],
   "source": [
    "kickstarter_cleaned['deadline'] = pd.to_datetime(kickstarter_cleaned.deadline)\n",
    "kickstarter_cleaned['launched'] = pd.to_datetime(kickstarter_cleaned.launched)\n",
    "kickstarter_cleaned['project_length'] = kickstarter_cleaned['deadline'] - kickstarter_cleaned['launched']\n",
    "kickstarter_cleaned['project_length'] = kickstarter_cleaned.project_length.dt.days\n",
    "\n",
    "kickstarter_cleaned['pledged_per_backer'] = kickstarter_cleaned['usd_pledged_real'] / kickstarter_cleaned['backers']\n",
    "kickstarter_cleaned = kickstarter_cleaned[~kickstarter_cleaned.isin([np.nan, np.inf, -np.inf]).any(1)]\n",
    "\n",
    "kickstarter_cleaned['percent_funded'] = np.round((kickstarter_cleaned['usd_pledged_real'] / kickstarter_cleaned['usd_goal_real']),3)\n",
    "\n",
    "kickstarter_cleaned.shape"
   ]
  },
  {
   "cell_type": "markdown",
   "metadata": {},
   "source": [
    "### 7. Filter States"
   ]
  },
  {
   "cell_type": "code",
   "execution_count": 17,
   "metadata": {},
   "outputs": [
    {
     "data": {
      "text/plain": [
       "failed        158968\n",
       "successful    133851\n",
       "canceled       26744\n",
       "live            2250\n",
       "suspended       1230\n",
       "Name: state, dtype: int64"
      ]
     },
     "execution_count": 17,
     "metadata": {},
     "output_type": "execute_result"
    }
   ],
   "source": [
    "kickstarter_cleaned.state.value_counts()"
   ]
  },
  {
   "cell_type": "code",
   "execution_count": 18,
   "metadata": {},
   "outputs": [
    {
     "data": {
      "text/plain": [
       "(292819, 15)"
      ]
     },
     "execution_count": 18,
     "metadata": {},
     "output_type": "execute_result"
    }
   ],
   "source": [
    "kickstarter_cleaned = kickstarter_cleaned[(kickstarter_cleaned['state'] == 'failed') | (kickstarter_cleaned['state'] == 'successful')]\n",
    "kickstarter_cleaned.shape"
   ]
  },
  {
   "cell_type": "markdown",
   "metadata": {},
   "source": [
    "Finally, we have decided to keep only rows with states \"Failed\" or \"Successful\" because we are only interested in these two outcomes of the projects. Live projects are removed because they are projects that are still ongoing when this dataset was scraped. Besides that, projects with states canceled and suspended are removed because there are many factors that contribute to the state that cannot be accounted by the variables given in this dataset. \n",
    "\n",
    "The final dataset that is going to be used for analysis in this project has a shape of (292819,15)."
   ]
  },
  {
   "cell_type": "markdown",
   "metadata": {},
   "source": [
    "# Exploratory Analysis of the Data"
   ]
  },
  {
   "cell_type": "markdown",
   "metadata": {},
   "source": [
    "## Summary Statistics "
   ]
  },
  {
   "cell_type": "code",
   "execution_count": 19,
   "metadata": {},
   "outputs": [
    {
     "data": {
      "text/plain": [
       "failed        0.542888\n",
       "successful    0.457112\n",
       "Name: state, dtype: float64"
      ]
     },
     "execution_count": 19,
     "metadata": {},
     "output_type": "execute_result"
    }
   ],
   "source": [
    "kickstarter_cleaned.state.value_counts(normalize = True)"
   ]
  },
  {
   "cell_type": "code",
   "execution_count": null,
   "metadata": {},
   "outputs": [],
   "source": []
  },
  {
   "cell_type": "code",
   "execution_count": null,
   "metadata": {},
   "outputs": [],
   "source": []
  },
  {
   "cell_type": "code",
   "execution_count": 20,
   "metadata": {},
   "outputs": [
    {
     "data": {
      "image/png": "[encoded data removed]",
      "text/plain": [
       "<Figure size 432x288 with 1 Axes>"
      ]
     },
     "metadata": {
      "needs_background": "light"
     },
     "output_type": "display_data"
    }
   ],
   "source": [
    "avgPledgePerBackerbyLength = kickstarter_cleaned.groupby('project_length')['pledged_per_backer']\n",
    "avgPledgePerBackerbyLength.mean().plot(kind = 'bar')\n",
    "plt.title('Average Pledge Amount by Project Length')\n",
    "plt.show()"
   ]
  },
  {
   "cell_type": "code",
   "execution_count": 21,
   "metadata": {},
   "outputs": [
    {
     "data": {
      "image/png": "[encoded data removed]",
      "text/plain": [
       "<Figure size 432x288 with 1 Axes>"
      ]
     },
     "metadata": {
      "needs_background": "light"
     },
     "output_type": "display_data"
    }
   ],
   "source": [
    "avgPledgedbyLength = kickstarter_cleaned.groupby('project_length')['usd_pledged_real']\n",
    "avgPledgedbyLength.mean().plot(kind = 'bar')\n",
    "plt.title('Average Pledged Total by Project Length')\n",
    "plt.show()"
   ]
  },
  {
   "cell_type": "code",
   "execution_count": 22,
   "metadata": {},
   "outputs": [
    {
     "data": {
      "image/png": "[encoded data removed]",
      "text/plain": [
       "<Figure size 432x288 with 1 Axes>"
      ]
     },
     "metadata": {
      "needs_background": "light"
     },
     "output_type": "display_data"
    }
   ],
   "source": [
    "avgBackersbyLength = kickstarter_cleaned.groupby('project_length')['backers']\n",
    "avgBackersbyLength.mean().plot(kind = 'bar')\n",
    "plt.title('Average Backer Total by Project Length')\n",
    "plt.show()"
   ]
  },
  {
   "cell_type": "code",
   "execution_count": 23,
   "metadata": {},
   "outputs": [
    {
     "data": {
      "image/png": "[encoded data removed]",
      "text/plain": [
       "<Figure size 432x288 with 1 Axes>"
      ]
     },
     "metadata": {
      "needs_background": "light"
     },
     "output_type": "display_data"
    }
   ],
   "source": [
    "avgLengthByState = kickstarter_cleaned.groupby('state')['project_length']\n",
    "avgLengthByState.mean().plot(kind = 'bar')\n",
    "plt.title('Average Project Length per State')\n",
    "plt.show()"
   ]
  },
  {
   "cell_type": "code",
   "execution_count": 24,
   "metadata": {
    "scrolled": false
   },
   "outputs": [
    {
     "data": {
      "text/plain": [
       "count    292819.000000\n",
       "mean         32.882272\n",
       "std          12.526989\n",
       "min           0.000000\n",
       "25%          29.000000\n",
       "50%          29.000000\n",
       "75%          35.000000\n",
       "max          91.000000\n",
       "Name: project_length, dtype: float64"
      ]
     },
     "execution_count": 24,
     "metadata": {},
     "output_type": "execute_result"
    }
   ],
   "source": [
    "kickstarter_cleaned['project_length'].describe()"
   ]
  },
  {
   "cell_type": "markdown",
   "metadata": {},
   "source": [
    "## Guiding Question 1: Which category is the most well-funded?"
   ]
  },
  {
   "cell_type": "markdown",
   "metadata": {},
   "source": [
    "### Success Rate by Category"
   ]
  },
  {
   "cell_type": "code",
   "execution_count": 25,
   "metadata": {
    "scrolled": true
   },
   "outputs": [
    {
     "data": {
      "image/png": "[encoded data removed]",
      "text/plain": [
       "<Figure size 432x288 with 1 Axes>"
      ]
     },
     "metadata": {
      "needs_background": "light"
     },
     "output_type": "display_data"
    }
   ],
   "source": [
    "grouped = kickstarter_cleaned.groupby(['main_category','state']).ID.count()\n",
    "total = kickstarter_cleaned.groupby('main_category').state.count()\n",
    "prop = np.round((grouped/total),2).unstack().sort_values(by='successful')\n",
    "\n",
    "prop.plot(kind='bar',stacked=True)\n",
    "plt.title('Proportion of Successful vs Failed Projects by Main Category')\n",
    "plt.ylabel('Success Rate')\n",
    "plt.xlabel('Main Category')\n",
    "plt.legend(loc='upper right',bbox_to_anchor=(1.3,1))\n",
    "plt.show()"
   ]
  },
  {
   "cell_type": "markdown",
   "metadata": {},
   "source": [
    "The top 3 categories with the highest success rates are Dance, Theater, and Comics. On the other hand, Technology, Journalism and Crafts have the lowest success rates. We continue to look at the number of projects in each category to check for the presence of any relationship based on category."
   ]
  },
  {
   "cell_type": "markdown",
   "metadata": {},
   "source": [
    "### Frequency of Project v.s. Category"
   ]
  },
  {
   "cell_type": "code",
   "execution_count": 26,
   "metadata": {},
   "outputs": [
    {
     "data": {
      "image/png": "[encoded data removed]",
      "text/plain": [
       "<Figure size 432x288 with 1 Axes>"
      ]
     },
     "metadata": {
      "needs_background": "light"
     },
     "output_type": "display_data"
    }
   ],
   "source": [
    "freq_category = sns.countplot(kickstarter_cleaned.main_category,order = kickstarter_cleaned['main_category'].value_counts().index)\n",
    "freq_category.set_xticklabels(freq_category.get_xticklabels(), rotation=50,horizontalalignment='right')\n",
    "freq_category.set_title(\"Frequency Project v.s. Category\")\n",
    "freq_category.set(xlabel='Main Category', ylabel='Count')\n",
    "\n",
    "plt.show()"
   ]
  },
  {
   "cell_type": "markdown",
   "metadata": {},
   "source": [
    "The most popular category on Kickstarter is Film & Video, followed by Music, Publishing, and Games. The least popular categories on Kickstarter are Journalism, Dance, and Crafts. We can see that the categories with the highest success rate are also categories with fewer number of projects (e.g. Dance). \n",
    "\n",
    "This lead us to wonder whether there is a relationship between number of projects and category success rate."
   ]
  },
  {
   "cell_type": "markdown",
   "metadata": {},
   "source": [
    "### Frequency of Project v.s. Category Success Rate "
   ]
  },
  {
   "cell_type": "code",
   "execution_count": 27,
   "metadata": {},
   "outputs": [
    {
     "data": {
      "image/png": "[encoded data removed]",
      "text/plain": [
       "<Figure size 432x288 with 1 Axes>"
      ]
     },
     "metadata": {
      "needs_background": "light"
     },
     "output_type": "display_data"
    },
    {
     "data": {
      "text/html": [
       "<div>\n",
       "<style scoped>\n",
       "    .dataframe tbody tr th:only-of-type {\n",
       "        vertical-align: middle;\n",
       "    }\n",
       "\n",
       "    .dataframe tbody tr th {\n",
       "        vertical-align: top;\n",
       "    }\n",
       "\n",
       "    .dataframe thead th {\n",
       "        text-align: right;\n",
       "    }\n",
       "</style>\n",
       "<table border=\"1\" class=\"dataframe\">\n",
       "  <thead>\n",
       "    <tr style=\"text-align: right;\">\n",
       "      <th></th>\n",
       "      <th>success_rate</th>\n",
       "      <th>count</th>\n",
       "    </tr>\n",
       "  </thead>\n",
       "  <tbody>\n",
       "    <tr>\n",
       "      <th>success_rate</th>\n",
       "      <td>1.000000</td>\n",
       "      <td>0.009556</td>\n",
       "    </tr>\n",
       "    <tr>\n",
       "      <th>count</th>\n",
       "      <td>0.009556</td>\n",
       "      <td>1.000000</td>\n",
       "    </tr>\n",
       "  </tbody>\n",
       "</table>\n",
       "</div>"
      ],
      "text/plain": [
       "              success_rate     count\n",
       "success_rate      1.000000  0.009556\n",
       "count             0.009556  1.000000"
      ]
     },
     "execution_count": 27,
     "metadata": {},
     "output_type": "execute_result"
    }
   ],
   "source": [
    "df1 = pd.DataFrame({'category':prop.index.tolist(),'success_rate': prop.get('successful')})\n",
    "\n",
    "df2 = pd.DataFrame({'category':kickstarter_cleaned.main_category.value_counts().index.tolist(),\n",
    "                    'count': kickstarter_cleaned.main_category.value_counts()})\n",
    "\n",
    "df3 = pd.merge(df1,df2)\n",
    "\n",
    "df3.plot(kind='scatter',x='count',y='success_rate')\n",
    "plt.title('Category Success Rate v.s. Number of Projects in Category')\n",
    "plt.ylabel('Category Overall Success Rate')\n",
    "plt.xlabel('Number of Projects in Category')\n",
    "plt.show()\n",
    "\n",
    "df3.corr()"
   ]
  },
  {
   "cell_type": "markdown",
   "metadata": {},
   "source": [
    "There appears to be little correlation between number of projects and category success rate."
   ]
  },
  {
   "cell_type": "markdown",
   "metadata": {},
   "source": [
    "### Backers v.s. Category"
   ]
  },
  {
   "cell_type": "code",
   "execution_count": 28,
   "metadata": {},
   "outputs": [
    {
     "data": {
      "image/png": "[encoded data removed]",
      "text/plain": [
       "<Figure size 432x288 with 1 Axes>"
      ]
     },
     "metadata": {
      "needs_background": "light"
     },
     "output_type": "display_data"
    }
   ],
   "source": [
    "pledged = kickstarter_cleaned.groupby(['main_category']).backers.sum().sort_values(ascending=False)\n",
    "pledged.plot(kind=\"bar\")\n",
    "plt.title(\"Number of Backers v.s. Category\")\n",
    "plt.ylabel('Number of Backers')\n",
    "plt.xlabel('Main Category')\n",
    "plt.show()"
   ]
  },
  {
   "cell_type": "markdown",
   "metadata": {},
   "source": [
    "Categories with the most backers on Kickstarter are Games, Design, and Technology. This may imply that the general audience on Kickstarter are mostly interested in projects within these categories."
   ]
  },
  {
   "cell_type": "markdown",
   "metadata": {},
   "source": [
    "### Average Amount Pledged v.s. Category"
   ]
  },
  {
   "cell_type": "code",
   "execution_count": 29,
   "metadata": {},
   "outputs": [
    {
     "data": {
      "image/png": "[encoded data removed]",
      "text/plain": [
       "<Figure size 432x288 with 1 Axes>"
      ]
     },
     "metadata": {
      "needs_background": "light"
     },
     "output_type": "display_data"
    }
   ],
   "source": [
    "avg_pledged = kickstarter_cleaned.groupby(['main_category']).usd_pledged_real.mean().sort_values(ascending=False)\n",
    "avg_pledged\n",
    "avg_pledged.plot(kind=\"bar\")\n",
    "plt.title(\"Average Amount Pledged v.s. Category\")\n",
    "plt.ylabel('Average Amount Pledged')\n",
    "plt.xlabel('Main Category')\n",
    "plt.show()"
   ]
  },
  {
   "cell_type": "markdown",
   "metadata": {},
   "source": [
    "Similar to the results above, we find that Design, Technology and Games are the three main categories with the highest average amount pledged per individual project. This leads us to conclude that while these categories may not be the genres with the most number of projects started on the website or the highest success rates, these are the type of projects that visitors to Kickstarter care about the most, in terms of willingness to contribute as well as enthusiasm in funding the projects significantly."
   ]
  },
  {
   "cell_type": "markdown",
   "metadata": {},
   "source": [
    "## Guiding Question 2: Exploring Highly Successful Projects"
   ]
  },
  {
   "cell_type": "code",
   "execution_count": 30,
   "metadata": {},
   "outputs": [
    {
     "data": {
      "text/plain": [
       "count    292819.000000\n",
       "mean          3.975690\n",
       "std         300.693822\n",
       "min           0.000000\n",
       "25%           0.030000\n",
       "50%           0.386000\n",
       "75%           1.134000\n",
       "max      104277.890000\n",
       "Name: percent_funded, dtype: float64"
      ]
     },
     "execution_count": 30,
     "metadata": {},
     "output_type": "execute_result"
    }
   ],
   "source": [
    "kickstarter_cleaned['percent_funded'].describe()"
   ]
  },
  {
   "cell_type": "markdown",
   "metadata": {},
   "source": [
    "The median of <font color = 'blue'>percent_funded</font> is 38.6%. This makes sense since approximately 54.3% of projects on Kickstarter fail, as mentioned before. Interestingly, we notice that the mean of <font color ='blue'>percent_funded</font> is ~397.6%, which is significantly greater than the median value. This implies that we have many projects with funding that heavily exceeded their goals, which we will now investigate further."
   ]
  },
  {
   "cell_type": "code",
   "execution_count": 31,
   "metadata": {},
   "outputs": [
    {
     "data": {
      "text/plain": [
       "13.230820000000007"
      ]
     },
     "execution_count": 31,
     "metadata": {},
     "output_type": "execute_result"
    }
   ],
   "source": [
    "np.percentile(kickstarter_cleaned['percent_funded'],99)"
   ]
  },
  {
   "cell_type": "markdown",
   "metadata": {},
   "source": [
    "The 99th percentile of projects in terms of percentage funded managed to fundraise approximately 1323% of their original goal. Let's discover these projects that have really high funding!"
   ]
  },
  {
   "cell_type": "code",
   "execution_count": 32,
   "metadata": {},
   "outputs": [
    {
     "data": {
      "text/html": [
       "<div>\n",
       "<style scoped>\n",
       "    .dataframe tbody tr th:only-of-type {\n",
       "        vertical-align: middle;\n",
       "    }\n",
       "\n",
       "    .dataframe tbody tr th {\n",
       "        vertical-align: top;\n",
       "    }\n",
       "\n",
       "    .dataframe thead th {\n",
       "        text-align: right;\n",
       "    }\n",
       "</style>\n",
       "<table border=\"1\" class=\"dataframe\">\n",
       "  <thead>\n",
       "    <tr style=\"text-align: right;\">\n",
       "      <th></th>\n",
       "      <th>ID</th>\n",
       "      <th>name</th>\n",
       "      <th>category</th>\n",
       "      <th>main_category</th>\n",
       "      <th>currency</th>\n",
       "      <th>deadline</th>\n",
       "      <th>launched</th>\n",
       "      <th>state</th>\n",
       "      <th>backers</th>\n",
       "      <th>country</th>\n",
       "      <th>usd_pledged_real</th>\n",
       "      <th>usd_goal_real</th>\n",
       "      <th>project_length</th>\n",
       "      <th>pledged_per_backer</th>\n",
       "      <th>percent_funded</th>\n",
       "    </tr>\n",
       "  </thead>\n",
       "  <tbody>\n",
       "    <tr>\n",
       "      <th>369176</th>\n",
       "      <td>9509582</td>\n",
       "      <td>VULFPECK /// The Beautiful Game</td>\n",
       "      <td>Music</td>\n",
       "      <td>Music</td>\n",
       "      <td>USD</td>\n",
       "      <td>2016-10-17</td>\n",
       "      <td>2016-08-18 09:04:03</td>\n",
       "      <td>successful</td>\n",
       "      <td>3917</td>\n",
       "      <td>US</td>\n",
       "      <td>104277.89</td>\n",
       "      <td>1.0</td>\n",
       "      <td>59</td>\n",
       "      <td>26.621876</td>\n",
       "      <td>104277.89</td>\n",
       "    </tr>\n",
       "    <tr>\n",
       "      <th>186096</th>\n",
       "      <td>1947298033</td>\n",
       "      <td>Re-covering with Friends</td>\n",
       "      <td>Rock</td>\n",
       "      <td>Music</td>\n",
       "      <td>USD</td>\n",
       "      <td>2016-12-13</td>\n",
       "      <td>2016-10-14 19:04:27</td>\n",
       "      <td>successful</td>\n",
       "      <td>955</td>\n",
       "      <td>US</td>\n",
       "      <td>68764.10</td>\n",
       "      <td>1.0</td>\n",
       "      <td>59</td>\n",
       "      <td>72.004293</td>\n",
       "      <td>68764.10</td>\n",
       "    </tr>\n",
       "    <tr>\n",
       "      <th>360721</th>\n",
       "      <td>907870443</td>\n",
       "      <td>VULFPECK /// Thrill of the Arts</td>\n",
       "      <td>Music</td>\n",
       "      <td>Music</td>\n",
       "      <td>USD</td>\n",
       "      <td>2015-10-09</td>\n",
       "      <td>2015-08-10 19:31:56</td>\n",
       "      <td>successful</td>\n",
       "      <td>1673</td>\n",
       "      <td>US</td>\n",
       "      <td>55266.57</td>\n",
       "      <td>1.0</td>\n",
       "      <td>59</td>\n",
       "      <td>33.034411</td>\n",
       "      <td>55266.57</td>\n",
       "    </tr>\n",
       "    <tr>\n",
       "      <th>76290</th>\n",
       "      <td>1388400809</td>\n",
       "      <td>Energy Hook</td>\n",
       "      <td>Video Games</td>\n",
       "      <td>Games</td>\n",
       "      <td>USD</td>\n",
       "      <td>2013-06-10</td>\n",
       "      <td>2013-05-10 01:22:38</td>\n",
       "      <td>successful</td>\n",
       "      <td>1622</td>\n",
       "      <td>US</td>\n",
       "      <td>41535.01</td>\n",
       "      <td>1.0</td>\n",
       "      <td>30</td>\n",
       "      <td>25.607281</td>\n",
       "      <td>41535.01</td>\n",
       "    </tr>\n",
       "    <tr>\n",
       "      <th>81368</th>\n",
       "      <td>1413857335</td>\n",
       "      <td>Band of Brothers 2nd Chance</td>\n",
       "      <td>Tabletop Games</td>\n",
       "      <td>Games</td>\n",
       "      <td>USD</td>\n",
       "      <td>2016-08-02</td>\n",
       "      <td>2016-07-12 00:29:12</td>\n",
       "      <td>successful</td>\n",
       "      <td>268</td>\n",
       "      <td>US</td>\n",
       "      <td>32843.00</td>\n",
       "      <td>1.0</td>\n",
       "      <td>20</td>\n",
       "      <td>122.548507</td>\n",
       "      <td>32843.00</td>\n",
       "    </tr>\n",
       "  </tbody>\n",
       "</table>\n",
       "</div>"
      ],
      "text/plain": [
       "                ID                             name        category  \\\n",
       "369176     9509582  VULFPECK /// The Beautiful Game           Music   \n",
       "186096  1947298033         Re-covering with Friends            Rock   \n",
       "360721   907870443  VULFPECK /// Thrill of the Arts           Music   \n",
       "76290   1388400809                      Energy Hook     Video Games   \n",
       "81368   1413857335      Band of Brothers 2nd Chance  Tabletop Games   \n",
       "\n",
       "       main_category currency   deadline            launched       state  \\\n",
       "369176         Music      USD 2016-10-17 2016-08-18 09:04:03  successful   \n",
       "186096         Music      USD 2016-12-13 2016-10-14 19:04:27  successful   \n",
       "360721         Music      USD 2015-10-09 2015-08-10 19:31:56  successful   \n",
       "76290          Games      USD 2013-06-10 2013-05-10 01:22:38  successful   \n",
       "81368          Games      USD 2016-08-02 2016-07-12 00:29:12  successful   \n",
       "\n",
       "        backers country  usd_pledged_real  usd_goal_real  project_length  \\\n",
       "369176     3917      US         104277.89            1.0              59   \n",
       "186096      955      US          68764.10            1.0              59   \n",
       "360721     1673      US          55266.57            1.0              59   \n",
       "76290      1622      US          41535.01            1.0              30   \n",
       "81368       268      US          32843.00            1.0              20   \n",
       "\n",
       "        pledged_per_backer  percent_funded  \n",
       "369176           26.621876       104277.89  \n",
       "186096           72.004293        68764.10  \n",
       "360721           33.034411        55266.57  \n",
       "76290            25.607281        41535.01  \n",
       "81368           122.548507        32843.00  "
      ]
     },
     "execution_count": 32,
     "metadata": {},
     "output_type": "execute_result"
    }
   ],
   "source": [
    "highly_funded = kickstarter_cleaned['percent_funded'] > np.percentile(kickstarter_cleaned['percent_funded'],99)\n",
    "highly_funded_kickstarters = kickstarter_cleaned[highly_funded].sort_values(by='percent_funded',ascending=False)\n",
    "highly_funded_kickstarters.head()"
   ]
  },
  {
   "cell_type": "code",
   "execution_count": 33,
   "metadata": {},
   "outputs": [
    {
     "data": {
      "text/plain": [
       "1.0        209\n",
       "1000.0     180\n",
       "10000.0    149\n",
       "500.0      145\n",
       "5000.0     127\n",
       "100.0      125\n",
       "20000.0     77\n",
       "15000.0     73\n",
       "50000.0     70\n",
       "10.0        50\n",
       "Name: usd_goal_real, dtype: int64"
      ]
     },
     "execution_count": 33,
     "metadata": {},
     "output_type": "execute_result"
    }
   ],
   "source": [
    "highly_funded_kickstarters['usd_goal_real'].value_counts(sort=True).head(10)"
   ]
  },
  {
   "cell_type": "markdown",
   "metadata": {},
   "source": [
    "We found that most projects with outlier success have very low goals, as low as 1. We look further into these projects with extremely low goals."
   ]
  },
  {
   "cell_type": "code",
   "execution_count": 34,
   "metadata": {},
   "outputs": [
    {
     "data": {
      "text/html": [
       "<div>\n",
       "<style scoped>\n",
       "    .dataframe tbody tr th:only-of-type {\n",
       "        vertical-align: middle;\n",
       "    }\n",
       "\n",
       "    .dataframe tbody tr th {\n",
       "        vertical-align: top;\n",
       "    }\n",
       "\n",
       "    .dataframe thead th {\n",
       "        text-align: right;\n",
       "    }\n",
       "</style>\n",
       "<table border=\"1\" class=\"dataframe\">\n",
       "  <thead>\n",
       "    <tr style=\"text-align: right;\">\n",
       "      <th></th>\n",
       "      <th>ID</th>\n",
       "      <th>name</th>\n",
       "      <th>category</th>\n",
       "      <th>main_category</th>\n",
       "      <th>currency</th>\n",
       "      <th>deadline</th>\n",
       "      <th>launched</th>\n",
       "      <th>state</th>\n",
       "      <th>backers</th>\n",
       "      <th>country</th>\n",
       "      <th>usd_pledged_real</th>\n",
       "      <th>usd_goal_real</th>\n",
       "      <th>project_length</th>\n",
       "      <th>pledged_per_backer</th>\n",
       "      <th>percent_funded</th>\n",
       "    </tr>\n",
       "  </thead>\n",
       "  <tbody>\n",
       "    <tr>\n",
       "      <th>369176</th>\n",
       "      <td>9509582</td>\n",
       "      <td>VULFPECK /// The Beautiful Game</td>\n",
       "      <td>Music</td>\n",
       "      <td>Music</td>\n",
       "      <td>USD</td>\n",
       "      <td>2016-10-17</td>\n",
       "      <td>2016-08-18 09:04:03</td>\n",
       "      <td>successful</td>\n",
       "      <td>3917</td>\n",
       "      <td>US</td>\n",
       "      <td>104277.89</td>\n",
       "      <td>1.0</td>\n",
       "      <td>59</td>\n",
       "      <td>26.621876</td>\n",
       "      <td>104277.89</td>\n",
       "    </tr>\n",
       "    <tr>\n",
       "      <th>186096</th>\n",
       "      <td>1947298033</td>\n",
       "      <td>Re-covering with Friends</td>\n",
       "      <td>Rock</td>\n",
       "      <td>Music</td>\n",
       "      <td>USD</td>\n",
       "      <td>2016-12-13</td>\n",
       "      <td>2016-10-14 19:04:27</td>\n",
       "      <td>successful</td>\n",
       "      <td>955</td>\n",
       "      <td>US</td>\n",
       "      <td>68764.10</td>\n",
       "      <td>1.0</td>\n",
       "      <td>59</td>\n",
       "      <td>72.004293</td>\n",
       "      <td>68764.10</td>\n",
       "    </tr>\n",
       "    <tr>\n",
       "      <th>360721</th>\n",
       "      <td>907870443</td>\n",
       "      <td>VULFPECK /// Thrill of the Arts</td>\n",
       "      <td>Music</td>\n",
       "      <td>Music</td>\n",
       "      <td>USD</td>\n",
       "      <td>2015-10-09</td>\n",
       "      <td>2015-08-10 19:31:56</td>\n",
       "      <td>successful</td>\n",
       "      <td>1673</td>\n",
       "      <td>US</td>\n",
       "      <td>55266.57</td>\n",
       "      <td>1.0</td>\n",
       "      <td>59</td>\n",
       "      <td>33.034411</td>\n",
       "      <td>55266.57</td>\n",
       "    </tr>\n",
       "    <tr>\n",
       "      <th>76290</th>\n",
       "      <td>1388400809</td>\n",
       "      <td>Energy Hook</td>\n",
       "      <td>Video Games</td>\n",
       "      <td>Games</td>\n",
       "      <td>USD</td>\n",
       "      <td>2013-06-10</td>\n",
       "      <td>2013-05-10 01:22:38</td>\n",
       "      <td>successful</td>\n",
       "      <td>1622</td>\n",
       "      <td>US</td>\n",
       "      <td>41535.01</td>\n",
       "      <td>1.0</td>\n",
       "      <td>30</td>\n",
       "      <td>25.607281</td>\n",
       "      <td>41535.01</td>\n",
       "    </tr>\n",
       "    <tr>\n",
       "      <th>81368</th>\n",
       "      <td>1413857335</td>\n",
       "      <td>Band of Brothers 2nd Chance</td>\n",
       "      <td>Tabletop Games</td>\n",
       "      <td>Games</td>\n",
       "      <td>USD</td>\n",
       "      <td>2016-08-02</td>\n",
       "      <td>2016-07-12 00:29:12</td>\n",
       "      <td>successful</td>\n",
       "      <td>268</td>\n",
       "      <td>US</td>\n",
       "      <td>32843.00</td>\n",
       "      <td>1.0</td>\n",
       "      <td>20</td>\n",
       "      <td>122.548507</td>\n",
       "      <td>32843.00</td>\n",
       "    </tr>\n",
       "  </tbody>\n",
       "</table>\n",
       "</div>"
      ],
      "text/plain": [
       "                ID                             name        category  \\\n",
       "369176     9509582  VULFPECK /// The Beautiful Game           Music   \n",
       "186096  1947298033         Re-covering with Friends            Rock   \n",
       "360721   907870443  VULFPECK /// Thrill of the Arts           Music   \n",
       "76290   1388400809                      Energy Hook     Video Games   \n",
       "81368   1413857335      Band of Brothers 2nd Chance  Tabletop Games   \n",
       "\n",
       "       main_category currency   deadline            launched       state  \\\n",
       "369176         Music      USD 2016-10-17 2016-08-18 09:04:03  successful   \n",
       "186096         Music      USD 2016-12-13 2016-10-14 19:04:27  successful   \n",
       "360721         Music      USD 2015-10-09 2015-08-10 19:31:56  successful   \n",
       "76290          Games      USD 2013-06-10 2013-05-10 01:22:38  successful   \n",
       "81368          Games      USD 2016-08-02 2016-07-12 00:29:12  successful   \n",
       "\n",
       "        backers country  usd_pledged_real  usd_goal_real  project_length  \\\n",
       "369176     3917      US         104277.89            1.0              59   \n",
       "186096      955      US          68764.10            1.0              59   \n",
       "360721     1673      US          55266.57            1.0              59   \n",
       "76290      1622      US          41535.01            1.0              30   \n",
       "81368       268      US          32843.00            1.0              20   \n",
       "\n",
       "        pledged_per_backer  percent_funded  \n",
       "369176           26.621876       104277.89  \n",
       "186096           72.004293        68764.10  \n",
       "360721           33.034411        55266.57  \n",
       "76290            25.607281        41535.01  \n",
       "81368           122.548507        32843.00  "
      ]
     },
     "execution_count": 34,
     "metadata": {},
     "output_type": "execute_result"
    }
   ],
   "source": [
    "low_goal = highly_funded_kickstarters[highly_funded_kickstarters['usd_goal_real'] <= 10]\n",
    "low_goal.head()"
   ]
  },
  {
   "cell_type": "code",
   "execution_count": 35,
   "metadata": {},
   "outputs": [
    {
     "data": {
      "text/plain": [
       "Music           88\n",
       "Games           55\n",
       "Art             55\n",
       "Film & Video    47\n",
       "Comics          37\n",
       "Publishing      31\n",
       "Technology      24\n",
       "Food            15\n",
       "Design          14\n",
       "Crafts           6\n",
       "Theater          5\n",
       "Fashion          4\n",
       "Photography      4\n",
       "Journalism       1\n",
       "Dance            1\n",
       "Name: main_category, dtype: int64"
      ]
     },
     "execution_count": 35,
     "metadata": {},
     "output_type": "execute_result"
    }
   ],
   "source": [
    "low_goal.main_category.value_counts()"
   ]
  },
  {
   "cell_type": "markdown",
   "metadata": {},
   "source": [
    "Most projects with goals lower than 10 are in the <font color = 'blue'>main_category</font> of Music, Games, and Art. We searched up some of these projects and realized that these were not all meme/joke projects. For instance, the creator of project **VULFPECK /// Thrill of the Arts** said \"I'm confident we will raise the necessary capital to make the album, so that's why I put the goal at $1. This is simply an invitation for anyone that wants to be part of the process!\""
   ]
  },
  {
   "cell_type": "markdown",
   "metadata": {},
   "source": [
    "On the other hand, we also found that other projects  have outlier success because their genuine goals are set too low. We take these projects out to see whether there is anything interesting with normal projects that do not have goal less than 50 dollars. "
   ]
  },
  {
   "cell_type": "code",
   "execution_count": 36,
   "metadata": {},
   "outputs": [
    {
     "data": {
      "text/html": [
       "<div>\n",
       "<style scoped>\n",
       "    .dataframe tbody tr th:only-of-type {\n",
       "        vertical-align: middle;\n",
       "    }\n",
       "\n",
       "    .dataframe tbody tr th {\n",
       "        vertical-align: top;\n",
       "    }\n",
       "\n",
       "    .dataframe thead th {\n",
       "        text-align: right;\n",
       "    }\n",
       "</style>\n",
       "<table border=\"1\" class=\"dataframe\">\n",
       "  <thead>\n",
       "    <tr style=\"text-align: right;\">\n",
       "      <th></th>\n",
       "      <th>ID</th>\n",
       "      <th>name</th>\n",
       "      <th>category</th>\n",
       "      <th>main_category</th>\n",
       "      <th>currency</th>\n",
       "      <th>deadline</th>\n",
       "      <th>launched</th>\n",
       "      <th>state</th>\n",
       "      <th>backers</th>\n",
       "      <th>country</th>\n",
       "      <th>usd_pledged_real</th>\n",
       "      <th>usd_goal_real</th>\n",
       "      <th>project_length</th>\n",
       "      <th>pledged_per_backer</th>\n",
       "      <th>percent_funded</th>\n",
       "    </tr>\n",
       "  </thead>\n",
       "  <tbody>\n",
       "    <tr>\n",
       "      <th>58331</th>\n",
       "      <td>1296661668</td>\n",
       "      <td>Solid Watch</td>\n",
       "      <td>Product Design</td>\n",
       "      <td>Design</td>\n",
       "      <td>USD</td>\n",
       "      <td>2011-08-29</td>\n",
       "      <td>2011-05-31 07:01:49</td>\n",
       "      <td>successful</td>\n",
       "      <td>474</td>\n",
       "      <td>US</td>\n",
       "      <td>134090.00</td>\n",
       "      <td>100.0</td>\n",
       "      <td>89</td>\n",
       "      <td>282.890295</td>\n",
       "      <td>1340.900</td>\n",
       "    </tr>\n",
       "    <tr>\n",
       "      <th>34796</th>\n",
       "      <td>1176482851</td>\n",
       "      <td>TREVOR HALL presents... The Fruitful Darkness</td>\n",
       "      <td>Music</td>\n",
       "      <td>Music</td>\n",
       "      <td>USD</td>\n",
       "      <td>2017-09-06</td>\n",
       "      <td>2017-08-07 20:17:39</td>\n",
       "      <td>successful</td>\n",
       "      <td>2254</td>\n",
       "      <td>US</td>\n",
       "      <td>137570.93</td>\n",
       "      <td>108.0</td>\n",
       "      <td>29</td>\n",
       "      <td>61.034130</td>\n",
       "      <td>1273.805</td>\n",
       "    </tr>\n",
       "    <tr>\n",
       "      <th>162266</th>\n",
       "      <td>1825421712</td>\n",
       "      <td>Keyflower is Awesome!</td>\n",
       "      <td>Tabletop Games</td>\n",
       "      <td>Games</td>\n",
       "      <td>USD</td>\n",
       "      <td>2015-08-11</td>\n",
       "      <td>2015-06-26 19:51:07</td>\n",
       "      <td>successful</td>\n",
       "      <td>2041</td>\n",
       "      <td>US</td>\n",
       "      <td>121033.00</td>\n",
       "      <td>100.0</td>\n",
       "      <td>45</td>\n",
       "      <td>59.300833</td>\n",
       "      <td>1210.330</td>\n",
       "    </tr>\n",
       "    <tr>\n",
       "      <th>187652</th>\n",
       "      <td>1955357092</td>\n",
       "      <td>Exploding Kittens</td>\n",
       "      <td>Tabletop Games</td>\n",
       "      <td>Games</td>\n",
       "      <td>USD</td>\n",
       "      <td>2015-02-20</td>\n",
       "      <td>2015-01-20 19:00:19</td>\n",
       "      <td>successful</td>\n",
       "      <td>219382</td>\n",
       "      <td>US</td>\n",
       "      <td>8782571.99</td>\n",
       "      <td>10000.0</td>\n",
       "      <td>30</td>\n",
       "      <td>40.033239</td>\n",
       "      <td>878.257</td>\n",
       "    </tr>\n",
       "    <tr>\n",
       "      <th>289894</th>\n",
       "      <td>54501146</td>\n",
       "      <td>SpaceTime Coordinates ~ your personal place in...</td>\n",
       "      <td>Product Design</td>\n",
       "      <td>Design</td>\n",
       "      <td>EUR</td>\n",
       "      <td>2015-09-30</td>\n",
       "      <td>2015-08-12 16:07:19</td>\n",
       "      <td>successful</td>\n",
       "      <td>1514</td>\n",
       "      <td>FR</td>\n",
       "      <td>93364.28</td>\n",
       "      <td>111.6</td>\n",
       "      <td>48</td>\n",
       "      <td>61.667292</td>\n",
       "      <td>836.597</td>\n",
       "    </tr>\n",
       "  </tbody>\n",
       "</table>\n",
       "</div>"
      ],
      "text/plain": [
       "                ID                                               name  \\\n",
       "58331   1296661668                                        Solid Watch   \n",
       "34796   1176482851      TREVOR HALL presents... The Fruitful Darkness   \n",
       "162266  1825421712                              Keyflower is Awesome!   \n",
       "187652  1955357092                                  Exploding Kittens   \n",
       "289894    54501146  SpaceTime Coordinates ~ your personal place in...   \n",
       "\n",
       "              category main_category currency   deadline            launched  \\\n",
       "58331   Product Design        Design      USD 2011-08-29 2011-05-31 07:01:49   \n",
       "34796            Music         Music      USD 2017-09-06 2017-08-07 20:17:39   \n",
       "162266  Tabletop Games         Games      USD 2015-08-11 2015-06-26 19:51:07   \n",
       "187652  Tabletop Games         Games      USD 2015-02-20 2015-01-20 19:00:19   \n",
       "289894  Product Design        Design      EUR 2015-09-30 2015-08-12 16:07:19   \n",
       "\n",
       "             state  backers country  usd_pledged_real  usd_goal_real  \\\n",
       "58331   successful      474      US         134090.00          100.0   \n",
       "34796   successful     2254      US         137570.93          108.0   \n",
       "162266  successful     2041      US         121033.00          100.0   \n",
       "187652  successful   219382      US        8782571.99        10000.0   \n",
       "289894  successful     1514      FR          93364.28          111.6   \n",
       "\n",
       "        project_length  pledged_per_backer  percent_funded  \n",
       "58331               89          282.890295        1340.900  \n",
       "34796               29           61.034130        1273.805  \n",
       "162266              45           59.300833        1210.330  \n",
       "187652              30           40.033239         878.257  \n",
       "289894              48           61.667292         836.597  "
      ]
     },
     "execution_count": 36,
     "metadata": {},
     "output_type": "execute_result"
    }
   ],
   "source": [
    "reasonable_goal = (kickstarter_cleaned['percent_funded'] > np.percentile(kickstarter_cleaned['percent_funded'],99)) & (kickstarter_cleaned['usd_goal_real'] >= 50)\n",
    "\n",
    "new_highly_funded = kickstarter_cleaned[reasonable_goal]\n",
    "new_highly_funded.sort_values(by='percent_funded',ascending=False).head()"
   ]
  },
  {
   "cell_type": "code",
   "execution_count": 37,
   "metadata": {},
   "outputs": [
    {
     "data": {
      "text/plain": [
       "Games           772\n",
       "Design          649\n",
       "Technology      365\n",
       "Fashion         119\n",
       "Comics           93\n",
       "Art              91\n",
       "Publishing       74\n",
       "Crafts           67\n",
       "Food             58\n",
       "Film & Video     32\n",
       "Music            27\n",
       "Photography      12\n",
       "Journalism        3\n",
       "Theater           2\n",
       "Name: main_category, dtype: int64"
      ]
     },
     "execution_count": 37,
     "metadata": {},
     "output_type": "execute_result"
    }
   ],
   "source": [
    "new_highly_funded.main_category.value_counts()"
   ]
  },
  {
   "cell_type": "code",
   "execution_count": 38,
   "metadata": {},
   "outputs": [
    {
     "data": {
      "text/plain": [
       "main_category\n",
       "Games           0.028543\n",
       "Design          0.026990\n",
       "Technology      0.015855\n",
       "Crafts          0.010203\n",
       "Comics          0.009685\n",
       "Fashion         0.007278\n",
       "Art             0.004025\n",
       "Food            0.003073\n",
       "Publishing      0.002446\n",
       "Photography     0.001456\n",
       "Journalism      0.000922\n",
       "Music           0.000666\n",
       "Film & Video    0.000647\n",
       "Theater         0.000208\n",
       "Dance                NaN\n",
       "Name: ID, dtype: float64"
      ]
     },
     "execution_count": 38,
     "metadata": {},
     "output_type": "execute_result"
    }
   ],
   "source": [
    "grouped = new_highly_funded.groupby('main_category').ID.count()\n",
    "total = kickstarter_cleaned.groupby('main_category').ID.count()\n",
    "prop = (grouped/total).sort_values(ascending=False)\n",
    "prop"
   ]
  },
  {
   "cell_type": "markdown",
   "metadata": {},
   "source": [
    "Within the top 1% performing projects with reasonable goals, those in the <font color = 'blue'>main_category</font> of Games as well as Design make up almost 3% of all of the projects in Games and Design. This suggests that these categories tend to have projects that vastly outperform expectations, perhaps because of a novel game idea or groundbreaking design concept."
   ]
  },
  {
   "cell_type": "markdown",
   "metadata": {},
   "source": [
    "## Guiding Question 3: What are some factors that may impact the outcome of a project?"
   ]
  },
  {
   "cell_type": "markdown",
   "metadata": {},
   "source": [
    "### Average Project Goal by Main Category & State"
   ]
  },
  {
   "cell_type": "code",
   "execution_count": 39,
   "metadata": {
    "scrolled": true
   },
   "outputs": [
    {
     "data": {
      "image/png": "[encoded data removed]",
      "text/plain": [
       "<Figure size 432x288 with 1 Axes>"
      ]
     },
     "metadata": {
      "needs_background": "light"
     },
     "output_type": "display_data"
    }
   ],
   "source": [
    "A = kickstarter_cleaned.groupby(['main_category','state']).usd_goal_real.median().unstack()\n",
    "A.plot(kind='bar')\n",
    "plt.title(\"Average Project Goal v.s. Category\")\n",
    "plt.ylabel(\"Average Project Goal\")\n",
    "plt.xlabel(\"Main Category\")\n",
    "plt.legend(bbox_to_anchor=(1.01, 1), loc='upper left', ncol=1)\n",
    "plt.show()"
   ]
  },
  {
   "cell_type": "markdown",
   "metadata": {},
   "source": [
    "We can see that successful projects tend to have lower median of <font color = 'blue'>usd_goal_real</font> than that of failed projects across all categories."
   ]
  },
  {
   "cell_type": "markdown",
   "metadata": {},
   "source": [
    "### Average Pledged per Backer by Main Category & State"
   ]
  },
  {
   "cell_type": "code",
   "execution_count": 40,
   "metadata": {},
   "outputs": [
    {
     "data": {
      "image/png": "[encoded data removed]",
      "text/plain": [
       "<Figure size 432x288 with 1 Axes>"
      ]
     },
     "metadata": {
      "needs_background": "light"
     },
     "output_type": "display_data"
    }
   ],
   "source": [
    "A = kickstarter_cleaned.groupby(['main_category','state']).pledged_per_backer.mean().unstack()\n",
    "A.plot(kind=\"bar\") \n",
    "plt.title(\"Average pledged per Backer by Category\")\n",
    "plt.ylabel(\"Average Pledged per Backer\")\n",
    "plt.xlabel(\"Main Category\")\n",
    "plt.legend(bbox_to_anchor=(1.01, 1), loc='upper left', ncol=1)\n",
    "plt.show()"
   ]
  },
  {
   "cell_type": "markdown",
   "metadata": {},
   "source": [
    "We can see that the average <font color = 'blue'>pledged_per_backer</font> is higher for successful projects across all categories."
   ]
  },
  {
   "cell_type": "markdown",
   "metadata": {},
   "source": [
    "### Average Project Length by Main Category & State"
   ]
  },
  {
   "cell_type": "code",
   "execution_count": 41,
   "metadata": {},
   "outputs": [
    {
     "data": {
      "image/png": "[encoded data removed]",
      "text/plain": [
       "<Figure size 432x288 with 1 Axes>"
      ]
     },
     "metadata": {
      "needs_background": "light"
     },
     "output_type": "display_data"
    }
   ],
   "source": [
    "B = kickstarter_cleaned.groupby(['main_category','state']).project_length.mean().unstack()\n",
    "B.plot(kind='bar')\n",
    "plt.title(\"Average Project Length v.s. Category\")\n",
    "plt.ylabel(\"Average Project Length\")\n",
    "plt.xlabel(\"Main Category\")\n",
    "plt.legend(bbox_to_anchor=(1.01, 1), loc='upper left', ncol=1)\n",
    "plt.show()"
   ]
  },
  {
   "cell_type": "markdown",
   "metadata": {},
   "source": [
    "While the difference seems minimial, we indeed notice a consistent trend where failed projects tend to have a longer project length than successful projects. While this may seem counterintuitive initially, this could stem from the fact that successful projects tend to go viral in a short span of time, negating the possible benefits of keeping a project running longer. Additionally, setting a project for a longer duration could also reflect the project creators' lack of belief in the project's ability to generate funds."
   ]
  },
  {
   "cell_type": "markdown",
   "metadata": {},
   "source": [
    "# Data Modeling"
   ]
  },
  {
   "cell_type": "code",
   "execution_count": 42,
   "metadata": {},
   "outputs": [],
   "source": [
    "import statsmodels.formula.api as smf\n",
    "from statsmodels.tools.tools import add_constant\n",
    "from statsmodels.stats.outliers_influence import variance_inflation_factor\n",
    "from sklearn.model_selection import train_test_split, ShuffleSplit, cross_val_score, KFold\n",
    "from sklearn.linear_model import LogisticRegression\n",
    "from sklearn.preprocessing import OneHotEncoder\n",
    "from sklearn.neighbors import KNeighborsClassifier\n",
    "from sklearn import metrics"
   ]
  },
  {
   "cell_type": "markdown",
   "metadata": {},
   "source": [
    "In this section, we will attempt to select a model to predict whether a project is 'successful' or 'failed'. We will try logistic regression in smf as well as KNN in sklearn, using functions in sklearn to perform cross validation. Because of the nature of the smf module, we will have to convert the values to 1 or 0."
   ]
  },
  {
   "cell_type": "code",
   "execution_count": 43,
   "metadata": {},
   "outputs": [],
   "source": [
    "clean_state = {'state': {'failed': 0, \"successful\": 1}}\n",
    "kickstarter_cleaned.replace(clean_state, inplace=True)"
   ]
  },
  {
   "cell_type": "markdown",
   "metadata": {},
   "source": [
    "## K-Nearest Neighbors"
   ]
  },
  {
   "cell_type": "markdown",
   "metadata": {},
   "source": [
    "We first tried running a KNN classifier based on the numeric data provided by the columns <font color = 'blue'>usd_goal_real</font>, <font color = 'blue'>project_length</font>, and <font color = 'blue'>pledged_per_backer</font>. To further prepare the data for prediction, we have split our dataset into train and test. We will now using 5-fold cross validation to evaluate our KNN model."
   ]
  },
  {
   "cell_type": "code",
   "execution_count": 44,
   "metadata": {
    "scrolled": true
   },
   "outputs": [],
   "source": [
    "X_trainT, X_testT, y_trainT, y_testT = train_test_split(kickstarter_cleaned[['usd_goal_real','project_length','pledged_per_backer']], kickstarter_cleaned[['state']], test_size=0.3)"
   ]
  },
  {
   "cell_type": "code",
   "execution_count": 45,
   "metadata": {},
   "outputs": [],
   "source": [
    "k_range = range(1,20)\n",
    "scores = {}\n",
    "for k in k_range:\n",
    "    knn = KNeighborsClassifier(n_neighbors = k)\n",
    "    scores[k] = np.mean(cross_val_score(knn, X_trainT, y_trainT, cv=5))"
   ]
  },
  {
   "cell_type": "code",
   "execution_count": 46,
   "metadata": {},
   "outputs": [
    {
     "data": {
      "text/plain": [
       "{1: 0.6845828376694252,\n",
       " 2: 0.6662243236069108,\n",
       " 3: 0.7070394497207856,\n",
       " 4: 0.6961111789758374,\n",
       " 5: 0.7180799252253889,\n",
       " 6: 0.709966663930061,\n",
       " 7: 0.7234172224061799,\n",
       " 8: 0.7179530877477582,\n",
       " 9: 0.7277738954155952,\n",
       " 10: 0.724114875839118,\n",
       " 11: 0.730554738768913,\n",
       " 12: 0.7269591462023575,\n",
       " 13: 0.7323549816335915,\n",
       " 14: 0.7290130805645105,\n",
       " 15: 0.7337210163990278,\n",
       " 16: 0.732169605310474,\n",
       " 17: 0.7358676493955073,\n",
       " 18: 0.7338722668507922,\n",
       " 19: 0.736609211812166}"
      ]
     },
     "execution_count": 46,
     "metadata": {},
     "output_type": "execute_result"
    }
   ],
   "source": [
    "scores"
   ]
  },
  {
   "cell_type": "markdown",
   "metadata": {},
   "source": [
    "Based on the CV scores from our KNN classifier, we find that K=19 works best for our train dataset. Our average validation accuracy for K=19 was approximately 73% on the test dataset.\n",
    "\n",
    "We will now fit a 19-NN model on our test dataset."
   ]
  },
  {
   "cell_type": "code",
   "execution_count": 47,
   "metadata": {},
   "outputs": [
    {
     "name": "stdout",
     "output_type": "stream",
     "text": [
      "0.7352070669125516\n",
      "0.5453293263210619\n"
     ]
    }
   ],
   "source": [
    "knn = KNeighborsClassifier(n_neighbors = 19)\n",
    "knn.fit(X_trainT,y_trainT)\n",
    "\n",
    "y_pred = knn.predict(X_testT)\n",
    "print(metrics.accuracy_score(y_testT, y_pred))\n",
    "print(y_testT.state.value_counts().iloc[0]/(y_testT.state.value_counts().iloc[0] + y_testT.state.value_counts().iloc[1]))"
   ]
  },
  {
   "cell_type": "markdown",
   "metadata": {},
   "source": [
    "We obtain a final test accuracy of approximately 74% on the test dataset. This result is indeed significant, as our model prediction represents a noticeable improvement in accuracy (compared to merely predicting 'failed' for all of the validation test data, which would have an accuracy of ~54%)."
   ]
  },
  {
   "cell_type": "markdown",
   "metadata": {},
   "source": [
    "## Logistic Regression"
   ]
  },
  {
   "cell_type": "markdown",
   "metadata": {},
   "source": [
    "However, it is difficult to intepret the results of our KNN classifier, which also only uses numeric features. In the interest of creating a model that can be easily understandable as well as accounting for the <font color='blue'>main_category</font> of the project, we will now try a logistic regression model as well, once again first trained on a 5-fold cross validation train dataset."
   ]
  },
  {
   "cell_type": "code",
   "execution_count": 48,
   "metadata": {},
   "outputs": [],
   "source": [
    "X_trainT, X_testT, y_trainT, y_testT = train_test_split(kickstarter_cleaned[['main_category','usd_goal_real','project_length','pledged_per_backer']], kickstarter_cleaned[['state']], test_size=0.3)\n",
    "train_data_set = pd.concat([X_trainT,y_trainT], axis = 1)"
   ]
  },
  {
   "cell_type": "code",
   "execution_count": 49,
   "metadata": {},
   "outputs": [
    {
     "name": "stdout",
     "output_type": "stream",
     "text": [
      "Optimization terminated successfully.\n",
      "         Current function value: 0.618657\n",
      "         Iterations 10\n",
      "Optimization terminated successfully.\n",
      "         Current function value: 0.615746\n",
      "         Iterations 10\n",
      "Optimization terminated successfully.\n",
      "         Current function value: 0.618763\n",
      "         Iterations 10\n",
      "Optimization terminated successfully.\n",
      "         Current function value: 0.619715\n",
      "         Iterations 10\n",
      "Optimization terminated successfully.\n",
      "         Current function value: 0.620567\n",
      "         Iterations 10\n",
      "[0.6839614587144773, 0.6845712891816075, 0.6866203195511648, 0.6878079718983265, 0.6883934234278187]\n",
      "0.6862708925546789\n",
      "[0.5415538480302476, 0.5456031223319917, 0.5441883156482498, 0.5413719080841098, 0.5444455286139435]\n",
      "0.5434325445417085\n"
     ]
    }
   ],
   "source": [
    "X = train_data_set[['main_category','usd_goal_real','project_length','pledged_per_backer']].reset_index()\n",
    "y = train_data_set[['state']].reset_index()\n",
    "kf = KFold(n_splits = 5, shuffle = True, random_state = 1)\n",
    "accuracies = []\n",
    "default= []\n",
    "\n",
    "for train_index, test_index in kf.split(X):\n",
    "    X_train, X_test, y_train, y_test = X.loc[train_index], X.loc[test_index], y.loc[train_index], y.loc[test_index]\n",
    "    y_train['state'] = y_train.state.apply(int)\n",
    "    y_test['state'] = y_test.state.apply(int)\n",
    "    logitmodel = smf.logit(formula = 'state ~ main_category + usd_goal_real + project_length + pledged_per_backer', data = pd.concat([X_train, y_train], axis=1))\n",
    "    results = logitmodel.fit()\n",
    "    testresult_logit = results.predict(X_test)\n",
    "    testresult_logit = np.where(testresult_logit > 0.5, 1, 0)\n",
    "    accuracies.append(np.mean(testresult_logit == y_test.state.to_numpy()))\n",
    "    default.append(y_test.state.value_counts().iloc[0]/(y_test.state.value_counts().iloc[0] + y_test.state.value_counts().iloc[1]))\n",
    "    \n",
    "print(accuracies)\n",
    "print(np.mean(accuracies))\n",
    "print(default)\n",
    "print(np.mean(default))"
   ]
  },
  {
   "cell_type": "markdown",
   "metadata": {},
   "source": [
    "This time, we obtain a average validation accuracy of approximately 68% on the test dataset. While this accuracy score is lower than the result obtained by KNN, it is still significant, as our model predictions still exhibit an improvement over the default accuracy of ~54% (for predicting every project as 'failed')."
   ]
  },
  {
   "cell_type": "markdown",
   "metadata": {},
   "source": [
    "After verifying that our model does provide a significant prediction accuracy, we will now attempt to fit our model based on the train data on the test data to obtain our final test accuracy score."
   ]
  },
  {
   "cell_type": "code",
   "execution_count": 50,
   "metadata": {},
   "outputs": [
    {
     "name": "stdout",
     "output_type": "stream",
     "text": [
      "Optimization terminated successfully.\n",
      "         Current function value: 0.618724\n",
      "         Iterations 10\n",
      "                           Logit Regression Results                           \n",
      "==============================================================================\n",
      "Dep. Variable:                  state   No. Observations:               204973\n",
      "Model:                          Logit   Df Residuals:                   204955\n",
      "Method:                           MLE   Df Model:                           17\n",
      "Date:                Tue, 03 Dec 2019   Pseudo R-squ.:                  0.1025\n",
      "Time:                        16:47:17   Log-Likelihood:            -1.2682e+05\n",
      "converged:                       True   LL-Null:                   -1.4130e+05\n",
      "Covariance Type:            nonrobust   LLR p-value:                     0.000\n",
      "=================================================================================================\n",
      "                                    coef    std err          z      P>|z|      [0.025      0.975]\n",
      "-------------------------------------------------------------------------------------------------\n",
      "Intercept                         0.4525      0.021     21.801      0.000       0.412       0.493\n",
      "main_category[T.Comics]           0.5595      0.030     18.414      0.000       0.500       0.619\n",
      "main_category[T.Crafts]          -0.7827      0.036    -21.626      0.000      -0.854      -0.712\n",
      "main_category[T.Dance]            0.7195      0.049     14.743      0.000       0.624       0.815\n",
      "main_category[T.Design]          -0.1436      0.023     -6.116      0.000      -0.190      -0.098\n",
      "main_category[T.Fashion]         -0.7149      0.026    -27.200      0.000      -0.766      -0.663\n",
      "main_category[T.Film & Video]     0.0007      0.020      0.036      0.971      -0.039       0.040\n",
      "main_category[T.Food]            -0.6173      0.026    -24.034      0.000      -0.668      -0.567\n",
      "main_category[T.Games]            0.0725      0.023      3.211      0.001       0.028       0.117\n",
      "main_category[T.Journalism]      -0.7017      0.050    -13.965      0.000      -0.800      -0.603\n",
      "main_category[T.Music]            0.3992      0.021     19.340      0.000       0.359       0.440\n",
      "main_category[T.Photography]     -0.4383      0.032    -13.566      0.000      -0.502      -0.375\n",
      "main_category[T.Publishing]      -0.3319      0.022    -15.228      0.000      -0.375      -0.289\n",
      "main_category[T.Technology]      -0.7279      0.026    -28.271      0.000      -0.778      -0.677\n",
      "main_category[T.Theater]          0.7332      0.032     22.891      0.000       0.670       0.796\n",
      "usd_goal_real                 -2.425e-05    3.3e-07    -73.538      0.000   -2.49e-05   -2.36e-05\n",
      "project_length                   -0.0198      0.000    -49.966      0.000      -0.021      -0.019\n",
      "pledged_per_backer                0.0062   7.63e-05     81.393      0.000       0.006       0.006\n",
      "=================================================================================================\n",
      "0.6844705507365162\n",
      "0.5416182865469117\n"
     ]
    }
   ],
   "source": [
    "FINAL_logitmodel = smf.logit(formula = 'state ~ main_category + usd_goal_real + project_length + pledged_per_backer', data = train_data_set)\n",
    "print(FINAL_logitmodel.fit().summary())\n",
    "\n",
    "FINAL_testresult_logit = results.predict(X_testT)\n",
    "FINAL_testresult_logit = np.where(FINAL_testresult_logit > 0.5, 1, 0)\n",
    "print(np.mean(FINAL_testresult_logit == y_testT.state.to_numpy()))\n",
    "print(y_testT.state.value_counts().iloc[0]/(y_testT.state.value_counts().iloc[0] + y_testT.state.value_counts().iloc[1]))"
   ]
  },
  {
   "cell_type": "markdown",
   "metadata": {},
   "source": [
    "Similar to our validation results, we also obtain a final test accuracy score of approximately 68%. Once again, this is a marked improvement on the default result of approximately 54%. "
   ]
  },
  {
   "cell_type": "markdown",
   "metadata": {},
   "source": [
    "### Understanding the Logistic Model"
   ]
  },
  {
   "cell_type": "markdown",
   "metadata": {},
   "source": [
    "We notice that besides the 'Film & Video' categorical option in <font color = 'blue'>main_category</font>, every other feature used in the logistic model were considered to be statistically significant. In addition, the coefficients for our features matches the insights derived from our exploratory analysis.\n",
    "\n",
    "1. The <font color = 'blue'>main_category</font> of projects appear to have large impacts on the probability of the project. The 3 highest coefficients belong to the Dance, Theater and Comics categories, while the 3 lowest coefficients belong to Crafts, Technology and Jouralism, all of which match the results from our exploratory analysis of success rate by category.\n",
    "\n",
    "\n",
    "2. As expected, the coefficient of <font color ='blue'>usd_goal_real</font> is negative. This seems to indicate that the higher a project's goal is set, the harder it is for backers to supply the pledge amount needed to hit the goal. Interestingly, the coefficient for this feature is very close to 0, while still having a very significant p-value. This could mean that while the overall impact of setting a high goal is consistently negative, it does not bode particularly disastrously for a project. Understandably, ambitious projects with naturally high target (such as projects in the field of Technology) would draw more interested supporters, negating the risk of not hitting the goal so some extent.\n",
    "\n",
    "\n",
    "3. <font color ='blue'>project_length</font> also has a slight negative correlation with the probability of a project's success. We previously observed this in comparing the average <font color ='blue'>project_length</font> by category. This trend is something that Kickstarter has also identified, recommending a maximum of 30 days since \"Campaigns with shorter durations have higher success rates, and create a helpful sense of urgency around your project\". (https://help.kickstarter.com/hc/en-us/articles/115005128434-What-is-the-maximum-project-duration-) \n",
    "\n",
    "\n",
    "4. <font color ='blue'>pledged_per_backer</font> also has a positive impact on the success rate. While we had initially theorized that small donations from a large amount of backers could be the key to a project's success, it seems as if conventional wisdom prevails in this scenario. One factor not included in the dataset that could have affected this variable is Kickstarter's reward system, providing an incentive for backers to pledge in increased amounts, pushing projects that backers have faith in particularly in the right direction."
   ]
  }
 ],
 "metadata": {
  "kernelspec": {
   "display_name": "Python 3",
   "language": "python",
   "name": "python3"
  },
  "language_info": {
   "codemirror_mode": {
    "name": "ipython",
    "version": 3
   },
   "file_extension": ".py",
   "mimetype": "text/x-python",
   "name": "python",
   "nbconvert_exporter": "python",
   "pygments_lexer": "ipython3",
   "version": "3.7.3"
  }
 },
 "nbformat": 4,
 "nbformat_minor": 2
}
