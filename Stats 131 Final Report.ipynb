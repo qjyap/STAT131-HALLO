{
 "cells": [
  {
   "cell_type": "markdown",
   "metadata": {},
   "source": [
    "# STATS 131 Final Project: Kickstarter\n",
    "Team 15: HALLO\n",
    "\n",
    "Data: https://www.kaggle.com/kemical/kickstarter-projects/\n",
    "\n",
    "Presentation: https://docs.google.com/presentation/d/15P199H4aanGbv7MW8AMpRKZiysh8MUIMzfYLxEmA0I0/edit?usp=sharing\n",
    "\n",
    "Members: \n",
    "Kai Chen Tan,\n",
    "Qi Jing Yap,\n",
    "Yuqing Yang,\n",
    "Steven Salmeron\n"
   ]
  },
  {
   "cell_type": "markdown",
   "metadata": {},
   "source": [
    "![](kickstarter_header.png)\n",
    "\n",
    "# Background Information\n",
    "\n",
    "## What is Kickstarter?\n",
    "\n",
    "Kickstarter is a fundraising platform with the goal to help “bring creative projects to life” by providing a way for creators and artists to be funded directly by fans of their projects. The platform was launched on April 28, 2009 and has seen over 450,000 projects pass through it since then. \n",
    "\n",
    "## Basics of a Kickstarter Project\n",
    "\n",
    "Each campaign has a unique Kickstarter ID used for internal identification. Each project also has a title name that allows people to find and refer to it with. The name of a project does not need to be unique. Kickstarter has made it easier to distinguish one project from another with the use of 15 main categories: Art, Comics, Crafts, Dance, Design, Fashion, Film & Video, Food, Games, Journalism, Music, Photography, Publishing, Technology, and Theater. Subcategories are also attached to a project to further classify it beyond the main category. For instance, under the main category Fashion, the subcategories are apparel, accessories, jewelry, footware, etc. \n",
    "\n",
    "People who help fund a project are known as its ‘backers’ and the money they contribute is their ‘pledge’. Backing a project gives backers an opportunity to contribute to something they wish to see succeed and also to receive a reward if their pledges are high enough. Rewards are usually tiered by the amount pledged and it is a strategy used by creators to incentivize backers to pledge more. Rewards often include the product itself if the project involves some sort of product, company swags, and possibly also a meetup with the creators for high pledges.\n",
    "\n",
    "Projects are required to launch with a specified goal, and the goal is usually an amount that the team has determined to be the minimum they need to proceed with the project. Since Kickstarter is a global platform and projects can be started in 22 different countries, not all campaigns are measured in USD. The goal and pledges can be processed in the local currency of each project.\n",
    "\n",
    "Before launching a project, the creator has to set a starting date, as well as a dealine. The maximum length for a project used to be 90 days but was lowered to 60 in 2011. As soon as the project reaches its deadline, it can no longer receive pledges. \n",
    "- A project that reaches its goal by the deadline is considered successful and receives the pledged funding. Kickstarter collects a 5% fee from the funding total, and a payment processing fee between 3-5% will also be collected.\n",
    "- A project that fails to meet its goal is considered failed regardless of how close it was to reaching the goal. Kickstarter will not collect any funds from the backers of a failed project, and the creators will receive no funding. This all-or-nothing model is meant to prevent disappointment in scenarios where a team may attempt to proceed with a project when only a tenth of the goal was reached and can no longer meet the standards that backers may have been expecting. Due to this policy, many ambitious projects choose to set a minimum goal for their campaign and include stretch goals, which are funding milestones where additional features not exactly necessary for the project will be worked on if reached. \n",
    "- A project can be cancelled early if the creator has decided to not continue the project.\n",
    "- A project can also be suspended if Kickstarter decides that it is in violation of the platform's policies upon further review.\n",
    "\n",
    "## How was the Data Collected?\n",
    "\n",
    "The dataset being analyzed for this project was scraped from Kickstarter platform by a Kaggle user, Mickaël Mouillé. This dataset contains information of over 300,000 Kickstarter projects up to January 2, 2018.\n",
    "\n",
    "## Discussion of Variables\n",
    "\n",
    "### 1. Each Column\n",
    "\n",
    "- <font color=blue>ID</font> is the internal Kickstarter ID, unique for each project.\n",
    "- <font color=blue>name</font> is the name of a project.\n",
    "- <font color=blue>category</font> is the subcategory a project belongs to. There are 5 to 20 subcategories within each main category.\n",
    "- <font color=blue>main_category</font> is a classification of projects based on shared characteristics. There are 15 main categories set by Kickstarter.\n",
    "- <font color=blue>currency</font> is the local currency used for the campaign.\n",
    "- <font color=blue>deadline</font> is the date a project was scheduled to end.\n",
    "- <font color=blue>goal</font> is the fundraising goal set by the creator of a project. Data in this column is of different currency types and not standardized.\n",
    "- <font color=blue>launched</font> gives the date and time the project was started in the platform.\n",
    "- <font color=blue>pledged</font> is the amount of money a project fundraised. Data in this column is of different currency types and not standardized.\n",
    "- <font color=blue>state</font> indicates the outcome of a project, whether it was successful, failed, cancelled or suspended. Ongoing projects are labeled as live, and some project status are undefined. \n",
    "- <font color=blue>backers</font> is the number of backers who have agreed to contribute to a project.\n",
    "- <font color=blue>country</font> gives the abbreviation of the country where the Kickstarter project was launched.\n",
    "- <font color=blue>usd pledged</font> is the conversion of the <font color=blue>pledged</font> column to US dollars (conversion done by Kickstarter).\n",
    "- <font color=blue>usd_pledged_real</font> is the amount of money a project fundraised. Data in the <font color=blue>pledged</font> column is converted to USD and standardized.\n",
    "- <font color=blue>usd_goal_real</font> is the fundraising goal. Data in the <font color=blue>goal</font> column is converted to USD and standardized.\n",
    "\n",
    "### 2. Each Row\n",
    "\n",
    "Each row is a record of the performance of one unique project with the Kickstarter internal ID as the unique identifier. \n",
    "\n",
    "## Research Review\n",
    "\n",
    "We have looked at a number of articles that attempt to explain what differentiates a successful campaign from a failed one. Forbes, in their article, “Crowdfunding Secrets: 7 Tips For Kickstarter Success”, advises to keep a campaign’s goal reasonable because it is easier to reach and backers are more likely to be attracted to projects that are already close to or have exceeded their goal. An article on Wired also recommends keeping a campaign’s goal below a certain amount; their recommended amount is $10,000 for the best odds of success. Similarly, the article recommends having a campaign last 30 days; more makes the project appear unconfident and Wired finds these projects less likely to succeed. Lastly, an article by Toward Data Science, “What Makes a Successful Kickstarter Campaign?”, looks at how success rate changes by specific category and describes a model the author has designed to predict Kickstarter success. Many of these articles also include factors such as the “realness” of the problem the project aims to address, whether the campaign includes a video, the social media presence of the team, and other factors we do not have access to in our dataset. \n",
    "\n",
    "Because our data comes from Kaggle, we also took a look at what people have previously done with this specific dataset in the past. One notebook, simply titled, “Kickstarter - Successful vs Failed”, tackles a similar question to ours. It follows up its method of processing that data with a bar plot showing success rate by category, showing dance and theater as the most successful categories. It then establishes the median goal of failed Kickstarters is always higher than that of successful ones for any given category and affirms this is not caused by significant outliers anywhere. They note that most failed projects do not reach over 20% of their funding goal, but this is not because of time constraints. \n"
   ]
  },
  {
   "cell_type": "code",
   "execution_count": 1,
   "metadata": {},
   "outputs": [],
   "source": [
    "import pandas as pd\n",
    "import numpy as np\n",
    "import matplotlib\n",
    "import matplotlib.pyplot as plt\n",
    "import seaborn as sns\n",
    "import warnings\n",
    "warnings.filterwarnings('ignore')"
   ]
  },
  {
   "cell_type": "code",
   "execution_count": 2,
   "metadata": {},
   "outputs": [],
   "source": [
    "kickstarter = pd.read_csv('ks-projects-201801.csv') #Reading in the data"
   ]
  },
  {
   "cell_type": "code",
   "execution_count": 3,
   "metadata": {},
   "outputs": [
    {
     "data": {
      "text/html": [
       "<div>\n",
       "<style scoped>\n",
       "    .dataframe tbody tr th:only-of-type {\n",
       "        vertical-align: middle;\n",
       "    }\n",
       "\n",
       "    .dataframe tbody tr th {\n",
       "        vertical-align: top;\n",
       "    }\n",
       "\n",
       "    .dataframe thead th {\n",
       "        text-align: right;\n",
       "    }\n",
       "</style>\n",
       "<table border=\"1\" class=\"dataframe\">\n",
       "  <thead>\n",
       "    <tr style=\"text-align: right;\">\n",
       "      <th></th>\n",
       "      <th>ID</th>\n",
       "      <th>name</th>\n",
       "      <th>category</th>\n",
       "      <th>main_category</th>\n",
       "      <th>currency</th>\n",
       "      <th>deadline</th>\n",
       "      <th>goal</th>\n",
       "      <th>launched</th>\n",
       "      <th>pledged</th>\n",
       "      <th>state</th>\n",
       "      <th>backers</th>\n",
       "      <th>country</th>\n",
       "      <th>usd pledged</th>\n",
       "      <th>usd_pledged_real</th>\n",
       "      <th>usd_goal_real</th>\n",
       "    </tr>\n",
       "  </thead>\n",
       "  <tbody>\n",
       "    <tr>\n",
       "      <th>0</th>\n",
       "      <td>1000002330</td>\n",
       "      <td>The Songs of Adelaide &amp; Abullah</td>\n",
       "      <td>Poetry</td>\n",
       "      <td>Publishing</td>\n",
       "      <td>GBP</td>\n",
       "      <td>2015-10-09</td>\n",
       "      <td>1000.0</td>\n",
       "      <td>2015-08-11 12:12:28</td>\n",
       "      <td>0.0</td>\n",
       "      <td>failed</td>\n",
       "      <td>0</td>\n",
       "      <td>GB</td>\n",
       "      <td>0.0</td>\n",
       "      <td>0.0</td>\n",
       "      <td>1533.95</td>\n",
       "    </tr>\n",
       "    <tr>\n",
       "      <th>1</th>\n",
       "      <td>1000003930</td>\n",
       "      <td>Greeting From Earth: ZGAC Arts Capsule For ET</td>\n",
       "      <td>Narrative Film</td>\n",
       "      <td>Film &amp; Video</td>\n",
       "      <td>USD</td>\n",
       "      <td>2017-11-01</td>\n",
       "      <td>30000.0</td>\n",
       "      <td>2017-09-02 04:43:57</td>\n",
       "      <td>2421.0</td>\n",
       "      <td>failed</td>\n",
       "      <td>15</td>\n",
       "      <td>US</td>\n",
       "      <td>100.0</td>\n",
       "      <td>2421.0</td>\n",
       "      <td>30000.00</td>\n",
       "    </tr>\n",
       "    <tr>\n",
       "      <th>2</th>\n",
       "      <td>1000004038</td>\n",
       "      <td>Where is Hank?</td>\n",
       "      <td>Narrative Film</td>\n",
       "      <td>Film &amp; Video</td>\n",
       "      <td>USD</td>\n",
       "      <td>2013-02-26</td>\n",
       "      <td>45000.0</td>\n",
       "      <td>2013-01-12 00:20:50</td>\n",
       "      <td>220.0</td>\n",
       "      <td>failed</td>\n",
       "      <td>3</td>\n",
       "      <td>US</td>\n",
       "      <td>220.0</td>\n",
       "      <td>220.0</td>\n",
       "      <td>45000.00</td>\n",
       "    </tr>\n",
       "    <tr>\n",
       "      <th>3</th>\n",
       "      <td>1000007540</td>\n",
       "      <td>ToshiCapital Rekordz Needs Help to Complete Album</td>\n",
       "      <td>Music</td>\n",
       "      <td>Music</td>\n",
       "      <td>USD</td>\n",
       "      <td>2012-04-16</td>\n",
       "      <td>5000.0</td>\n",
       "      <td>2012-03-17 03:24:11</td>\n",
       "      <td>1.0</td>\n",
       "      <td>failed</td>\n",
       "      <td>1</td>\n",
       "      <td>US</td>\n",
       "      <td>1.0</td>\n",
       "      <td>1.0</td>\n",
       "      <td>5000.00</td>\n",
       "    </tr>\n",
       "    <tr>\n",
       "      <th>4</th>\n",
       "      <td>1000011046</td>\n",
       "      <td>Community Film Project: The Art of Neighborhoo...</td>\n",
       "      <td>Film &amp; Video</td>\n",
       "      <td>Film &amp; Video</td>\n",
       "      <td>USD</td>\n",
       "      <td>2015-08-29</td>\n",
       "      <td>19500.0</td>\n",
       "      <td>2015-07-04 08:35:03</td>\n",
       "      <td>1283.0</td>\n",
       "      <td>canceled</td>\n",
       "      <td>14</td>\n",
       "      <td>US</td>\n",
       "      <td>1283.0</td>\n",
       "      <td>1283.0</td>\n",
       "      <td>19500.00</td>\n",
       "    </tr>\n",
       "  </tbody>\n",
       "</table>\n",
       "</div>"
      ],
      "text/plain": [
       "           ID                                               name  \\\n",
       "0  1000002330                    The Songs of Adelaide & Abullah   \n",
       "1  1000003930      Greeting From Earth: ZGAC Arts Capsule For ET   \n",
       "2  1000004038                                     Where is Hank?   \n",
       "3  1000007540  ToshiCapital Rekordz Needs Help to Complete Album   \n",
       "4  1000011046  Community Film Project: The Art of Neighborhoo...   \n",
       "\n",
       "         category main_category currency    deadline     goal  \\\n",
       "0          Poetry    Publishing      GBP  2015-10-09   1000.0   \n",
       "1  Narrative Film  Film & Video      USD  2017-11-01  30000.0   \n",
       "2  Narrative Film  Film & Video      USD  2013-02-26  45000.0   \n",
       "3           Music         Music      USD  2012-04-16   5000.0   \n",
       "4    Film & Video  Film & Video      USD  2015-08-29  19500.0   \n",
       "\n",
       "              launched  pledged     state  backers country  usd pledged  \\\n",
       "0  2015-08-11 12:12:28      0.0    failed        0      GB          0.0   \n",
       "1  2017-09-02 04:43:57   2421.0    failed       15      US        100.0   \n",
       "2  2013-01-12 00:20:50    220.0    failed        3      US        220.0   \n",
       "3  2012-03-17 03:24:11      1.0    failed        1      US          1.0   \n",
       "4  2015-07-04 08:35:03   1283.0  canceled       14      US       1283.0   \n",
       "\n",
       "   usd_pledged_real  usd_goal_real  \n",
       "0               0.0        1533.95  \n",
       "1            2421.0       30000.00  \n",
       "2             220.0       45000.00  \n",
       "3               1.0        5000.00  \n",
       "4            1283.0       19500.00  "
      ]
     },
     "execution_count": 3,
     "metadata": {},
     "output_type": "execute_result"
    }
   ],
   "source": [
    "kickstarter.head()"
   ]
  },
  {
   "cell_type": "code",
   "execution_count": 4,
   "metadata": {},
   "outputs": [
    {
     "data": {
      "text/plain": [
       "(378661, 15)"
      ]
     },
     "execution_count": 4,
     "metadata": {},
     "output_type": "execute_result"
    }
   ],
   "source": [
    "kickstarter.shape"
   ]
  },
  {
   "cell_type": "markdown",
   "metadata": {},
   "source": [
    "# Exploratory Analysis of the Data"
   ]
  },
  {
   "cell_type": "markdown",
   "metadata": {},
   "source": [
    "## Data Cleaning"
   ]
  },
  {
   "cell_type": "markdown",
   "metadata": {},
   "source": [
    "### 1. Drop Columns"
   ]
  },
  {
   "cell_type": "code",
   "execution_count": 5,
   "metadata": {},
   "outputs": [
    {
     "data": {
      "text/plain": [
       "(378661, 12)"
      ]
     },
     "execution_count": 5,
     "metadata": {},
     "output_type": "execute_result"
    }
   ],
   "source": [
    "kickstarter = kickstarter.drop(columns = ['pledged', 'goal', 'usd pledged'])\n",
    "kickstarter.shape"
   ]
  },
  {
   "cell_type": "markdown",
   "metadata": {},
   "source": [
    "We have decided to remove the columns <font color=blue>pledged</font> and <font color=blue>goal</font> because data in these two columns are in different currency types and not standardized. Instead, we will be using columns <font color=blue>usd_pledged_real</font> and <font color=blue>usd_goal_real</font>, which are the same numbers converted to USD and standardized. In addition, <font color=blue>usd pledged</font> is removed because the conversion done by this column is more problematic. The same information is provided by the variable <font color=blue>usd_pledged_real</font>."
   ]
  },
  {
   "cell_type": "markdown",
   "metadata": {},
   "source": [
    "### 2. Data Types"
   ]
  },
  {
   "cell_type": "code",
   "execution_count": 6,
   "metadata": {},
   "outputs": [
    {
     "name": "stdout",
     "output_type": "stream",
     "text": [
      "ID                    int64\n",
      "name                 object\n",
      "category             object\n",
      "main_category        object\n",
      "currency             object\n",
      "deadline             object\n",
      "launched             object\n",
      "state                object\n",
      "backers               int64\n",
      "country              object\n",
      "usd_pledged_real    float64\n",
      "usd_goal_real       float64\n",
      "dtype: object\n"
     ]
    }
   ],
   "source": [
    "print(kickstarter.dtypes)"
   ]
  },
  {
   "cell_type": "markdown",
   "metadata": {},
   "source": [
    "Since <font color=blue>deadline</font> and <font color=blue>launched</font> are objects, we convert them to date-time type."
   ]
  },
  {
   "cell_type": "code",
   "execution_count": 7,
   "metadata": {},
   "outputs": [],
   "source": [
    "kickstarter['deadline'] = pd.to_datetime(kickstarter.deadline)\n",
    "kickstarter['launched'] = pd.to_datetime(kickstarter.launched)"
   ]
  },
  {
   "cell_type": "markdown",
   "metadata": {},
   "source": [
    "### 3. Check for Duplicates"
   ]
  },
  {
   "cell_type": "code",
   "execution_count": 8,
   "metadata": {},
   "outputs": [
    {
     "name": "stdout",
     "output_type": "stream",
     "text": [
      "<class 'pandas.core.frame.DataFrame'>\n",
      "RangeIndex: 378661 entries, 0 to 378660\n",
      "Data columns (total 12 columns):\n",
      "ID                  378661 non-null int64\n",
      "name                378657 non-null object\n",
      "category            378661 non-null object\n",
      "main_category       378661 non-null object\n",
      "currency            378661 non-null object\n",
      "deadline            378661 non-null datetime64[ns]\n",
      "launched            378661 non-null datetime64[ns]\n",
      "state               378661 non-null object\n",
      "backers             378661 non-null int64\n",
      "country             378661 non-null object\n",
      "usd_pledged_real    378661 non-null float64\n",
      "usd_goal_real       378661 non-null float64\n",
      "dtypes: datetime64[ns](2), float64(2), int64(2), object(6)\n",
      "memory usage: 34.7+ MB\n"
     ]
    }
   ],
   "source": [
    "kickstarter.info()"
   ]
  },
  {
   "cell_type": "markdown",
   "metadata": {},
   "source": [
    "We notice that <font color='blue'>name</font> is the only column that does not have 378661 unique entries. "
   ]
  },
  {
   "cell_type": "code",
   "execution_count": 9,
   "metadata": {},
   "outputs": [
    {
     "name": "stdout",
     "output_type": "stream",
     "text": [
      "Empty DataFrame\n",
      "Columns: [ID, name, category, main_category, currency, deadline, launched, state, backers, country, usd_pledged_real, usd_goal_real]\n",
      "Index: []\n"
     ]
    }
   ],
   "source": [
    "print(kickstarter[kickstarter.duplicated()])"
   ]
  },
  {
   "cell_type": "markdown",
   "metadata": {},
   "source": [
    "There are no completely duplicated rows in our DataFrame since there are unique IDs to each project."
   ]
  },
  {
   "cell_type": "code",
   "execution_count": 10,
   "metadata": {},
   "outputs": [
    {
     "name": "stdout",
     "output_type": "stream",
     "text": [
      "378661\n",
      "375764\n"
     ]
    },
    {
     "data": {
      "text/html": [
       "<div>\n",
       "<style scoped>\n",
       "    .dataframe tbody tr th:only-of-type {\n",
       "        vertical-align: middle;\n",
       "    }\n",
       "\n",
       "    .dataframe tbody tr th {\n",
       "        vertical-align: top;\n",
       "    }\n",
       "\n",
       "    .dataframe thead th {\n",
       "        text-align: right;\n",
       "    }\n",
       "</style>\n",
       "<table border=\"1\" class=\"dataframe\">\n",
       "  <thead>\n",
       "    <tr style=\"text-align: right;\">\n",
       "      <th></th>\n",
       "      <th>ID</th>\n",
       "      <th>name</th>\n",
       "      <th>category</th>\n",
       "      <th>main_category</th>\n",
       "      <th>currency</th>\n",
       "      <th>deadline</th>\n",
       "      <th>launched</th>\n",
       "      <th>state</th>\n",
       "      <th>backers</th>\n",
       "      <th>country</th>\n",
       "      <th>usd_pledged_real</th>\n",
       "      <th>usd_goal_real</th>\n",
       "    </tr>\n",
       "  </thead>\n",
       "  <tbody>\n",
       "    <tr>\n",
       "      <th>342920</th>\n",
       "      <td>816998285</td>\n",
       "      <td>\"...The Last shall be first...\" LODB Lifestyle...</td>\n",
       "      <td>Fashion</td>\n",
       "      <td>Fashion</td>\n",
       "      <td>USD</td>\n",
       "      <td>2014-02-09</td>\n",
       "      <td>2013-12-19 21:51:50</td>\n",
       "      <td>canceled</td>\n",
       "      <td>0</td>\n",
       "      <td>US</td>\n",
       "      <td>0.0</td>\n",
       "      <td>6500.0</td>\n",
       "    </tr>\n",
       "    <tr>\n",
       "      <th>342692</th>\n",
       "      <td>815783250</td>\n",
       "      <td>\"...The Last shall be first...\" LODB Lifestyle...</td>\n",
       "      <td>Fashion</td>\n",
       "      <td>Fashion</td>\n",
       "      <td>USD</td>\n",
       "      <td>2014-03-01</td>\n",
       "      <td>2014-01-03 20:39:16</td>\n",
       "      <td>failed</td>\n",
       "      <td>3</td>\n",
       "      <td>US</td>\n",
       "      <td>37.0</td>\n",
       "      <td>6500.0</td>\n",
       "    </tr>\n",
       "    <tr>\n",
       "      <th>2024</th>\n",
       "      <td>1010584633</td>\n",
       "      <td>\"A Fresh Start\"</td>\n",
       "      <td>Shorts</td>\n",
       "      <td>Film &amp; Video</td>\n",
       "      <td>USD</td>\n",
       "      <td>2011-09-25</td>\n",
       "      <td>2011-08-28 21:27:52</td>\n",
       "      <td>successful</td>\n",
       "      <td>24</td>\n",
       "      <td>US</td>\n",
       "      <td>3000.0</td>\n",
       "      <td>3000.0</td>\n",
       "    </tr>\n",
       "    <tr>\n",
       "      <th>322671</th>\n",
       "      <td>713417995</td>\n",
       "      <td>\"A Fresh Start\"</td>\n",
       "      <td>Documentary</td>\n",
       "      <td>Film &amp; Video</td>\n",
       "      <td>USD</td>\n",
       "      <td>2013-03-27</td>\n",
       "      <td>2013-01-26 03:51:47</td>\n",
       "      <td>failed</td>\n",
       "      <td>26</td>\n",
       "      <td>US</td>\n",
       "      <td>1417.0</td>\n",
       "      <td>5000.0</td>\n",
       "    </tr>\n",
       "  </tbody>\n",
       "</table>\n",
       "</div>"
      ],
      "text/plain": [
       "                ID                                               name  \\\n",
       "342920   816998285  \"...The Last shall be first...\" LODB Lifestyle...   \n",
       "342692   815783250  \"...The Last shall be first...\" LODB Lifestyle...   \n",
       "2024    1010584633                                    \"A Fresh Start\"   \n",
       "322671   713417995                                    \"A Fresh Start\"   \n",
       "\n",
       "           category main_category currency   deadline            launched  \\\n",
       "342920      Fashion       Fashion      USD 2014-02-09 2013-12-19 21:51:50   \n",
       "342692      Fashion       Fashion      USD 2014-03-01 2014-01-03 20:39:16   \n",
       "2024         Shorts  Film & Video      USD 2011-09-25 2011-08-28 21:27:52   \n",
       "322671  Documentary  Film & Video      USD 2013-03-27 2013-01-26 03:51:47   \n",
       "\n",
       "             state  backers country  usd_pledged_real  usd_goal_real  \n",
       "342920    canceled        0      US               0.0         6500.0  \n",
       "342692      failed        3      US              37.0         6500.0  \n",
       "2024    successful       24      US            3000.0         3000.0  \n",
       "322671      failed       26      US            1417.0         5000.0  "
      ]
     },
     "execution_count": 10,
     "metadata": {},
     "output_type": "execute_result"
    }
   ],
   "source": [
    "print(kickstarter['ID'].nunique())\n",
    "print(kickstarter['name'].nunique()) #strange, ~3000 rows seem to have duplicated names with unique IDs\n",
    "\n",
    "#print(kickstarter[kickstarter['ID'].duplicated(keep = False)].sort_values(by = 'ID'))\n",
    "kickstarter[kickstarter['name'].duplicated(keep = False)].sort_values(by = 'name').head(4)"
   ]
  },
  {
   "cell_type": "markdown",
   "metadata": {},
   "source": [
    "While the <font color='blue'>ID</font> column has 378661 entries with no duplicates, there are about 2897 instances of repeated <font color='blue'>name</font> in our dataset. We found out that this is because multiple projects can take on the exact same name. Some projects are also relaunched with the same name."
   ]
  },
  {
   "cell_type": "markdown",
   "metadata": {},
   "source": [
    "### 4. Check for Problematic Rows"
   ]
  },
  {
   "cell_type": "markdown",
   "metadata": {},
   "source": [
    "#### (a) Missing Values"
   ]
  },
  {
   "cell_type": "code",
   "execution_count": 11,
   "metadata": {
    "scrolled": true
   },
   "outputs": [
    {
     "name": "stdout",
     "output_type": "stream",
     "text": [
      "ID                  0\n",
      "name                4\n",
      "category            0\n",
      "main_category       0\n",
      "currency            0\n",
      "deadline            0\n",
      "launched            0\n",
      "state               0\n",
      "backers             0\n",
      "country             0\n",
      "usd_pledged_real    0\n",
      "usd_goal_real       0\n",
      "dtype: int64\n"
     ]
    }
   ],
   "source": [
    "print(kickstarter.isna().sum()) # check for NAs\n",
    "index_A = kickstarter[kickstarter.name.isna()].index"
   ]
  },
  {
   "cell_type": "markdown",
   "metadata": {},
   "source": [
    "There are 4 NAs in the <font color='blue'>name</font> column. We save the indexes of these missing values for later deletion."
   ]
  },
  {
   "cell_type": "markdown",
   "metadata": {},
   "source": [
    "#### (b) Launched"
   ]
  },
  {
   "cell_type": "code",
   "execution_count": 12,
   "metadata": {
    "scrolled": true
   },
   "outputs": [
    {
     "name": "stdout",
     "output_type": "stream",
     "text": [
      "75397    1970-01-01 01:00:00\n",
      "319002   1970-01-01 01:00:00\n",
      "2842     1970-01-01 01:00:00\n",
      "94579    1970-01-01 01:00:00\n",
      "247913   1970-01-01 01:00:00\n",
      "273779   1970-01-01 01:00:00\n",
      "48147    1970-01-01 01:00:00\n",
      "169268   2009-04-21 21:02:48\n",
      "322000   2009-04-23 00:07:53\n",
      "138572   2009-04-24 21:52:03\n",
      "Name: launched, dtype: datetime64[ns]\n"
     ]
    }
   ],
   "source": [
    "print(kickstarter.launched.sort_values().head(10))\n",
    "index_B = kickstarter.launched.sort_values()[0:7].index"
   ]
  },
  {
   "cell_type": "markdown",
   "metadata": {},
   "source": [
    "When exploring the data, we discover that 7 projects have <font color='blue'>launched</font> dates in the year 1970. Since Kickstarter was only founded in 2009, these results are not possible. We also save these indexes for later deletion."
   ]
  },
  {
   "cell_type": "markdown",
   "metadata": {},
   "source": [
    "#### (c) State"
   ]
  },
  {
   "cell_type": "code",
   "execution_count": 13,
   "metadata": {},
   "outputs": [
    {
     "data": {
      "text/html": [
       "<div>\n",
       "<style scoped>\n",
       "    .dataframe tbody tr th:only-of-type {\n",
       "        vertical-align: middle;\n",
       "    }\n",
       "\n",
       "    .dataframe tbody tr th {\n",
       "        vertical-align: top;\n",
       "    }\n",
       "\n",
       "    .dataframe thead th {\n",
       "        text-align: right;\n",
       "    }\n",
       "</style>\n",
       "<table border=\"1\" class=\"dataframe\">\n",
       "  <thead>\n",
       "    <tr style=\"text-align: right;\">\n",
       "      <th></th>\n",
       "      <th>ID</th>\n",
       "      <th>name</th>\n",
       "      <th>category</th>\n",
       "      <th>main_category</th>\n",
       "      <th>currency</th>\n",
       "      <th>deadline</th>\n",
       "      <th>launched</th>\n",
       "      <th>state</th>\n",
       "      <th>backers</th>\n",
       "      <th>country</th>\n",
       "      <th>usd_pledged_real</th>\n",
       "      <th>usd_goal_real</th>\n",
       "    </tr>\n",
       "  </thead>\n",
       "  <tbody>\n",
       "    <tr>\n",
       "      <th>16780</th>\n",
       "      <td>1085047405</td>\n",
       "      <td>\"Balance\"</td>\n",
       "      <td>Jazz</td>\n",
       "      <td>Music</td>\n",
       "      <td>USD</td>\n",
       "      <td>2013-04-04</td>\n",
       "      <td>2013-03-05 10:55:56</td>\n",
       "      <td>failed</td>\n",
       "      <td>141</td>\n",
       "      <td>US</td>\n",
       "      <td>23020.01</td>\n",
       "      <td>23000.0</td>\n",
       "    </tr>\n",
       "    <tr>\n",
       "      <th>58558</th>\n",
       "      <td>1297794474</td>\n",
       "      <td>Music Empowers - A Day with the Accende Ensemble</td>\n",
       "      <td>Classical Music</td>\n",
       "      <td>Music</td>\n",
       "      <td>USD</td>\n",
       "      <td>2012-01-04</td>\n",
       "      <td>2011-11-07 15:20:24</td>\n",
       "      <td>failed</td>\n",
       "      <td>20</td>\n",
       "      <td>US</td>\n",
       "      <td>3087.50</td>\n",
       "      <td>3000.0</td>\n",
       "    </tr>\n",
       "    <tr>\n",
       "      <th>136909</th>\n",
       "      <td>1695255515</td>\n",
       "      <td>POPE! an epic musical, opening at NY Fringe Fe...</td>\n",
       "      <td>Theater</td>\n",
       "      <td>Theater</td>\n",
       "      <td>USD</td>\n",
       "      <td>2010-08-20</td>\n",
       "      <td>2010-07-21 05:48:11</td>\n",
       "      <td>failed</td>\n",
       "      <td>30</td>\n",
       "      <td>US</td>\n",
       "      <td>3600.00</td>\n",
       "      <td>3600.0</td>\n",
       "    </tr>\n",
       "    <tr>\n",
       "      <th>216545</th>\n",
       "      <td>2103203254</td>\n",
       "      <td>The new face of Canadian Science Fiction</td>\n",
       "      <td>Fiction</td>\n",
       "      <td>Publishing</td>\n",
       "      <td>USD</td>\n",
       "      <td>2010-05-16</td>\n",
       "      <td>2010-03-18 04:35:31</td>\n",
       "      <td>failed</td>\n",
       "      <td>66</td>\n",
       "      <td>US</td>\n",
       "      <td>10797.00</td>\n",
       "      <td>10000.0</td>\n",
       "    </tr>\n",
       "    <tr>\n",
       "      <th>298960</th>\n",
       "      <td>59246799</td>\n",
       "      <td>Key Wrench - Unlock Your Life!</td>\n",
       "      <td>Product Design</td>\n",
       "      <td>Design</td>\n",
       "      <td>USD</td>\n",
       "      <td>2013-10-04</td>\n",
       "      <td>2013-08-24 05:42:10</td>\n",
       "      <td>failed</td>\n",
       "      <td>208</td>\n",
       "      <td>US</td>\n",
       "      <td>6183.00</td>\n",
       "      <td>6000.0</td>\n",
       "    </tr>\n",
       "  </tbody>\n",
       "</table>\n",
       "</div>"
      ],
      "text/plain": [
       "                ID                                               name  \\\n",
       "16780   1085047405                                          \"Balance\"   \n",
       "58558   1297794474   Music Empowers - A Day with the Accende Ensemble   \n",
       "136909  1695255515  POPE! an epic musical, opening at NY Fringe Fe...   \n",
       "216545  2103203254           The new face of Canadian Science Fiction   \n",
       "298960    59246799                     Key Wrench - Unlock Your Life!   \n",
       "\n",
       "               category main_category currency   deadline            launched  \\\n",
       "16780              Jazz         Music      USD 2013-04-04 2013-03-05 10:55:56   \n",
       "58558   Classical Music         Music      USD 2012-01-04 2011-11-07 15:20:24   \n",
       "136909          Theater       Theater      USD 2010-08-20 2010-07-21 05:48:11   \n",
       "216545          Fiction    Publishing      USD 2010-05-16 2010-03-18 04:35:31   \n",
       "298960   Product Design        Design      USD 2013-10-04 2013-08-24 05:42:10   \n",
       "\n",
       "         state  backers country  usd_pledged_real  usd_goal_real  \n",
       "16780   failed      141      US          23020.01        23000.0  \n",
       "58558   failed       20      US           3087.50         3000.0  \n",
       "136909  failed       30      US           3600.00         3600.0  \n",
       "216545  failed       66      US          10797.00        10000.0  \n",
       "298960  failed      208      US           6183.00         6000.0  "
      ]
     },
     "execution_count": 13,
     "metadata": {},
     "output_type": "execute_result"
    }
   ],
   "source": [
    "success = kickstarter[kickstarter['usd_pledged_real'] >= kickstarter['usd_goal_real']] \n",
    "wrong = success[success['state']=='failed']\n",
    "index_C = wrong.index\n",
    "wrong.head()"
   ]
  },
  {
   "cell_type": "markdown",
   "metadata": {},
   "source": [
    "We identify 6 projects that had their <font color = 'blue'>usd_pledged_real</font> meeting their <font color = 'blue'>usd_goal_real</font>, yet were considered failed. This is an error, since Kickstarter by definition awards projects that met their goals as successful. A good example of this can be found in the following link.\n",
    "\n",
    "https://www.kickstarter.com/projects/1755876060/music-empowers-a-day-with-the-accende-ensemble/ (3,087 pledged of 3,000 goal, \"Funding Unsuccessful\"). We save the indexes of these rows for deletion."
   ]
  },
  {
   "cell_type": "markdown",
   "metadata": {},
   "source": [
    "#### (d) Undefined Country and State"
   ]
  },
  {
   "cell_type": "code",
   "execution_count": 14,
   "metadata": {},
   "outputs": [
    {
     "name": "stdout",
     "output_type": "stream",
     "text": [
      "['N,0\"']\n"
     ]
    }
   ],
   "source": [
    "undefined = kickstarter[kickstarter['state'] == 'undefined']\n",
    "print(undefined.country.unique())\n",
    "index_D = kickstarter[kickstarter.country == 'N,0\"'].index"
   ]
  },
  {
   "cell_type": "markdown",
   "metadata": {},
   "source": [
    "Finally, we save the rows with a nonsensical country code of 'N,0'. Interestingly, these rows also contain the same rows where the <font color='blue'>state</font> was considered 'undefined'."
   ]
  },
  {
   "cell_type": "markdown",
   "metadata": {},
   "source": [
    "### 5. Remove Problematic Rows"
   ]
  },
  {
   "cell_type": "code",
   "execution_count": 15,
   "metadata": {},
   "outputs": [
    {
     "name": "stdout",
     "output_type": "stream",
     "text": [
      "3814\n",
      "True\n"
     ]
    },
    {
     "data": {
      "text/plain": [
       "(374847, 12)"
      ]
     },
     "execution_count": 15,
     "metadata": {},
     "output_type": "execute_result"
    }
   ],
   "source": [
    "allindexes_remove = list(index_A) + list(index_B) + list(index_C) + list(index_D)\n",
    "print(len(set(allindexes_remove))) \n",
    "print(len(allindexes_remove) == len(set(allindexes_remove)))\n",
    "kickstarter_cleaned = kickstarter.drop(labels=allindexes_remove)\n",
    "kickstarter_cleaned.shape"
   ]
  },
  {
   "cell_type": "markdown",
   "metadata": {},
   "source": [
    "Now, we have removed the 3814 rows corresponding to all the indexes saved above. After filtering our dataset, the shape of our DataFrame has gone from (378661,15) to (374847, 15), a removal of approximately 1.01% of the original data."
   ]
  },
  {
   "cell_type": "markdown",
   "metadata": {},
   "source": [
    "### 6. Feature Engineering"
   ]
  },
  {
   "cell_type": "markdown",
   "metadata": {},
   "source": [
    "In order to prepare the data for further analysis and modeling, we have created a few new features from existing ones. The list of features created are as follows:\n",
    "\n",
    "1. <font color = 'blue'>project_length</font>: This feature tracks the number of days between a project's launch date and deadline where a project was active for. We also checked for negative values, which did not exist thankfully.\n",
    "2. <font color = 'blue'>pledged_per_backer</font>: This feature tracks the mean amount of money (converted to USD) pledged by each individual backer. We have removed rows with <font color = 'blue'>pledged_per_backer</font> listed as Inf, as these are caused by projects with 0 backers. We want to use this variable in our prediction model later and a value of zero pledged per backer is the same information as zero backers, which will create bias in the predictive model.\n",
    "3. <font color = 'blue'>percent_funded</font>: This feature tracks the percentage of the goal amount achieved."
   ]
  },
  {
   "cell_type": "code",
   "execution_count": 16,
   "metadata": {
    "scrolled": true
   },
   "outputs": [
    {
     "name": "stdout",
     "output_type": "stream",
     "text": [
      "(323043, 15)\n"
     ]
    },
    {
     "data": {
      "text/html": [
       "<div>\n",
       "<style scoped>\n",
       "    .dataframe tbody tr th:only-of-type {\n",
       "        vertical-align: middle;\n",
       "    }\n",
       "\n",
       "    .dataframe tbody tr th {\n",
       "        vertical-align: top;\n",
       "    }\n",
       "\n",
       "    .dataframe thead th {\n",
       "        text-align: right;\n",
       "    }\n",
       "</style>\n",
       "<table border=\"1\" class=\"dataframe\">\n",
       "  <thead>\n",
       "    <tr style=\"text-align: right;\">\n",
       "      <th></th>\n",
       "      <th>ID</th>\n",
       "      <th>name</th>\n",
       "      <th>category</th>\n",
       "      <th>main_category</th>\n",
       "      <th>currency</th>\n",
       "      <th>deadline</th>\n",
       "      <th>launched</th>\n",
       "      <th>state</th>\n",
       "      <th>backers</th>\n",
       "      <th>country</th>\n",
       "      <th>usd_pledged_real</th>\n",
       "      <th>usd_goal_real</th>\n",
       "      <th>project_length</th>\n",
       "      <th>pledged_per_backer</th>\n",
       "      <th>percent_funded</th>\n",
       "    </tr>\n",
       "  </thead>\n",
       "  <tbody>\n",
       "    <tr>\n",
       "      <th>1</th>\n",
       "      <td>1000003930</td>\n",
       "      <td>Greeting From Earth: ZGAC Arts Capsule For ET</td>\n",
       "      <td>Narrative Film</td>\n",
       "      <td>Film &amp; Video</td>\n",
       "      <td>USD</td>\n",
       "      <td>2017-11-01</td>\n",
       "      <td>2017-09-02 04:43:57</td>\n",
       "      <td>failed</td>\n",
       "      <td>15</td>\n",
       "      <td>US</td>\n",
       "      <td>2421.0</td>\n",
       "      <td>30000.0</td>\n",
       "      <td>59</td>\n",
       "      <td>161.400000</td>\n",
       "      <td>0.0807</td>\n",
       "    </tr>\n",
       "    <tr>\n",
       "      <th>2</th>\n",
       "      <td>1000004038</td>\n",
       "      <td>Where is Hank?</td>\n",
       "      <td>Narrative Film</td>\n",
       "      <td>Film &amp; Video</td>\n",
       "      <td>USD</td>\n",
       "      <td>2013-02-26</td>\n",
       "      <td>2013-01-12 00:20:50</td>\n",
       "      <td>failed</td>\n",
       "      <td>3</td>\n",
       "      <td>US</td>\n",
       "      <td>220.0</td>\n",
       "      <td>45000.0</td>\n",
       "      <td>44</td>\n",
       "      <td>73.333333</td>\n",
       "      <td>0.0049</td>\n",
       "    </tr>\n",
       "    <tr>\n",
       "      <th>3</th>\n",
       "      <td>1000007540</td>\n",
       "      <td>ToshiCapital Rekordz Needs Help to Complete Album</td>\n",
       "      <td>Music</td>\n",
       "      <td>Music</td>\n",
       "      <td>USD</td>\n",
       "      <td>2012-04-16</td>\n",
       "      <td>2012-03-17 03:24:11</td>\n",
       "      <td>failed</td>\n",
       "      <td>1</td>\n",
       "      <td>US</td>\n",
       "      <td>1.0</td>\n",
       "      <td>5000.0</td>\n",
       "      <td>29</td>\n",
       "      <td>1.000000</td>\n",
       "      <td>0.0002</td>\n",
       "    </tr>\n",
       "    <tr>\n",
       "      <th>4</th>\n",
       "      <td>1000011046</td>\n",
       "      <td>Community Film Project: The Art of Neighborhoo...</td>\n",
       "      <td>Film &amp; Video</td>\n",
       "      <td>Film &amp; Video</td>\n",
       "      <td>USD</td>\n",
       "      <td>2015-08-29</td>\n",
       "      <td>2015-07-04 08:35:03</td>\n",
       "      <td>canceled</td>\n",
       "      <td>14</td>\n",
       "      <td>US</td>\n",
       "      <td>1283.0</td>\n",
       "      <td>19500.0</td>\n",
       "      <td>55</td>\n",
       "      <td>91.642857</td>\n",
       "      <td>0.0658</td>\n",
       "    </tr>\n",
       "    <tr>\n",
       "      <th>5</th>\n",
       "      <td>1000014025</td>\n",
       "      <td>Monarch Espresso Bar</td>\n",
       "      <td>Restaurants</td>\n",
       "      <td>Food</td>\n",
       "      <td>USD</td>\n",
       "      <td>2016-04-01</td>\n",
       "      <td>2016-02-26 13:38:27</td>\n",
       "      <td>successful</td>\n",
       "      <td>224</td>\n",
       "      <td>US</td>\n",
       "      <td>52375.0</td>\n",
       "      <td>50000.0</td>\n",
       "      <td>34</td>\n",
       "      <td>233.816964</td>\n",
       "      <td>1.0475</td>\n",
       "    </tr>\n",
       "  </tbody>\n",
       "</table>\n",
       "</div>"
      ],
      "text/plain": [
       "           ID                                               name  \\\n",
       "1  1000003930      Greeting From Earth: ZGAC Arts Capsule For ET   \n",
       "2  1000004038                                     Where is Hank?   \n",
       "3  1000007540  ToshiCapital Rekordz Needs Help to Complete Album   \n",
       "4  1000011046  Community Film Project: The Art of Neighborhoo...   \n",
       "5  1000014025                               Monarch Espresso Bar   \n",
       "\n",
       "         category main_category currency   deadline            launched  \\\n",
       "1  Narrative Film  Film & Video      USD 2017-11-01 2017-09-02 04:43:57   \n",
       "2  Narrative Film  Film & Video      USD 2013-02-26 2013-01-12 00:20:50   \n",
       "3           Music         Music      USD 2012-04-16 2012-03-17 03:24:11   \n",
       "4    Film & Video  Film & Video      USD 2015-08-29 2015-07-04 08:35:03   \n",
       "5     Restaurants          Food      USD 2016-04-01 2016-02-26 13:38:27   \n",
       "\n",
       "        state  backers country  usd_pledged_real  usd_goal_real  \\\n",
       "1      failed       15      US            2421.0        30000.0   \n",
       "2      failed        3      US             220.0        45000.0   \n",
       "3      failed        1      US               1.0         5000.0   \n",
       "4    canceled       14      US            1283.0        19500.0   \n",
       "5  successful      224      US           52375.0        50000.0   \n",
       "\n",
       "   project_length  pledged_per_backer  percent_funded  \n",
       "1              59          161.400000          0.0807  \n",
       "2              44           73.333333          0.0049  \n",
       "3              29            1.000000          0.0002  \n",
       "4              55           91.642857          0.0658  \n",
       "5              34          233.816964          1.0475  "
      ]
     },
     "execution_count": 16,
     "metadata": {},
     "output_type": "execute_result"
    }
   ],
   "source": [
    "# project length\n",
    "kickstarter_cleaned['deadline'] = pd.to_datetime(kickstarter_cleaned.deadline)\n",
    "kickstarter_cleaned['launched'] = pd.to_datetime(kickstarter_cleaned.launched)\n",
    "kickstarter_cleaned['project_length'] = kickstarter_cleaned['deadline'] - kickstarter_cleaned['launched']\n",
    "kickstarter_cleaned['project_length'] = kickstarter_cleaned.project_length.dt.days\n",
    "\n",
    "# pledged per backer\n",
    "kickstarter_cleaned['pledged_per_backer'] = kickstarter_cleaned['usd_pledged_real'] / kickstarter_cleaned['backers']\n",
    "kickstarter_cleaned = kickstarter_cleaned[~kickstarter_cleaned.isin([np.nan, np.inf, -np.inf]).any(1)] #51,804 rows removed\n",
    "\n",
    "# percent funded\n",
    "kickstarter_cleaned['percent_funded'] = np.round((kickstarter_cleaned['usd_pledged_real'] / kickstarter_cleaned['usd_goal_real']),4)\n",
    "\n",
    "print(kickstarter_cleaned.shape)\n",
    "kickstarter_cleaned.head()"
   ]
  },
  {
   "cell_type": "markdown",
   "metadata": {},
   "source": [
    "### 7. Filter States"
   ]
  },
  {
   "cell_type": "code",
   "execution_count": 17,
   "metadata": {},
   "outputs": [
    {
     "data": {
      "text/plain": [
       "failed        158968\n",
       "successful    133851\n",
       "canceled       26744\n",
       "live            2250\n",
       "suspended       1230\n",
       "Name: state, dtype: int64"
      ]
     },
     "execution_count": 17,
     "metadata": {},
     "output_type": "execute_result"
    }
   ],
   "source": [
    "kickstarter_cleaned.state.value_counts()"
   ]
  },
  {
   "cell_type": "code",
   "execution_count": 18,
   "metadata": {},
   "outputs": [
    {
     "data": {
      "text/plain": [
       "(292819, 15)"
      ]
     },
     "execution_count": 18,
     "metadata": {},
     "output_type": "execute_result"
    }
   ],
   "source": [
    "kickstarter_cleaned = kickstarter_cleaned[(kickstarter_cleaned['state'] == 'failed') | (kickstarter_cleaned['state'] == 'successful')]\n",
    "kickstarter_cleaned.shape"
   ]
  },
  {
   "cell_type": "markdown",
   "metadata": {},
   "source": [
    "Finally, we have decided to keep only rows with states \"Failed\" or \"Successful\" because we are only interested in these two outcomes of the projects. Live projects are removed because they are projects that are still ongoing when this dataset was scraped. Besides that, projects with states canceled and suspended are removed because there are many factors that contribute to the state that cannot be accounted by the variables given in this dataset. \n",
    "\n",
    "The final dataset that is going to be used for analysis in this project has a shape of (292819,15)."
   ]
  },
  {
   "cell_type": "markdown",
   "metadata": {},
   "source": [
    "## Summary Statistics "
   ]
  },
  {
   "cell_type": "code",
   "execution_count": 19,
   "metadata": {},
   "outputs": [
    {
     "data": {
      "text/plain": [
       "failed        0.542888\n",
       "successful    0.457112\n",
       "Name: state, dtype: float64"
      ]
     },
     "execution_count": 19,
     "metadata": {},
     "output_type": "execute_result"
    }
   ],
   "source": [
    "kickstarter_cleaned.state.value_counts(normalize = True)"
   ]
  },
  {
   "cell_type": "markdown",
   "metadata": {},
   "source": [
    "Overall, there is a higher proportion of failed projects than successful ones on Kickstarter."
   ]
  },
  {
   "cell_type": "code",
   "execution_count": 20,
   "metadata": {},
   "outputs": [
    {
     "data": {
      "text/html": [
       "<div>\n",
       "<style scoped>\n",
       "    .dataframe tbody tr th:only-of-type {\n",
       "        vertical-align: middle;\n",
       "    }\n",
       "\n",
       "    .dataframe tbody tr th {\n",
       "        vertical-align: top;\n",
       "    }\n",
       "\n",
       "    .dataframe thead th {\n",
       "        text-align: right;\n",
       "    }\n",
       "</style>\n",
       "<table border=\"1\" class=\"dataframe\">\n",
       "  <thead>\n",
       "    <tr style=\"text-align: right;\">\n",
       "      <th></th>\n",
       "      <th>backers</th>\n",
       "      <th>usd_pledged_real</th>\n",
       "      <th>usd_goal_real</th>\n",
       "      <th>pledged_per_backer</th>\n",
       "      <th>percent_funded</th>\n",
       "    </tr>\n",
       "  </thead>\n",
       "  <tbody>\n",
       "    <tr>\n",
       "      <th>count</th>\n",
       "      <td>292819.000000</td>\n",
       "      <td>2.928190e+05</td>\n",
       "      <td>2.928190e+05</td>\n",
       "      <td>292819.000000</td>\n",
       "      <td>292819.000000</td>\n",
       "    </tr>\n",
       "    <tr>\n",
       "      <th>mean</th>\n",
       "      <td>131.822952</td>\n",
       "      <td>1.125146e+04</td>\n",
       "      <td>3.508721e+04</td>\n",
       "      <td>74.852948</td>\n",
       "      <td>3.975700</td>\n",
       "    </tr>\n",
       "    <tr>\n",
       "      <th>std</th>\n",
       "      <td>1026.496090</td>\n",
       "      <td>1.027534e+05</td>\n",
       "      <td>9.336281e+05</td>\n",
       "      <td>137.706360</td>\n",
       "      <td>300.693822</td>\n",
       "    </tr>\n",
       "    <tr>\n",
       "      <th>min</th>\n",
       "      <td>1.000000</td>\n",
       "      <td>4.500000e-01</td>\n",
       "      <td>1.000000e-02</td>\n",
       "      <td>0.450000</td>\n",
       "      <td>0.000000</td>\n",
       "    </tr>\n",
       "    <tr>\n",
       "      <th>25%</th>\n",
       "      <td>4.000000</td>\n",
       "      <td>1.500000e+02</td>\n",
       "      <td>2.000000e+03</td>\n",
       "      <td>25.715000</td>\n",
       "      <td>0.030200</td>\n",
       "    </tr>\n",
       "    <tr>\n",
       "      <th>50%</th>\n",
       "      <td>22.000000</td>\n",
       "      <td>1.235960e+03</td>\n",
       "      <td>5.000000e+03</td>\n",
       "      <td>48.957143</td>\n",
       "      <td>0.386500</td>\n",
       "    </tr>\n",
       "    <tr>\n",
       "      <th>75%</th>\n",
       "      <td>74.000000</td>\n",
       "      <td>5.495130e+03</td>\n",
       "      <td>1.500000e+04</td>\n",
       "      <td>84.606984</td>\n",
       "      <td>1.133500</td>\n",
       "    </tr>\n",
       "    <tr>\n",
       "      <th>max</th>\n",
       "      <td>219382.000000</td>\n",
       "      <td>2.033899e+07</td>\n",
       "      <td>1.101698e+08</td>\n",
       "      <td>10000.000000</td>\n",
       "      <td>104277.890000</td>\n",
       "    </tr>\n",
       "  </tbody>\n",
       "</table>\n",
       "</div>"
      ],
      "text/plain": [
       "             backers  usd_pledged_real  usd_goal_real  pledged_per_backer  \\\n",
       "count  292819.000000      2.928190e+05   2.928190e+05       292819.000000   \n",
       "mean      131.822952      1.125146e+04   3.508721e+04           74.852948   \n",
       "std      1026.496090      1.027534e+05   9.336281e+05          137.706360   \n",
       "min         1.000000      4.500000e-01   1.000000e-02            0.450000   \n",
       "25%         4.000000      1.500000e+02   2.000000e+03           25.715000   \n",
       "50%        22.000000      1.235960e+03   5.000000e+03           48.957143   \n",
       "75%        74.000000      5.495130e+03   1.500000e+04           84.606984   \n",
       "max    219382.000000      2.033899e+07   1.101698e+08        10000.000000   \n",
       "\n",
       "       percent_funded  \n",
       "count   292819.000000  \n",
       "mean         3.975700  \n",
       "std        300.693822  \n",
       "min          0.000000  \n",
       "25%          0.030200  \n",
       "50%          0.386500  \n",
       "75%          1.133500  \n",
       "max     104277.890000  "
      ]
     },
     "execution_count": 20,
     "metadata": {},
     "output_type": "execute_result"
    }
   ],
   "source": [
    "kickstarter_cleaned.get(['backers','usd_pledged_real','usd_goal_real','pledged_per_backer','percent_funded']).describe()"
   ]
  },
  {
   "cell_type": "markdown",
   "metadata": {},
   "source": [
    "By looking at the distribution of numerical variables in the dataset, we can see that the means of the columns <font color = 'blue'>backers</font>, <font color = 'blue'>usd_pledged_real</font>, and <font color = 'blue'>percent_funded</font> are much larger than their medians. This tells us that there are highly successful projects that have inflated the means. We have decided not to remove these outliers since we will not be using these columns in our model. We will further investigate the highly successful projects later on.\n",
    "\n",
    "The columns <font color = 'blue'>usd_goal_real</font> and <font color = 'blue'>pledged_per_backer</font> have mean and median that are close to one another. This makes sense because creators tend not to set overly ambitious goals. Since <font color = 'blue'>pledged_per_backer</font> is a ratio, the maximum value does not inflate the mean that much because a high pledge is usually caused by a high number of backers."
   ]
  },
  {
   "cell_type": "code",
   "execution_count": 21,
   "metadata": {},
   "outputs": [
    {
     "data": {
      "image/png": "[encoded data removed]",
      "text/plain": [
       "<Figure size 432x288 with 1 Axes>"
      ]
     },
     "metadata": {
      "needs_background": "light"
     },
     "output_type": "display_data"
    }
   ],
   "source": [
    "avgPledgedbyLength = kickstarter_cleaned.groupby('project_length')['backers']\n",
    "avgPledgedbyLength.mean().plot(kind = 'bar')\n",
    "plt.title('Average Pledged Total by Project Length')\n",
    "plt.ylabel('Average Amount Pledged (USD)')\n",
    "plt.xlabel('Project Length (Days)')\n",
    "plt.show()"
   ]
  },
  {
   "cell_type": "markdown",
   "metadata": {},
   "source": [
    "This is an interesting graph because we can see that there is no linear relationship between <font color = 'blue'>project_length</font> and average <font color = 'blue'>usd_pledged_real</font>. One might assume that the longer a project is on the platform, the more backers it can get since it can be discovered by more visitors. Instead, the data shows an almost normal curve."
   ]
  },
  {
   "cell_type": "markdown",
   "metadata": {},
   "source": [
    "## Guiding Question 1: Which category is the most well-funded?"
   ]
  },
  {
   "cell_type": "markdown",
   "metadata": {},
   "source": [
    "### Success Rate by Category"
   ]
  },
  {
   "cell_type": "code",
   "execution_count": 22,
   "metadata": {},
   "outputs": [
    {
     "data": {
      "text/html": [
       "<div>\n",
       "<style scoped>\n",
       "    .dataframe tbody tr th:only-of-type {\n",
       "        vertical-align: middle;\n",
       "    }\n",
       "\n",
       "    .dataframe tbody tr th {\n",
       "        vertical-align: top;\n",
       "    }\n",
       "\n",
       "    .dataframe thead th {\n",
       "        text-align: right;\n",
       "    }\n",
       "</style>\n",
       "<table border=\"1\" class=\"dataframe\">\n",
       "  <thead>\n",
       "    <tr style=\"text-align: right;\">\n",
       "      <th>state</th>\n",
       "      <th>failed</th>\n",
       "      <th>successful</th>\n",
       "    </tr>\n",
       "    <tr>\n",
       "      <th>main_category</th>\n",
       "      <th></th>\n",
       "      <th></th>\n",
       "    </tr>\n",
       "  </thead>\n",
       "  <tbody>\n",
       "    <tr>\n",
       "      <th>Technology</th>\n",
       "      <td>0.72</td>\n",
       "      <td>0.28</td>\n",
       "    </tr>\n",
       "    <tr>\n",
       "      <th>Journalism</th>\n",
       "      <td>0.69</td>\n",
       "      <td>0.31</td>\n",
       "    </tr>\n",
       "    <tr>\n",
       "      <th>Crafts</th>\n",
       "      <td>0.68</td>\n",
       "      <td>0.32</td>\n",
       "    </tr>\n",
       "    <tr>\n",
       "      <th>Food</th>\n",
       "      <td>0.68</td>\n",
       "      <td>0.32</td>\n",
       "    </tr>\n",
       "    <tr>\n",
       "      <th>Fashion</th>\n",
       "      <td>0.66</td>\n",
       "      <td>0.34</td>\n",
       "    </tr>\n",
       "    <tr>\n",
       "      <th>Photography</th>\n",
       "      <td>0.60</td>\n",
       "      <td>0.40</td>\n",
       "    </tr>\n",
       "    <tr>\n",
       "      <th>Publishing</th>\n",
       "      <td>0.59</td>\n",
       "      <td>0.41</td>\n",
       "    </tr>\n",
       "    <tr>\n",
       "      <th>Design</th>\n",
       "      <td>0.56</td>\n",
       "      <td>0.44</td>\n",
       "    </tr>\n",
       "    <tr>\n",
       "      <th>Games</th>\n",
       "      <td>0.54</td>\n",
       "      <td>0.46</td>\n",
       "    </tr>\n",
       "    <tr>\n",
       "      <th>Film &amp; Video</th>\n",
       "      <td>0.52</td>\n",
       "      <td>0.48</td>\n",
       "    </tr>\n",
       "    <tr>\n",
       "      <th>Art</th>\n",
       "      <td>0.49</td>\n",
       "      <td>0.51</td>\n",
       "    </tr>\n",
       "    <tr>\n",
       "      <th>Music</th>\n",
       "      <td>0.41</td>\n",
       "      <td>0.59</td>\n",
       "    </tr>\n",
       "    <tr>\n",
       "      <th>Comics</th>\n",
       "      <td>0.39</td>\n",
       "      <td>0.61</td>\n",
       "    </tr>\n",
       "    <tr>\n",
       "      <th>Theater</th>\n",
       "      <td>0.32</td>\n",
       "      <td>0.68</td>\n",
       "    </tr>\n",
       "    <tr>\n",
       "      <th>Dance</th>\n",
       "      <td>0.31</td>\n",
       "      <td>0.69</td>\n",
       "    </tr>\n",
       "  </tbody>\n",
       "</table>\n",
       "</div>"
      ],
      "text/plain": [
       "state          failed  successful\n",
       "main_category                    \n",
       "Technology       0.72        0.28\n",
       "Journalism       0.69        0.31\n",
       "Crafts           0.68        0.32\n",
       "Food             0.68        0.32\n",
       "Fashion          0.66        0.34\n",
       "Photography      0.60        0.40\n",
       "Publishing       0.59        0.41\n",
       "Design           0.56        0.44\n",
       "Games            0.54        0.46\n",
       "Film & Video     0.52        0.48\n",
       "Art              0.49        0.51\n",
       "Music            0.41        0.59\n",
       "Comics           0.39        0.61\n",
       "Theater          0.32        0.68\n",
       "Dance            0.31        0.69"
      ]
     },
     "execution_count": 22,
     "metadata": {},
     "output_type": "execute_result"
    }
   ],
   "source": [
    "grouped = kickstarter_cleaned.groupby(['main_category','state']).ID.count()\n",
    "total = kickstarter_cleaned.groupby('main_category').state.count()\n",
    "prop = np.round((grouped/total),2).unstack().sort_values(by='successful')\n",
    "prop"
   ]
  },
  {
   "cell_type": "code",
   "execution_count": 23,
   "metadata": {
    "scrolled": true
   },
   "outputs": [
    {
     "data": {
      "image/png": "[encoded data removed]",
      "text/plain": [
       "<Figure size 432x288 with 1 Axes>"
      ]
     },
     "metadata": {
      "needs_background": "light"
     },
     "output_type": "display_data"
    }
   ],
   "source": [
    "prop.plot(kind='bar',stacked=True)\n",
    "plt.title('Proportion of Successful vs Failed Projects by Main Category')\n",
    "plt.ylabel('Failure Rate')\n",
    "plt.xlabel('Main Category')\n",
    "plt.legend(loc='upper right',bbox_to_anchor=(1.3,1))\n",
    "plt.show()"
   ]
  },
  {
   "cell_type": "markdown",
   "metadata": {},
   "source": [
    "The top 3 main categories with the highest success rates are Dance, Theater, and Comics. On the other hand, Technology, Journalism and Crafts have the lowest success rates. This lines up with previous research. We continue to look at the number of projects in each category to check for the presence of any relationship based on category."
   ]
  },
  {
   "cell_type": "markdown",
   "metadata": {},
   "source": [
    "### Frequency of Project v.s. Category"
   ]
  },
  {
   "cell_type": "code",
   "execution_count": 24,
   "metadata": {},
   "outputs": [
    {
     "data": {
      "image/png": "[encoded data removed]",
      "text/plain": [
       "<Figure size 432x288 with 1 Axes>"
      ]
     },
     "metadata": {
      "needs_background": "light"
     },
     "output_type": "display_data"
    }
   ],
   "source": [
    "freq_category = sns.countplot(kickstarter_cleaned.main_category,order = kickstarter_cleaned['main_category'].value_counts().index)\n",
    "freq_category.set_xticklabels(freq_category.get_xticklabels(), rotation=50,horizontalalignment='right')\n",
    "freq_category.set_title(\"Frequency Project v.s. Category\")\n",
    "freq_category.set(xlabel='Main Category', ylabel='Count')\n",
    "\n",
    "plt.show()"
   ]
  },
  {
   "cell_type": "markdown",
   "metadata": {},
   "source": [
    "The most popular category on Kickstarter is Film & Video, followed by Music, Publishing, and Games. The least popular categories on Kickstarter are Journalism, Dance, and Crafts. We can see that the categories with the highest success rate are also categories with fewer number of projects (e.g. Dance). \n",
    "\n",
    "This lead us to wonder whether there is a relationship between number of projects and category success rate."
   ]
  },
  {
   "cell_type": "markdown",
   "metadata": {},
   "source": [
    "### Frequency of Project v.s. Category Success Rate "
   ]
  },
  {
   "cell_type": "code",
   "execution_count": 25,
   "metadata": {},
   "outputs": [
    {
     "data": {
      "image/png": "[encoded data removed]",
      "text/plain": [
       "<Figure size 432x288 with 1 Axes>"
      ]
     },
     "metadata": {
      "needs_background": "light"
     },
     "output_type": "display_data"
    },
    {
     "data": {
      "text/html": [
       "<div>\n",
       "<style scoped>\n",
       "    .dataframe tbody tr th:only-of-type {\n",
       "        vertical-align: middle;\n",
       "    }\n",
       "\n",
       "    .dataframe tbody tr th {\n",
       "        vertical-align: top;\n",
       "    }\n",
       "\n",
       "    .dataframe thead th {\n",
       "        text-align: right;\n",
       "    }\n",
       "</style>\n",
       "<table border=\"1\" class=\"dataframe\">\n",
       "  <thead>\n",
       "    <tr style=\"text-align: right;\">\n",
       "      <th></th>\n",
       "      <th>success_rate</th>\n",
       "      <th>count</th>\n",
       "    </tr>\n",
       "  </thead>\n",
       "  <tbody>\n",
       "    <tr>\n",
       "      <th>success_rate</th>\n",
       "      <td>1.000000</td>\n",
       "      <td>0.009556</td>\n",
       "    </tr>\n",
       "    <tr>\n",
       "      <th>count</th>\n",
       "      <td>0.009556</td>\n",
       "      <td>1.000000</td>\n",
       "    </tr>\n",
       "  </tbody>\n",
       "</table>\n",
       "</div>"
      ],
      "text/plain": [
       "              success_rate     count\n",
       "success_rate      1.000000  0.009556\n",
       "count             0.009556  1.000000"
      ]
     },
     "execution_count": 25,
     "metadata": {},
     "output_type": "execute_result"
    }
   ],
   "source": [
    "df1 = pd.DataFrame({'category':prop.index.tolist(),'success_rate': prop.get('successful')})\n",
    "\n",
    "df2 = pd.DataFrame({'category':kickstarter_cleaned.main_category.value_counts().index.tolist(),\n",
    "                    'count': kickstarter_cleaned.main_category.value_counts()})\n",
    "\n",
    "df3 = pd.merge(df1,df2)\n",
    "\n",
    "df3.plot(kind='scatter',x='count',y='success_rate')\n",
    "plt.title('Category Success Rate v.s. Number of Projects in Category')\n",
    "plt.ylabel('Category Overall Success Rate')\n",
    "plt.xlabel('Number of Projects in Category')\n",
    "plt.show()\n",
    "\n",
    "df3.corr()"
   ]
  },
  {
   "cell_type": "markdown",
   "metadata": {},
   "source": [
    "There appears to be little correlation between number of projects and category success rate."
   ]
  },
  {
   "cell_type": "markdown",
   "metadata": {},
   "source": [
    "### Backers v.s. Category"
   ]
  },
  {
   "cell_type": "code",
   "execution_count": 26,
   "metadata": {},
   "outputs": [
    {
     "data": {
      "image/png": "[encoded data removed]",
      "text/plain": [
       "<Figure size 432x288 with 1 Axes>"
      ]
     },
     "metadata": {
      "needs_background": "light"
     },
     "output_type": "display_data"
    }
   ],
   "source": [
    "pledged = kickstarter_cleaned.groupby(['main_category']).backers.sum().sort_values(ascending=False)\n",
    "pledged.plot(kind=\"bar\")\n",
    "plt.title(\"Number of Backers v.s. Category\")\n",
    "plt.ylabel('Number of Backers')\n",
    "plt.xlabel('Main Category')\n",
    "plt.show()"
   ]
  },
  {
   "cell_type": "markdown",
   "metadata": {},
   "source": [
    "Categories with the most backers on Kickstarter are Games, Design, and Technology. This may imply that the general audience on Kickstarter are mostly interested in projects within these categories."
   ]
  },
  {
   "cell_type": "markdown",
   "metadata": {},
   "source": [
    "### Average Amount Pledged v.s. Category"
   ]
  },
  {
   "cell_type": "code",
   "execution_count": 27,
   "metadata": {},
   "outputs": [
    {
     "data": {
      "image/png": "[encoded data removed]",
      "text/plain": [
       "<Figure size 432x288 with 1 Axes>"
      ]
     },
     "metadata": {
      "needs_background": "light"
     },
     "output_type": "display_data"
    }
   ],
   "source": [
    "avg_pledged = kickstarter_cleaned.groupby(['main_category']).usd_pledged_real.mean().sort_values(ascending=False)\n",
    "avg_pledged\n",
    "avg_pledged.plot(kind=\"bar\")\n",
    "plt.title(\"Average Amount Pledged v.s. Category\")\n",
    "plt.ylabel('Average Amount Pledged (USD)')\n",
    "plt.xlabel('Main Category')\n",
    "plt.show()"
   ]
  },
  {
   "cell_type": "markdown",
   "metadata": {},
   "source": [
    "Similar to the results above, we find that Design, Technology and Games are the three main categories with the highest average amount pledged per individual project. This leads us to conclude that while these main categories may not be the genres with the most number of projects started on the website or the highest success rates, these are the type of projects that visitors to Kickstarter care about the most, in terms of willingness to contribute as well as enthusiasm in funding the projects significantly."
   ]
  },
  {
   "cell_type": "markdown",
   "metadata": {},
   "source": [
    "## Guiding Question 2: Exploring Highly Successful Projects"
   ]
  },
  {
   "cell_type": "code",
   "execution_count": 28,
   "metadata": {},
   "outputs": [
    {
     "data": {
      "text/plain": [
       "count    292819.000000\n",
       "mean          3.975700\n",
       "std         300.693822\n",
       "min           0.000000\n",
       "25%           0.030200\n",
       "50%           0.386500\n",
       "75%           1.133500\n",
       "max      104277.890000\n",
       "Name: percent_funded, dtype: float64"
      ]
     },
     "execution_count": 28,
     "metadata": {},
     "output_type": "execute_result"
    }
   ],
   "source": [
    "kickstarter_cleaned['percent_funded'].describe()"
   ]
  },
  {
   "cell_type": "markdown",
   "metadata": {},
   "source": [
    "The median of <font color = 'blue'>percent_funded</font> is 38.6%. This makes sense since approximately 54.3% of projects on Kickstarter fail, as mentioned before. Interestingly, we notice that the mean of <font color ='blue'>percent_funded</font> is ~397.6%, which is significantly greater than the median value. This implies that we have many projects with funding that heavily exceeded their goals, which we will now investigate further."
   ]
  },
  {
   "cell_type": "code",
   "execution_count": 29,
   "metadata": {},
   "outputs": [
    {
     "data": {
      "text/plain": [
       "13.230602000000008"
      ]
     },
     "execution_count": 29,
     "metadata": {},
     "output_type": "execute_result"
    }
   ],
   "source": [
    "np.percentile(kickstarter_cleaned['percent_funded'],99)"
   ]
  },
  {
   "cell_type": "markdown",
   "metadata": {},
   "source": [
    "The 99th percentile of projects in terms of percentage funded managed to fundraise approximately 1323% of their original goal. Let's discover these projects that have really high funding relative to their goal!"
   ]
  },
  {
   "cell_type": "code",
   "execution_count": 30,
   "metadata": {},
   "outputs": [
    {
     "data": {
      "text/html": [
       "<div>\n",
       "<style scoped>\n",
       "    .dataframe tbody tr th:only-of-type {\n",
       "        vertical-align: middle;\n",
       "    }\n",
       "\n",
       "    .dataframe tbody tr th {\n",
       "        vertical-align: top;\n",
       "    }\n",
       "\n",
       "    .dataframe thead th {\n",
       "        text-align: right;\n",
       "    }\n",
       "</style>\n",
       "<table border=\"1\" class=\"dataframe\">\n",
       "  <thead>\n",
       "    <tr style=\"text-align: right;\">\n",
       "      <th></th>\n",
       "      <th>ID</th>\n",
       "      <th>name</th>\n",
       "      <th>category</th>\n",
       "      <th>main_category</th>\n",
       "      <th>currency</th>\n",
       "      <th>deadline</th>\n",
       "      <th>launched</th>\n",
       "      <th>state</th>\n",
       "      <th>backers</th>\n",
       "      <th>country</th>\n",
       "      <th>usd_pledged_real</th>\n",
       "      <th>usd_goal_real</th>\n",
       "      <th>project_length</th>\n",
       "      <th>pledged_per_backer</th>\n",
       "      <th>percent_funded</th>\n",
       "    </tr>\n",
       "  </thead>\n",
       "  <tbody>\n",
       "    <tr>\n",
       "      <th>369176</th>\n",
       "      <td>9509582</td>\n",
       "      <td>VULFPECK /// The Beautiful Game</td>\n",
       "      <td>Music</td>\n",
       "      <td>Music</td>\n",
       "      <td>USD</td>\n",
       "      <td>2016-10-17</td>\n",
       "      <td>2016-08-18 09:04:03</td>\n",
       "      <td>successful</td>\n",
       "      <td>3917</td>\n",
       "      <td>US</td>\n",
       "      <td>104277.89</td>\n",
       "      <td>1.0</td>\n",
       "      <td>59</td>\n",
       "      <td>26.621876</td>\n",
       "      <td>104277.89</td>\n",
       "    </tr>\n",
       "    <tr>\n",
       "      <th>186096</th>\n",
       "      <td>1947298033</td>\n",
       "      <td>Re-covering with Friends</td>\n",
       "      <td>Rock</td>\n",
       "      <td>Music</td>\n",
       "      <td>USD</td>\n",
       "      <td>2016-12-13</td>\n",
       "      <td>2016-10-14 19:04:27</td>\n",
       "      <td>successful</td>\n",
       "      <td>955</td>\n",
       "      <td>US</td>\n",
       "      <td>68764.10</td>\n",
       "      <td>1.0</td>\n",
       "      <td>59</td>\n",
       "      <td>72.004293</td>\n",
       "      <td>68764.10</td>\n",
       "    </tr>\n",
       "    <tr>\n",
       "      <th>360721</th>\n",
       "      <td>907870443</td>\n",
       "      <td>VULFPECK /// Thrill of the Arts</td>\n",
       "      <td>Music</td>\n",
       "      <td>Music</td>\n",
       "      <td>USD</td>\n",
       "      <td>2015-10-09</td>\n",
       "      <td>2015-08-10 19:31:56</td>\n",
       "      <td>successful</td>\n",
       "      <td>1673</td>\n",
       "      <td>US</td>\n",
       "      <td>55266.57</td>\n",
       "      <td>1.0</td>\n",
       "      <td>59</td>\n",
       "      <td>33.034411</td>\n",
       "      <td>55266.57</td>\n",
       "    </tr>\n",
       "    <tr>\n",
       "      <th>76290</th>\n",
       "      <td>1388400809</td>\n",
       "      <td>Energy Hook</td>\n",
       "      <td>Video Games</td>\n",
       "      <td>Games</td>\n",
       "      <td>USD</td>\n",
       "      <td>2013-06-10</td>\n",
       "      <td>2013-05-10 01:22:38</td>\n",
       "      <td>successful</td>\n",
       "      <td>1622</td>\n",
       "      <td>US</td>\n",
       "      <td>41535.01</td>\n",
       "      <td>1.0</td>\n",
       "      <td>30</td>\n",
       "      <td>25.607281</td>\n",
       "      <td>41535.01</td>\n",
       "    </tr>\n",
       "    <tr>\n",
       "      <th>81368</th>\n",
       "      <td>1413857335</td>\n",
       "      <td>Band of Brothers 2nd Chance</td>\n",
       "      <td>Tabletop Games</td>\n",
       "      <td>Games</td>\n",
       "      <td>USD</td>\n",
       "      <td>2016-08-02</td>\n",
       "      <td>2016-07-12 00:29:12</td>\n",
       "      <td>successful</td>\n",
       "      <td>268</td>\n",
       "      <td>US</td>\n",
       "      <td>32843.00</td>\n",
       "      <td>1.0</td>\n",
       "      <td>20</td>\n",
       "      <td>122.548507</td>\n",
       "      <td>32843.00</td>\n",
       "    </tr>\n",
       "  </tbody>\n",
       "</table>\n",
       "</div>"
      ],
      "text/plain": [
       "                ID                             name        category  \\\n",
       "369176     9509582  VULFPECK /// The Beautiful Game           Music   \n",
       "186096  1947298033         Re-covering with Friends            Rock   \n",
       "360721   907870443  VULFPECK /// Thrill of the Arts           Music   \n",
       "76290   1388400809                      Energy Hook     Video Games   \n",
       "81368   1413857335      Band of Brothers 2nd Chance  Tabletop Games   \n",
       "\n",
       "       main_category currency   deadline            launched       state  \\\n",
       "369176         Music      USD 2016-10-17 2016-08-18 09:04:03  successful   \n",
       "186096         Music      USD 2016-12-13 2016-10-14 19:04:27  successful   \n",
       "360721         Music      USD 2015-10-09 2015-08-10 19:31:56  successful   \n",
       "76290          Games      USD 2013-06-10 2013-05-10 01:22:38  successful   \n",
       "81368          Games      USD 2016-08-02 2016-07-12 00:29:12  successful   \n",
       "\n",
       "        backers country  usd_pledged_real  usd_goal_real  project_length  \\\n",
       "369176     3917      US         104277.89            1.0              59   \n",
       "186096      955      US          68764.10            1.0              59   \n",
       "360721     1673      US          55266.57            1.0              59   \n",
       "76290      1622      US          41535.01            1.0              30   \n",
       "81368       268      US          32843.00            1.0              20   \n",
       "\n",
       "        pledged_per_backer  percent_funded  \n",
       "369176           26.621876       104277.89  \n",
       "186096           72.004293        68764.10  \n",
       "360721           33.034411        55266.57  \n",
       "76290            25.607281        41535.01  \n",
       "81368           122.548507        32843.00  "
      ]
     },
     "execution_count": 30,
     "metadata": {},
     "output_type": "execute_result"
    }
   ],
   "source": [
    "highly_funded = kickstarter_cleaned['percent_funded'] > np.percentile(kickstarter_cleaned['percent_funded'],99)\n",
    "highly_funded_kickstarters = kickstarter_cleaned[highly_funded].sort_values(by='percent_funded',ascending=False)\n",
    "highly_funded_kickstarters.head()"
   ]
  },
  {
   "cell_type": "code",
   "execution_count": 31,
   "metadata": {},
   "outputs": [
    {
     "data": {
      "text/plain": [
       "1.0        209\n",
       "1000.0     180\n",
       "10000.0    149\n",
       "500.0      145\n",
       "5000.0     127\n",
       "100.0      125\n",
       "20000.0     77\n",
       "15000.0     73\n",
       "50000.0     70\n",
       "10.0        50\n",
       "Name: usd_goal_real, dtype: int64"
      ]
     },
     "execution_count": 31,
     "metadata": {},
     "output_type": "execute_result"
    }
   ],
   "source": [
    "highly_funded_kickstarters['usd_goal_real'].value_counts(sort=True).head(10)"
   ]
  },
  {
   "cell_type": "markdown",
   "metadata": {},
   "source": [
    "We found that most projects with outlier success have very low goals, as low as 1. We look further into these projects with extremely low goals."
   ]
  },
  {
   "cell_type": "code",
   "execution_count": 32,
   "metadata": {},
   "outputs": [
    {
     "data": {
      "text/html": [
       "<div>\n",
       "<style scoped>\n",
       "    .dataframe tbody tr th:only-of-type {\n",
       "        vertical-align: middle;\n",
       "    }\n",
       "\n",
       "    .dataframe tbody tr th {\n",
       "        vertical-align: top;\n",
       "    }\n",
       "\n",
       "    .dataframe thead th {\n",
       "        text-align: right;\n",
       "    }\n",
       "</style>\n",
       "<table border=\"1\" class=\"dataframe\">\n",
       "  <thead>\n",
       "    <tr style=\"text-align: right;\">\n",
       "      <th></th>\n",
       "      <th>ID</th>\n",
       "      <th>name</th>\n",
       "      <th>category</th>\n",
       "      <th>main_category</th>\n",
       "      <th>currency</th>\n",
       "      <th>deadline</th>\n",
       "      <th>launched</th>\n",
       "      <th>state</th>\n",
       "      <th>backers</th>\n",
       "      <th>country</th>\n",
       "      <th>usd_pledged_real</th>\n",
       "      <th>usd_goal_real</th>\n",
       "      <th>project_length</th>\n",
       "      <th>pledged_per_backer</th>\n",
       "      <th>percent_funded</th>\n",
       "    </tr>\n",
       "  </thead>\n",
       "  <tbody>\n",
       "    <tr>\n",
       "      <th>369176</th>\n",
       "      <td>9509582</td>\n",
       "      <td>VULFPECK /// The Beautiful Game</td>\n",
       "      <td>Music</td>\n",
       "      <td>Music</td>\n",
       "      <td>USD</td>\n",
       "      <td>2016-10-17</td>\n",
       "      <td>2016-08-18 09:04:03</td>\n",
       "      <td>successful</td>\n",
       "      <td>3917</td>\n",
       "      <td>US</td>\n",
       "      <td>104277.89</td>\n",
       "      <td>1.0</td>\n",
       "      <td>59</td>\n",
       "      <td>26.621876</td>\n",
       "      <td>104277.89</td>\n",
       "    </tr>\n",
       "    <tr>\n",
       "      <th>186096</th>\n",
       "      <td>1947298033</td>\n",
       "      <td>Re-covering with Friends</td>\n",
       "      <td>Rock</td>\n",
       "      <td>Music</td>\n",
       "      <td>USD</td>\n",
       "      <td>2016-12-13</td>\n",
       "      <td>2016-10-14 19:04:27</td>\n",
       "      <td>successful</td>\n",
       "      <td>955</td>\n",
       "      <td>US</td>\n",
       "      <td>68764.10</td>\n",
       "      <td>1.0</td>\n",
       "      <td>59</td>\n",
       "      <td>72.004293</td>\n",
       "      <td>68764.10</td>\n",
       "    </tr>\n",
       "    <tr>\n",
       "      <th>360721</th>\n",
       "      <td>907870443</td>\n",
       "      <td>VULFPECK /// Thrill of the Arts</td>\n",
       "      <td>Music</td>\n",
       "      <td>Music</td>\n",
       "      <td>USD</td>\n",
       "      <td>2015-10-09</td>\n",
       "      <td>2015-08-10 19:31:56</td>\n",
       "      <td>successful</td>\n",
       "      <td>1673</td>\n",
       "      <td>US</td>\n",
       "      <td>55266.57</td>\n",
       "      <td>1.0</td>\n",
       "      <td>59</td>\n",
       "      <td>33.034411</td>\n",
       "      <td>55266.57</td>\n",
       "    </tr>\n",
       "    <tr>\n",
       "      <th>76290</th>\n",
       "      <td>1388400809</td>\n",
       "      <td>Energy Hook</td>\n",
       "      <td>Video Games</td>\n",
       "      <td>Games</td>\n",
       "      <td>USD</td>\n",
       "      <td>2013-06-10</td>\n",
       "      <td>2013-05-10 01:22:38</td>\n",
       "      <td>successful</td>\n",
       "      <td>1622</td>\n",
       "      <td>US</td>\n",
       "      <td>41535.01</td>\n",
       "      <td>1.0</td>\n",
       "      <td>30</td>\n",
       "      <td>25.607281</td>\n",
       "      <td>41535.01</td>\n",
       "    </tr>\n",
       "    <tr>\n",
       "      <th>81368</th>\n",
       "      <td>1413857335</td>\n",
       "      <td>Band of Brothers 2nd Chance</td>\n",
       "      <td>Tabletop Games</td>\n",
       "      <td>Games</td>\n",
       "      <td>USD</td>\n",
       "      <td>2016-08-02</td>\n",
       "      <td>2016-07-12 00:29:12</td>\n",
       "      <td>successful</td>\n",
       "      <td>268</td>\n",
       "      <td>US</td>\n",
       "      <td>32843.00</td>\n",
       "      <td>1.0</td>\n",
       "      <td>20</td>\n",
       "      <td>122.548507</td>\n",
       "      <td>32843.00</td>\n",
       "    </tr>\n",
       "  </tbody>\n",
       "</table>\n",
       "</div>"
      ],
      "text/plain": [
       "                ID                             name        category  \\\n",
       "369176     9509582  VULFPECK /// The Beautiful Game           Music   \n",
       "186096  1947298033         Re-covering with Friends            Rock   \n",
       "360721   907870443  VULFPECK /// Thrill of the Arts           Music   \n",
       "76290   1388400809                      Energy Hook     Video Games   \n",
       "81368   1413857335      Band of Brothers 2nd Chance  Tabletop Games   \n",
       "\n",
       "       main_category currency   deadline            launched       state  \\\n",
       "369176         Music      USD 2016-10-17 2016-08-18 09:04:03  successful   \n",
       "186096         Music      USD 2016-12-13 2016-10-14 19:04:27  successful   \n",
       "360721         Music      USD 2015-10-09 2015-08-10 19:31:56  successful   \n",
       "76290          Games      USD 2013-06-10 2013-05-10 01:22:38  successful   \n",
       "81368          Games      USD 2016-08-02 2016-07-12 00:29:12  successful   \n",
       "\n",
       "        backers country  usd_pledged_real  usd_goal_real  project_length  \\\n",
       "369176     3917      US         104277.89            1.0              59   \n",
       "186096      955      US          68764.10            1.0              59   \n",
       "360721     1673      US          55266.57            1.0              59   \n",
       "76290      1622      US          41535.01            1.0              30   \n",
       "81368       268      US          32843.00            1.0              20   \n",
       "\n",
       "        pledged_per_backer  percent_funded  \n",
       "369176           26.621876       104277.89  \n",
       "186096           72.004293        68764.10  \n",
       "360721           33.034411        55266.57  \n",
       "76290            25.607281        41535.01  \n",
       "81368           122.548507        32843.00  "
      ]
     },
     "execution_count": 32,
     "metadata": {},
     "output_type": "execute_result"
    }
   ],
   "source": [
    "low_goal = highly_funded_kickstarters[highly_funded_kickstarters['usd_goal_real'] <= 10]\n",
    "low_goal.head()"
   ]
  },
  {
   "cell_type": "code",
   "execution_count": 33,
   "metadata": {},
   "outputs": [
    {
     "data": {
      "text/plain": [
       "Music           88\n",
       "Art             55\n",
       "Games           55\n",
       "Film & Video    47\n",
       "Comics          37\n",
       "Publishing      31\n",
       "Technology      24\n",
       "Food            15\n",
       "Design          14\n",
       "Crafts           6\n",
       "Theater          5\n",
       "Fashion          4\n",
       "Photography      4\n",
       "Dance            1\n",
       "Journalism       1\n",
       "Name: main_category, dtype: int64"
      ]
     },
     "execution_count": 33,
     "metadata": {},
     "output_type": "execute_result"
    }
   ],
   "source": [
    "low_goal.main_category.value_counts()"
   ]
  },
  {
   "cell_type": "markdown",
   "metadata": {},
   "source": [
    "Most projects with goals lower than 10 are in the <font color = 'blue'>main_category</font> of Music, Games, and Art. We searched up some of these projects and realized that these were not all meme/joke projects. For instance, the creator of project **VULFPECK /// Thrill of the Arts** said \"I'm confident we will raise the necessary capital to make the album, so that's why I put the goal at $1. This is simply an invitation for anyone that wants to be part of the process!\"\n",
    "\n",
    "Of course, there were also projects that were launched for fun with low goals such as the project **Potato Salad** by Zack Danger Brown, which launched with a goal of 10 dollars but managed to fundraise $55,492. There was no easy way to identify a meme/joke project because some creators just want to leave the goal open-ended as the example given before."
   ]
  },
  {
   "cell_type": "markdown",
   "metadata": {},
   "source": [
    "Next, we filter out projects with goals that are too low to see whether there is anything interesting with normal projects that do not have goal less than 50 dollars. "
   ]
  },
  {
   "cell_type": "code",
   "execution_count": 34,
   "metadata": {},
   "outputs": [
    {
     "data": {
      "text/html": [
       "<div>\n",
       "<style scoped>\n",
       "    .dataframe tbody tr th:only-of-type {\n",
       "        vertical-align: middle;\n",
       "    }\n",
       "\n",
       "    .dataframe tbody tr th {\n",
       "        vertical-align: top;\n",
       "    }\n",
       "\n",
       "    .dataframe thead th {\n",
       "        text-align: right;\n",
       "    }\n",
       "</style>\n",
       "<table border=\"1\" class=\"dataframe\">\n",
       "  <thead>\n",
       "    <tr style=\"text-align: right;\">\n",
       "      <th></th>\n",
       "      <th>ID</th>\n",
       "      <th>name</th>\n",
       "      <th>category</th>\n",
       "      <th>main_category</th>\n",
       "      <th>currency</th>\n",
       "      <th>deadline</th>\n",
       "      <th>launched</th>\n",
       "      <th>state</th>\n",
       "      <th>backers</th>\n",
       "      <th>country</th>\n",
       "      <th>usd_pledged_real</th>\n",
       "      <th>usd_goal_real</th>\n",
       "      <th>project_length</th>\n",
       "      <th>pledged_per_backer</th>\n",
       "      <th>percent_funded</th>\n",
       "    </tr>\n",
       "  </thead>\n",
       "  <tbody>\n",
       "    <tr>\n",
       "      <th>58331</th>\n",
       "      <td>1296661668</td>\n",
       "      <td>Solid Watch</td>\n",
       "      <td>Product Design</td>\n",
       "      <td>Design</td>\n",
       "      <td>USD</td>\n",
       "      <td>2011-08-29</td>\n",
       "      <td>2011-05-31 07:01:49</td>\n",
       "      <td>successful</td>\n",
       "      <td>474</td>\n",
       "      <td>US</td>\n",
       "      <td>134090.00</td>\n",
       "      <td>100.0</td>\n",
       "      <td>89</td>\n",
       "      <td>282.890295</td>\n",
       "      <td>1340.9000</td>\n",
       "    </tr>\n",
       "    <tr>\n",
       "      <th>34796</th>\n",
       "      <td>1176482851</td>\n",
       "      <td>TREVOR HALL presents... The Fruitful Darkness</td>\n",
       "      <td>Music</td>\n",
       "      <td>Music</td>\n",
       "      <td>USD</td>\n",
       "      <td>2017-09-06</td>\n",
       "      <td>2017-08-07 20:17:39</td>\n",
       "      <td>successful</td>\n",
       "      <td>2254</td>\n",
       "      <td>US</td>\n",
       "      <td>137570.93</td>\n",
       "      <td>108.0</td>\n",
       "      <td>29</td>\n",
       "      <td>61.034130</td>\n",
       "      <td>1273.8049</td>\n",
       "    </tr>\n",
       "    <tr>\n",
       "      <th>162266</th>\n",
       "      <td>1825421712</td>\n",
       "      <td>Keyflower is Awesome!</td>\n",
       "      <td>Tabletop Games</td>\n",
       "      <td>Games</td>\n",
       "      <td>USD</td>\n",
       "      <td>2015-08-11</td>\n",
       "      <td>2015-06-26 19:51:07</td>\n",
       "      <td>successful</td>\n",
       "      <td>2041</td>\n",
       "      <td>US</td>\n",
       "      <td>121033.00</td>\n",
       "      <td>100.0</td>\n",
       "      <td>45</td>\n",
       "      <td>59.300833</td>\n",
       "      <td>1210.3300</td>\n",
       "    </tr>\n",
       "    <tr>\n",
       "      <th>187652</th>\n",
       "      <td>1955357092</td>\n",
       "      <td>Exploding Kittens</td>\n",
       "      <td>Tabletop Games</td>\n",
       "      <td>Games</td>\n",
       "      <td>USD</td>\n",
       "      <td>2015-02-20</td>\n",
       "      <td>2015-01-20 19:00:19</td>\n",
       "      <td>successful</td>\n",
       "      <td>219382</td>\n",
       "      <td>US</td>\n",
       "      <td>8782571.99</td>\n",
       "      <td>10000.0</td>\n",
       "      <td>30</td>\n",
       "      <td>40.033239</td>\n",
       "      <td>878.2572</td>\n",
       "    </tr>\n",
       "    <tr>\n",
       "      <th>289894</th>\n",
       "      <td>54501146</td>\n",
       "      <td>SpaceTime Coordinates ~ your personal place in...</td>\n",
       "      <td>Product Design</td>\n",
       "      <td>Design</td>\n",
       "      <td>EUR</td>\n",
       "      <td>2015-09-30</td>\n",
       "      <td>2015-08-12 16:07:19</td>\n",
       "      <td>successful</td>\n",
       "      <td>1514</td>\n",
       "      <td>FR</td>\n",
       "      <td>93364.28</td>\n",
       "      <td>111.6</td>\n",
       "      <td>48</td>\n",
       "      <td>61.667292</td>\n",
       "      <td>836.5975</td>\n",
       "    </tr>\n",
       "  </tbody>\n",
       "</table>\n",
       "</div>"
      ],
      "text/plain": [
       "                ID                                               name  \\\n",
       "58331   1296661668                                        Solid Watch   \n",
       "34796   1176482851      TREVOR HALL presents... The Fruitful Darkness   \n",
       "162266  1825421712                              Keyflower is Awesome!   \n",
       "187652  1955357092                                  Exploding Kittens   \n",
       "289894    54501146  SpaceTime Coordinates ~ your personal place in...   \n",
       "\n",
       "              category main_category currency   deadline            launched  \\\n",
       "58331   Product Design        Design      USD 2011-08-29 2011-05-31 07:01:49   \n",
       "34796            Music         Music      USD 2017-09-06 2017-08-07 20:17:39   \n",
       "162266  Tabletop Games         Games      USD 2015-08-11 2015-06-26 19:51:07   \n",
       "187652  Tabletop Games         Games      USD 2015-02-20 2015-01-20 19:00:19   \n",
       "289894  Product Design        Design      EUR 2015-09-30 2015-08-12 16:07:19   \n",
       "\n",
       "             state  backers country  usd_pledged_real  usd_goal_real  \\\n",
       "58331   successful      474      US         134090.00          100.0   \n",
       "34796   successful     2254      US         137570.93          108.0   \n",
       "162266  successful     2041      US         121033.00          100.0   \n",
       "187652  successful   219382      US        8782571.99        10000.0   \n",
       "289894  successful     1514      FR          93364.28          111.6   \n",
       "\n",
       "        project_length  pledged_per_backer  percent_funded  \n",
       "58331               89          282.890295       1340.9000  \n",
       "34796               29           61.034130       1273.8049  \n",
       "162266              45           59.300833       1210.3300  \n",
       "187652              30           40.033239        878.2572  \n",
       "289894              48           61.667292        836.5975  "
      ]
     },
     "execution_count": 34,
     "metadata": {},
     "output_type": "execute_result"
    }
   ],
   "source": [
    "reasonable_goal = (kickstarter_cleaned['percent_funded'] > np.percentile(kickstarter_cleaned['percent_funded'],99)) & (kickstarter_cleaned['usd_goal_real'] >= 50)\n",
    "\n",
    "new_highly_funded = kickstarter_cleaned[reasonable_goal]\n",
    "new_highly_funded.sort_values(by='percent_funded',ascending=False).head()"
   ]
  },
  {
   "cell_type": "code",
   "execution_count": 35,
   "metadata": {},
   "outputs": [
    {
     "data": {
      "text/plain": [
       "Games           772\n",
       "Design          649\n",
       "Technology      365\n",
       "Fashion         119\n",
       "Comics           93\n",
       "Art              91\n",
       "Publishing       74\n",
       "Crafts           67\n",
       "Food             58\n",
       "Film & Video     32\n",
       "Music            27\n",
       "Photography      12\n",
       "Journalism        3\n",
       "Theater           2\n",
       "Name: main_category, dtype: int64"
      ]
     },
     "execution_count": 35,
     "metadata": {},
     "output_type": "execute_result"
    }
   ],
   "source": [
    "new_highly_funded.main_category.value_counts()"
   ]
  },
  {
   "cell_type": "markdown",
   "metadata": {},
   "source": [
    "We can see that once projects with extremely low goals are removed, the majority of projects that have outlier success are in the <font color = 'blue'>main_category</font> Games, Design, and Technology."
   ]
  },
  {
   "cell_type": "code",
   "execution_count": 36,
   "metadata": {},
   "outputs": [
    {
     "data": {
      "text/plain": [
       "main_category\n",
       "Games           0.028543\n",
       "Design          0.026990\n",
       "Technology      0.015855\n",
       "Crafts          0.010203\n",
       "Comics          0.009685\n",
       "Fashion         0.007278\n",
       "Art             0.004025\n",
       "Food            0.003073\n",
       "Publishing      0.002446\n",
       "Photography     0.001456\n",
       "Journalism      0.000922\n",
       "Music           0.000666\n",
       "Film & Video    0.000647\n",
       "Theater         0.000208\n",
       "Dance                NaN\n",
       "Name: ID, dtype: float64"
      ]
     },
     "execution_count": 36,
     "metadata": {},
     "output_type": "execute_result"
    }
   ],
   "source": [
    "grouped = new_highly_funded.groupby('main_category').ID.count()\n",
    "total = kickstarter_cleaned.groupby('main_category').ID.count()\n",
    "prop = (grouped/total).sort_values(ascending=False)\n",
    "prop"
   ]
  },
  {
   "cell_type": "markdown",
   "metadata": {},
   "source": [
    "Within the top 1% performing projects with reasonable goals, those in the <font color = 'blue'>main_category</font> of Games as well as Design make up almost 3% of all of the projects in Games and Design. This suggests that these categories tend to have projects that vastly outperform expectations, perhaps because of a novel game idea or groundbreaking design concept."
   ]
  },
  {
   "cell_type": "code",
   "execution_count": 37,
   "metadata": {},
   "outputs": [
    {
     "data": {
      "image/png": "[encoded data removed]",
      "text/plain": [
       "<Figure size 432x288 with 1 Axes>"
      ]
     },
     "metadata": {
      "needs_background": "light"
     },
     "output_type": "display_data"
    }
   ],
   "source": [
    "boxplot = sns.boxplot(x=\"main_category\", y=\"usd_pledged_real\", data=kickstarter_cleaned)\n",
    "boxplot.set_xticklabels(boxplot.get_xticklabels(), rotation=50,horizontalalignment='right')\n",
    "boxplot.set_title(\"Boxplot of Main Category vs The Amount Pledged\")\n",
    "boxplot.set_ylabel(\"The Amount Pledged (USD)\")\n",
    "boxplot.set_xlabel(\"Main Category\")\n",
    "plt.show()"
   ]
  },
  {
   "cell_type": "markdown",
   "metadata": {},
   "source": [
    "This boxplot shows that projects in the <font color = 'blue'>main_category</font> of Games, Design, and Technology have extreme outliers for the total amount pledged. This further reinforces the finding that projects in these categories have a higher chance in outperforming their expectations/goals."
   ]
  },
  {
   "cell_type": "markdown",
   "metadata": {},
   "source": [
    "## Guiding Question 3: What are some factors that may impact the outcome of a project?"
   ]
  },
  {
   "cell_type": "markdown",
   "metadata": {},
   "source": [
    "### Median Project Goal by Main Category & State"
   ]
  },
  {
   "cell_type": "code",
   "execution_count": 38,
   "metadata": {
    "scrolled": true
   },
   "outputs": [
    {
     "data": {
      "image/png": "[encoded data removed]",
      "text/plain": [
       "<Figure size 432x288 with 1 Axes>"
      ]
     },
     "metadata": {
      "needs_background": "light"
     },
     "output_type": "display_data"
    }
   ],
   "source": [
    "A = kickstarter_cleaned.groupby(['main_category','state']).usd_goal_real.median().unstack()\n",
    "A.plot(kind='bar')\n",
    "plt.title(\"Median Project Goal v.s. Category\")\n",
    "plt.ylabel(\"Median Project Goal (USD)\")\n",
    "plt.xlabel(\"Main Category\")\n",
    "plt.legend(bbox_to_anchor=(1.01, 1), loc='upper left', ncol=1)\n",
    "plt.show()"
   ]
  },
  {
   "cell_type": "markdown",
   "metadata": {},
   "source": [
    "We can see that successful projects tend to have lower median of <font color = 'blue'>usd_goal_real</font> than that of failed projects across all categories."
   ]
  },
  {
   "cell_type": "markdown",
   "metadata": {},
   "source": [
    "### Average Pledged per Backer by Main Category & State"
   ]
  },
  {
   "cell_type": "code",
   "execution_count": 39,
   "metadata": {},
   "outputs": [
    {
     "data": {
      "image/png": "[encoded data removed]",
      "text/plain": [
       "<Figure size 432x288 with 1 Axes>"
      ]
     },
     "metadata": {
      "needs_background": "light"
     },
     "output_type": "display_data"
    }
   ],
   "source": [
    "A = kickstarter_cleaned.groupby(['main_category','state']).pledged_per_backer.mean().unstack()\n",
    "A.plot(kind=\"bar\") \n",
    "plt.title(\"Average pledged per Backer by Category\")\n",
    "plt.ylabel(\"Average Pledged per Backer (USD)\")\n",
    "plt.xlabel(\"Main Category\")\n",
    "plt.legend(bbox_to_anchor=(1.01, 1), loc='upper left', ncol=1)\n",
    "plt.show()"
   ]
  },
  {
   "cell_type": "markdown",
   "metadata": {},
   "source": [
    "We can see that the average <font color = 'blue'>pledged_per_backer</font> is higher for successful projects across all categories."
   ]
  },
  {
   "cell_type": "markdown",
   "metadata": {},
   "source": [
    "### Average Project Length by Main Category & State"
   ]
  },
  {
   "cell_type": "code",
   "execution_count": 40,
   "metadata": {},
   "outputs": [
    {
     "data": {
      "image/png": "[encoded data removed]",
      "text/plain": [
       "<Figure size 432x288 with 1 Axes>"
      ]
     },
     "metadata": {
      "needs_background": "light"
     },
     "output_type": "display_data"
    }
   ],
   "source": [
    "B = kickstarter_cleaned.groupby(['main_category','state']).project_length.mean().unstack()\n",
    "B.plot(kind='bar')\n",
    "plt.title(\"Average Project Length v.s. Category\")\n",
    "plt.ylabel(\"Average Project Length (Days)\")\n",
    "plt.xlabel(\"Main Category\")\n",
    "plt.legend(bbox_to_anchor=(1.01, 1), loc='upper left', ncol=1)\n",
    "plt.show()"
   ]
  },
  {
   "cell_type": "markdown",
   "metadata": {},
   "source": [
    "While the difference seems minimal, we indeed notice a consistent trend where failed projects tend to have a longer <font color = 'blue'>project_length</font> than successful projects. While this may seem counterintuitive initially, this could stem from the fact that successful projects tend to go viral in a short span of time, negating the possible benefits of keeping a project running longer. Additionally, setting a project for a longer duration could also reflect the project creators' lack of confidence in the project's ability to generate funds."
   ]
  },
  {
   "cell_type": "markdown",
   "metadata": {},
   "source": [
    "# Data Modeling"
   ]
  },
  {
   "cell_type": "code",
   "execution_count": 41,
   "metadata": {},
   "outputs": [],
   "source": [
    "import statsmodels.formula.api as smf\n",
    "from statsmodels.tools.tools import add_constant\n",
    "from statsmodels.stats.outliers_influence import variance_inflation_factor\n",
    "from sklearn.model_selection import train_test_split, ShuffleSplit, cross_val_score, KFold\n",
    "from sklearn.linear_model import LogisticRegression\n",
    "from sklearn.preprocessing import OneHotEncoder\n",
    "from sklearn.neighbors import KNeighborsClassifier\n",
    "from sklearn import metrics"
   ]
  },
  {
   "cell_type": "markdown",
   "metadata": {},
   "source": [
    "In this section, we will attempt to select a model to predict whether a project is 'successful' or 'failed'. We will try logistic regression in smf as well as KNN in sklearn, using functions in sklearn to perform cross validation. Because of the nature of the smf module, we will have to convert the values of <font color = 'blue'>state</font> to 1 or 0."
   ]
  },
  {
   "cell_type": "code",
   "execution_count": 42,
   "metadata": {},
   "outputs": [],
   "source": [
    "clean_state = {'state': {'failed': 0, \"successful\": 1}}\n",
    "kickstarter_cleaned.replace(clean_state, inplace=True)"
   ]
  },
  {
   "cell_type": "markdown",
   "metadata": {},
   "source": [
    "## K-Nearest Neighbors"
   ]
  },
  {
   "cell_type": "markdown",
   "metadata": {},
   "source": [
    "We first tried running a KNN classifier based on the numeric data provided by the columns <font color = 'blue'>usd_goal_real</font>, <font color = 'blue'>project_length</font>, and <font color = 'blue'>pledged_per_backer</font>. To further prepare the data for prediction, we have split our dataset into train and test. We will now using 5-fold cross validation to evaluate our KNN model."
   ]
  },
  {
   "cell_type": "code",
   "execution_count": 43,
   "metadata": {
    "scrolled": true
   },
   "outputs": [],
   "source": [
    "X_trainT, X_testT, y_trainT, y_testT = train_test_split(kickstarter_cleaned[['usd_goal_real','project_length','pledged_per_backer']], kickstarter_cleaned[['state']], test_size=0.3)"
   ]
  },
  {
   "cell_type": "code",
   "execution_count": 44,
   "metadata": {},
   "outputs": [],
   "source": [
    "k_range = range(1,20)\n",
    "scores = {}\n",
    "for k in k_range:\n",
    "    knn = KNeighborsClassifier(n_neighbors = k)\n",
    "    scores[k] = np.mean(cross_val_score(knn, X_trainT, y_trainT, cv=5))"
   ]
  },
  {
   "cell_type": "code",
   "execution_count": 45,
   "metadata": {},
   "outputs": [
    {
     "data": {
      "text/plain": [
       "{1: 0.6835778074706973,\n",
       " 2: 0.6659852667710022,\n",
       " 3: 0.7052099406362126,\n",
       " 4: 0.6955745355897509,\n",
       " 5: 0.7169676158070032,\n",
       " 6: 0.7097520136522599,\n",
       " 7: 0.7231342715949631,\n",
       " 8: 0.7179726112999868,\n",
       " 9: 0.7265639823021404,\n",
       " 10: 0.7238367862969098,\n",
       " 11: 0.7301107826010299,\n",
       " 12: 0.7275445930256926,\n",
       " 13: 0.7319549271901813,\n",
       " 14: 0.7302766625572209,\n",
       " 15: 0.7342088917773174,\n",
       " 16: 0.7323110810356956,\n",
       " 17: 0.7345894353905076,\n",
       " 18: 0.7337551739823163,\n",
       " 19: 0.7359944931178044}"
      ]
     },
     "execution_count": 45,
     "metadata": {},
     "output_type": "execute_result"
    }
   ],
   "source": [
    "scores"
   ]
  },
  {
   "cell_type": "markdown",
   "metadata": {},
   "source": [
    "Based on the CV scores from our KNN classifier, we find that K=19 works best for our train dataset. Our average validation accuracy for K=19 was approximately 73% on the test dataset.\n",
    "\n",
    "We will now fit a 19-NN model on our test dataset."
   ]
  },
  {
   "cell_type": "code",
   "execution_count": 46,
   "metadata": {},
   "outputs": [
    {
     "name": "stdout",
     "output_type": "stream",
     "text": [
      "0.7365275595929239\n",
      "0.5434624228763973\n"
     ]
    }
   ],
   "source": [
    "knn = KNeighborsClassifier(n_neighbors = 19)\n",
    "knn.fit(X_trainT,y_trainT)\n",
    "\n",
    "y_pred = knn.predict(X_testT)\n",
    "print(metrics.accuracy_score(y_testT, y_pred))\n",
    "print(y_testT.state.value_counts().iloc[0]/(y_testT.state.value_counts().iloc[0] + y_testT.state.value_counts().iloc[1]))"
   ]
  },
  {
   "cell_type": "markdown",
   "metadata": {},
   "source": [
    "We obtain a final test accuracy of approximately 74% on the test dataset. This result is indeed significant, as our model prediction represents a noticeable improvement in accuracy (compared to merely predicting 'failed' for all of the validation test data, which would have an accuracy of ~54%).\n",
    "\n",
    "We noticed that the highest K selected through Cross-Validation was 19, the highest value of K that we tested for. This does make sense as the number of observations for our dataset is very large. Thus, a potential improvement for our KNN model could have been to test for even higher values of K. However, this model was already computationally expensive to calculate. If we have made the K higher, it would have taken a longer time to calculate and greatly increased the complexity of model creation. \n",
    "\n",
    "Not only that, we also recognize that it is difficult to interpret the results of our KNN classifier. Hence, we will now attempt to use a logistic regression model for prediction."
   ]
  },
  {
   "cell_type": "markdown",
   "metadata": {},
   "source": [
    "## Logistic Regression"
   ]
  },
  {
   "cell_type": "markdown",
   "metadata": {},
   "source": [
    "In the interest of creating a model that can be easily understandable, not as computionally expensive, while also accounting for the <font color='blue'>main_category</font> of the project, we will now try a logistic regression model as well, once again first trained on a 5-fold cross validation train dataset."
   ]
  },
  {
   "cell_type": "code",
   "execution_count": 47,
   "metadata": {},
   "outputs": [],
   "source": [
    "X_trainT, X_testT, y_trainT, y_testT = train_test_split(kickstarter_cleaned[['main_category','usd_goal_real','project_length','pledged_per_backer']], kickstarter_cleaned[['state']], test_size=0.3)\n",
    "train_data_set = pd.concat([X_trainT,y_trainT], axis = 1)"
   ]
  },
  {
   "cell_type": "code",
   "execution_count": null,
   "metadata": {},
   "outputs": [
    {
     "name": "stdout",
     "output_type": "stream",
     "text": [
      "Optimization terminated successfully.\n",
      "         Current function value: 0.617149\n",
      "         Iterations 10\n",
      "Optimization terminated successfully.\n",
      "         Current function value: 0.618095\n",
      "         Iterations 10\n",
      "Optimization terminated successfully.\n",
      "         Current function value: 0.619872\n",
      "         Iterations 10\n"
     ]
    }
   ],
   "source": [
    "X = train_data_set[['main_category','usd_goal_real','project_length','pledged_per_backer']].reset_index()\n",
    "y = train_data_set[['state']].reset_index()\n",
    "kf = KFold(n_splits = 5, shuffle = True, random_state = 1)\n",
    "accuracies = []\n",
    "default= []\n",
    "\n",
    "for train_index, test_index in kf.split(X):\n",
    "    X_train, X_test, y_train, y_test = X.loc[train_index], X.loc[test_index], y.loc[train_index], y.loc[test_index]\n",
    "    y_train['state'] = y_train.state.apply(int)\n",
    "    y_test['state'] = y_test.state.apply(int)\n",
    "    logitmodel = smf.logit(formula = 'state ~ main_category + usd_goal_real + project_length + pledged_per_backer', data = pd.concat([X_train, y_train], axis=1))\n",
    "    results = logitmodel.fit()\n",
    "    testresult_logit = results.predict(X_test)\n",
    "    testresult_logit = np.where(testresult_logit > 0.5, 1, 0)\n",
    "    accuracies.append(np.mean(testresult_logit == y_test.state.to_numpy()))\n",
    "    default.append(y_test.state.value_counts().iloc[0]/(y_test.state.value_counts().iloc[0] + y_test.state.value_counts().iloc[1]))\n",
    "    \n",
    "print(accuracies)\n",
    "print(np.mean(accuracies))\n",
    "print(default)\n",
    "print(np.mean(default))"
   ]
  },
  {
   "cell_type": "markdown",
   "metadata": {},
   "source": [
    "This time, we obtain a average validation accuracy of approximately 68% on the test dataset. While this accuracy score is lower than the result obtained by KNN, it is still significant, as our model predictions still exhibit an improvement over the default accuracy of ~54% (for predicting every project as 'failed')."
   ]
  },
  {
   "cell_type": "markdown",
   "metadata": {},
   "source": [
    "After verifying that our model does provide a significant prediction accuracy, we will now attempt to fit our model based on the train data on the test data to obtain our final test accuracy score."
   ]
  },
  {
   "cell_type": "code",
   "execution_count": null,
   "metadata": {},
   "outputs": [],
   "source": [
    "FINAL_logitmodel = smf.logit(formula = 'state ~ main_category + usd_goal_real + project_length + pledged_per_backer', data = train_data_set)\n",
    "print(FINAL_logitmodel.fit().summary())\n",
    "\n",
    "FINAL_testresult_logit = results.predict(X_testT)\n",
    "FINAL_testresult_logit = np.where(FINAL_testresult_logit > 0.5, 1, 0)\n",
    "print(np.mean(FINAL_testresult_logit == y_testT.state.to_numpy()))\n",
    "print(y_testT.state.value_counts().iloc[0]/(y_testT.state.value_counts().iloc[0] + y_testT.state.value_counts().iloc[1]))"
   ]
  },
  {
   "cell_type": "markdown",
   "metadata": {},
   "source": [
    "Similar to our validation results, we also obtain a final test accuracy score of approximately 68%. Once again, this is a marked improvement on the default result of approximately 54%. "
   ]
  },
  {
   "cell_type": "markdown",
   "metadata": {},
   "source": [
    "### Understanding the Logistic Model"
   ]
  },
  {
   "cell_type": "markdown",
   "metadata": {},
   "source": [
    "We notice that besides the 'Film & Video' categorical option in <font color = 'blue'>main_category</font>, every other feature used in the logistic model were considered to be statistically significant. In addition, the coefficients for our features matches the insights derived from our exploratory analysis.\n",
    "\n",
    "1. The <font color = 'blue'>main_category</font> of projects appear to have varying impacts on the probability of the project. The intercept is  The 3 highest coefficients belong to the Dance, Theater and Comics categories, while the 3 lowest coefficients belong to Crafts, Technology and Jouralism, all of which match the results from our exploratory analysis of success rate by category.\n",
    "\n",
    "\n",
    "2. As expected, the coefficient of <font color ='blue'>usd_goal_real</font> is negative. This seems to indicate that the higher a project's goal is set, the harder it is for backers to supply the pledge amount needed to hit the goal. Interestingly, the coefficient for this feature is very close to 0, while still having a very significant p-value. This could mean that while the overall impact of setting a high goal is consistently negative, it does not bode particularly disastrously for a project. Understandably, ambitious projects with naturally high targets (such as projects in the field of Technology) would draw more interested supporters, negating the risk of not hitting the goal so some extent.\n",
    "\n",
    "\n",
    "3. <font color ='blue'>project_length</font> also has a negative correlation with the probability of a project's success. We previously observed this in comparing the average <font color ='blue'>project_length</font> by category. This trend is something that Kickstarter has also identified, recommending a maximum of 30 days since \"Campaigns with shorter durations have higher success rates, and create a helpful sense of urgency around your project\". (https://help.kickstarter.com/hc/en-us/articles/115005128434-What-is-the-maximum-project-duration-) \n",
    "\n",
    "\n",
    "4. <font color ='blue'>pledged_per_backer</font> also has a positive impact on the success rate. While we had initially theorized that small donations from a large amount of backers could be the key to a project's success, it seems as if conventional wisdom prevails in this scenario. One factor not included in the dataset that could have affected this variable is Kickstarter's reward system, providing an incentive for backers to pledge in increased amounts, pushing projects that backers have faith in particularly in the right direction.\n",
    "\n",
    "For our logistic model, we have used all available feasible variables for prediction besides <font color = 'blue'>category</font>, <font color = 'blue'>currency</font> and <font color = 'blue'>country</font>. The main limitation of our model here was thus the information provided to us in the dataset. If more information was included, we could have added more relevant variables to improve our model accuracy. We will further discuss this in our Limitations and Further Research section."
   ]
  },
  {
   "cell_type": "markdown",
   "metadata": {},
   "source": [
    "# Conclusion"
   ]
  },
  {
   "cell_type": "markdown",
   "metadata": {},
   "source": [
    "Although the biggest factor in determining the success of a project is the content and the project itself, there are some external factors that could influence the probability of success. From our investigation, we found that the most well-funded projects on Kickstarter are of the categories Games, Design, and Technology, which gives creators a sense of the target audience they are reaching when they decide to launch their projects on Kickstarter. We have also found that setting a reasonable goal will improve success rate. Lastly, based on our logistic model, we have discovered that the relationships between the variables goal, project length, and pledged per backer are significant in influencing the outcome of the project. Thus, creators should take note of these basic setup of their projects prior to launch."
   ]
  },
  {
   "cell_type": "markdown",
   "metadata": {},
   "source": [
    "# Limitations and Further Research\n",
    "\n",
    "With this dataset, we could observe the basic effects that factors such as category, goal amount, and project length have on the outcome of projects. However, it would be helpful if we can also obtain more information regarding each project as listed below.\n",
    "- If we have data regarding the reward tiers set up by creators, we can see whether there is an optimal number of rewards or reward pledge amount that would incentivize backers to pledge more and increase the probability of success. \n",
    "- While we were working on the project, we wanted to investigate the probability of success of projects that were relaunched but we were limited since we could not easily decide whether projects with the same name are necessarily the same projects. It would be helpful if we also had the names of creators in the dataset.\n",
    "- Information suggested by prior research, such as whether a campaign includes a video, the length of the description, or the social media presence of the team behind a project simply were not present in this dataset and should be looked into if collected.\n",
    "- Lastly, it would also be helpful if we have variables that inform us of the number of visits each project has received, and also whether or not the project has been featured or recommended on the platform. This information would help us come up with more insights to advise creators on how to improve the probability of success for their projects. "
   ]
  },
  {
   "cell_type": "markdown",
   "metadata": {},
   "source": [
    "# References\n",
    "\n",
    "- Benavides, N. (2017, September 20). What Makes a Successful Kickstarter Campaign? Retrieved from https://towardsdatascience.com/what-makes-a-successful-kickstarter-campaign-ad36fb3eaf69. \n",
    "- Diallo, A. (2014, January 26). Crowdfunding Secrets: 7 Tips For Kickstarter Success. Retrieved from https://www.forbes.com/sites/amadoudiallo/2014/01/24/crowdfunding-secrets-7-tips-for-kickstarter-success/#1a07f5746d8d. \n",
    "- Kromel. (2018, April 5). Kickstarter - Successful vs Failed. Retrieved from https://www.kaggle.com/kromel/kickstarter-successful-vs-failed. \n",
    "- Mitroff, S. (2017, June 3). 4 Keys to a Winning Kickstarter Campaign. Retrieved from https://www.wired.com/2012/07/kickstarter/. \n"
   ]
  }
 ],
 "metadata": {
  "kernelspec": {
   "display_name": "Python 3",
   "language": "python",
   "name": "python3"
  },
  "language_info": {
   "codemirror_mode": {
    "name": "ipython",
    "version": 3
   },
   "file_extension": ".py",
   "mimetype": "text/x-python",
   "name": "python",
   "nbconvert_exporter": "python",
   "pygments_lexer": "ipython3",
   "version": "3.7.3"
  }
 },
 "nbformat": 4,
 "nbformat_minor": 2
}
