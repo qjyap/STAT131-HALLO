{
 "cells": [
  {
   "cell_type": "markdown",
   "metadata": {},
   "source": [
    "# STATS 131 Project: Kickstarter\n",
    "Team 15: HALLO\n",
    "\n",
    "Data: https://www.kaggle.com/kemical/kickstarter-projects/\n",
    "\n",
    "Presentation:\n",
    "\n",
    "Members: \n",
    "Kai Chen Tan,\n",
    "Qi Jing Yap,\n",
    "Yuqing Yang,\n",
    "Steven Salmeron"
   ]
  },
  {
   "cell_type": "markdown",
   "metadata": {},
   "source": [
    "# Data Background\n",
    "## What is Kickstarter?\n",
    "\n",
    "Kickstarter is a fundraising platform with the goal of helping to “bring creative projects to life”, by providing a way for artists to be funded directly by fans of the project. This is done through a campaign, a page where an artist outlines their project, what its purpose is, how much money they need to complete it and what this money will be used for, how much time they plan on giving the campaign to raise its funding goal, and why people should help fund it, including rewards for pledging certain amounts and potential stretch goals past the initial goal to enhance the project. The platform launched on April 28, 2009 and has seen over 450,000 projects pass through it.\n",
    "\n",
    "## Basics of a Kickstarter Project\n",
    "\n",
    "Each campaign has a unique Kickstarter ID used for internal identification, and each project has a name, although this does not have to be unique and only needs to title a project for people to find and refer to it with. A campaign also makes itself easier to distinguish from others through the use of categories. Kickstarter has 15 main categories to choose from: Art, Comics, Crafts, Dance, Design, Fashion, Film & Video, Food, Games, Journalism, Music, Photography, Publishing, Technology, and Theater. Subcategories are also attached to a project to further classify it past the main category. These include one such as footwear, accessories, and jewelry as 3 under fashion and games allowing categories based on genre and platform/medium. \n",
    "\n",
    "When a campaign starts, the team behind the project use methods, such as social media and email lists, to attract people to the campaign and get them interested. People who help fund a project are known as its ‘backers’ and the money they contribute is their ‘pledge’. Backing a project both allows the person to contribute to sometime they wish to see succeed and usually provides a reward if high enough. Rewards are usually tiered to match the amount pledged and often include things such as related merchandise (tote bags or t-shirts with the project’s logo), the project itself when it is some sort of product, or their name in the credits for the project. Project start with a specific goal for their campaign: an amount the team has determined to be the minimum they need to proceed with the project.\n",
    "    \n",
    "Because Kickstarter is a global platform and projects can be started in 22 different countries, not all campaigns are measured in USD. Kickstarter converts non USD currency numbers to USD based on conversion rates at the time of recording for use in their metrics, but does save the original numbers, currency, and country. A project has a date and time when it is launched, of course, as well as a deadline: a date and time when the project can longer receiving pledges. A project that reaches its goal by the deadline is a success and receives the pledged funding. Projects that fail to meet their goal receive no funding and Kickstarter will not collect funds from the backers; this is a failed project. This all-or-nothing model is meant to prevent disappointment in scenarios where a team may attempt to proceed with a project when only a tenth of the goal was reached and can no longer meet the standards that backers may have been expecting. More ambitious projects instead set a minimum goal and include stretch goals in their campaign: funding milestones where additional features not exactly necessary for the project will be worked on if reached. Of course, a project can be cancelled early if the team running it decided they would prefer not to continue it. Kickstarter may also suspend a campaign if upon further review, they decide it is in violation of one of their rules. \n",
    "\n",
    "## Our Dataset\n",
    "\n",
    "The dataset being analyzed here comes from a  Kaggle user, Mickaël Mouillé, and contains information about over 300,000 Kickstarter projects. Variables include most of what is described about projects above. \n",
    "- <font color=blue>ID</font> and <font color=blue>name</font>  are self explanatory. \n",
    "- <font color=blue>category</font> and <font color=blue>main_category</font> both give the one category and sub category a project is classified under.\n",
    "    - There are 15 categories, which are listed above. Each one has from 5 to 20 subcategories.\n",
    "- Currency and country use the abbreviation for the correct country of origin and currency used in the campaign <font color=blue>pledged</font> shows the amount raised in the native currency.\n",
    "    - <font color=blue>usd_pledged</font>, which is the amount pledged total, and <font color=blue>goal</font>, amount needed to succeed, are both already converted into USD by Kickstarter as detailed above. \n",
    "        - The dataset also includes a version of these variables with converstions done by fixer.io, <font color=blue>usd_pledged_real</font> and <font color=blue>usd_goal_real</font>,which we use instead for our analysis.\n",
    "- <font color=blue>launched</font> and <font color=blue>deadline</font> give the date and time the project was started and ended, respectively, in a “year-month-day hour:minute:second” format. \n",
    "- State shows whether the campaign ended successfully, failed, was cancelled, or was suspended. \n",
    "    - Some are also labeled as live, meaning the campaign was still ongoing, and undefined. \n",
    "The data was directly taken from the Kickstarter website itself and contains data from as early as the websites beginning.\n"
   ]
  },
  {
   "cell_type": "code",
   "execution_count": 1,
   "metadata": {},
   "outputs": [],
   "source": [
    "import pandas as pd\n",
    "import numpy as np\n",
    "import matplotlib\n",
    "import matplotlib.pyplot as plt\n",
    "import seaborn as sns"
   ]
  },
  {
   "cell_type": "code",
   "execution_count": 2,
   "metadata": {},
   "outputs": [],
   "source": [
    "kickstarter = pd.read_csv('ks-projects-201801.csv') #Reading in the data"
   ]
  },
  {
   "cell_type": "code",
   "execution_count": 3,
   "metadata": {},
   "outputs": [
    {
     "data": {
      "text/html": [
       "<div>\n",
       "<style scoped>\n",
       "    .dataframe tbody tr th:only-of-type {\n",
       "        vertical-align: middle;\n",
       "    }\n",
       "\n",
       "    .dataframe tbody tr th {\n",
       "        vertical-align: top;\n",
       "    }\n",
       "\n",
       "    .dataframe thead th {\n",
       "        text-align: right;\n",
       "    }\n",
       "</style>\n",
       "<table border=\"1\" class=\"dataframe\">\n",
       "  <thead>\n",
       "    <tr style=\"text-align: right;\">\n",
       "      <th></th>\n",
       "      <th>ID</th>\n",
       "      <th>name</th>\n",
       "      <th>category</th>\n",
       "      <th>main_category</th>\n",
       "      <th>currency</th>\n",
       "      <th>deadline</th>\n",
       "      <th>goal</th>\n",
       "      <th>launched</th>\n",
       "      <th>pledged</th>\n",
       "      <th>state</th>\n",
       "      <th>backers</th>\n",
       "      <th>country</th>\n",
       "      <th>usd pledged</th>\n",
       "      <th>usd_pledged_real</th>\n",
       "      <th>usd_goal_real</th>\n",
       "    </tr>\n",
       "  </thead>\n",
       "  <tbody>\n",
       "    <tr>\n",
       "      <th>0</th>\n",
       "      <td>1000002330</td>\n",
       "      <td>The Songs of Adelaide &amp; Abullah</td>\n",
       "      <td>Poetry</td>\n",
       "      <td>Publishing</td>\n",
       "      <td>GBP</td>\n",
       "      <td>2015-10-09</td>\n",
       "      <td>1000.0</td>\n",
       "      <td>2015-08-11 12:12:28</td>\n",
       "      <td>0.0</td>\n",
       "      <td>failed</td>\n",
       "      <td>0</td>\n",
       "      <td>GB</td>\n",
       "      <td>0.0</td>\n",
       "      <td>0.0</td>\n",
       "      <td>1533.95</td>\n",
       "    </tr>\n",
       "    <tr>\n",
       "      <th>1</th>\n",
       "      <td>1000003930</td>\n",
       "      <td>Greeting From Earth: ZGAC Arts Capsule For ET</td>\n",
       "      <td>Narrative Film</td>\n",
       "      <td>Film &amp; Video</td>\n",
       "      <td>USD</td>\n",
       "      <td>2017-11-01</td>\n",
       "      <td>30000.0</td>\n",
       "      <td>2017-09-02 04:43:57</td>\n",
       "      <td>2421.0</td>\n",
       "      <td>failed</td>\n",
       "      <td>15</td>\n",
       "      <td>US</td>\n",
       "      <td>100.0</td>\n",
       "      <td>2421.0</td>\n",
       "      <td>30000.00</td>\n",
       "    </tr>\n",
       "    <tr>\n",
       "      <th>2</th>\n",
       "      <td>1000004038</td>\n",
       "      <td>Where is Hank?</td>\n",
       "      <td>Narrative Film</td>\n",
       "      <td>Film &amp; Video</td>\n",
       "      <td>USD</td>\n",
       "      <td>2013-02-26</td>\n",
       "      <td>45000.0</td>\n",
       "      <td>2013-01-12 00:20:50</td>\n",
       "      <td>220.0</td>\n",
       "      <td>failed</td>\n",
       "      <td>3</td>\n",
       "      <td>US</td>\n",
       "      <td>220.0</td>\n",
       "      <td>220.0</td>\n",
       "      <td>45000.00</td>\n",
       "    </tr>\n",
       "    <tr>\n",
       "      <th>3</th>\n",
       "      <td>1000007540</td>\n",
       "      <td>ToshiCapital Rekordz Needs Help to Complete Album</td>\n",
       "      <td>Music</td>\n",
       "      <td>Music</td>\n",
       "      <td>USD</td>\n",
       "      <td>2012-04-16</td>\n",
       "      <td>5000.0</td>\n",
       "      <td>2012-03-17 03:24:11</td>\n",
       "      <td>1.0</td>\n",
       "      <td>failed</td>\n",
       "      <td>1</td>\n",
       "      <td>US</td>\n",
       "      <td>1.0</td>\n",
       "      <td>1.0</td>\n",
       "      <td>5000.00</td>\n",
       "    </tr>\n",
       "    <tr>\n",
       "      <th>4</th>\n",
       "      <td>1000011046</td>\n",
       "      <td>Community Film Project: The Art of Neighborhoo...</td>\n",
       "      <td>Film &amp; Video</td>\n",
       "      <td>Film &amp; Video</td>\n",
       "      <td>USD</td>\n",
       "      <td>2015-08-29</td>\n",
       "      <td>19500.0</td>\n",
       "      <td>2015-07-04 08:35:03</td>\n",
       "      <td>1283.0</td>\n",
       "      <td>canceled</td>\n",
       "      <td>14</td>\n",
       "      <td>US</td>\n",
       "      <td>1283.0</td>\n",
       "      <td>1283.0</td>\n",
       "      <td>19500.00</td>\n",
       "    </tr>\n",
       "  </tbody>\n",
       "</table>\n",
       "</div>"
      ],
      "text/plain": [
       "           ID                                               name  \\\n",
       "0  1000002330                    The Songs of Adelaide & Abullah   \n",
       "1  1000003930      Greeting From Earth: ZGAC Arts Capsule For ET   \n",
       "2  1000004038                                     Where is Hank?   \n",
       "3  1000007540  ToshiCapital Rekordz Needs Help to Complete Album   \n",
       "4  1000011046  Community Film Project: The Art of Neighborhoo...   \n",
       "\n",
       "         category main_category currency    deadline     goal  \\\n",
       "0          Poetry    Publishing      GBP  2015-10-09   1000.0   \n",
       "1  Narrative Film  Film & Video      USD  2017-11-01  30000.0   \n",
       "2  Narrative Film  Film & Video      USD  2013-02-26  45000.0   \n",
       "3           Music         Music      USD  2012-04-16   5000.0   \n",
       "4    Film & Video  Film & Video      USD  2015-08-29  19500.0   \n",
       "\n",
       "              launched  pledged     state  backers country  usd pledged  \\\n",
       "0  2015-08-11 12:12:28      0.0    failed        0      GB          0.0   \n",
       "1  2017-09-02 04:43:57   2421.0    failed       15      US        100.0   \n",
       "2  2013-01-12 00:20:50    220.0    failed        3      US        220.0   \n",
       "3  2012-03-17 03:24:11      1.0    failed        1      US          1.0   \n",
       "4  2015-07-04 08:35:03   1283.0  canceled       14      US       1283.0   \n",
       "\n",
       "   usd_pledged_real  usd_goal_real  \n",
       "0               0.0        1533.95  \n",
       "1            2421.0       30000.00  \n",
       "2             220.0       45000.00  \n",
       "3               1.0        5000.00  \n",
       "4            1283.0       19500.00  "
      ]
     },
     "execution_count": 3,
     "metadata": {},
     "output_type": "execute_result"
    }
   ],
   "source": [
    "kickstarter.head()"
   ]
  },
  {
   "cell_type": "code",
   "execution_count": 4,
   "metadata": {},
   "outputs": [
    {
     "data": {
      "text/plain": [
       "(378661, 15)"
      ]
     },
     "execution_count": 4,
     "metadata": {},
     "output_type": "execute_result"
    }
   ],
   "source": [
    "kickstarter.shape"
   ]
  },
  {
   "cell_type": "markdown",
   "metadata": {},
   "source": [
    "# Data Cleaning"
   ]
  },
  {
   "cell_type": "markdown",
   "metadata": {},
   "source": [
    "### 1. Drop Columns"
   ]
  },
  {
   "cell_type": "code",
   "execution_count": 5,
   "metadata": {},
   "outputs": [
    {
     "data": {
      "text/plain": [
       "(378661, 12)"
      ]
     },
     "execution_count": 5,
     "metadata": {},
     "output_type": "execute_result"
    }
   ],
   "source": [
    "kickstarter = kickstarter.drop(columns = ['pledged', 'goal', 'usd pledged'])\n",
    "kickstarter.shape"
   ]
  },
  {
   "cell_type": "markdown",
   "metadata": {},
   "source": [
    "We have decided to remove the columns <font color=blue>pledged</font> and <font color=blue>goal</font> because data in these two columns are in different currency types and not standardized. Instead, we will be using columns <font color=blue>usd_pledged_real</font> and <font color=blue>usd_goal_real</font>, which are the same numbers converted to USD and standardized. In addition, <font color=blue>usd_pledged</font> is removed because the conversion done by this column is more problematic. The same information is provided by the variable <font color=blue>usd_pledged_real</font>."
   ]
  },
  {
   "cell_type": "markdown",
   "metadata": {},
   "source": [
    "### 2. Data Types"
   ]
  },
  {
   "cell_type": "code",
   "execution_count": 6,
   "metadata": {},
   "outputs": [
    {
     "name": "stdout",
     "output_type": "stream",
     "text": [
      "ID                    int64\n",
      "name                 object\n",
      "category             object\n",
      "main_category        object\n",
      "currency             object\n",
      "deadline             object\n",
      "launched             object\n",
      "state                object\n",
      "backers               int64\n",
      "country              object\n",
      "usd_pledged_real    float64\n",
      "usd_goal_real       float64\n",
      "dtype: object\n"
     ]
    }
   ],
   "source": [
    "print(kickstarter.dtypes)"
   ]
  },
  {
   "cell_type": "markdown",
   "metadata": {},
   "source": [
    "Since <font color=blue>deadline</font> and <font color=blue>launched</font> are objects, we convert them to date-time type."
   ]
  },
  {
   "cell_type": "code",
   "execution_count": 7,
   "metadata": {},
   "outputs": [],
   "source": [
    "kickstarter['deadline'] = pd.to_datetime(kickstarter.deadline)\n",
    "kickstarter['launched'] = pd.to_datetime(kickstarter.launched)"
   ]
  },
  {
   "cell_type": "markdown",
   "metadata": {},
   "source": [
    "### 3. Check for Duplicates"
   ]
  },
  {
   "cell_type": "code",
   "execution_count": 8,
   "metadata": {},
   "outputs": [
    {
     "name": "stdout",
     "output_type": "stream",
     "text": [
      "<class 'pandas.core.frame.DataFrame'>\n",
      "RangeIndex: 378661 entries, 0 to 378660\n",
      "Data columns (total 12 columns):\n",
      "ID                  378661 non-null int64\n",
      "name                378657 non-null object\n",
      "category            378661 non-null object\n",
      "main_category       378661 non-null object\n",
      "currency            378661 non-null object\n",
      "deadline            378661 non-null datetime64[ns]\n",
      "launched            378661 non-null datetime64[ns]\n",
      "state               378661 non-null object\n",
      "backers             378661 non-null int64\n",
      "country             378661 non-null object\n",
      "usd_pledged_real    378661 non-null float64\n",
      "usd_goal_real       378661 non-null float64\n",
      "dtypes: datetime64[ns](2), float64(2), int64(2), object(6)\n",
      "memory usage: 34.7+ MB\n"
     ]
    }
   ],
   "source": [
    "kickstarter.info()"
   ]
  },
  {
   "cell_type": "markdown",
   "metadata": {},
   "source": [
    "We notice that <font color='blue'>name</font> is the only column that does not have 378661 unique entries. "
   ]
  },
  {
   "cell_type": "code",
   "execution_count": 9,
   "metadata": {},
   "outputs": [
    {
     "name": "stdout",
     "output_type": "stream",
     "text": [
      "Empty DataFrame\n",
      "Columns: [ID, name, category, main_category, currency, deadline, launched, state, backers, country, usd_pledged_real, usd_goal_real]\n",
      "Index: []\n"
     ]
    }
   ],
   "source": [
    "print(kickstarter[kickstarter.duplicated()])"
   ]
  },
  {
   "cell_type": "markdown",
   "metadata": {},
   "source": [
    "There are no completely duplicated rows in our DataFrame since there are unique IDs to each project."
   ]
  },
  {
   "cell_type": "code",
   "execution_count": 10,
   "metadata": {},
   "outputs": [
    {
     "name": "stdout",
     "output_type": "stream",
     "text": [
      "378661\n",
      "375764\n"
     ]
    },
    {
     "data": {
      "text/html": [
       "<div>\n",
       "<style scoped>\n",
       "    .dataframe tbody tr th:only-of-type {\n",
       "        vertical-align: middle;\n",
       "    }\n",
       "\n",
       "    .dataframe tbody tr th {\n",
       "        vertical-align: top;\n",
       "    }\n",
       "\n",
       "    .dataframe thead th {\n",
       "        text-align: right;\n",
       "    }\n",
       "</style>\n",
       "<table border=\"1\" class=\"dataframe\">\n",
       "  <thead>\n",
       "    <tr style=\"text-align: right;\">\n",
       "      <th></th>\n",
       "      <th>ID</th>\n",
       "      <th>name</th>\n",
       "      <th>category</th>\n",
       "      <th>main_category</th>\n",
       "      <th>currency</th>\n",
       "      <th>deadline</th>\n",
       "      <th>launched</th>\n",
       "      <th>state</th>\n",
       "      <th>backers</th>\n",
       "      <th>country</th>\n",
       "      <th>usd_pledged_real</th>\n",
       "      <th>usd_goal_real</th>\n",
       "    </tr>\n",
       "  </thead>\n",
       "  <tbody>\n",
       "    <tr>\n",
       "      <th>342920</th>\n",
       "      <td>816998285</td>\n",
       "      <td>\"...The Last shall be first...\" LODB Lifestyle...</td>\n",
       "      <td>Fashion</td>\n",
       "      <td>Fashion</td>\n",
       "      <td>USD</td>\n",
       "      <td>2014-02-09</td>\n",
       "      <td>2013-12-19 21:51:50</td>\n",
       "      <td>canceled</td>\n",
       "      <td>0</td>\n",
       "      <td>US</td>\n",
       "      <td>0.0</td>\n",
       "      <td>6500.0</td>\n",
       "    </tr>\n",
       "    <tr>\n",
       "      <th>342692</th>\n",
       "      <td>815783250</td>\n",
       "      <td>\"...The Last shall be first...\" LODB Lifestyle...</td>\n",
       "      <td>Fashion</td>\n",
       "      <td>Fashion</td>\n",
       "      <td>USD</td>\n",
       "      <td>2014-03-01</td>\n",
       "      <td>2014-01-03 20:39:16</td>\n",
       "      <td>failed</td>\n",
       "      <td>3</td>\n",
       "      <td>US</td>\n",
       "      <td>37.0</td>\n",
       "      <td>6500.0</td>\n",
       "    </tr>\n",
       "    <tr>\n",
       "      <th>2024</th>\n",
       "      <td>1010584633</td>\n",
       "      <td>\"A Fresh Start\"</td>\n",
       "      <td>Shorts</td>\n",
       "      <td>Film &amp; Video</td>\n",
       "      <td>USD</td>\n",
       "      <td>2011-09-25</td>\n",
       "      <td>2011-08-28 21:27:52</td>\n",
       "      <td>successful</td>\n",
       "      <td>24</td>\n",
       "      <td>US</td>\n",
       "      <td>3000.0</td>\n",
       "      <td>3000.0</td>\n",
       "    </tr>\n",
       "    <tr>\n",
       "      <th>322671</th>\n",
       "      <td>713417995</td>\n",
       "      <td>\"A Fresh Start\"</td>\n",
       "      <td>Documentary</td>\n",
       "      <td>Film &amp; Video</td>\n",
       "      <td>USD</td>\n",
       "      <td>2013-03-27</td>\n",
       "      <td>2013-01-26 03:51:47</td>\n",
       "      <td>failed</td>\n",
       "      <td>26</td>\n",
       "      <td>US</td>\n",
       "      <td>1417.0</td>\n",
       "      <td>5000.0</td>\n",
       "    </tr>\n",
       "  </tbody>\n",
       "</table>\n",
       "</div>"
      ],
      "text/plain": [
       "                ID                                               name  \\\n",
       "342920   816998285  \"...The Last shall be first...\" LODB Lifestyle...   \n",
       "342692   815783250  \"...The Last shall be first...\" LODB Lifestyle...   \n",
       "2024    1010584633                                    \"A Fresh Start\"   \n",
       "322671   713417995                                    \"A Fresh Start\"   \n",
       "\n",
       "           category main_category currency   deadline            launched  \\\n",
       "342920      Fashion       Fashion      USD 2014-02-09 2013-12-19 21:51:50   \n",
       "342692      Fashion       Fashion      USD 2014-03-01 2014-01-03 20:39:16   \n",
       "2024         Shorts  Film & Video      USD 2011-09-25 2011-08-28 21:27:52   \n",
       "322671  Documentary  Film & Video      USD 2013-03-27 2013-01-26 03:51:47   \n",
       "\n",
       "             state  backers country  usd_pledged_real  usd_goal_real  \n",
       "342920    canceled        0      US               0.0         6500.0  \n",
       "342692      failed        3      US              37.0         6500.0  \n",
       "2024    successful       24      US            3000.0         3000.0  \n",
       "322671      failed       26      US            1417.0         5000.0  "
      ]
     },
     "execution_count": 10,
     "metadata": {},
     "output_type": "execute_result"
    }
   ],
   "source": [
    "print(kickstarter['ID'].nunique())\n",
    "print(kickstarter['name'].nunique()) #strange, ~3000 rows seem to have duplicated names with unique IDs\n",
    "\n",
    "#print(kickstarter[kickstarter['ID'].duplicated(keep = False)].sort_values(by = 'ID'))\n",
    "kickstarter[kickstarter['name'].duplicated(keep = False)].sort_values(by = 'name').head(4)"
   ]
  },
  {
   "cell_type": "markdown",
   "metadata": {},
   "source": [
    "While the <font color='blue'>ID</font> column has 378661 entries with no duplicates, there are about 2897 instances of repeated <font color='blue'>name</font> in our dataset. We found out that this is because multiple projects can take on the exact same name. Some projects are also relaunched with the same name."
   ]
  },
  {
   "cell_type": "markdown",
   "metadata": {},
   "source": [
    "### 4. Check for Problematic Rows"
   ]
  },
  {
   "cell_type": "markdown",
   "metadata": {},
   "source": [
    "#### (a) Missing Values"
   ]
  },
  {
   "cell_type": "code",
   "execution_count": 11,
   "metadata": {
    "scrolled": true
   },
   "outputs": [
    {
     "name": "stdout",
     "output_type": "stream",
     "text": [
      "ID                  0\n",
      "name                4\n",
      "category            0\n",
      "main_category       0\n",
      "currency            0\n",
      "deadline            0\n",
      "launched            0\n",
      "state               0\n",
      "backers             0\n",
      "country             0\n",
      "usd_pledged_real    0\n",
      "usd_goal_real       0\n",
      "dtype: int64\n"
     ]
    }
   ],
   "source": [
    "print(kickstarter.isna().sum()) # check for NAs\n",
    "index_A = kickstarter[kickstarter.name.isna()].index"
   ]
  },
  {
   "cell_type": "markdown",
   "metadata": {},
   "source": [
    "There are 4 NAs in the <font color='blue'>name</font> column. We save the indexes of these missing values for later deletion."
   ]
  },
  {
   "cell_type": "markdown",
   "metadata": {},
   "source": [
    "#### (b) Launched"
   ]
  },
  {
   "cell_type": "code",
   "execution_count": 12,
   "metadata": {
    "scrolled": true
   },
   "outputs": [
    {
     "name": "stdout",
     "output_type": "stream",
     "text": [
      "75397    1970-01-01 01:00:00\n",
      "319002   1970-01-01 01:00:00\n",
      "2842     1970-01-01 01:00:00\n",
      "94579    1970-01-01 01:00:00\n",
      "247913   1970-01-01 01:00:00\n",
      "273779   1970-01-01 01:00:00\n",
      "48147    1970-01-01 01:00:00\n",
      "169268   2009-04-21 21:02:48\n",
      "322000   2009-04-23 00:07:53\n",
      "138572   2009-04-24 21:52:03\n",
      "Name: launched, dtype: datetime64[ns]\n"
     ]
    }
   ],
   "source": [
    "print(kickstarter.launched.sort_values().head(10))\n",
    "index_B = kickstarter.launched.sort_values()[0:7].index"
   ]
  },
  {
   "cell_type": "markdown",
   "metadata": {},
   "source": [
    "When exploring the data, we discover that 7 projects have <font color='blue'>launched</font> dates in the year 1970. Since Kickstarter was only founded in 2009, these results are not possible. We also save these indexes for later deletion."
   ]
  },
  {
   "cell_type": "markdown",
   "metadata": {},
   "source": [
    "#### (c) State"
   ]
  },
  {
   "cell_type": "code",
   "execution_count": 20,
   "metadata": {},
   "outputs": [
    {
     "data": {
      "text/html": [
       "<div>\n",
       "<style scoped>\n",
       "    .dataframe tbody tr th:only-of-type {\n",
       "        vertical-align: middle;\n",
       "    }\n",
       "\n",
       "    .dataframe tbody tr th {\n",
       "        vertical-align: top;\n",
       "    }\n",
       "\n",
       "    .dataframe thead th {\n",
       "        text-align: right;\n",
       "    }\n",
       "</style>\n",
       "<table border=\"1\" class=\"dataframe\">\n",
       "  <thead>\n",
       "    <tr style=\"text-align: right;\">\n",
       "      <th></th>\n",
       "      <th>ID</th>\n",
       "      <th>name</th>\n",
       "      <th>category</th>\n",
       "      <th>main_category</th>\n",
       "      <th>currency</th>\n",
       "      <th>deadline</th>\n",
       "      <th>launched</th>\n",
       "      <th>state</th>\n",
       "      <th>backers</th>\n",
       "      <th>country</th>\n",
       "      <th>usd_pledged_real</th>\n",
       "      <th>usd_goal_real</th>\n",
       "    </tr>\n",
       "  </thead>\n",
       "  <tbody>\n",
       "    <tr>\n",
       "      <th>16780</th>\n",
       "      <td>1085047405</td>\n",
       "      <td>\"Balance\"</td>\n",
       "      <td>Jazz</td>\n",
       "      <td>Music</td>\n",
       "      <td>USD</td>\n",
       "      <td>2013-04-04</td>\n",
       "      <td>2013-03-05 10:55:56</td>\n",
       "      <td>failed</td>\n",
       "      <td>141</td>\n",
       "      <td>US</td>\n",
       "      <td>23020.01</td>\n",
       "      <td>23000.0</td>\n",
       "    </tr>\n",
       "    <tr>\n",
       "      <th>58558</th>\n",
       "      <td>1297794474</td>\n",
       "      <td>Music Empowers - A Day with the Accende Ensemble</td>\n",
       "      <td>Classical Music</td>\n",
       "      <td>Music</td>\n",
       "      <td>USD</td>\n",
       "      <td>2012-01-04</td>\n",
       "      <td>2011-11-07 15:20:24</td>\n",
       "      <td>failed</td>\n",
       "      <td>20</td>\n",
       "      <td>US</td>\n",
       "      <td>3087.50</td>\n",
       "      <td>3000.0</td>\n",
       "    </tr>\n",
       "    <tr>\n",
       "      <th>136909</th>\n",
       "      <td>1695255515</td>\n",
       "      <td>POPE! an epic musical, opening at NY Fringe Fe...</td>\n",
       "      <td>Theater</td>\n",
       "      <td>Theater</td>\n",
       "      <td>USD</td>\n",
       "      <td>2010-08-20</td>\n",
       "      <td>2010-07-21 05:48:11</td>\n",
       "      <td>failed</td>\n",
       "      <td>30</td>\n",
       "      <td>US</td>\n",
       "      <td>3600.00</td>\n",
       "      <td>3600.0</td>\n",
       "    </tr>\n",
       "    <tr>\n",
       "      <th>216545</th>\n",
       "      <td>2103203254</td>\n",
       "      <td>The new face of Canadian Science Fiction</td>\n",
       "      <td>Fiction</td>\n",
       "      <td>Publishing</td>\n",
       "      <td>USD</td>\n",
       "      <td>2010-05-16</td>\n",
       "      <td>2010-03-18 04:35:31</td>\n",
       "      <td>failed</td>\n",
       "      <td>66</td>\n",
       "      <td>US</td>\n",
       "      <td>10797.00</td>\n",
       "      <td>10000.0</td>\n",
       "    </tr>\n",
       "    <tr>\n",
       "      <th>298960</th>\n",
       "      <td>59246799</td>\n",
       "      <td>Key Wrench - Unlock Your Life!</td>\n",
       "      <td>Product Design</td>\n",
       "      <td>Design</td>\n",
       "      <td>USD</td>\n",
       "      <td>2013-10-04</td>\n",
       "      <td>2013-08-24 05:42:10</td>\n",
       "      <td>failed</td>\n",
       "      <td>208</td>\n",
       "      <td>US</td>\n",
       "      <td>6183.00</td>\n",
       "      <td>6000.0</td>\n",
       "    </tr>\n",
       "    <tr>\n",
       "      <th>337790</th>\n",
       "      <td>790638930</td>\n",
       "      <td>From Neurons to Nirvana: The Great Medicines</td>\n",
       "      <td>Documentary</td>\n",
       "      <td>Film &amp; Video</td>\n",
       "      <td>USD</td>\n",
       "      <td>2011-09-23</td>\n",
       "      <td>2011-07-25 20:35:41</td>\n",
       "      <td>failed</td>\n",
       "      <td>113</td>\n",
       "      <td>US</td>\n",
       "      <td>40000.00</td>\n",
       "      <td>40000.0</td>\n",
       "    </tr>\n",
       "  </tbody>\n",
       "</table>\n",
       "</div>"
      ],
      "text/plain": [
       "                ID                                               name  \\\n",
       "16780   1085047405                                          \"Balance\"   \n",
       "58558   1297794474   Music Empowers - A Day with the Accende Ensemble   \n",
       "136909  1695255515  POPE! an epic musical, opening at NY Fringe Fe...   \n",
       "216545  2103203254           The new face of Canadian Science Fiction   \n",
       "298960    59246799                     Key Wrench - Unlock Your Life!   \n",
       "337790   790638930       From Neurons to Nirvana: The Great Medicines   \n",
       "\n",
       "               category main_category currency   deadline            launched  \\\n",
       "16780              Jazz         Music      USD 2013-04-04 2013-03-05 10:55:56   \n",
       "58558   Classical Music         Music      USD 2012-01-04 2011-11-07 15:20:24   \n",
       "136909          Theater       Theater      USD 2010-08-20 2010-07-21 05:48:11   \n",
       "216545          Fiction    Publishing      USD 2010-05-16 2010-03-18 04:35:31   \n",
       "298960   Product Design        Design      USD 2013-10-04 2013-08-24 05:42:10   \n",
       "337790      Documentary  Film & Video      USD 2011-09-23 2011-07-25 20:35:41   \n",
       "\n",
       "         state  backers country  usd_pledged_real  usd_goal_real  \n",
       "16780   failed      141      US          23020.01        23000.0  \n",
       "58558   failed       20      US           3087.50         3000.0  \n",
       "136909  failed       30      US           3600.00         3600.0  \n",
       "216545  failed       66      US          10797.00        10000.0  \n",
       "298960  failed      208      US           6183.00         6000.0  \n",
       "337790  failed      113      US          40000.00        40000.0  "
      ]
     },
     "execution_count": 20,
     "metadata": {},
     "output_type": "execute_result"
    }
   ],
   "source": [
    "success = kickstarter[kickstarter['usd_pledged_real'] >= kickstarter['usd_goal_real']] \n",
    "wrong = success[success['state']=='failed']\n",
    "index_C = wrong.index\n",
    "wrong"
   ]
  },
  {
   "cell_type": "markdown",
   "metadata": {},
   "source": [
    "We identify 6 projects that had their <font color = 'blue'>usd_pledged_real</font> meeting their <font color = 'blue'>usd_goal_real</font>, yet were considered failed. This is an error, since Kickstarter by definition awards projects that met their goals as successful. A good example of this can be found in the following link.\n",
    "\n",
    "https://www.kickstarter.com/projects/1755876060/music-empowers-a-day-with-the-accende-ensemble/ (3,087 pledged of 3,000 goal, \"Funding Unsuccessful\"). We save the indexes of these rows for deletion."
   ]
  },
  {
   "cell_type": "markdown",
   "metadata": {},
   "source": [
    "#### (d) Undefined Country and State"
   ]
  },
  {
   "cell_type": "code",
   "execution_count": 21,
   "metadata": {},
   "outputs": [
    {
     "name": "stdout",
     "output_type": "stream",
     "text": [
      "['N,0\"']\n"
     ]
    }
   ],
   "source": [
    "undefined = kickstarter[kickstarter['state'] == 'undefined']\n",
    "print(undefined.country.unique())\n",
    "index_D = kickstarter[kickstarter.country == 'N,0\"'].index"
   ]
  },
  {
   "cell_type": "markdown",
   "metadata": {},
   "source": [
    "Finally, we save the rows with a nonsensical country code of 'N,0'. Interestingly, these rows also contain the same rows where the <font color='blue'>state</font> was considered 'undefined'."
   ]
  },
  {
   "cell_type": "markdown",
   "metadata": {},
   "source": [
    "### 5. Remove Problematic Rows"
   ]
  },
  {
   "cell_type": "code",
   "execution_count": 22,
   "metadata": {},
   "outputs": [
    {
     "name": "stdout",
     "output_type": "stream",
     "text": [
      "3814\n",
      "True\n"
     ]
    },
    {
     "data": {
      "text/plain": [
       "(374847, 12)"
      ]
     },
     "execution_count": 22,
     "metadata": {},
     "output_type": "execute_result"
    }
   ],
   "source": [
    "allindexes_remove = list(index_A) + list(index_B) + list(index_C) + list(index_D)\n",
    "print(len(set(allindexes_remove))) \n",
    "print(len(allindexes_remove) == len(set(allindexes_remove)))\n",
    "kickstarter_cleaned = kickstarter.drop(labels=allindexes_remove)\n",
    "kickstarter_cleaned.shape"
   ]
  },
  {
   "cell_type": "markdown",
   "metadata": {},
   "source": [
    "Now, we have removed the 3814 rows corresponding to all the indexes saved above. After filtering our dataset, the shape of our DataFrame has gone from (378661,15) to (374847, 15), a removal of approximately 1.01% of the original data."
   ]
  },
  {
   "cell_type": "markdown",
   "metadata": {},
   "source": [
    "### 6. Feature Engineering"
   ]
  },
  {
   "cell_type": "markdown",
   "metadata": {},
   "source": [
    "In order to prepare the data for further analysis and modeling, we have created a few new features from existing ones. The list of features created are as follows:\n",
    "\n",
    "1. <font color = 'blue'>project_length</font>: This feature tracks the number of days between a project's launch date and deadline where a project was active for. We also checked for negative values, which did not exist thankfully.\n",
    "2. <font color = 'blue'>pledged_per_backer</font>: This feature tracks the mean amount of money (converted to USD) pledged by each individual backer. We have also removed rows with <font color = 'blue'>pledged_per_backer</font> listed as Inf, as these are caused by projects with 0 backers."
   ]
  },
  {
   "cell_type": "code",
   "execution_count": 25,
   "metadata": {
    "scrolled": true
   },
   "outputs": [
    {
     "name": "stdout",
     "output_type": "stream",
     "text": [
      "156430   00:07:17\n",
      "182763   01:42:57\n",
      "65731    01:48:40\n",
      "370904   02:15:07\n",
      "70034    02:17:45\n",
      "Name: project_length, dtype: timedelta64[ns]\n"
     ]
    },
    {
     "data": {
      "text/plain": [
       "(323043, 14)"
      ]
     },
     "execution_count": 25,
     "metadata": {},
     "output_type": "execute_result"
    }
   ],
   "source": [
    "kickstarter_cleaned['deadline'] = pd.to_datetime(kickstarter_cleaned.deadline)\n",
    "kickstarter_cleaned['launched'] = pd.to_datetime(kickstarter_cleaned.launched)\n",
    "kickstarter_cleaned['project_length'] = kickstarter_cleaned['deadline'] - kickstarter_cleaned['launched']\n",
    "print(kickstarter_cleaned.project_length.sort_values().head()) #no negative days\n",
    "kickstarter_cleaned['project_length'] = kickstarter_cleaned.project_length.dt.days\n",
    "\n",
    "kickstarter_cleaned['pledged_per_backer'] = kickstarter_cleaned['usd_pledged_real'] / kickstarter_cleaned['backers']\n",
    "kickstarter_cleaned = kickstarter_cleaned[~kickstarter_cleaned.isin([np.nan, np.inf, -np.inf]).any(1)]\n",
    "\n",
    "kickstarter_cleaned.shape"
   ]
  },
  {
   "cell_type": "markdown",
   "metadata": {},
   "source": [
    "# Exploratory Analysis of the Data"
   ]
  },
  {
   "cell_type": "markdown",
   "metadata": {},
   "source": [
    "### Guiding Question 1: Which catgory is the most well-funded?"
   ]
  },
  {
   "cell_type": "code",
   "execution_count": 93,
   "metadata": {},
   "outputs": [
    {
     "data": {
      "text/plain": [
       "(292819, 14)"
      ]
     },
     "execution_count": 93,
     "metadata": {},
     "output_type": "execute_result"
    }
   ],
   "source": [
    "projects = kickstarter_cleaned[(kickstarter_cleaned['state'] == 'failed') | (kickstarter_cleaned['state'] == 'successful')]\n",
    "projects.shape"
   ]
  },
  {
   "cell_type": "markdown",
   "metadata": {},
   "source": [
    "### Success Rate by Category"
   ]
  },
  {
   "cell_type": "code",
   "execution_count": 88,
   "metadata": {
    "scrolled": true
   },
   "outputs": [
    {
     "data": {
      "image/png": "[encoded data removed]",
      "text/plain": [
       "<Figure size 432x288 with 1 Axes>"
      ]
     },
     "metadata": {
      "needs_background": "light"
     },
     "output_type": "display_data"
    }
   ],
   "source": [
    "grouped = projects.groupby(['main_category','state']).ID.count()\n",
    "total = projects.groupby('main_category').state.count()\n",
    "prop = np.round((grouped/total),2).unstack().sort_values(by='successful')\n",
    "\n",
    "prop.plot(kind='bar',stacked=True)\n",
    "plt.title('Proportion of Successful vs Failed Projects by Main Category')\n",
    "plt.ylabel('Success Rate')\n",
    "plt.xlabel('Main Category')\n",
    "plt.legend(loc='upper right',bbox_to_anchor=(1.3,1))\n",
    "plt.show()"
   ]
  },
  {
   "cell_type": "markdown",
   "metadata": {},
   "source": [
    "Top 3 categories with the highest success rates are Dance, Theater, and Comics. On the other hand, Technology, Journalism and Crafts have the lowest success rates. We continue to look at the number of projects in each category to see if there's any relationship."
   ]
  },
  {
   "cell_type": "markdown",
   "metadata": {},
   "source": [
    "### Frequency of Project v.s. Category"
   ]
  },
  {
   "cell_type": "code",
   "execution_count": 89,
   "metadata": {},
   "outputs": [
    {
     "data": {
      "image/png": "[encoded data removed]",
      "text/plain": [
       "<Figure size 432x288 with 1 Axes>"
      ]
     },
     "metadata": {
      "needs_background": "light"
     },
     "output_type": "display_data"
    }
   ],
   "source": [
    "freq_category = sns.countplot(projects.main_category,order = projects['main_category'].value_counts().index)\n",
    "freq_category.set_xticklabels(freq_category.get_xticklabels(), rotation=50,horizontalalignment='right')\n",
    "freq_category.set_title(\"Frequency Project v.s. Category\")\n",
    "plt.show()"
   ]
  },
  {
   "cell_type": "markdown",
   "metadata": {},
   "source": [
    "The most popular category on Kickstarter is Film & Video, followed by Music, Publishing, and Games. The least popular categories on Kickstarter are Journalism, Dance, and Crafts. We can see that the categories with the highest success rate are also categories with less number of projects (e.g. Dance). \n",
    "\n",
    "This lead us to wonder whether there is a relationship between number of projects and category success rate."
   ]
  },
  {
   "cell_type": "markdown",
   "metadata": {},
   "source": [
    "### Frequency of Project v.s. Category Success Rate "
   ]
  },
  {
   "cell_type": "code",
   "execution_count": 90,
   "metadata": {},
   "outputs": [
    {
     "data": {
      "image/png": "[encoded data removed]",
      "text/plain": [
       "<Figure size 432x288 with 1 Axes>"
      ]
     },
     "metadata": {
      "needs_background": "light"
     },
     "output_type": "display_data"
    },
    {
     "data": {
      "text/html": [
       "<div>\n",
       "<style scoped>\n",
       "    .dataframe tbody tr th:only-of-type {\n",
       "        vertical-align: middle;\n",
       "    }\n",
       "\n",
       "    .dataframe tbody tr th {\n",
       "        vertical-align: top;\n",
       "    }\n",
       "\n",
       "    .dataframe thead th {\n",
       "        text-align: right;\n",
       "    }\n",
       "</style>\n",
       "<table border=\"1\" class=\"dataframe\">\n",
       "  <thead>\n",
       "    <tr style=\"text-align: right;\">\n",
       "      <th></th>\n",
       "      <th>success_rate</th>\n",
       "      <th>count</th>\n",
       "    </tr>\n",
       "  </thead>\n",
       "  <tbody>\n",
       "    <tr>\n",
       "      <th>success_rate</th>\n",
       "      <td>1.000000</td>\n",
       "      <td>0.009556</td>\n",
       "    </tr>\n",
       "    <tr>\n",
       "      <th>count</th>\n",
       "      <td>0.009556</td>\n",
       "      <td>1.000000</td>\n",
       "    </tr>\n",
       "  </tbody>\n",
       "</table>\n",
       "</div>"
      ],
      "text/plain": [
       "              success_rate     count\n",
       "success_rate      1.000000  0.009556\n",
       "count             0.009556  1.000000"
      ]
     },
     "execution_count": 90,
     "metadata": {},
     "output_type": "execute_result"
    }
   ],
   "source": [
    "df1 = pd.DataFrame({'category':prop.index.tolist(),'success_rate': prop.get('successful')})\n",
    "\n",
    "df2 = pd.DataFrame({'category':projects.main_category.value_counts().index.tolist(),\n",
    "                    'count': projects.main_category.value_counts()})\n",
    "\n",
    "df3 = pd.merge(df1,df2)\n",
    "\n",
    "df3.plot(kind='scatter',x='count',y='success_rate')\n",
    "plt.title('Category Success Rate v.s. Number of Projects in Category')\n",
    "plt.ylabel('Category Overall Success Rate')\n",
    "plt.xlabel('Number of Projects in Category')\n",
    "plt.show()\n",
    "\n",
    "df3.corr()"
   ]
  },
  {
   "cell_type": "markdown",
   "metadata": {},
   "source": [
    "There is no correlation between number of projects and category success rate."
   ]
  },
  {
   "cell_type": "markdown",
   "metadata": {},
   "source": [
    "### Average Goal v.s. Category (kc - i dont think this fits here) - REMOVE "
   ]
  },
  {
   "cell_type": "code",
   "execution_count": 42,
   "metadata": {},
   "outputs": [
    {
     "data": {
      "image/png": "[encoded data removed]",
      "text/plain": [
       "<Figure size 432x288 with 1 Axes>"
      ]
     },
     "metadata": {
      "needs_background": "light"
     },
     "output_type": "display_data"
    }
   ],
   "source": [
    "avg_pledged_goal = projects.groupby(['main_category']).usd_goal_real.mean().sort_values(ascending=False)\n",
    "avg_pledged_goal\n",
    "avg_pledged_goal.plot(kind=\"bar\")\n",
    "plt.title(\"Average Amount Pledged Goal v.s. Category\")\n",
    "plt.show()"
   ]
  },
  {
   "cell_type": "code",
   "execution_count": null,
   "metadata": {},
   "outputs": [],
   "source": [
    "When "
   ]
  },
  {
   "cell_type": "markdown",
   "metadata": {},
   "source": [
    "### Backers v.s. Category"
   ]
  },
  {
   "cell_type": "code",
   "execution_count": 94,
   "metadata": {},
   "outputs": [
    {
     "data": {
      "image/png": "[encoded data removed]",
      "text/plain": [
       "<Figure size 432x288 with 1 Axes>"
      ]
     },
     "metadata": {
      "needs_background": "light"
     },
     "output_type": "display_data"
    }
   ],
   "source": [
    "pledged = projects.groupby(['main_category']).backers.sum().sort_values(ascending=False)\n",
    "pledged.plot(kind=\"bar\")\n",
    "plt.title(\"Number of Backers v.s. Category\")\n",
    "plt.show()"
   ]
  },
  {
   "cell_type": "markdown",
   "metadata": {},
   "source": [
    "Categories with the most backers on Kickstarter are Games, Design, and Technology. This may imply that the general audience on Kickstarter are mostly interested in projects within these categories."
   ]
  },
  {
   "cell_type": "markdown",
   "metadata": {},
   "source": [
    "### Average Amount Pledged v.s. Category"
   ]
  },
  {
   "cell_type": "code",
   "execution_count": 30,
   "metadata": {},
   "outputs": [
    {
     "data": {
      "image/png": "[encoded data removed]",
      "text/plain": [
       "<Figure size 432x288 with 1 Axes>"
      ]
     },
     "metadata": {
      "needs_background": "light"
     },
     "output_type": "display_data"
    }
   ],
   "source": [
    "avg_pledged = projects.groupby(['main_category']).usd_pledged_real.mean().sort_values(ascending=False)\n",
    "avg_pledged\n",
    "avg_pledged.plot(kind=\"bar\")\n",
    "plt.title(\"Average Amount Pledged v.s. Category\")\n",
    "plt.show()"
   ]
  },
  {
   "cell_type": "markdown",
   "metadata": {},
   "source": [
    "On avergae, there is more "
   ]
  },
  {
   "cell_type": "markdown",
   "metadata": {},
   "source": [
    "### Average Amount Pledged per Backer v.s. Category"
   ]
  },
  {
   "cell_type": "code",
   "execution_count": 31,
   "metadata": {
    "scrolled": true
   },
   "outputs": [
    {
     "data": {
      "image/png": "[encoded data removed]",
      "text/plain": [
       "<Figure size 432x288 with 1 Axes>"
      ]
     },
     "metadata": {
      "needs_background": "light"
     },
     "output_type": "display_data"
    }
   ],
   "source": [
    "avg_pledged_backer = projects.groupby(['main_category']).pledged_per_backer.mean().sort_values(ascending=False)\n",
    "avg_pledged_backer\n",
    "avg_pledged_backer.plot(kind=\"bar\")\n",
    "plt.title(\"Average Amount Pledged per Backer v.s. Category\")\n",
    "plt.show()"
   ]
  },
  {
   "cell_type": "markdown",
   "metadata": {},
   "source": [
    "### Guiding Question 2: Exploring Highly Successful Projects"
   ]
  },
  {
   "cell_type": "code",
   "execution_count": 102,
   "metadata": {},
   "outputs": [
    {
     "data": {
      "text/plain": [
       "(323043, 15)"
      ]
     },
     "execution_count": 102,
     "metadata": {},
     "output_type": "execute_result"
    }
   ],
   "source": [
    "kickstarter_cleaned['percent_funded'] = np.round((kickstarter_cleaned['usd_pledged_real'] / kickstarter_cleaned['usd_goal_real']),3)\n",
    "kickstarter_cleaned.head()\n",
    "kickstarter_cleaned.shape"
   ]
  },
  {
   "cell_type": "code",
   "execution_count": 103,
   "metadata": {},
   "outputs": [
    {
     "data": {
      "text/plain": [
       "count    323043.000000\n",
       "mean          3.786474\n",
       "std         288.966304\n",
       "min           0.000000\n",
       "25%           0.025000\n",
       "50%           0.275000\n",
       "75%           1.106000\n",
       "max      104277.890000\n",
       "Name: percent_funded, dtype: float64"
      ]
     },
     "execution_count": 103,
     "metadata": {},
     "output_type": "execute_result"
    }
   ],
   "source": [
    "kickstarter_cleaned['percent_funded'].describe()"
   ]
  },
  {
   "cell_type": "code",
   "execution_count": 104,
   "metadata": {},
   "outputs": [
    {
     "data": {
      "text/plain": [
       "12.496"
      ]
     },
     "execution_count": 104,
     "metadata": {},
     "output_type": "execute_result"
    }
   ],
   "source": [
    "np.percentile(kickstarter_cleaned['percent_funded'],99)"
   ]
  },
  {
   "cell_type": "markdown",
   "metadata": {},
   "source": [
    "The median is 0.275, 50% of the projects get 0.275 times their goal -- failed. The 99th percentile of projects with highest percentage funded relative to their goal is 12.496. Let's discover these projects that have really high funding!"
   ]
  },
  {
   "cell_type": "code",
   "execution_count": 105,
   "metadata": {},
   "outputs": [
    {
     "data": {
      "text/html": [
       "<div>\n",
       "<style scoped>\n",
       "    .dataframe tbody tr th:only-of-type {\n",
       "        vertical-align: middle;\n",
       "    }\n",
       "\n",
       "    .dataframe tbody tr th {\n",
       "        vertical-align: top;\n",
       "    }\n",
       "\n",
       "    .dataframe thead th {\n",
       "        text-align: right;\n",
       "    }\n",
       "</style>\n",
       "<table border=\"1\" class=\"dataframe\">\n",
       "  <thead>\n",
       "    <tr style=\"text-align: right;\">\n",
       "      <th></th>\n",
       "      <th>ID</th>\n",
       "      <th>name</th>\n",
       "      <th>category</th>\n",
       "      <th>main_category</th>\n",
       "      <th>currency</th>\n",
       "      <th>deadline</th>\n",
       "      <th>launched</th>\n",
       "      <th>state</th>\n",
       "      <th>backers</th>\n",
       "      <th>country</th>\n",
       "      <th>usd_pledged_real</th>\n",
       "      <th>usd_goal_real</th>\n",
       "      <th>project_length</th>\n",
       "      <th>pledged_per_backer</th>\n",
       "      <th>percent_funded</th>\n",
       "    </tr>\n",
       "  </thead>\n",
       "  <tbody>\n",
       "    <tr>\n",
       "      <th>369176</th>\n",
       "      <td>9509582</td>\n",
       "      <td>VULFPECK /// The Beautiful Game</td>\n",
       "      <td>Music</td>\n",
       "      <td>Music</td>\n",
       "      <td>USD</td>\n",
       "      <td>2016-10-17</td>\n",
       "      <td>2016-08-18 09:04:03</td>\n",
       "      <td>successful</td>\n",
       "      <td>3917</td>\n",
       "      <td>US</td>\n",
       "      <td>104277.89</td>\n",
       "      <td>1.0</td>\n",
       "      <td>59</td>\n",
       "      <td>26.621876</td>\n",
       "      <td>104277.89</td>\n",
       "    </tr>\n",
       "    <tr>\n",
       "      <th>186096</th>\n",
       "      <td>1947298033</td>\n",
       "      <td>Re-covering with Friends</td>\n",
       "      <td>Rock</td>\n",
       "      <td>Music</td>\n",
       "      <td>USD</td>\n",
       "      <td>2016-12-13</td>\n",
       "      <td>2016-10-14 19:04:27</td>\n",
       "      <td>successful</td>\n",
       "      <td>955</td>\n",
       "      <td>US</td>\n",
       "      <td>68764.10</td>\n",
       "      <td>1.0</td>\n",
       "      <td>59</td>\n",
       "      <td>72.004293</td>\n",
       "      <td>68764.10</td>\n",
       "    </tr>\n",
       "    <tr>\n",
       "      <th>360721</th>\n",
       "      <td>907870443</td>\n",
       "      <td>VULFPECK /// Thrill of the Arts</td>\n",
       "      <td>Music</td>\n",
       "      <td>Music</td>\n",
       "      <td>USD</td>\n",
       "      <td>2015-10-09</td>\n",
       "      <td>2015-08-10 19:31:56</td>\n",
       "      <td>successful</td>\n",
       "      <td>1673</td>\n",
       "      <td>US</td>\n",
       "      <td>55266.57</td>\n",
       "      <td>1.0</td>\n",
       "      <td>59</td>\n",
       "      <td>33.034411</td>\n",
       "      <td>55266.57</td>\n",
       "    </tr>\n",
       "    <tr>\n",
       "      <th>76290</th>\n",
       "      <td>1388400809</td>\n",
       "      <td>Energy Hook</td>\n",
       "      <td>Video Games</td>\n",
       "      <td>Games</td>\n",
       "      <td>USD</td>\n",
       "      <td>2013-06-10</td>\n",
       "      <td>2013-05-10 01:22:38</td>\n",
       "      <td>successful</td>\n",
       "      <td>1622</td>\n",
       "      <td>US</td>\n",
       "      <td>41535.01</td>\n",
       "      <td>1.0</td>\n",
       "      <td>30</td>\n",
       "      <td>25.607281</td>\n",
       "      <td>41535.01</td>\n",
       "    </tr>\n",
       "    <tr>\n",
       "      <th>81368</th>\n",
       "      <td>1413857335</td>\n",
       "      <td>Band of Brothers 2nd Chance</td>\n",
       "      <td>Tabletop Games</td>\n",
       "      <td>Games</td>\n",
       "      <td>USD</td>\n",
       "      <td>2016-08-02</td>\n",
       "      <td>2016-07-12 00:29:12</td>\n",
       "      <td>successful</td>\n",
       "      <td>268</td>\n",
       "      <td>US</td>\n",
       "      <td>32843.00</td>\n",
       "      <td>1.0</td>\n",
       "      <td>20</td>\n",
       "      <td>122.548507</td>\n",
       "      <td>32843.00</td>\n",
       "    </tr>\n",
       "  </tbody>\n",
       "</table>\n",
       "</div>"
      ],
      "text/plain": [
       "                ID                             name        category  \\\n",
       "369176     9509582  VULFPECK /// The Beautiful Game           Music   \n",
       "186096  1947298033         Re-covering with Friends            Rock   \n",
       "360721   907870443  VULFPECK /// Thrill of the Arts           Music   \n",
       "76290   1388400809                      Energy Hook     Video Games   \n",
       "81368   1413857335      Band of Brothers 2nd Chance  Tabletop Games   \n",
       "\n",
       "       main_category currency   deadline            launched       state  \\\n",
       "369176         Music      USD 2016-10-17 2016-08-18 09:04:03  successful   \n",
       "186096         Music      USD 2016-12-13 2016-10-14 19:04:27  successful   \n",
       "360721         Music      USD 2015-10-09 2015-08-10 19:31:56  successful   \n",
       "76290          Games      USD 2013-06-10 2013-05-10 01:22:38  successful   \n",
       "81368          Games      USD 2016-08-02 2016-07-12 00:29:12  successful   \n",
       "\n",
       "        backers country  usd_pledged_real  usd_goal_real  project_length  \\\n",
       "369176     3917      US         104277.89            1.0              59   \n",
       "186096      955      US          68764.10            1.0              59   \n",
       "360721     1673      US          55266.57            1.0              59   \n",
       "76290      1622      US          41535.01            1.0              30   \n",
       "81368       268      US          32843.00            1.0              20   \n",
       "\n",
       "        pledged_per_backer  percent_funded  \n",
       "369176           26.621876       104277.89  \n",
       "186096           72.004293        68764.10  \n",
       "360721           33.034411        55266.57  \n",
       "76290            25.607281        41535.01  \n",
       "81368           122.548507        32843.00  "
      ]
     },
     "execution_count": 105,
     "metadata": {},
     "output_type": "execute_result"
    }
   ],
   "source": [
    "highly_funded = kickstarter_cleaned['percent_funded'] > 12.496\n",
    "highly_funded_kickstarters = kickstarter_cleaned[highly_funded].sort_values(by='percent_funded',ascending=False)\n",
    "highly_funded_kickstarters.head()"
   ]
  },
  {
   "cell_type": "code",
   "execution_count": 123,
   "metadata": {},
   "outputs": [
    {
     "data": {
      "text/plain": [
       "1.0        228\n",
       "1000.0     193\n",
       "10000.0    164\n",
       "500.0      159\n",
       "5000.0     152\n",
       "100.0      128\n",
       "20000.0     84\n",
       "15000.0     78\n",
       "50000.0     75\n",
       "10.0        53\n",
       "Name: usd_goal_real, dtype: int64"
      ]
     },
     "execution_count": 123,
     "metadata": {},
     "output_type": "execute_result"
    }
   ],
   "source": [
    "highly_funded_kickstarters['usd_goal_real'].value_counts(sort=True).head(10)"
   ]
  },
  {
   "cell_type": "code",
   "execution_count": 107,
   "metadata": {},
   "outputs": [
    {
     "data": {
      "text/plain": [
       "Music           90\n",
       "Games           67\n",
       "Art             59\n",
       "Film & Video    50\n",
       "Comics          38\n",
       "Publishing      37\n",
       "Technology      28\n",
       "Food            18\n",
       "Design          16\n",
       "Crafts           7\n",
       "Theater          6\n",
       "Fashion          6\n",
       "Photography      5\n",
       "Journalism       1\n",
       "Dance            1\n",
       "Name: main_category, dtype: int64"
      ]
     },
     "execution_count": 107,
     "metadata": {},
     "output_type": "execute_result"
    }
   ],
   "source": [
    "low_goal = highly_funded_kickstarters[highly_funded_kickstarters['usd_goal_real'] <= 10]\n",
    "low_goal.main_category.value_counts()"
   ]
  },
  {
   "cell_type": "markdown",
   "metadata": {},
   "source": [
    "Mostly projects that have goals lower than 10 are music... include an example - to see where they go from there."
   ]
  },
  {
   "cell_type": "code",
   "execution_count": null,
   "metadata": {},
   "outputs": [],
   "source": []
  },
  {
   "cell_type": "markdown",
   "metadata": {},
   "source": [
    "We found that there are many projects that have outlier success because their goals are too low. We take these projects out to see whether there is anything interesting with normal projects that do not have goal less than 50 dollars. "
   ]
  },
  {
   "cell_type": "code",
   "execution_count": 109,
   "metadata": {},
   "outputs": [
    {
     "data": {
      "text/html": [
       "<div>\n",
       "<style scoped>\n",
       "    .dataframe tbody tr th:only-of-type {\n",
       "        vertical-align: middle;\n",
       "    }\n",
       "\n",
       "    .dataframe tbody tr th {\n",
       "        vertical-align: top;\n",
       "    }\n",
       "\n",
       "    .dataframe thead th {\n",
       "        text-align: right;\n",
       "    }\n",
       "</style>\n",
       "<table border=\"1\" class=\"dataframe\">\n",
       "  <thead>\n",
       "    <tr style=\"text-align: right;\">\n",
       "      <th></th>\n",
       "      <th>ID</th>\n",
       "      <th>name</th>\n",
       "      <th>category</th>\n",
       "      <th>main_category</th>\n",
       "      <th>currency</th>\n",
       "      <th>deadline</th>\n",
       "      <th>launched</th>\n",
       "      <th>state</th>\n",
       "      <th>backers</th>\n",
       "      <th>country</th>\n",
       "      <th>usd_pledged_real</th>\n",
       "      <th>usd_goal_real</th>\n",
       "      <th>project_length</th>\n",
       "      <th>pledged_per_backer</th>\n",
       "      <th>percent_funded</th>\n",
       "    </tr>\n",
       "  </thead>\n",
       "  <tbody>\n",
       "    <tr>\n",
       "      <th>58331</th>\n",
       "      <td>1296661668</td>\n",
       "      <td>Solid Watch</td>\n",
       "      <td>Product Design</td>\n",
       "      <td>Design</td>\n",
       "      <td>USD</td>\n",
       "      <td>2011-08-29</td>\n",
       "      <td>2011-05-31 07:01:49</td>\n",
       "      <td>successful</td>\n",
       "      <td>474</td>\n",
       "      <td>US</td>\n",
       "      <td>134090.00</td>\n",
       "      <td>100.0</td>\n",
       "      <td>89</td>\n",
       "      <td>282.890295</td>\n",
       "      <td>1340.900</td>\n",
       "    </tr>\n",
       "    <tr>\n",
       "      <th>34796</th>\n",
       "      <td>1176482851</td>\n",
       "      <td>TREVOR HALL presents... The Fruitful Darkness</td>\n",
       "      <td>Music</td>\n",
       "      <td>Music</td>\n",
       "      <td>USD</td>\n",
       "      <td>2017-09-06</td>\n",
       "      <td>2017-08-07 20:17:39</td>\n",
       "      <td>successful</td>\n",
       "      <td>2254</td>\n",
       "      <td>US</td>\n",
       "      <td>137570.93</td>\n",
       "      <td>108.0</td>\n",
       "      <td>29</td>\n",
       "      <td>61.034130</td>\n",
       "      <td>1273.805</td>\n",
       "    </tr>\n",
       "    <tr>\n",
       "      <th>162266</th>\n",
       "      <td>1825421712</td>\n",
       "      <td>Keyflower is Awesome!</td>\n",
       "      <td>Tabletop Games</td>\n",
       "      <td>Games</td>\n",
       "      <td>USD</td>\n",
       "      <td>2015-08-11</td>\n",
       "      <td>2015-06-26 19:51:07</td>\n",
       "      <td>successful</td>\n",
       "      <td>2041</td>\n",
       "      <td>US</td>\n",
       "      <td>121033.00</td>\n",
       "      <td>100.0</td>\n",
       "      <td>45</td>\n",
       "      <td>59.300833</td>\n",
       "      <td>1210.330</td>\n",
       "    </tr>\n",
       "    <tr>\n",
       "      <th>19879</th>\n",
       "      <td>1100872151</td>\n",
       "      <td>The Let's Make a Bunch of Logos Project Part 3</td>\n",
       "      <td>Graphic Design</td>\n",
       "      <td>Design</td>\n",
       "      <td>USD</td>\n",
       "      <td>2012-01-14</td>\n",
       "      <td>2011-12-15 18:37:21</td>\n",
       "      <td>successful</td>\n",
       "      <td>475</td>\n",
       "      <td>US</td>\n",
       "      <td>26243.58</td>\n",
       "      <td>25.0</td>\n",
       "      <td>29</td>\n",
       "      <td>55.249642</td>\n",
       "      <td>1049.743</td>\n",
       "    </tr>\n",
       "    <tr>\n",
       "      <th>187652</th>\n",
       "      <td>1955357092</td>\n",
       "      <td>Exploding Kittens</td>\n",
       "      <td>Tabletop Games</td>\n",
       "      <td>Games</td>\n",
       "      <td>USD</td>\n",
       "      <td>2015-02-20</td>\n",
       "      <td>2015-01-20 19:00:19</td>\n",
       "      <td>successful</td>\n",
       "      <td>219382</td>\n",
       "      <td>US</td>\n",
       "      <td>8782571.99</td>\n",
       "      <td>10000.0</td>\n",
       "      <td>30</td>\n",
       "      <td>40.033239</td>\n",
       "      <td>878.257</td>\n",
       "    </tr>\n",
       "  </tbody>\n",
       "</table>\n",
       "</div>"
      ],
      "text/plain": [
       "                ID                                            name  \\\n",
       "58331   1296661668                                     Solid Watch   \n",
       "34796   1176482851   TREVOR HALL presents... The Fruitful Darkness   \n",
       "162266  1825421712                           Keyflower is Awesome!   \n",
       "19879   1100872151  The Let's Make a Bunch of Logos Project Part 3   \n",
       "187652  1955357092                               Exploding Kittens   \n",
       "\n",
       "              category main_category currency   deadline            launched  \\\n",
       "58331   Product Design        Design      USD 2011-08-29 2011-05-31 07:01:49   \n",
       "34796            Music         Music      USD 2017-09-06 2017-08-07 20:17:39   \n",
       "162266  Tabletop Games         Games      USD 2015-08-11 2015-06-26 19:51:07   \n",
       "19879   Graphic Design        Design      USD 2012-01-14 2011-12-15 18:37:21   \n",
       "187652  Tabletop Games         Games      USD 2015-02-20 2015-01-20 19:00:19   \n",
       "\n",
       "             state  backers country  usd_pledged_real  usd_goal_real  \\\n",
       "58331   successful      474      US         134090.00          100.0   \n",
       "34796   successful     2254      US         137570.93          108.0   \n",
       "162266  successful     2041      US         121033.00          100.0   \n",
       "19879   successful      475      US          26243.58           25.0   \n",
       "187652  successful   219382      US        8782571.99        10000.0   \n",
       "\n",
       "        project_length  pledged_per_backer  percent_funded  \n",
       "58331               89          282.890295        1340.900  \n",
       "34796               29           61.034130        1273.805  \n",
       "162266              45           59.300833        1210.330  \n",
       "19879               29           55.249642        1049.743  \n",
       "187652              30           40.033239         878.257  "
      ]
     },
     "execution_count": 109,
     "metadata": {},
     "output_type": "execute_result"
    }
   ],
   "source": [
    "reasonable_goal = (kickstarter_cleaned['percent_funded'] > 12.496) & (kickstarter_cleaned['usd_goal_real'] >= 25)\n",
    "\n",
    "new_highly_funded = kickstarter_cleaned[reasonable_goal]\n",
    "new_highly_funded.sort_values(by='percent_funded',ascending=False).head()"
   ]
  },
  {
   "cell_type": "code",
   "execution_count": 110,
   "metadata": {},
   "outputs": [
    {
     "data": {
      "text/plain": [
       "Games           885\n",
       "Design          731\n",
       "Technology      418\n",
       "Fashion         129\n",
       "Art             113\n",
       "Comics          105\n",
       "Publishing       86\n",
       "Crafts           77\n",
       "Food             69\n",
       "Music            41\n",
       "Film & Video     39\n",
       "Photography      17\n",
       "Journalism        3\n",
       "Theater           2\n",
       "Dance             1\n",
       "Name: main_category, dtype: int64"
      ]
     },
     "execution_count": 110,
     "metadata": {},
     "output_type": "execute_result"
    }
   ],
   "source": [
    "new_highly_funded.main_category.value_counts()"
   ]
  },
  {
   "cell_type": "code",
   "execution_count": 121,
   "metadata": {},
   "outputs": [
    {
     "data": {
      "text/plain": [
       "main_category\n",
       "Games           0.027098\n",
       "Design          0.025936\n",
       "Technology      0.015415\n",
       "Crafts          0.010792\n",
       "Comics          0.010144\n",
       "Fashion         0.007028\n",
       "Art             0.004680\n",
       "Food            0.003372\n",
       "Publishing      0.002639\n",
       "Photography     0.001928\n",
       "Music           0.000959\n",
       "Journalism      0.000845\n",
       "Film & Video    0.000730\n",
       "Dance           0.000286\n",
       "Theater         0.000199\n",
       "Name: ID, dtype: float64"
      ]
     },
     "execution_count": 121,
     "metadata": {},
     "output_type": "execute_result"
    }
   ],
   "source": [
    "grouped = new_highly_funded.groupby('main_category').ID.count()\n",
    "total = kickstarter_cleaned.groupby('main_category').ID.count()\n",
    "prop = (grouped/total).sort_values(ascending=False)\n",
    "prop"
   ]
  },
  {
   "cell_type": "markdown",
   "metadata": {},
   "source": [
    "top 1% performing projects with reasonable goals, make up 3% of projects in games.\n",
    "interesting - more concentrated in Games and Design categories.\n",
    "Design - miscalleaneous"
   ]
  },
  {
   "cell_type": "code",
   "execution_count": 112,
   "metadata": {},
   "outputs": [
    {
     "name": "stdout",
     "output_type": "stream",
     "text": [
      "110.2175528322855\n",
      "75.69599754197375\n"
     ]
    }
   ],
   "source": [
    "print(new_highly_funded.pledged_per_backer.mean())\n",
    "print(kickstarter_cleaned.pledged_per_backer.mean())"
   ]
  },
  {
   "cell_type": "markdown",
   "metadata": {},
   "source": [
    "### Guiding Question 3: What are some factors that may impact the outcome of a project?"
   ]
  },
  {
   "cell_type": "markdown",
   "metadata": {},
   "source": [
    "### Average Project Goal by Main Category & State"
   ]
  },
  {
   "cell_type": "code",
   "execution_count": 41,
   "metadata": {
    "scrolled": true
   },
   "outputs": [
    {
     "data": {
      "image/png": "[encoded data removed]",
      "text/plain": [
       "<Figure size 432x288 with 1 Axes>"
      ]
     },
     "metadata": {
      "needs_background": "light"
     },
     "output_type": "display_data"
    }
   ],
   "source": [
    "A = projects.groupby(['main_category','state']).usd_goal_real.median().unstack()\n",
    "A.plot(kind='bar')\n",
    "plt.title(\"Average Project Goal v.s. Category\")\n",
    "plt.ylabel(\"Average Project Goal\")\n",
    "plt.xlabel(\"Main Category\")\n",
    "plt.show()"
   ]
  },
  {
   "cell_type": "markdown",
   "metadata": {},
   "source": [
    "We can see that successful projects tend to have lower median of <font color = 'blue'>usd_goal_real</font> than that of failed projects across all categories."
   ]
  },
  {
   "cell_type": "markdown",
   "metadata": {},
   "source": [
    "### Average Pledged per Backer by Main Category & State"
   ]
  },
  {
   "cell_type": "code",
   "execution_count": 33,
   "metadata": {},
   "outputs": [
    {
     "data": {
      "image/png": "[encoded data removed]",
      "text/plain": [
       "<Figure size 432x288 with 1 Axes>"
      ]
     },
     "metadata": {
      "needs_background": "light"
     },
     "output_type": "display_data"
    }
   ],
   "source": [
    "A = projects.groupby(['main_category','state']).pledged_per_backer.mean().unstack()\n",
    "A.plot(kind=\"bar\") \n",
    "plt.title(\"Average pledged per Backer by Category\")\n",
    "plt.ylabel(\"Average Pledged per Backer\")\n",
    "plt.xlabel(\"Main Category\")\n",
    "plt.show()"
   ]
  },
  {
   "cell_type": "markdown",
   "metadata": {},
   "source": [
    "We can see that the average <font color = 'blue'>pledged_per_backer</font> is higher for successful projects across all categories."
   ]
  },
  {
   "cell_type": "markdown",
   "metadata": {},
   "source": [
    "# Data Modeling"
   ]
  },
  {
   "cell_type": "code",
   "execution_count": null,
   "metadata": {},
   "outputs": [],
   "source": [
    "import statsmodels.formula.api as smf\n",
    "from sklearn.model_selection import train_test_split\n",
    "from sklearn.linear_model import LogisticRegression,LassoCV"
   ]
  },
  {
   "cell_type": "markdown",
   "metadata": {},
   "source": [
    "In order to preprocess our data for modeling whether a project will be 'successful' or 'failed', we will have to filter our dataset to only include projects with the feature <font color = 'blue'>state</font> equal to one of these two. Because of the nature of the smf module, we will gave to convert the values to 1 or 0."
   ]
  },
  {
   "cell_type": "code",
   "execution_count": null,
   "metadata": {},
   "outputs": [],
   "source": [
    "clean_state = {'state': {'failed': 0, \"successful\": 1}}\n",
    "kickstarter_cleaned.replace(clean_state, inplace=True)\n",
    "kickstarter_fail_successful = kickstarter_cleaned[(kickstarter_cleaned.state == 1) | (kickstarter_cleaned.state == 0)] "
   ]
  },
  {
   "cell_type": "markdown",
   "metadata": {},
   "source": [
    "(TO BE CONFIRMED) We have also filtered the data to only include projects with <font color = 'blue'>main_category</font> equal to 'Games'. This allows us to create a less computationally expensive model and a model that can identify important subcategories (the feature <font color = 'blue'>category</font>) within the 'Games' <font color = 'blue'>main_category</font>."
   ]
  },
  {
   "cell_type": "code",
   "execution_count": null,
   "metadata": {},
   "outputs": [],
   "source": [
    "kickstarter_games = kickstarter_fail_successful[kickstarter_fail_successful['main_category'] == 'Games']"
   ]
  },
  {
   "cell_type": "code",
   "execution_count": null,
   "metadata": {},
   "outputs": [],
   "source": [
    "X_train, X_test, y_train, y_test = train_test_split(kickstarter_games[['ID','name','category','main_category','currency','deadline','launched','backers','country','usd_pledged_real','usd_goal_real','project_length','pledged_per_backer']],kickstarter_games[['state']], test_size=0.3)\n",
    "print(X_train.shape, y_train.shape)\n",
    "print(X_test.shape, y_test.shape)\n",
    "\n",
    "y_train['state'] = y_train.state.apply(int)\n",
    "y_test['state'] = y_test.state.apply(int)"
   ]
  },
  {
   "cell_type": "code",
   "execution_count": null,
   "metadata": {},
   "outputs": [],
   "source": [
    "logitmodel = smf.logit(formula = 'state ~ category + usd_goal_real + project_length + pledged_per_backer', data = pd.concat([X_train, y_train], axis=1))\n",
    "results = logitmodel.fit()\n",
    "print(results.summary())"
   ]
  },
  {
   "cell_type": "code",
   "execution_count": null,
   "metadata": {},
   "outputs": [],
   "source": [
    "testresult_logit = results.predict(X_test)\n",
    "testresult_logit = np.where(testresult_logit > 0.5, 1, 0)\n",
    "np.mean(testresult_logit == y_test.state.to_numpy()) #~70% accuracy on test dataset"
   ]
  },
  {
   "cell_type": "code",
   "execution_count": null,
   "metadata": {
    "scrolled": true
   },
   "outputs": [],
   "source": [
    "y_test.state.value_counts().iloc[0]/(y_test.state.value_counts().iloc[0] + y_test.state.value_counts().iloc[1])"
   ]
  },
  {
   "cell_type": "markdown",
   "metadata": {},
   "source": [
    "After splitting our results into a train and test set, we obtain an accuracy of ~70% on the test dataset. TO DO: Crossvalidation to verify our results (but based on running this code multiple times the 70% appears to hold steady). This result is indeed significant, as our model predictions represent a noticeable improvement in accuracy (compared to merely predicting 'failed' or 'successful' for all of the test data, ~53%)"
   ]
  }
 ],
 "metadata": {
  "kernelspec": {
   "display_name": "Python 3",
   "language": "python",
   "name": "python3"
  },
  "language_info": {
   "codemirror_mode": {
    "name": "ipython",
    "version": 3
   },
   "file_extension": ".py",
   "mimetype": "text/x-python",
   "name": "python",
   "nbconvert_exporter": "python",
   "pygments_lexer": "ipython3",
   "version": "3.7.3"
  }
 },
 "nbformat": 4,
 "nbformat_minor": 2
}
