{
 "cells": [
  {
   "cell_type": "markdown",
   "metadata": {},
   "source": [
    "# STATS 131 Project: Kickstarter\n",
    "Team 15: HALLO\n",
    "\n",
    "Data: https://www.kaggle.com/kemical/kickstarter-projects/\n",
    "\n",
    "Presentation:\n",
    "\n",
    "Members: \n",
    "Kai Chen Tan,\n",
    "Qi Jing Yap,\n",
    "Yuqing Yang,\n",
    "Steven Salmeron"
   ]
  },
  {
   "cell_type": "markdown",
   "metadata": {},
   "source": [
    "# Data Background\n",
    "## What is Kickstarter?\n",
    "\n",
    "Kickstarter is a fundraising platform with the goal of helping to “bring creative projects to life”, by providing a way for artists to be funded directly by fans of the project. This is done through a campaign, a page where an artist outlines their project, what its purpose is, how much money they need to complete it and what this money will be used for, how much time they plan on giving the campaign to raise its funding goal, and why people should help fund it, including rewards for pledging certain amounts and potential stretch goals past the initial goal to enhance the project. The platform launched on April 28, 2009 and has seen over 450,000 projects pass through it.\n",
    "\n",
    "## Basics of a Kickstarter Project\n",
    "Each campaign has a unique Kickstarter ID used for internal identification, and each project has a name, although this does not have to be unique and only needs to title a project for people to find and refer to it with. A campaign also makes itself easier to distinguish from others through the use of categories. Kickstarter has 15 main categories to choose from: Art, Comics, Crafts, Dance, Design, Fashion, Film & Video, Food, Games, Journalism, Music, Photography, Publishing, Technology, and Theater. Subcategories are also attached to a project to further classify it past the main category. These include one such as footwear, accessories, and jewelry as 3 under fashion and games allowing categories based on genre and platform/medium. When a campaign starts, the team behind the project use methods, such as social media and email lists, to attract people to the campaign and get them interested. People who help fund a project are known as its ‘backers’ and the money they contribute is their ‘pledge’. Backing a project both allows the person to contribute to sometime they wish to see succeed and usually provides a reward if high enough. Rewards are usually tiered to match the amount pledged and often include things such as related merchandise (tote bags or t-shirts with the project’s logo), the project itself when it is some sort of product, or their name in the credits for the project. Project start with a specific goal for their campaign: an amount the team has determined to be the minimum they need to proceed with the project. Because Kickstarter is a global platform and projects can be started in 22 different countries, not all campaigns are measured in USD. Kickstarter converts non USD currency numbers to USD based on conversion rates at the time of recording for use in their metrics, but does save the original numbers, currency, and country. A project has a date and time when it is launched, of course, as well as a deadline: a date and time when the project can longer receiving pledges. A project that reaches its goal by the deadline is a success and receives the pledged funding. Projects that fail to meet their goal receive no funding and Kickstarter will not collect funds from the backers; this is a failed project. This all-or-nothing model is meant to prevent disappointment in scenarios where a team may attempt to proceed with a project when only a tenth of the goal was reached and can no longer meet the standards that backers may have been expecting. More ambitious projects instead set a minimum goal and include stretch goals in their campaign: funding milestones where additional features not exactly necessary for the project will be worked on if reached. Of course, a project can be cancelled early if the team running it decided they would prefer not to continue it. Kickstarter may also suspend a campaign if upon further review, they decide it is in violation of one of their rules. \n",
    "\n",
    "## Our Dataset\n",
    "\n",
    "The dataset being analyzed here comes from a  Kaggle user, Mickaël Mouillé, and contains information about over 300,000 Kickstarter projects. Variables include most of what is described about projects above. \n",
    "- ID and name are self explanatory. \n",
    "- Category and main category both give the one category and sub category a project is classified under. \n",
    "- Currency and country use the abbreviation for the correct country of origin and currency used in the campaign.\n",
    "    - pledged, which is the amount pledged total, and goal, amount needed to succeed, are both already converted into USD by Kickstarter as detailed above. \n",
    "        - The dataset also includes a version of the pledged variable converted by fixer.io, which we use instead of the pledged variable.\n",
    "- Launched and deadline give the date and time the project was started and ended, respectively, in a “year-month-day hour:minute:second” format. \n",
    "- State shows whether the campaign ended successfully, failed, was cancelled, or was suspended. \n",
    "    - Some are also labeled as live, meaning the campaign was still ongoing, and undefined. \n",
    "The data was directly taken from the Kickstarter website itself and contains data from as early as the websites beginning.\n"
   ]
  }
 ],
 "metadata": {
  "kernelspec": {
   "display_name": "Python 3",
   "language": "python",
   "name": "python3"
  },
  "language_info": {
   "codemirror_mode": {
    "name": "ipython",
    "version": 3
   },
   "file_extension": ".py",
   "mimetype": "text/x-python",
   "name": "python",
   "nbconvert_exporter": "python",
   "pygments_lexer": "ipython3",
   "version": "3.7.3"
  }
 },
 "nbformat": 4,
 "nbformat_minor": 2
}
