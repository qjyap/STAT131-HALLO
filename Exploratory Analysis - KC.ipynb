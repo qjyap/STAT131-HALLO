{
 "cells": [
  {
   "cell_type": "code",
   "execution_count": 24,
   "metadata": {},
   "outputs": [],
   "source": [
    "import pandas as pd\n",
    "import numpy as np\n",
    "import matplotlib.pyplot as plt\n",
    "kickstarter_cleaned = pd.read_csv('kickstarter_cleaned_index.csv')"
   ]
  },
  {
   "cell_type": "code",
   "execution_count": 3,
   "metadata": {},
   "outputs": [
    {
     "data": {
      "text/plain": [
       "Index(['ID', 'name', 'category', 'main_category', 'currency', 'deadline',\n",
       "       'goal', 'launched', 'pledged', 'state', 'backers', 'country',\n",
       "       'usd pledged', 'usd_pledged_real', 'usd_goal_real', 'project_length'],\n",
       "      dtype='object')"
      ]
     },
     "execution_count": 3,
     "metadata": {},
     "output_type": "execute_result"
    }
   ],
   "source": [
    "new_kickstarter_cleaned = kickstarter_cleaned.drop(columns='Unnamed: 0')\n",
    "\n",
    "new_kickstarter_cleaned.columns"
   ]
  },
  {
   "cell_type": "markdown",
   "metadata": {},
   "source": [
    "## Data Cleaning"
   ]
  },
  {
   "cell_type": "code",
   "execution_count": 46,
   "metadata": {},
   "outputs": [
    {
     "data": {
      "text/html": [
       "<div>\n",
       "<style scoped>\n",
       "    .dataframe tbody tr th:only-of-type {\n",
       "        vertical-align: middle;\n",
       "    }\n",
       "\n",
       "    .dataframe tbody tr th {\n",
       "        vertical-align: top;\n",
       "    }\n",
       "\n",
       "    .dataframe thead th {\n",
       "        text-align: right;\n",
       "    }\n",
       "</style>\n",
       "<table border=\"1\" class=\"dataframe\">\n",
       "  <thead>\n",
       "    <tr style=\"text-align: right;\">\n",
       "      <th></th>\n",
       "      <th>ID</th>\n",
       "      <th>name</th>\n",
       "      <th>category</th>\n",
       "      <th>main_category</th>\n",
       "      <th>currency</th>\n",
       "      <th>deadline</th>\n",
       "      <th>goal</th>\n",
       "      <th>launched</th>\n",
       "      <th>pledged</th>\n",
       "      <th>state</th>\n",
       "      <th>backers</th>\n",
       "      <th>country</th>\n",
       "      <th>usd pledged</th>\n",
       "      <th>usd_pledged_real</th>\n",
       "      <th>usd_goal_real</th>\n",
       "      <th>project_length</th>\n",
       "      <th>month_launched</th>\n",
       "      <th>year_launched</th>\n",
       "    </tr>\n",
       "  </thead>\n",
       "  <tbody>\n",
       "    <tr>\n",
       "      <th>155539</th>\n",
       "      <td>1799225301</td>\n",
       "      <td>Accurate Beats: My Album \"Collage\" on Vinyl!</td>\n",
       "      <td>Hip-Hop</td>\n",
       "      <td>Music</td>\n",
       "      <td>SEK</td>\n",
       "      <td>2018-03-02</td>\n",
       "      <td>14000.0</td>\n",
       "      <td>2018-01-01 10:35:25</td>\n",
       "      <td>4520.0</td>\n",
       "      <td>live</td>\n",
       "      <td>16</td>\n",
       "      <td>SE</td>\n",
       "      <td>466.86</td>\n",
       "      <td>557.8</td>\n",
       "      <td>1727.69</td>\n",
       "      <td>59 days 13:24:35.000000000</td>\n",
       "      <td>1</td>\n",
       "      <td>2018</td>\n",
       "    </tr>\n",
       "    <tr>\n",
       "      <th>101861</th>\n",
       "      <td>1522957960</td>\n",
       "      <td>Tripprapporter - En podcast</td>\n",
       "      <td>Radio &amp; Podcasts</td>\n",
       "      <td>Publishing</td>\n",
       "      <td>SEK</td>\n",
       "      <td>2018-03-02</td>\n",
       "      <td>10000.0</td>\n",
       "      <td>2018-01-01 04:48:46</td>\n",
       "      <td>0.0</td>\n",
       "      <td>live</td>\n",
       "      <td>0</td>\n",
       "      <td>SE</td>\n",
       "      <td>0.00</td>\n",
       "      <td>0.0</td>\n",
       "      <td>1234.07</td>\n",
       "      <td>59 days 19:11:14.000000000</td>\n",
       "      <td>1</td>\n",
       "      <td>2018</td>\n",
       "    </tr>\n",
       "    <tr>\n",
       "      <th>224717</th>\n",
       "      <td>22387366</td>\n",
       "      <td>Nerd Collect</td>\n",
       "      <td>Apps</td>\n",
       "      <td>Technology</td>\n",
       "      <td>GBP</td>\n",
       "      <td>2018-03-03</td>\n",
       "      <td>150000.0</td>\n",
       "      <td>2018-01-02 03:26:52</td>\n",
       "      <td>0.0</td>\n",
       "      <td>live</td>\n",
       "      <td>0</td>\n",
       "      <td>GB</td>\n",
       "      <td>0.00</td>\n",
       "      <td>0.0</td>\n",
       "      <td>204596.60</td>\n",
       "      <td>59 days 20:33:08.000000000</td>\n",
       "      <td>1</td>\n",
       "      <td>2018</td>\n",
       "    </tr>\n",
       "    <tr>\n",
       "      <th>7091</th>\n",
       "      <td>1036415983</td>\n",
       "      <td>Aikyam : Onnu</td>\n",
       "      <td>Music</td>\n",
       "      <td>Music</td>\n",
       "      <td>USD</td>\n",
       "      <td>2018-03-03</td>\n",
       "      <td>10000.0</td>\n",
       "      <td>2018-01-02 08:11:58</td>\n",
       "      <td>174.0</td>\n",
       "      <td>live</td>\n",
       "      <td>3</td>\n",
       "      <td>US</td>\n",
       "      <td>174.00</td>\n",
       "      <td>174.0</td>\n",
       "      <td>10000.00</td>\n",
       "      <td>59 days 15:48:02.000000000</td>\n",
       "      <td>1</td>\n",
       "      <td>2018</td>\n",
       "    </tr>\n",
       "    <tr>\n",
       "      <th>178457</th>\n",
       "      <td>1916988520</td>\n",
       "      <td>Back in Black Hills Movie</td>\n",
       "      <td>Drama</td>\n",
       "      <td>Film &amp; Video</td>\n",
       "      <td>USD</td>\n",
       "      <td>2018-03-03</td>\n",
       "      <td>5500.0</td>\n",
       "      <td>2018-01-02 01:16:16</td>\n",
       "      <td>0.0</td>\n",
       "      <td>live</td>\n",
       "      <td>0</td>\n",
       "      <td>US</td>\n",
       "      <td>0.00</td>\n",
       "      <td>0.0</td>\n",
       "      <td>5500.00</td>\n",
       "      <td>59 days 22:43:44.000000000</td>\n",
       "      <td>1</td>\n",
       "      <td>2018</td>\n",
       "    </tr>\n",
       "  </tbody>\n",
       "</table>\n",
       "</div>"
      ],
      "text/plain": [
       "                ID                                          name  \\\n",
       "155539  1799225301  Accurate Beats: My Album \"Collage\" on Vinyl!   \n",
       "101861  1522957960                   Tripprapporter - En podcast   \n",
       "224717    22387366                                  Nerd Collect   \n",
       "7091    1036415983                                 Aikyam : Onnu   \n",
       "178457  1916988520                     Back in Black Hills Movie   \n",
       "\n",
       "                category main_category currency   deadline      goal  \\\n",
       "155539           Hip-Hop         Music      SEK 2018-03-02   14000.0   \n",
       "101861  Radio & Podcasts    Publishing      SEK 2018-03-02   10000.0   \n",
       "224717              Apps    Technology      GBP 2018-03-03  150000.0   \n",
       "7091               Music         Music      USD 2018-03-03   10000.0   \n",
       "178457             Drama  Film & Video      USD 2018-03-03    5500.0   \n",
       "\n",
       "                  launched  pledged state  backers country  usd pledged  \\\n",
       "155539 2018-01-01 10:35:25   4520.0  live       16      SE       466.86   \n",
       "101861 2018-01-01 04:48:46      0.0  live        0      SE         0.00   \n",
       "224717 2018-01-02 03:26:52      0.0  live        0      GB         0.00   \n",
       "7091   2018-01-02 08:11:58    174.0  live        3      US       174.00   \n",
       "178457 2018-01-02 01:16:16      0.0  live        0      US         0.00   \n",
       "\n",
       "        usd_pledged_real  usd_goal_real              project_length  \\\n",
       "155539             557.8        1727.69  59 days 13:24:35.000000000   \n",
       "101861               0.0        1234.07  59 days 19:11:14.000000000   \n",
       "224717               0.0      204596.60  59 days 20:33:08.000000000   \n",
       "7091               174.0       10000.00  59 days 15:48:02.000000000   \n",
       "178457               0.0        5500.00  59 days 22:43:44.000000000   \n",
       "\n",
       "        month_launched  year_launched  \n",
       "155539               1           2018  \n",
       "101861               1           2018  \n",
       "224717               1           2018  \n",
       "7091                 1           2018  \n",
       "178457               1           2018  "
      ]
     },
     "execution_count": 46,
     "metadata": {},
     "output_type": "execute_result"
    }
   ],
   "source": [
    "new_kickstarter_cleaned.sort_values(by='deadline').tail()"
   ]
  },
  {
   "cell_type": "markdown",
   "metadata": {},
   "source": [
    "### Check for Missing Values "
   ]
  },
  {
   "cell_type": "code",
   "execution_count": 4,
   "metadata": {},
   "outputs": [
    {
     "name": "stdout",
     "output_type": "stream",
     "text": [
      "ID                  False\n",
      "name                False\n",
      "category            False\n",
      "main_category       False\n",
      "currency            False\n",
      "deadline            False\n",
      "goal                False\n",
      "launched            False\n",
      "pledged             False\n",
      "state               False\n",
      "backers             False\n",
      "country             False\n",
      "usd pledged         False\n",
      "usd_pledged_real    False\n",
      "usd_goal_real       False\n",
      "project_length      False\n",
      "dtype: bool\n"
     ]
    }
   ],
   "source": [
    "print(kickstarter_cleaned.isnull().any())"
   ]
  },
  {
   "cell_type": "markdown",
   "metadata": {},
   "source": [
    "### Data Types "
   ]
  },
  {
   "cell_type": "code",
   "execution_count": 5,
   "metadata": {},
   "outputs": [
    {
     "name": "stdout",
     "output_type": "stream",
     "text": [
      "ID                    int64\n",
      "name                 object\n",
      "category             object\n",
      "main_category        object\n",
      "currency             object\n",
      "deadline             object\n",
      "goal                float64\n",
      "launched             object\n",
      "pledged             float64\n",
      "state                object\n",
      "backers               int64\n",
      "country              object\n",
      "usd pledged         float64\n",
      "usd_pledged_real    float64\n",
      "usd_goal_real       float64\n",
      "project_length       object\n",
      "dtype: object\n"
     ]
    }
   ],
   "source": [
    "print(new_kickstarter_cleaned.dtypes)"
   ]
  },
  {
   "cell_type": "markdown",
   "metadata": {},
   "source": [
    "We converted deadline and launched date to a date-time type. "
   ]
  },
  {
   "cell_type": "code",
   "execution_count": 9,
   "metadata": {},
   "outputs": [
    {
     "data": {
      "text/plain": [
       "pandas._libs.tslibs.timestamps.Timestamp"
      ]
     },
     "execution_count": 9,
     "metadata": {},
     "output_type": "execute_result"
    }
   ],
   "source": [
    "new_kickstarter_cleaned['deadline'] = pd.to_datetime(new_kickstarter_cleaned.deadline)\n",
    "new_kickstarter_cleaned['launched'] = pd.to_datetime(new_kickstarter_cleaned.launched)\n",
    "type(new_kickstarter_cleaned.deadline[0])"
   ]
  },
  {
   "cell_type": "code",
   "execution_count": null,
   "metadata": {},
   "outputs": [],
   "source": []
  },
  {
   "cell_type": "code",
   "execution_count": null,
   "metadata": {},
   "outputs": [],
   "source": []
  },
  {
   "cell_type": "markdown",
   "metadata": {},
   "source": [
    "## Summary Statistics "
   ]
  },
  {
   "cell_type": "code",
   "execution_count": 11,
   "metadata": {},
   "outputs": [
    {
     "name": "stdout",
     "output_type": "stream",
     "text": [
      "failed        197607\n",
      "successful    133851\n",
      "canceled       38751\n",
      "live            2798\n",
      "suspended       1842\n",
      "Name: state, dtype: int64\n"
     ]
    }
   ],
   "source": [
    "print(new_kickstarter_cleaned.state.value_counts())"
   ]
  },
  {
   "cell_type": "markdown",
   "metadata": {},
   "source": [
    "### Relationships "
   ]
  },
  {
   "cell_type": "code",
   "execution_count": null,
   "metadata": {},
   "outputs": [],
   "source": [
    "# category, main_category, currency, deadline/launched - year,month"
   ]
  },
  {
   "cell_type": "markdown",
   "metadata": {},
   "source": [
    "#### Main Category"
   ]
  },
  {
   "cell_type": "code",
   "execution_count": 41,
   "metadata": {},
   "outputs": [
    {
     "name": "stdout",
     "output_type": "stream",
     "text": [
      "state\n",
      "failed        0.141344\n",
      "successful    0.141344\n",
      "dtype: float64\n",
      "state\n",
      "failed        0.590667\n",
      "successful    0.409333\n",
      "dtype: float64\n"
     ]
    }
   ],
   "source": [
    "projects = new_kickstarter_cleaned[(new_kickstarter_cleaned['state'] == 'failed') | (new_kickstarter_cleaned['state'] == 'successful')]\n",
    "\n",
    "grouped = projects.groupby(['main_category','state']).ID.count()\n",
    "total = projects.groupby('main_category').state.count()\n",
    "prop = np.round((grouped/total),2).unstack().sort_values(by='successful')\n",
    "print(prop.std())\n",
    "print(prop.mean()) \n",
    "#print(prop) # all proportions within 2 std deviations"
   ]
  },
  {
   "cell_type": "code",
   "execution_count": 27,
   "metadata": {},
   "outputs": [
    {
     "data": {
      "text/plain": [
       "<matplotlib.legend.Legend at 0x1215e5d30>"
      ]
     },
     "execution_count": 27,
     "metadata": {},
     "output_type": "execute_result"
    },
    {
     "data": {
      "image/png": "[encoded data removed]",
      "text/plain": [
       "<Figure size 432x288 with 1 Axes>"
      ]
     },
     "metadata": {
      "needs_background": "light"
     },
     "output_type": "display_data"
    }
   ],
   "source": [
    "prop.plot(kind='bar',stacked=True)\n",
    "plt.title('Proportion of Successful vs Failed Projects by Main Category')\n",
    "plt.legend(loc='upper right',bbox_to_anchor=(1.4,1))\n",
    "plt.show()"
   ]
  },
  {
   "cell_type": "markdown",
   "metadata": {},
   "source": [
    "#### Currency "
   ]
  },
  {
   "cell_type": "code",
   "execution_count": 30,
   "metadata": {},
   "outputs": [],
   "source": [
    "projects.currency.value_counts()\n",
    "\n",
    "grouped = projects.groupby(['currency','state']).ID.count()\n",
    "total = projects.groupby('currency').state.count()\n",
    "prop = np.round((grouped/total),2).unstack().sort_values(by='successful')"
   ]
  },
  {
   "cell_type": "code",
   "execution_count": 32,
   "metadata": {},
   "outputs": [
    {
     "data": {
      "text/plain": [
       "<matplotlib.legend.Legend at 0x12a378208>"
      ]
     },
     "execution_count": 32,
     "metadata": {},
     "output_type": "execute_result"
    },
    {
     "data": {
      "image/png": "[encoded data removed]",
      "text/plain": [
       "<Figure size 432x288 with 1 Axes>"
      ]
     },
     "metadata": {
      "needs_background": "light"
     },
     "output_type": "display_data"
    }
   ],
   "source": [
    "prop.plot(kind='bar',stacked=True)\n",
    "plt.title('Proportion of Successful vs Failed Projects by Currency')\n",
    "plt.legend(loc='upper right',bbox_to_anchor=(1.4,1))\n",
    "plt.show()"
   ]
  },
  {
   "cell_type": "markdown",
   "metadata": {},
   "source": [
    "#### Launched "
   ]
  },
  {
   "cell_type": "code",
   "execution_count": 62,
   "metadata": {},
   "outputs": [
    {
     "data": {
      "text/plain": [
       "1     27491\n",
       "2     29340\n",
       "3     33509\n",
       "4     31845\n",
       "5     32654\n",
       "6     32414\n",
       "7     36097\n",
       "8     31998\n",
       "9     30767\n",
       "10    33175\n",
       "11    32555\n",
       "12    23004\n",
       "Name: month_launched, dtype: int64"
      ]
     },
     "execution_count": 62,
     "metadata": {},
     "output_type": "execute_result"
    }
   ],
   "source": [
    "new_kickstarter_cleaned['year_launched'] = new_kickstarter_cleaned.launched.dt.year\n",
    "new_kickstarter_cleaned['month_launched'] = new_kickstarter_cleaned.launched.dt.month\n",
    "\n",
    "new_kickstarter_cleaned.year_launched.value_counts().sort_index()\n",
    "new_kickstarter_cleaned.month_launched.value_counts().sort_index()\n"
   ]
  },
  {
   "cell_type": "code",
   "execution_count": 55,
   "metadata": {},
   "outputs": [
    {
     "data": {
      "text/html": [
       "<div>\n",
       "<style scoped>\n",
       "    .dataframe tbody tr th:only-of-type {\n",
       "        vertical-align: middle;\n",
       "    }\n",
       "\n",
       "    .dataframe tbody tr th {\n",
       "        vertical-align: top;\n",
       "    }\n",
       "\n",
       "    .dataframe thead th {\n",
       "        text-align: right;\n",
       "    }\n",
       "</style>\n",
       "<table border=\"1\" class=\"dataframe\">\n",
       "  <thead>\n",
       "    <tr style=\"text-align: right;\">\n",
       "      <th>state</th>\n",
       "      <th>failed</th>\n",
       "      <th>successful</th>\n",
       "    </tr>\n",
       "    <tr>\n",
       "      <th>year_launched</th>\n",
       "      <th></th>\n",
       "      <th></th>\n",
       "    </tr>\n",
       "  </thead>\n",
       "  <tbody>\n",
       "    <tr>\n",
       "      <th>2009</th>\n",
       "      <td>0.51</td>\n",
       "      <td>0.49</td>\n",
       "    </tr>\n",
       "    <tr>\n",
       "      <th>2010</th>\n",
       "      <td>0.52</td>\n",
       "      <td>0.48</td>\n",
       "    </tr>\n",
       "    <tr>\n",
       "      <th>2011</th>\n",
       "      <td>0.49</td>\n",
       "      <td>0.51</td>\n",
       "    </tr>\n",
       "    <tr>\n",
       "      <th>2012</th>\n",
       "      <td>0.54</td>\n",
       "      <td>0.46</td>\n",
       "    </tr>\n",
       "    <tr>\n",
       "      <th>2013</th>\n",
       "      <td>0.53</td>\n",
       "      <td>0.47</td>\n",
       "    </tr>\n",
       "    <tr>\n",
       "      <th>2014</th>\n",
       "      <td>0.64</td>\n",
       "      <td>0.36</td>\n",
       "    </tr>\n",
       "    <tr>\n",
       "      <th>2015</th>\n",
       "      <td>0.68</td>\n",
       "      <td>0.32</td>\n",
       "    </tr>\n",
       "    <tr>\n",
       "      <th>2016</th>\n",
       "      <td>0.62</td>\n",
       "      <td>0.38</td>\n",
       "    </tr>\n",
       "    <tr>\n",
       "      <th>2017</th>\n",
       "      <td>0.57</td>\n",
       "      <td>0.43</td>\n",
       "    </tr>\n",
       "  </tbody>\n",
       "</table>\n",
       "</div>"
      ],
      "text/plain": [
       "state          failed  successful\n",
       "year_launched                    \n",
       "2009             0.51        0.49\n",
       "2010             0.52        0.48\n",
       "2011             0.49        0.51\n",
       "2012             0.54        0.46\n",
       "2013             0.53        0.47\n",
       "2014             0.64        0.36\n",
       "2015             0.68        0.32\n",
       "2016             0.62        0.38\n",
       "2017             0.57        0.43"
      ]
     },
     "execution_count": 55,
     "metadata": {},
     "output_type": "execute_result"
    }
   ],
   "source": [
    "projects.year_launched.value_counts().sort_index()\n",
    "\n",
    "grouped = projects.groupby(['year_launched','state']).ID.count()\n",
    "total = projects.groupby('year_launched').state.count()\n",
    "prop = np.round((grouped/total),2).unstack().sort_values(by='successful')\n",
    "prop = prop.sort_index()\n",
    "prop"
   ]
  },
  {
   "cell_type": "code",
   "execution_count": 57,
   "metadata": {},
   "outputs": [
    {
     "data": {
      "image/png": "[encoded data removed]",
      "text/plain": [
       "<Figure size 432x288 with 1 Axes>"
      ]
     },
     "metadata": {
      "needs_background": "light"
     },
     "output_type": "display_data"
    }
   ],
   "source": [
    "prop.plot(kind='bar',stacked=True)\n",
    "plt.title('Proportion of Successful vs Failed Projects by Year')\n",
    "plt.legend(loc='upper right',bbox_to_anchor=(1.4,1))\n",
    "plt.show()"
   ]
  },
  {
   "cell_type": "code",
   "execution_count": 58,
   "metadata": {},
   "outputs": [
    {
     "data": {
      "text/html": [
       "<div>\n",
       "<style scoped>\n",
       "    .dataframe tbody tr th:only-of-type {\n",
       "        vertical-align: middle;\n",
       "    }\n",
       "\n",
       "    .dataframe tbody tr th {\n",
       "        vertical-align: top;\n",
       "    }\n",
       "\n",
       "    .dataframe thead th {\n",
       "        text-align: right;\n",
       "    }\n",
       "</style>\n",
       "<table border=\"1\" class=\"dataframe\">\n",
       "  <thead>\n",
       "    <tr style=\"text-align: right;\">\n",
       "      <th>state</th>\n",
       "      <th>failed</th>\n",
       "      <th>successful</th>\n",
       "    </tr>\n",
       "    <tr>\n",
       "      <th>month_launched</th>\n",
       "      <th></th>\n",
       "      <th></th>\n",
       "    </tr>\n",
       "  </thead>\n",
       "  <tbody>\n",
       "    <tr>\n",
       "      <th>1</th>\n",
       "      <td>0.61</td>\n",
       "      <td>0.39</td>\n",
       "    </tr>\n",
       "    <tr>\n",
       "      <th>2</th>\n",
       "      <td>0.58</td>\n",
       "      <td>0.42</td>\n",
       "    </tr>\n",
       "    <tr>\n",
       "      <th>3</th>\n",
       "      <td>0.57</td>\n",
       "      <td>0.43</td>\n",
       "    </tr>\n",
       "    <tr>\n",
       "      <th>4</th>\n",
       "      <td>0.58</td>\n",
       "      <td>0.42</td>\n",
       "    </tr>\n",
       "    <tr>\n",
       "      <th>5</th>\n",
       "      <td>0.59</td>\n",
       "      <td>0.41</td>\n",
       "    </tr>\n",
       "    <tr>\n",
       "      <th>6</th>\n",
       "      <td>0.59</td>\n",
       "      <td>0.41</td>\n",
       "    </tr>\n",
       "    <tr>\n",
       "      <th>7</th>\n",
       "      <td>0.64</td>\n",
       "      <td>0.36</td>\n",
       "    </tr>\n",
       "    <tr>\n",
       "      <th>8</th>\n",
       "      <td>0.62</td>\n",
       "      <td>0.38</td>\n",
       "    </tr>\n",
       "    <tr>\n",
       "      <th>9</th>\n",
       "      <td>0.59</td>\n",
       "      <td>0.41</td>\n",
       "    </tr>\n",
       "    <tr>\n",
       "      <th>10</th>\n",
       "      <td>0.58</td>\n",
       "      <td>0.42</td>\n",
       "    </tr>\n",
       "    <tr>\n",
       "      <th>11</th>\n",
       "      <td>0.59</td>\n",
       "      <td>0.41</td>\n",
       "    </tr>\n",
       "    <tr>\n",
       "      <th>12</th>\n",
       "      <td>0.63</td>\n",
       "      <td>0.37</td>\n",
       "    </tr>\n",
       "  </tbody>\n",
       "</table>\n",
       "</div>"
      ],
      "text/plain": [
       "state           failed  successful\n",
       "month_launched                    \n",
       "1                 0.61        0.39\n",
       "2                 0.58        0.42\n",
       "3                 0.57        0.43\n",
       "4                 0.58        0.42\n",
       "5                 0.59        0.41\n",
       "6                 0.59        0.41\n",
       "7                 0.64        0.36\n",
       "8                 0.62        0.38\n",
       "9                 0.59        0.41\n",
       "10                0.58        0.42\n",
       "11                0.59        0.41\n",
       "12                0.63        0.37"
      ]
     },
     "execution_count": 58,
     "metadata": {},
     "output_type": "execute_result"
    }
   ],
   "source": [
    "grouped = projects.groupby(['month_launched','state']).ID.count()\n",
    "total = projects.groupby('month_launched').state.count()\n",
    "prop = np.round((grouped/total),2).unstack().sort_values(by='successful')\n",
    "prop = prop.sort_index()\n",
    "prop"
   ]
  },
  {
   "cell_type": "code",
   "execution_count": 59,
   "metadata": {},
   "outputs": [
    {
     "data": {
      "image/png": "[encoded data removed]",
      "text/plain": [
       "<Figure size 432x288 with 1 Axes>"
      ]
     },
     "metadata": {
      "needs_background": "light"
     },
     "output_type": "display_data"
    }
   ],
   "source": [
    "prop.plot(kind='bar',stacked=True)\n",
    "plt.title('Proportion of Successful vs Failed Projects by Year')\n",
    "plt.legend(loc='upper right',bbox_to_anchor=(1.4,1))\n",
    "plt.show()"
   ]
  },
  {
   "cell_type": "code",
   "execution_count": null,
   "metadata": {},
   "outputs": [],
   "source": []
  }
 ],
 "metadata": {
  "kernelspec": {
   "display_name": "Python 3",
   "language": "python",
   "name": "python3"
  },
  "language_info": {
   "codemirror_mode": {
    "name": "ipython",
    "version": 3
   },
   "file_extension": ".py",
   "mimetype": "text/x-python",
   "name": "python",
   "nbconvert_exporter": "python",
   "pygments_lexer": "ipython3",
   "version": "3.7.3"
  }
 },
 "nbformat": 4,
 "nbformat_minor": 2
}
