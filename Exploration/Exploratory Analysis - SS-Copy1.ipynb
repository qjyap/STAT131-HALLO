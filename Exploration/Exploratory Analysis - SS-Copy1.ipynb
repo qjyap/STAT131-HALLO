{
 "cells": [
  {
   "cell_type": "code",
   "execution_count": 17,
   "metadata": {},
   "outputs": [
    {
     "name": "stdout",
     "output_type": "stream",
     "text": [
      "0            158968\n",
      "1            133851\n",
      "canceled      26744\n",
      "live           2250\n",
      "suspended      1230\n",
      "Name: state, dtype: int64\n"
     ]
    }
   ],
   "source": [
    "import pandas as pd\n",
    "import numpy as np\n",
    "import matplotlib.pyplot as plt\n",
    "kickstarter = pd.read_csv('kickstarter_cleaned_index.csv')\n",
    "kickstarter_cleaned = kickstarter.drop(columns='Unnamed: 0')\n",
    "\n",
    "print(kickstarter_cleaned.state.value_counts())"
   ]
  },
  {
   "cell_type": "markdown",
   "metadata": {},
   "source": [
    "Extremely Successful Kickstarters"
   ]
  },
  {
   "cell_type": "code",
   "execution_count": 18,
   "metadata": {},
   "outputs": [
    {
     "data": {
      "text/plain": [
       "12.496"
      ]
     },
     "execution_count": 18,
     "metadata": {},
     "output_type": "execute_result"
    }
   ],
   "source": [
    "kickstarter_cleaned['percent_funded'] = np.round((kickstarter_cleaned['usd_pledged_real'] / kickstarter_cleaned['usd_goal_real']),3)\n",
    "kickstarter_cleaned['percent_funded'].describe()\n",
    "\n",
    "np.percentile(kickstarter_cleaned['percent_funded'],99)"
   ]
  },
  {
   "cell_type": "markdown",
   "metadata": {},
   "source": [
    "The median is 0.275, 50% of the projects get 0.275 times their goal -- failed. The 99th percentile of projects with highest percentage funded relative to their goal is 12.496. Let's discover these projects that have really high funding!"
   ]
  },
  {
   "cell_type": "code",
   "execution_count": 19,
   "metadata": {},
   "outputs": [
    {
     "data": {
      "text/html": [
       "<div>\n",
       "<style scoped>\n",
       "    .dataframe tbody tr th:only-of-type {\n",
       "        vertical-align: middle;\n",
       "    }\n",
       "\n",
       "    .dataframe tbody tr th {\n",
       "        vertical-align: top;\n",
       "    }\n",
       "\n",
       "    .dataframe thead th {\n",
       "        text-align: right;\n",
       "    }\n",
       "</style>\n",
       "<table border=\"1\" class=\"dataframe\">\n",
       "  <thead>\n",
       "    <tr style=\"text-align: right;\">\n",
       "      <th></th>\n",
       "      <th>ID</th>\n",
       "      <th>name</th>\n",
       "      <th>category</th>\n",
       "      <th>main_category</th>\n",
       "      <th>currency</th>\n",
       "      <th>deadline</th>\n",
       "      <th>goal</th>\n",
       "      <th>launched</th>\n",
       "      <th>state</th>\n",
       "      <th>backers</th>\n",
       "      <th>country</th>\n",
       "      <th>usd_pledged_real</th>\n",
       "      <th>usd_goal_real</th>\n",
       "      <th>project_length</th>\n",
       "      <th>pledged_per_backer</th>\n",
       "      <th>percent_funded</th>\n",
       "    </tr>\n",
       "  </thead>\n",
       "  <tbody>\n",
       "    <tr>\n",
       "      <th>314975</th>\n",
       "      <td>9509582</td>\n",
       "      <td>VULFPECK /// The Beautiful Game</td>\n",
       "      <td>Music</td>\n",
       "      <td>Music</td>\n",
       "      <td>USD</td>\n",
       "      <td>2016-10-17 00:00:00</td>\n",
       "      <td>1.0</td>\n",
       "      <td>2016-08-18 09:04:03</td>\n",
       "      <td>1</td>\n",
       "      <td>3917</td>\n",
       "      <td>US</td>\n",
       "      <td>104277.89</td>\n",
       "      <td>1.0</td>\n",
       "      <td>59</td>\n",
       "      <td>26.621876</td>\n",
       "      <td>104277.89</td>\n",
       "    </tr>\n",
       "    <tr>\n",
       "      <th>158899</th>\n",
       "      <td>1947298033</td>\n",
       "      <td>Re-covering with Friends</td>\n",
       "      <td>Rock</td>\n",
       "      <td>Music</td>\n",
       "      <td>USD</td>\n",
       "      <td>2016-12-13 00:00:00</td>\n",
       "      <td>1.0</td>\n",
       "      <td>2016-10-14 19:04:27</td>\n",
       "      <td>1</td>\n",
       "      <td>955</td>\n",
       "      <td>US</td>\n",
       "      <td>68764.10</td>\n",
       "      <td>1.0</td>\n",
       "      <td>59</td>\n",
       "      <td>72.004293</td>\n",
       "      <td>68764.10</td>\n",
       "    </tr>\n",
       "    <tr>\n",
       "      <th>307740</th>\n",
       "      <td>907870443</td>\n",
       "      <td>VULFPECK /// Thrill of the Arts</td>\n",
       "      <td>Music</td>\n",
       "      <td>Music</td>\n",
       "      <td>USD</td>\n",
       "      <td>2015-10-09 00:00:00</td>\n",
       "      <td>1.0</td>\n",
       "      <td>2015-08-10 19:31:56</td>\n",
       "      <td>1</td>\n",
       "      <td>1673</td>\n",
       "      <td>US</td>\n",
       "      <td>55266.57</td>\n",
       "      <td>1.0</td>\n",
       "      <td>59</td>\n",
       "      <td>33.034411</td>\n",
       "      <td>55266.57</td>\n",
       "    </tr>\n",
       "    <tr>\n",
       "      <th>65151</th>\n",
       "      <td>1388400809</td>\n",
       "      <td>Energy Hook</td>\n",
       "      <td>Video Games</td>\n",
       "      <td>Games</td>\n",
       "      <td>USD</td>\n",
       "      <td>2013-06-10 00:00:00</td>\n",
       "      <td>1.0</td>\n",
       "      <td>2013-05-10 01:22:38</td>\n",
       "      <td>1</td>\n",
       "      <td>1622</td>\n",
       "      <td>US</td>\n",
       "      <td>41535.01</td>\n",
       "      <td>1.0</td>\n",
       "      <td>30</td>\n",
       "      <td>25.607281</td>\n",
       "      <td>41535.01</td>\n",
       "    </tr>\n",
       "    <tr>\n",
       "      <th>69465</th>\n",
       "      <td>1413857335</td>\n",
       "      <td>Band of Brothers 2nd Chance</td>\n",
       "      <td>Tabletop Games</td>\n",
       "      <td>Games</td>\n",
       "      <td>USD</td>\n",
       "      <td>2016-08-02 00:00:00</td>\n",
       "      <td>1.0</td>\n",
       "      <td>2016-07-12 00:29:12</td>\n",
       "      <td>1</td>\n",
       "      <td>268</td>\n",
       "      <td>US</td>\n",
       "      <td>32843.00</td>\n",
       "      <td>1.0</td>\n",
       "      <td>20</td>\n",
       "      <td>122.548507</td>\n",
       "      <td>32843.00</td>\n",
       "    </tr>\n",
       "  </tbody>\n",
       "</table>\n",
       "</div>"
      ],
      "text/plain": [
       "                ID                             name        category  \\\n",
       "314975     9509582  VULFPECK /// The Beautiful Game           Music   \n",
       "158899  1947298033         Re-covering with Friends            Rock   \n",
       "307740   907870443  VULFPECK /// Thrill of the Arts           Music   \n",
       "65151   1388400809                      Energy Hook     Video Games   \n",
       "69465   1413857335      Band of Brothers 2nd Chance  Tabletop Games   \n",
       "\n",
       "       main_category currency             deadline  goal             launched  \\\n",
       "314975         Music      USD  2016-10-17 00:00:00   1.0  2016-08-18 09:04:03   \n",
       "158899         Music      USD  2016-12-13 00:00:00   1.0  2016-10-14 19:04:27   \n",
       "307740         Music      USD  2015-10-09 00:00:00   1.0  2015-08-10 19:31:56   \n",
       "65151          Games      USD  2013-06-10 00:00:00   1.0  2013-05-10 01:22:38   \n",
       "69465          Games      USD  2016-08-02 00:00:00   1.0  2016-07-12 00:29:12   \n",
       "\n",
       "       state  backers country  usd_pledged_real  usd_goal_real  \\\n",
       "314975     1     3917      US         104277.89            1.0   \n",
       "158899     1      955      US          68764.10            1.0   \n",
       "307740     1     1673      US          55266.57            1.0   \n",
       "65151      1     1622      US          41535.01            1.0   \n",
       "69465      1      268      US          32843.00            1.0   \n",
       "\n",
       "        project_length  pledged_per_backer  percent_funded  \n",
       "314975              59           26.621876       104277.89  \n",
       "158899              59           72.004293        68764.10  \n",
       "307740              59           33.034411        55266.57  \n",
       "65151               30           25.607281        41535.01  \n",
       "69465               20          122.548507        32843.00  "
      ]
     },
     "execution_count": 19,
     "metadata": {},
     "output_type": "execute_result"
    }
   ],
   "source": [
    "highly_funded = kickstarter_cleaned['percent_funded'] > 12.496\n",
    "\n",
    "highly_funded_kickstarters = kickstarter_cleaned[highly_funded].sort_values(by='percent_funded',ascending=False)\n",
    "\n",
    "highly_funded_kickstarters.head()"
   ]
  },
  {
   "cell_type": "code",
   "execution_count": 21,
   "metadata": {},
   "outputs": [
    {
     "data": {
      "text/plain": [
       "1.0        228\n",
       "1000.0     193\n",
       "10000.0    164\n",
       "500.0      159\n",
       "5000.0     152\n",
       "Name: usd_goal_real, dtype: int64"
      ]
     },
     "execution_count": 21,
     "metadata": {},
     "output_type": "execute_result"
    }
   ],
   "source": [
    "highly_funded_kickstarters['usd_goal_real'].value_counts(sort=True).head(5)"
   ]
  },
  {
   "cell_type": "code",
   "execution_count": 22,
   "metadata": {},
   "outputs": [
    {
     "data": {
      "text/plain": [
       "Games           971\n",
       "Design          752\n",
       "Technology      446\n",
       "Art             181\n",
       "Comics          153\n",
       "Fashion         143\n",
       "Music           136\n",
       "Publishing      133\n",
       "Food             95\n",
       "Film & Video     91\n",
       "Crafts           91\n",
       "Photography      22\n",
       "Theater          10\n",
       "Journalism        4\n",
       "Dance             2\n",
       "Name: main_category, dtype: int64"
      ]
     },
     "execution_count": 22,
     "metadata": {},
     "output_type": "execute_result"
    }
   ],
   "source": [
    "highly_funded_kickstarters.main_category.value_counts()"
   ]
  },
  {
   "cell_type": "markdown",
   "metadata": {},
   "source": [
    "We found that there are many projects that have outlier success because their goals are too low. We take these projects out to see whether there is anything interesting with normal projects that do not have goal less than 50 dollars. "
   ]
  },
  {
   "cell_type": "code",
   "execution_count": 26,
   "metadata": {},
   "outputs": [
    {
     "data": {
      "text/plain": [
       "main_category\n",
       "Art             2.906110\n",
       "Comics          6.724753\n",
       "Crafts          3.013387\n",
       "Dance           0.870736\n",
       "Design          2.219663\n",
       "Fashion         1.247900\n",
       "Film & Video    1.790400\n",
       "Food            1.008408\n",
       "Games           8.052188\n",
       "Journalism      0.671604\n",
       "Music           9.477993\n",
       "Photography     0.751017\n",
       "Publishing      2.231004\n",
       "Technology      3.551625\n",
       "Theater         1.098151\n",
       "Name: percent_funded, dtype: float64"
      ]
     },
     "execution_count": 26,
     "metadata": {},
     "output_type": "execute_result"
    }
   ],
   "source": [
    "kickstarter_cleaned.groupby('main_category')['percent_funded'].mean()"
   ]
  },
  {
   "cell_type": "code",
   "execution_count": null,
   "metadata": {},
   "outputs": [],
   "source": []
  },
  {
   "cell_type": "code",
   "execution_count": 27,
   "metadata": {},
   "outputs": [
    {
     "data": {
      "text/html": [
       "<div>\n",
       "<style scoped>\n",
       "    .dataframe tbody tr th:only-of-type {\n",
       "        vertical-align: middle;\n",
       "    }\n",
       "\n",
       "    .dataframe tbody tr th {\n",
       "        vertical-align: top;\n",
       "    }\n",
       "\n",
       "    .dataframe thead th {\n",
       "        text-align: right;\n",
       "    }\n",
       "</style>\n",
       "<table border=\"1\" class=\"dataframe\">\n",
       "  <thead>\n",
       "    <tr style=\"text-align: right;\">\n",
       "      <th></th>\n",
       "      <th>ID</th>\n",
       "      <th>name</th>\n",
       "      <th>category</th>\n",
       "      <th>main_category</th>\n",
       "      <th>currency</th>\n",
       "      <th>deadline</th>\n",
       "      <th>goal</th>\n",
       "      <th>launched</th>\n",
       "      <th>state</th>\n",
       "      <th>backers</th>\n",
       "      <th>country</th>\n",
       "      <th>usd_pledged_real</th>\n",
       "      <th>usd_goal_real</th>\n",
       "      <th>project_length</th>\n",
       "      <th>pledged_per_backer</th>\n",
       "      <th>percent_funded</th>\n",
       "    </tr>\n",
       "  </thead>\n",
       "  <tbody>\n",
       "    <tr>\n",
       "      <th>49910</th>\n",
       "      <td>1296661668</td>\n",
       "      <td>Solid Watch</td>\n",
       "      <td>Product Design</td>\n",
       "      <td>Design</td>\n",
       "      <td>USD</td>\n",
       "      <td>2011-08-29 00:00:00</td>\n",
       "      <td>100.0</td>\n",
       "      <td>2011-05-31 07:01:49</td>\n",
       "      <td>1</td>\n",
       "      <td>474</td>\n",
       "      <td>US</td>\n",
       "      <td>134090.00</td>\n",
       "      <td>100.0</td>\n",
       "      <td>89</td>\n",
       "      <td>282.890295</td>\n",
       "      <td>1340.900</td>\n",
       "    </tr>\n",
       "    <tr>\n",
       "      <th>29845</th>\n",
       "      <td>1176482851</td>\n",
       "      <td>TREVOR HALL presents... The Fruitful Darkness</td>\n",
       "      <td>Music</td>\n",
       "      <td>Music</td>\n",
       "      <td>USD</td>\n",
       "      <td>2017-09-06 00:00:00</td>\n",
       "      <td>108.0</td>\n",
       "      <td>2017-08-07 20:17:39</td>\n",
       "      <td>1</td>\n",
       "      <td>2254</td>\n",
       "      <td>US</td>\n",
       "      <td>137570.93</td>\n",
       "      <td>108.0</td>\n",
       "      <td>29</td>\n",
       "      <td>61.034130</td>\n",
       "      <td>1273.805</td>\n",
       "    </tr>\n",
       "    <tr>\n",
       "      <th>138599</th>\n",
       "      <td>1825421712</td>\n",
       "      <td>Keyflower is Awesome!</td>\n",
       "      <td>Tabletop Games</td>\n",
       "      <td>Games</td>\n",
       "      <td>USD</td>\n",
       "      <td>2015-08-11 00:00:00</td>\n",
       "      <td>100.0</td>\n",
       "      <td>2015-06-26 19:51:07</td>\n",
       "      <td>1</td>\n",
       "      <td>2041</td>\n",
       "      <td>US</td>\n",
       "      <td>121033.00</td>\n",
       "      <td>100.0</td>\n",
       "      <td>45</td>\n",
       "      <td>59.300833</td>\n",
       "      <td>1210.330</td>\n",
       "    </tr>\n",
       "    <tr>\n",
       "      <th>17022</th>\n",
       "      <td>1100872151</td>\n",
       "      <td>The Let's Make a Bunch of Logos Project Part 3</td>\n",
       "      <td>Graphic Design</td>\n",
       "      <td>Design</td>\n",
       "      <td>USD</td>\n",
       "      <td>2012-01-14 00:00:00</td>\n",
       "      <td>25.0</td>\n",
       "      <td>2011-12-15 18:37:21</td>\n",
       "      <td>1</td>\n",
       "      <td>475</td>\n",
       "      <td>US</td>\n",
       "      <td>26243.58</td>\n",
       "      <td>25.0</td>\n",
       "      <td>29</td>\n",
       "      <td>55.249642</td>\n",
       "      <td>1049.743</td>\n",
       "    </tr>\n",
       "    <tr>\n",
       "      <th>160187</th>\n",
       "      <td>1955357092</td>\n",
       "      <td>Exploding Kittens</td>\n",
       "      <td>Tabletop Games</td>\n",
       "      <td>Games</td>\n",
       "      <td>USD</td>\n",
       "      <td>2015-02-20 00:00:00</td>\n",
       "      <td>10000.0</td>\n",
       "      <td>2015-01-20 19:00:19</td>\n",
       "      <td>1</td>\n",
       "      <td>219382</td>\n",
       "      <td>US</td>\n",
       "      <td>8782571.99</td>\n",
       "      <td>10000.0</td>\n",
       "      <td>30</td>\n",
       "      <td>40.033239</td>\n",
       "      <td>878.257</td>\n",
       "    </tr>\n",
       "  </tbody>\n",
       "</table>\n",
       "</div>"
      ],
      "text/plain": [
       "                ID                                            name  \\\n",
       "49910   1296661668                                     Solid Watch   \n",
       "29845   1176482851   TREVOR HALL presents... The Fruitful Darkness   \n",
       "138599  1825421712                           Keyflower is Awesome!   \n",
       "17022   1100872151  The Let's Make a Bunch of Logos Project Part 3   \n",
       "160187  1955357092                               Exploding Kittens   \n",
       "\n",
       "              category main_category currency             deadline     goal  \\\n",
       "49910   Product Design        Design      USD  2011-08-29 00:00:00    100.0   \n",
       "29845            Music         Music      USD  2017-09-06 00:00:00    108.0   \n",
       "138599  Tabletop Games         Games      USD  2015-08-11 00:00:00    100.0   \n",
       "17022   Graphic Design        Design      USD  2012-01-14 00:00:00     25.0   \n",
       "160187  Tabletop Games         Games      USD  2015-02-20 00:00:00  10000.0   \n",
       "\n",
       "                   launched state  backers country  usd_pledged_real  \\\n",
       "49910   2011-05-31 07:01:49     1      474      US         134090.00   \n",
       "29845   2017-08-07 20:17:39     1     2254      US         137570.93   \n",
       "138599  2015-06-26 19:51:07     1     2041      US         121033.00   \n",
       "17022   2011-12-15 18:37:21     1      475      US          26243.58   \n",
       "160187  2015-01-20 19:00:19     1   219382      US        8782571.99   \n",
       "\n",
       "        usd_goal_real  project_length  pledged_per_backer  percent_funded  \n",
       "49910           100.0              89          282.890295        1340.900  \n",
       "29845           108.0              29           61.034130        1273.805  \n",
       "138599          100.0              45           59.300833        1210.330  \n",
       "17022            25.0              29           55.249642        1049.743  \n",
       "160187        10000.0              30           40.033239         878.257  "
      ]
     },
     "execution_count": 27,
     "metadata": {},
     "output_type": "execute_result"
    }
   ],
   "source": [
    "#take out goals that are too small\n",
    "\n",
    "reasonable_goal = (kickstarter_cleaned['percent_funded'] > 12.496) & (kickstarter_cleaned['goal'] >= 25)\n",
    "\n",
    "new_highly_funded = kickstarter_cleaned[reasonable_goal]\n",
    "new_highly_funded.sort_values(by='percent_funded',ascending=False).head()\n",
    "\n",
    "#newExtremeFunded.groupby('main_category')"
   ]
  },
  {
   "cell_type": "code",
   "execution_count": 28,
   "metadata": {},
   "outputs": [
    {
     "data": {
      "text/plain": [
       "Games           885\n",
       "Design          730\n",
       "Technology      418\n",
       "Fashion         129\n",
       "Art             112\n",
       "Comics          105\n",
       "Publishing       88\n",
       "Crafts           77\n",
       "Food             70\n",
       "Music            42\n",
       "Film & Video     39\n",
       "Photography      17\n",
       "Journalism        3\n",
       "Theater           2\n",
       "Dance             1\n",
       "Name: main_category, dtype: int64"
      ]
     },
     "execution_count": 28,
     "metadata": {},
     "output_type": "execute_result"
    }
   ],
   "source": [
    "new_highly_funded.main_category.value_counts()"
   ]
  },
  {
   "cell_type": "code",
   "execution_count": 30,
   "metadata": {},
   "outputs": [
    {
     "data": {
      "text/plain": [
       "110.11446332865854"
      ]
     },
     "execution_count": 30,
     "metadata": {},
     "output_type": "execute_result"
    }
   ],
   "source": [
    "new_highly_funded.pledged_per_backer.mean()"
   ]
  },
  {
   "cell_type": "code",
   "execution_count": 31,
   "metadata": {},
   "outputs": [
    {
     "data": {
      "text/plain": [
       "75.69599754197375"
      ]
     },
     "execution_count": 31,
     "metadata": {},
     "output_type": "execute_result"
    }
   ],
   "source": [
    "kickstarter_cleaned.pledged_per_backer.mean()"
   ]
  },
  {
   "cell_type": "code",
   "execution_count": null,
   "metadata": {},
   "outputs": [],
   "source": []
  },
  {
   "cell_type": "code",
   "execution_count": null,
   "metadata": {},
   "outputs": [],
   "source": []
  },
  {
   "cell_type": "code",
   "execution_count": null,
   "metadata": {},
   "outputs": [],
   "source": [
    "extremelyFundedKickstarters[extremelyFundedKickstarters['usd_goal_real'] <= 120000]['usd_goal_real'].value_counts().sort_index().plot()"
   ]
  },
  {
   "cell_type": "code",
   "execution_count": null,
   "metadata": {},
   "outputs": [],
   "source": [
    "extremelyFundedKickstarters['usd_goal_real'].describe()"
   ]
  },
  {
   "cell_type": "code",
   "execution_count": null,
   "metadata": {},
   "outputs": [],
   "source": [
    "extremelyFundedKickstarters[extremelyFundedKickstarters['usd_goal_real'] <= 10000]['usd_goal_real'].describe()"
   ]
  },
  {
   "cell_type": "code",
   "execution_count": null,
   "metadata": {},
   "outputs": [],
   "source": [
    "extremelyFundedKickstarters.groupby('main_category')['percent_funded'].describe()"
   ]
  },
  {
   "cell_type": "markdown",
   "metadata": {},
   "source": [
    "Average Pledge"
   ]
  },
  {
   "cell_type": "code",
   "execution_count": null,
   "metadata": {},
   "outputs": [],
   "source": []
  },
  {
   "cell_type": "code",
   "execution_count": null,
   "metadata": {},
   "outputs": [],
   "source": []
  },
  {
   "cell_type": "code",
   "execution_count": null,
   "metadata": {},
   "outputs": [],
   "source": []
  },
  {
   "cell_type": "code",
   "execution_count": null,
   "metadata": {},
   "outputs": [],
   "source": []
  }
 ],
 "metadata": {
  "kernelspec": {
   "display_name": "Python 3",
   "language": "python",
   "name": "python3"
  },
  "language_info": {
   "codemirror_mode": {
    "name": "ipython",
    "version": 3
   },
   "file_extension": ".py",
   "mimetype": "text/x-python",
   "name": "python",
   "nbconvert_exporter": "python",
   "pygments_lexer": "ipython3",
   "version": "3.7.3"
  }
 },
 "nbformat": 4,
 "nbformat_minor": 2
}
