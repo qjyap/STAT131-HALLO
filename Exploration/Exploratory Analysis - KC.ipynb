{
 "cells": [
  {
   "cell_type": "code",
   "execution_count": 1,
   "metadata": {},
   "outputs": [
    {
     "data": {
      "text/plain": [
       "Index(['Unnamed: 0', 'ID', 'name', 'category', 'main_category', 'currency',\n",
       "       'deadline', 'goal', 'launched', 'state', 'backers', 'country',\n",
       "       'usd_pledged_real', 'usd_goal_real', 'project_length',\n",
       "       'pledged_per_backer'],\n",
       "      dtype='object')"
      ]
     },
     "execution_count": 1,
     "metadata": {},
     "output_type": "execute_result"
    }
   ],
   "source": [
    "import pandas as pd\n",
    "import numpy as np\n",
    "import matplotlib.pyplot as plt\n",
    "kickstarter = pd.read_csv('kickstarter_cleaned_index.csv')\n",
    "kickstarter.columns"
   ]
  },
  {
   "cell_type": "code",
   "execution_count": 2,
   "metadata": {},
   "outputs": [
    {
     "data": {
      "text/plain": [
       "Index(['ID', 'name', 'category', 'main_category', 'currency', 'deadline',\n",
       "       'goal', 'launched', 'state', 'backers', 'country', 'usd_pledged_real',\n",
       "       'usd_goal_real', 'project_length', 'pledged_per_backer'],\n",
       "      dtype='object')"
      ]
     },
     "execution_count": 2,
     "metadata": {},
     "output_type": "execute_result"
    }
   ],
   "source": [
    "kickstarter = kickstarter.drop(columns='Unnamed: 0')\n",
    "\n",
    "kickstarter.columns"
   ]
  },
  {
   "cell_type": "markdown",
   "metadata": {},
   "source": [
    "## Data Cleaning"
   ]
  },
  {
   "cell_type": "code",
   "execution_count": 3,
   "metadata": {},
   "outputs": [
    {
     "data": {
      "text/html": [
       "<div>\n",
       "<style scoped>\n",
       "    .dataframe tbody tr th:only-of-type {\n",
       "        vertical-align: middle;\n",
       "    }\n",
       "\n",
       "    .dataframe tbody tr th {\n",
       "        vertical-align: top;\n",
       "    }\n",
       "\n",
       "    .dataframe thead th {\n",
       "        text-align: right;\n",
       "    }\n",
       "</style>\n",
       "<table border=\"1\" class=\"dataframe\">\n",
       "  <thead>\n",
       "    <tr style=\"text-align: right;\">\n",
       "      <th></th>\n",
       "      <th>ID</th>\n",
       "      <th>name</th>\n",
       "      <th>category</th>\n",
       "      <th>main_category</th>\n",
       "      <th>currency</th>\n",
       "      <th>deadline</th>\n",
       "      <th>goal</th>\n",
       "      <th>launched</th>\n",
       "      <th>state</th>\n",
       "      <th>backers</th>\n",
       "      <th>country</th>\n",
       "      <th>usd_pledged_real</th>\n",
       "      <th>usd_goal_real</th>\n",
       "      <th>project_length</th>\n",
       "      <th>pledged_per_backer</th>\n",
       "    </tr>\n",
       "  </thead>\n",
       "  <tbody>\n",
       "    <tr>\n",
       "      <th>61309</th>\n",
       "      <td>1365286494</td>\n",
       "      <td>From the Wilderness</td>\n",
       "      <td>Drama</td>\n",
       "      <td>Film &amp; Video</td>\n",
       "      <td>USD</td>\n",
       "      <td>2018-03-02 00:00:00</td>\n",
       "      <td>2500.0</td>\n",
       "      <td>2018-01-01 02:30:11</td>\n",
       "      <td>live</td>\n",
       "      <td>19</td>\n",
       "      <td>US</td>\n",
       "      <td>482.00</td>\n",
       "      <td>2500.00</td>\n",
       "      <td>59</td>\n",
       "      <td>25.368421</td>\n",
       "    </tr>\n",
       "    <tr>\n",
       "      <th>301869</th>\n",
       "      <td>872683023</td>\n",
       "      <td>The Lewisham Ledger - a new free local communi...</td>\n",
       "      <td>Print</td>\n",
       "      <td>Journalism</td>\n",
       "      <td>GBP</td>\n",
       "      <td>2018-03-02 00:00:00</td>\n",
       "      <td>5000.0</td>\n",
       "      <td>2018-01-01 21:20:35</td>\n",
       "      <td>live</td>\n",
       "      <td>7</td>\n",
       "      <td>GB</td>\n",
       "      <td>477.39</td>\n",
       "      <td>6819.89</td>\n",
       "      <td>59</td>\n",
       "      <td>68.198571</td>\n",
       "    </tr>\n",
       "    <tr>\n",
       "      <th>222480</th>\n",
       "      <td>396064457</td>\n",
       "      <td>Deaths of Athazar</td>\n",
       "      <td>Games</td>\n",
       "      <td>Games</td>\n",
       "      <td>USD</td>\n",
       "      <td>2018-03-02 00:00:00</td>\n",
       "      <td>15000.0</td>\n",
       "      <td>2018-01-01 13:27:13</td>\n",
       "      <td>live</td>\n",
       "      <td>1</td>\n",
       "      <td>US</td>\n",
       "      <td>1.00</td>\n",
       "      <td>15000.00</td>\n",
       "      <td>59</td>\n",
       "      <td>1.000000</td>\n",
       "    </tr>\n",
       "    <tr>\n",
       "      <th>134188</th>\n",
       "      <td>1799225301</td>\n",
       "      <td>Accurate Beats: My Album \"Collage\" on Vinyl!</td>\n",
       "      <td>Hip-Hop</td>\n",
       "      <td>Music</td>\n",
       "      <td>SEK</td>\n",
       "      <td>2018-03-02 00:00:00</td>\n",
       "      <td>14000.0</td>\n",
       "      <td>2018-01-01 10:35:25</td>\n",
       "      <td>live</td>\n",
       "      <td>16</td>\n",
       "      <td>SE</td>\n",
       "      <td>557.80</td>\n",
       "      <td>1727.69</td>\n",
       "      <td>59</td>\n",
       "      <td>34.862500</td>\n",
       "    </tr>\n",
       "    <tr>\n",
       "      <th>6130</th>\n",
       "      <td>1036415983</td>\n",
       "      <td>Aikyam : Onnu</td>\n",
       "      <td>Music</td>\n",
       "      <td>Music</td>\n",
       "      <td>USD</td>\n",
       "      <td>2018-03-03 00:00:00</td>\n",
       "      <td>10000.0</td>\n",
       "      <td>2018-01-02 08:11:58</td>\n",
       "      <td>live</td>\n",
       "      <td>3</td>\n",
       "      <td>US</td>\n",
       "      <td>174.00</td>\n",
       "      <td>10000.00</td>\n",
       "      <td>59</td>\n",
       "      <td>58.000000</td>\n",
       "    </tr>\n",
       "  </tbody>\n",
       "</table>\n",
       "</div>"
      ],
      "text/plain": [
       "                ID                                               name  \\\n",
       "61309   1365286494                                From the Wilderness   \n",
       "301869   872683023  The Lewisham Ledger - a new free local communi...   \n",
       "222480   396064457                                  Deaths of Athazar   \n",
       "134188  1799225301       Accurate Beats: My Album \"Collage\" on Vinyl!   \n",
       "6130    1036415983                                      Aikyam : Onnu   \n",
       "\n",
       "       category main_category currency             deadline     goal  \\\n",
       "61309     Drama  Film & Video      USD  2018-03-02 00:00:00   2500.0   \n",
       "301869    Print    Journalism      GBP  2018-03-02 00:00:00   5000.0   \n",
       "222480    Games         Games      USD  2018-03-02 00:00:00  15000.0   \n",
       "134188  Hip-Hop         Music      SEK  2018-03-02 00:00:00  14000.0   \n",
       "6130      Music         Music      USD  2018-03-03 00:00:00  10000.0   \n",
       "\n",
       "                   launched state  backers country  usd_pledged_real  \\\n",
       "61309   2018-01-01 02:30:11  live       19      US            482.00   \n",
       "301869  2018-01-01 21:20:35  live        7      GB            477.39   \n",
       "222480  2018-01-01 13:27:13  live        1      US              1.00   \n",
       "134188  2018-01-01 10:35:25  live       16      SE            557.80   \n",
       "6130    2018-01-02 08:11:58  live        3      US            174.00   \n",
       "\n",
       "        usd_goal_real  project_length  pledged_per_backer  \n",
       "61309         2500.00              59           25.368421  \n",
       "301869        6819.89              59           68.198571  \n",
       "222480       15000.00              59            1.000000  \n",
       "134188        1727.69              59           34.862500  \n",
       "6130         10000.00              59           58.000000  "
      ]
     },
     "execution_count": 3,
     "metadata": {},
     "output_type": "execute_result"
    }
   ],
   "source": [
    "kickstarter.sort_values(by='deadline').tail()"
   ]
  },
  {
   "cell_type": "markdown",
   "metadata": {},
   "source": [
    "### Check for Missing Values "
   ]
  },
  {
   "cell_type": "code",
   "execution_count": 4,
   "metadata": {},
   "outputs": [
    {
     "name": "stdout",
     "output_type": "stream",
     "text": [
      "ID                    False\n",
      "name                  False\n",
      "category              False\n",
      "main_category         False\n",
      "currency              False\n",
      "deadline              False\n",
      "goal                  False\n",
      "launched              False\n",
      "state                 False\n",
      "backers               False\n",
      "country               False\n",
      "usd_pledged_real      False\n",
      "usd_goal_real         False\n",
      "project_length        False\n",
      "pledged_per_backer    False\n",
      "dtype: bool\n"
     ]
    }
   ],
   "source": [
    "print(kickstarter.isnull().any())"
   ]
  },
  {
   "cell_type": "markdown",
   "metadata": {},
   "source": [
    "### Data Types "
   ]
  },
  {
   "cell_type": "code",
   "execution_count": 5,
   "metadata": {},
   "outputs": [
    {
     "name": "stdout",
     "output_type": "stream",
     "text": [
      "ID                      int64\n",
      "name                   object\n",
      "category               object\n",
      "main_category          object\n",
      "currency               object\n",
      "deadline               object\n",
      "goal                  float64\n",
      "launched               object\n",
      "state                  object\n",
      "backers                 int64\n",
      "country                object\n",
      "usd_pledged_real      float64\n",
      "usd_goal_real         float64\n",
      "project_length          int64\n",
      "pledged_per_backer    float64\n",
      "dtype: object\n"
     ]
    }
   ],
   "source": [
    "print(kickstarter.dtypes)"
   ]
  },
  {
   "cell_type": "markdown",
   "metadata": {},
   "source": [
    "We converted deadline and launched date to a date-time type. "
   ]
  },
  {
   "cell_type": "code",
   "execution_count": 6,
   "metadata": {},
   "outputs": [
    {
     "data": {
      "text/plain": [
       "pandas._libs.tslibs.timestamps.Timestamp"
      ]
     },
     "execution_count": 6,
     "metadata": {},
     "output_type": "execute_result"
    }
   ],
   "source": [
    "kickstarter['deadline'] = pd.to_datetime(kickstarter.deadline)\n",
    "kickstarter['launched'] = pd.to_datetime(kickstarter.launched)\n",
    "type(kickstarter.deadline[0])"
   ]
  },
  {
   "cell_type": "code",
   "execution_count": 7,
   "metadata": {},
   "outputs": [],
   "source": [
    "kickstarter['year_launched'] = kickstarter.launched.dt.year\n",
    "kickstarter['month_launched'] = kickstarter.launched.dt.month"
   ]
  },
  {
   "cell_type": "code",
   "execution_count": null,
   "metadata": {},
   "outputs": [],
   "source": []
  },
  {
   "cell_type": "markdown",
   "metadata": {},
   "source": [
    "## Summary Statistics "
   ]
  },
  {
   "cell_type": "code",
   "execution_count": 8,
   "metadata": {},
   "outputs": [
    {
     "name": "stdout",
     "output_type": "stream",
     "text": [
      "0            158968\n",
      "1            133851\n",
      "canceled      26744\n",
      "live           2250\n",
      "suspended      1230\n",
      "Name: state, dtype: int64\n"
     ]
    }
   ],
   "source": [
    "print(kickstarter.state.value_counts())"
   ]
  },
  {
   "cell_type": "markdown",
   "metadata": {},
   "source": [
    "### Relationships "
   ]
  },
  {
   "cell_type": "code",
   "execution_count": 9,
   "metadata": {},
   "outputs": [],
   "source": [
    "# category, main_category, currency, deadline/launched - year,month"
   ]
  },
  {
   "cell_type": "markdown",
   "metadata": {},
   "source": [
    "#### Main Category"
   ]
  },
  {
   "cell_type": "code",
   "execution_count": 10,
   "metadata": {},
   "outputs": [
    {
     "name": "stdout",
     "output_type": "stream",
     "text": [
      "state             0     1\n",
      "main_category            \n",
      "Technology     0.72  0.28\n",
      "Journalism     0.69  0.31\n",
      "Crafts         0.68  0.32\n",
      "Food           0.68  0.32\n",
      "Fashion        0.66  0.34\n",
      "Photography    0.60  0.40\n",
      "Publishing     0.59  0.41\n",
      "Design         0.56  0.44\n",
      "Games          0.54  0.46\n",
      "Film & Video   0.52  0.48\n",
      "Art            0.49  0.51\n",
      "Music          0.41  0.59\n",
      "Comics         0.39  0.61\n",
      "Theater        0.32  0.68\n",
      "Dance          0.31  0.69\n"
     ]
    }
   ],
   "source": [
    "projects = kickstarter[(kickstarter['state'] == '0') | (kickstarter['state'] == '1')]\n",
    "\n",
    "grouped = projects.groupby(['main_category','state']).ID.count()\n",
    "total = projects.groupby('main_category').state.count()\n",
    "prop = np.round((grouped/total),2).unstack().sort_values(by='1')\n",
    "#print(prop.std())\n",
    "#print(prop.mean()) \n",
    "print(prop) # all proportions within 2 std deviations"
   ]
  },
  {
   "cell_type": "code",
   "execution_count": 11,
   "metadata": {},
   "outputs": [
    {
     "data": {
      "image/png": "[encoded data removed]",
      "text/plain": [
       "<Figure size 432x288 with 1 Axes>"
      ]
     },
     "metadata": {
      "needs_background": "light"
     },
     "output_type": "display_data"
    }
   ],
   "source": [
    "prop.plot(kind='bar',stacked=True)\n",
    "plt.title('Proportion of Successful vs Failed Projects by Main Category')\n",
    "plt.legend(loc='upper right',bbox_to_anchor=(1.4,1))\n",
    "plt.show()"
   ]
  },
  {
   "cell_type": "markdown",
   "metadata": {},
   "source": [
    "#### Currency "
   ]
  },
  {
   "cell_type": "code",
   "execution_count": 12,
   "metadata": {},
   "outputs": [],
   "source": [
    "projects.currency.value_counts()\n",
    "\n",
    "grouped = projects.groupby(['currency','state']).ID.count()\n",
    "total = projects.groupby('currency').state.count()\n",
    "prop = np.round((grouped/total),2).unstack().sort_values(by='1')"
   ]
  },
  {
   "cell_type": "code",
   "execution_count": 13,
   "metadata": {},
   "outputs": [
    {
     "data": {
      "image/png": "[encoded data removed]",
      "text/plain": [
       "<Figure size 432x288 with 1 Axes>"
      ]
     },
     "metadata": {
      "needs_background": "light"
     },
     "output_type": "display_data"
    }
   ],
   "source": [
    "prop.plot(kind='bar',stacked=True)\n",
    "plt.title('Proportion of Successful vs Failed Projects by Currency')\n",
    "plt.legend(loc='upper right',bbox_to_anchor=(1.4,1))\n",
    "plt.show()"
   ]
  },
  {
   "cell_type": "markdown",
   "metadata": {},
   "source": [
    "#### Year Launched "
   ]
  },
  {
   "cell_type": "code",
   "execution_count": 21,
   "metadata": {
    "scrolled": true
   },
   "outputs": [
    {
     "name": "stdout",
     "output_type": "stream",
     "text": [
      "2009     1026\n",
      "2010     8396\n",
      "2011    21783\n",
      "2012    35339\n",
      "2013    38682\n",
      "2014    51637\n",
      "2015    53018\n",
      "2016    43919\n",
      "2017    39019\n",
      "Name: year_launched, dtype: int64\n"
     ]
    }
   ],
   "source": [
    "print(projects.year_launched.value_counts().sort_index())"
   ]
  },
  {
   "cell_type": "code",
   "execution_count": 16,
   "metadata": {},
   "outputs": [
    {
     "data": {
      "text/html": [
       "<div>\n",
       "<style scoped>\n",
       "    .dataframe tbody tr th:only-of-type {\n",
       "        vertical-align: middle;\n",
       "    }\n",
       "\n",
       "    .dataframe tbody tr th {\n",
       "        vertical-align: top;\n",
       "    }\n",
       "\n",
       "    .dataframe thead th {\n",
       "        text-align: right;\n",
       "    }\n",
       "</style>\n",
       "<table border=\"1\" class=\"dataframe\">\n",
       "  <thead>\n",
       "    <tr style=\"text-align: right;\">\n",
       "      <th>state</th>\n",
       "      <th>0</th>\n",
       "      <th>1</th>\n",
       "    </tr>\n",
       "    <tr>\n",
       "      <th>year_launched</th>\n",
       "      <th></th>\n",
       "      <th></th>\n",
       "    </tr>\n",
       "  </thead>\n",
       "  <tbody>\n",
       "    <tr>\n",
       "      <th>2009</th>\n",
       "      <td>0.44</td>\n",
       "      <td>0.56</td>\n",
       "    </tr>\n",
       "    <tr>\n",
       "      <th>2010</th>\n",
       "      <td>0.45</td>\n",
       "      <td>0.55</td>\n",
       "    </tr>\n",
       "    <tr>\n",
       "      <th>2011</th>\n",
       "      <td>0.44</td>\n",
       "      <td>0.56</td>\n",
       "    </tr>\n",
       "    <tr>\n",
       "      <th>2012</th>\n",
       "      <td>0.49</td>\n",
       "      <td>0.51</td>\n",
       "    </tr>\n",
       "    <tr>\n",
       "      <th>2013</th>\n",
       "      <td>0.50</td>\n",
       "      <td>0.50</td>\n",
       "    </tr>\n",
       "    <tr>\n",
       "      <th>2014</th>\n",
       "      <td>0.59</td>\n",
       "      <td>0.41</td>\n",
       "    </tr>\n",
       "    <tr>\n",
       "      <th>2015</th>\n",
       "      <td>0.60</td>\n",
       "      <td>0.40</td>\n",
       "    </tr>\n",
       "    <tr>\n",
       "      <th>2016</th>\n",
       "      <td>0.57</td>\n",
       "      <td>0.43</td>\n",
       "    </tr>\n",
       "    <tr>\n",
       "      <th>2017</th>\n",
       "      <td>0.53</td>\n",
       "      <td>0.47</td>\n",
       "    </tr>\n",
       "  </tbody>\n",
       "</table>\n",
       "</div>"
      ],
      "text/plain": [
       "state             0     1\n",
       "year_launched            \n",
       "2009           0.44  0.56\n",
       "2010           0.45  0.55\n",
       "2011           0.44  0.56\n",
       "2012           0.49  0.51\n",
       "2013           0.50  0.50\n",
       "2014           0.59  0.41\n",
       "2015           0.60  0.40\n",
       "2016           0.57  0.43\n",
       "2017           0.53  0.47"
      ]
     },
     "execution_count": 16,
     "metadata": {},
     "output_type": "execute_result"
    }
   ],
   "source": [
    "projects.year_launched.value_counts().sort_index()\n",
    "\n",
    "grouped = projects.groupby(['year_launched','state']).ID.count()\n",
    "total = projects.groupby('year_launched').state.count()\n",
    "prop = np.round((grouped/total),2).unstack().sort_values(by='1')\n",
    "prop = prop.sort_index()\n",
    "prop"
   ]
  },
  {
   "cell_type": "code",
   "execution_count": 17,
   "metadata": {},
   "outputs": [
    {
     "data": {
      "image/png": "[encoded data removed]",
      "text/plain": [
       "<Figure size 432x288 with 1 Axes>"
      ]
     },
     "metadata": {
      "needs_background": "light"
     },
     "output_type": "display_data"
    }
   ],
   "source": [
    "prop.plot(kind='bar',stacked=True)\n",
    "plt.title('Proportion of Successful vs Failed Projects by Year')\n",
    "plt.legend(loc='upper right',bbox_to_anchor=(1.4,1))\n",
    "plt.show()"
   ]
  },
  {
   "cell_type": "markdown",
   "metadata": {},
   "source": [
    "From the graph, it appears that the overall success rate for all projects have decreased over the years. This is also due to the increase of number of projects on Kickstarter since 2014."
   ]
  },
  {
   "cell_type": "markdown",
   "metadata": {},
   "source": [
    "#### Month Launched "
   ]
  },
  {
   "cell_type": "code",
   "execution_count": 18,
   "metadata": {},
   "outputs": [
    {
     "data": {
      "text/html": [
       "<div>\n",
       "<style scoped>\n",
       "    .dataframe tbody tr th:only-of-type {\n",
       "        vertical-align: middle;\n",
       "    }\n",
       "\n",
       "    .dataframe tbody tr th {\n",
       "        vertical-align: top;\n",
       "    }\n",
       "\n",
       "    .dataframe thead th {\n",
       "        text-align: right;\n",
       "    }\n",
       "</style>\n",
       "<table border=\"1\" class=\"dataframe\">\n",
       "  <thead>\n",
       "    <tr style=\"text-align: right;\">\n",
       "      <th>state</th>\n",
       "      <th>0</th>\n",
       "      <th>1</th>\n",
       "    </tr>\n",
       "    <tr>\n",
       "      <th>month_launched</th>\n",
       "      <th></th>\n",
       "      <th></th>\n",
       "    </tr>\n",
       "  </thead>\n",
       "  <tbody>\n",
       "    <tr>\n",
       "      <th>1</th>\n",
       "      <td>0.56</td>\n",
       "      <td>0.44</td>\n",
       "    </tr>\n",
       "    <tr>\n",
       "      <th>2</th>\n",
       "      <td>0.53</td>\n",
       "      <td>0.47</td>\n",
       "    </tr>\n",
       "    <tr>\n",
       "      <th>3</th>\n",
       "      <td>0.52</td>\n",
       "      <td>0.48</td>\n",
       "    </tr>\n",
       "    <tr>\n",
       "      <th>4</th>\n",
       "      <td>0.52</td>\n",
       "      <td>0.48</td>\n",
       "    </tr>\n",
       "    <tr>\n",
       "      <th>5</th>\n",
       "      <td>0.53</td>\n",
       "      <td>0.47</td>\n",
       "    </tr>\n",
       "    <tr>\n",
       "      <th>6</th>\n",
       "      <td>0.54</td>\n",
       "      <td>0.46</td>\n",
       "    </tr>\n",
       "    <tr>\n",
       "      <th>7</th>\n",
       "      <td>0.57</td>\n",
       "      <td>0.43</td>\n",
       "    </tr>\n",
       "    <tr>\n",
       "      <th>8</th>\n",
       "      <td>0.56</td>\n",
       "      <td>0.44</td>\n",
       "    </tr>\n",
       "    <tr>\n",
       "      <th>9</th>\n",
       "      <td>0.54</td>\n",
       "      <td>0.46</td>\n",
       "    </tr>\n",
       "    <tr>\n",
       "      <th>10</th>\n",
       "      <td>0.53</td>\n",
       "      <td>0.47</td>\n",
       "    </tr>\n",
       "    <tr>\n",
       "      <th>11</th>\n",
       "      <td>0.53</td>\n",
       "      <td>0.47</td>\n",
       "    </tr>\n",
       "    <tr>\n",
       "      <th>12</th>\n",
       "      <td>0.58</td>\n",
       "      <td>0.42</td>\n",
       "    </tr>\n",
       "  </tbody>\n",
       "</table>\n",
       "</div>"
      ],
      "text/plain": [
       "state              0     1\n",
       "month_launched            \n",
       "1               0.56  0.44\n",
       "2               0.53  0.47\n",
       "3               0.52  0.48\n",
       "4               0.52  0.48\n",
       "5               0.53  0.47\n",
       "6               0.54  0.46\n",
       "7               0.57  0.43\n",
       "8               0.56  0.44\n",
       "9               0.54  0.46\n",
       "10              0.53  0.47\n",
       "11              0.53  0.47\n",
       "12              0.58  0.42"
      ]
     },
     "execution_count": 18,
     "metadata": {},
     "output_type": "execute_result"
    }
   ],
   "source": [
    "kickstarter.month_launched.value_counts().sort_index()\n",
    "\n",
    "grouped = projects.groupby(['month_launched','state']).ID.count()\n",
    "total = projects.groupby('month_launched').state.count()\n",
    "prop = np.round((grouped/total),2).unstack().sort_values(by='1')\n",
    "prop = prop.sort_index()\n",
    "prop"
   ]
  },
  {
   "cell_type": "code",
   "execution_count": 19,
   "metadata": {},
   "outputs": [
    {
     "data": {
      "image/png": "[encoded data removed]",
      "text/plain": [
       "<Figure size 432x288 with 1 Axes>"
      ]
     },
     "metadata": {
      "needs_background": "light"
     },
     "output_type": "display_data"
    }
   ],
   "source": [
    "prop.plot(kind='bar',stacked=True)\n",
    "plt.title('Proportion of Successful vs Failed Projects by Year')\n",
    "plt.legend(loc='upper right',bbox_to_anchor=(1.4,1))\n",
    "plt.show()"
   ]
  },
  {
   "cell_type": "markdown",
   "metadata": {},
   "source": [
    "#### Comparing Relaunched Projects"
   ]
  },
  {
   "cell_type": "code",
   "execution_count": 36,
   "metadata": {},
   "outputs": [
    {
     "data": {
      "text/plain": [
       "Logo Design                  2\n",
       "The Club                     2\n",
       "Battleground                 2\n",
       "One                          2\n",
       "Made From The Heart Mixes    2\n",
       "The Seven                    2\n",
       "REVIVAL                      2\n",
       "Homecoming                   2\n",
       "Bounty Hunter: Beauty        2\n",
       "Are You Listening?           2\n",
       "Name: name, dtype: int64"
      ]
     },
     "execution_count": 36,
     "metadata": {},
     "output_type": "execute_result"
    }
   ],
   "source": [
    "names = kickstarter.name.value_counts()\n",
    "names[names==2].count()\n",
    "names[names==2].head(10)"
   ]
  },
  {
   "cell_type": "code",
   "execution_count": 54,
   "metadata": {},
   "outputs": [
    {
     "data": {
      "text/html": [
       "<div>\n",
       "<style scoped>\n",
       "    .dataframe tbody tr th:only-of-type {\n",
       "        vertical-align: middle;\n",
       "    }\n",
       "\n",
       "    .dataframe tbody tr th {\n",
       "        vertical-align: top;\n",
       "    }\n",
       "\n",
       "    .dataframe thead th {\n",
       "        text-align: right;\n",
       "    }\n",
       "</style>\n",
       "<table border=\"1\" class=\"dataframe\">\n",
       "  <thead>\n",
       "    <tr style=\"text-align: right;\">\n",
       "      <th></th>\n",
       "      <th>ID</th>\n",
       "      <th>name</th>\n",
       "      <th>category</th>\n",
       "      <th>main_category</th>\n",
       "      <th>currency</th>\n",
       "      <th>deadline</th>\n",
       "      <th>goal</th>\n",
       "      <th>launched</th>\n",
       "      <th>state</th>\n",
       "      <th>backers</th>\n",
       "      <th>country</th>\n",
       "      <th>usd_pledged_real</th>\n",
       "      <th>usd_goal_real</th>\n",
       "      <th>project_length</th>\n",
       "      <th>pledged_per_backer</th>\n",
       "      <th>year_launched</th>\n",
       "      <th>month_launched</th>\n",
       "    </tr>\n",
       "  </thead>\n",
       "  <tbody>\n",
       "    <tr>\n",
       "      <th>27733</th>\n",
       "      <td>1164363374</td>\n",
       "      <td>Nokï Baby Bottle Adapter</td>\n",
       "      <td>Product Design</td>\n",
       "      <td>Design</td>\n",
       "      <td>USD</td>\n",
       "      <td>2016-11-01</td>\n",
       "      <td>30000.0</td>\n",
       "      <td>2016-09-02 21:02:45</td>\n",
       "      <td>canceled</td>\n",
       "      <td>49</td>\n",
       "      <td>US</td>\n",
       "      <td>2613.0</td>\n",
       "      <td>30000.0</td>\n",
       "      <td>59</td>\n",
       "      <td>53.326531</td>\n",
       "      <td>2016</td>\n",
       "      <td>9</td>\n",
       "    </tr>\n",
       "    <tr>\n",
       "      <th>76822</th>\n",
       "      <td>1457070257</td>\n",
       "      <td>Nokï Baby Bottle Adapter</td>\n",
       "      <td>Product Design</td>\n",
       "      <td>Design</td>\n",
       "      <td>USD</td>\n",
       "      <td>2016-12-18</td>\n",
       "      <td>15000.0</td>\n",
       "      <td>2016-11-02 23:53:38</td>\n",
       "      <td>0</td>\n",
       "      <td>34</td>\n",
       "      <td>US</td>\n",
       "      <td>1614.0</td>\n",
       "      <td>15000.0</td>\n",
       "      <td>45</td>\n",
       "      <td>47.470588</td>\n",
       "      <td>2016</td>\n",
       "      <td>11</td>\n",
       "    </tr>\n",
       "  </tbody>\n",
       "</table>\n",
       "</div>"
      ],
      "text/plain": [
       "               ID                      name        category main_category  \\\n",
       "27733  1164363374  Nokï Baby Bottle Adapter  Product Design        Design   \n",
       "76822  1457070257  Nokï Baby Bottle Adapter  Product Design        Design   \n",
       "\n",
       "      currency   deadline     goal            launched     state  backers  \\\n",
       "27733      USD 2016-11-01  30000.0 2016-09-02 21:02:45  canceled       49   \n",
       "76822      USD 2016-12-18  15000.0 2016-11-02 23:53:38         0       34   \n",
       "\n",
       "      country  usd_pledged_real  usd_goal_real  project_length  \\\n",
       "27733      US            2613.0        30000.0              59   \n",
       "76822      US            1614.0        15000.0              45   \n",
       "\n",
       "       pledged_per_backer  year_launched  month_launched  \n",
       "27733           53.326531           2016               9  \n",
       "76822           47.470588           2016              11  "
      ]
     },
     "execution_count": 54,
     "metadata": {},
     "output_type": "execute_result"
    }
   ],
   "source": [
    "kickstarter[kickstarter['name'] == 'Nokï Baby Bottle Adapter'].sort_values(by='launched')"
   ]
  },
  {
   "cell_type": "code",
   "execution_count": 129,
   "metadata": {},
   "outputs": [
    {
     "name": "stdout",
     "output_type": "stream",
     "text": [
      "423\n"
     ]
    },
    {
     "data": {
      "text/html": [
       "<div>\n",
       "<style scoped>\n",
       "    .dataframe tbody tr th:only-of-type {\n",
       "        vertical-align: middle;\n",
       "    }\n",
       "\n",
       "    .dataframe tbody tr th {\n",
       "        vertical-align: top;\n",
       "    }\n",
       "\n",
       "    .dataframe thead th {\n",
       "        text-align: right;\n",
       "    }\n",
       "</style>\n",
       "<table border=\"1\" class=\"dataframe\">\n",
       "  <thead>\n",
       "    <tr style=\"text-align: right;\">\n",
       "      <th></th>\n",
       "      <th>ID</th>\n",
       "      <th>name</th>\n",
       "      <th>category</th>\n",
       "      <th>main_category</th>\n",
       "      <th>currency</th>\n",
       "      <th>deadline</th>\n",
       "      <th>goal</th>\n",
       "      <th>launched</th>\n",
       "      <th>state</th>\n",
       "      <th>backers</th>\n",
       "      <th>country</th>\n",
       "      <th>usd_pledged_real</th>\n",
       "      <th>usd_goal_real</th>\n",
       "      <th>project_length</th>\n",
       "      <th>pledged_per_backer</th>\n",
       "      <th>year_launched</th>\n",
       "      <th>month_launched</th>\n",
       "    </tr>\n",
       "  </thead>\n",
       "  <tbody>\n",
       "    <tr>\n",
       "      <th>101928</th>\n",
       "      <td>1606189204</td>\n",
       "      <td>\"The Book of Sam\" Book One Graphic Novel</td>\n",
       "      <td>Comics</td>\n",
       "      <td>Comics</td>\n",
       "      <td>USD</td>\n",
       "      <td>2017-02-05</td>\n",
       "      <td>5000.0</td>\n",
       "      <td>2017-01-06 01:55:34</td>\n",
       "      <td>canceled</td>\n",
       "      <td>1</td>\n",
       "      <td>US</td>\n",
       "      <td>5.0</td>\n",
       "      <td>5000.0</td>\n",
       "      <td>29</td>\n",
       "      <td>5.000000</td>\n",
       "      <td>2017</td>\n",
       "      <td>1</td>\n",
       "    </tr>\n",
       "    <tr>\n",
       "      <th>27898</th>\n",
       "      <td>1165257902</td>\n",
       "      <td>\"The Book of Sam\" Book One Graphic Novel</td>\n",
       "      <td>Comics</td>\n",
       "      <td>Comics</td>\n",
       "      <td>USD</td>\n",
       "      <td>2017-02-09</td>\n",
       "      <td>300.0</td>\n",
       "      <td>2017-01-10 17:09:27</td>\n",
       "      <td>0</td>\n",
       "      <td>10</td>\n",
       "      <td>US</td>\n",
       "      <td>111.0</td>\n",
       "      <td>300.0</td>\n",
       "      <td>29</td>\n",
       "      <td>11.100000</td>\n",
       "      <td>2017</td>\n",
       "      <td>1</td>\n",
       "    </tr>\n",
       "    <tr>\n",
       "      <th>54430</th>\n",
       "      <td>1323699879</td>\n",
       "      <td>1000 Paper Cranes</td>\n",
       "      <td>Crafts</td>\n",
       "      <td>Crafts</td>\n",
       "      <td>USD</td>\n",
       "      <td>2014-09-06</td>\n",
       "      <td>1000.0</td>\n",
       "      <td>2014-07-08 19:32:28</td>\n",
       "      <td>0</td>\n",
       "      <td>5</td>\n",
       "      <td>US</td>\n",
       "      <td>6.0</td>\n",
       "      <td>1000.0</td>\n",
       "      <td>59</td>\n",
       "      <td>1.200000</td>\n",
       "      <td>2014</td>\n",
       "      <td>7</td>\n",
       "    </tr>\n",
       "    <tr>\n",
       "      <th>202968</th>\n",
       "      <td>279477490</td>\n",
       "      <td>1000 Paper Cranes</td>\n",
       "      <td>Crafts</td>\n",
       "      <td>Crafts</td>\n",
       "      <td>USD</td>\n",
       "      <td>2015-08-21</td>\n",
       "      <td>650.0</td>\n",
       "      <td>2015-07-22 00:07:53</td>\n",
       "      <td>0</td>\n",
       "      <td>19</td>\n",
       "      <td>US</td>\n",
       "      <td>199.0</td>\n",
       "      <td>650.0</td>\n",
       "      <td>29</td>\n",
       "      <td>10.473684</td>\n",
       "      <td>2015</td>\n",
       "      <td>7</td>\n",
       "    </tr>\n",
       "    <tr>\n",
       "      <th>177944</th>\n",
       "      <td>2062423380</td>\n",
       "      <td>12 Days of Chocolate - Xmas Advent Calendar</td>\n",
       "      <td>Food</td>\n",
       "      <td>Food</td>\n",
       "      <td>USD</td>\n",
       "      <td>2016-12-12</td>\n",
       "      <td>3500.0</td>\n",
       "      <td>2016-11-17 19:42:48</td>\n",
       "      <td>canceled</td>\n",
       "      <td>1</td>\n",
       "      <td>US</td>\n",
       "      <td>35.0</td>\n",
       "      <td>3500.0</td>\n",
       "      <td>24</td>\n",
       "      <td>35.000000</td>\n",
       "      <td>2016</td>\n",
       "      <td>11</td>\n",
       "    </tr>\n",
       "    <tr>\n",
       "      <th>130043</th>\n",
       "      <td>1773390132</td>\n",
       "      <td>12 Days of Chocolate - Xmas Advent Calendar</td>\n",
       "      <td>Food</td>\n",
       "      <td>Food</td>\n",
       "      <td>USD</td>\n",
       "      <td>2016-12-05</td>\n",
       "      <td>3500.0</td>\n",
       "      <td>2016-11-21 08:46:28</td>\n",
       "      <td>1</td>\n",
       "      <td>19</td>\n",
       "      <td>US</td>\n",
       "      <td>3593.0</td>\n",
       "      <td>3500.0</td>\n",
       "      <td>13</td>\n",
       "      <td>189.105263</td>\n",
       "      <td>2016</td>\n",
       "      <td>11</td>\n",
       "    </tr>\n",
       "    <tr>\n",
       "      <th>317718</th>\n",
       "      <td>96794570</td>\n",
       "      <td>12 Realms: Dungeonland</td>\n",
       "      <td>Tabletop Games</td>\n",
       "      <td>Games</td>\n",
       "      <td>USD</td>\n",
       "      <td>2017-06-05</td>\n",
       "      <td>55000.0</td>\n",
       "      <td>2017-05-15 15:59:45</td>\n",
       "      <td>canceled</td>\n",
       "      <td>300</td>\n",
       "      <td>US</td>\n",
       "      <td>29863.0</td>\n",
       "      <td>55000.0</td>\n",
       "      <td>20</td>\n",
       "      <td>99.543333</td>\n",
       "      <td>2017</td>\n",
       "      <td>5</td>\n",
       "    </tr>\n",
       "    <tr>\n",
       "      <th>180949</th>\n",
       "      <td>2080553542</td>\n",
       "      <td>12 Realms: Dungeonland</td>\n",
       "      <td>Tabletop Games</td>\n",
       "      <td>Games</td>\n",
       "      <td>USD</td>\n",
       "      <td>2017-06-27</td>\n",
       "      <td>30000.0</td>\n",
       "      <td>2017-06-02 01:48:29</td>\n",
       "      <td>1</td>\n",
       "      <td>400</td>\n",
       "      <td>US</td>\n",
       "      <td>44631.0</td>\n",
       "      <td>30000.0</td>\n",
       "      <td>24</td>\n",
       "      <td>111.577500</td>\n",
       "      <td>2017</td>\n",
       "      <td>6</td>\n",
       "    </tr>\n",
       "    <tr>\n",
       "      <th>157771</th>\n",
       "      <td>1940823267</td>\n",
       "      <td>29 Linens || Reinvent Your Rest w/ Copper-Infu...</td>\n",
       "      <td>Product Design</td>\n",
       "      <td>Design</td>\n",
       "      <td>USD</td>\n",
       "      <td>2017-02-15</td>\n",
       "      <td>12000.0</td>\n",
       "      <td>2017-01-10 01:05:06</td>\n",
       "      <td>canceled</td>\n",
       "      <td>85</td>\n",
       "      <td>US</td>\n",
       "      <td>13978.0</td>\n",
       "      <td>12000.0</td>\n",
       "      <td>35</td>\n",
       "      <td>164.447059</td>\n",
       "      <td>2017</td>\n",
       "      <td>1</td>\n",
       "    </tr>\n",
       "    <tr>\n",
       "      <th>104360</th>\n",
       "      <td>1620528874</td>\n",
       "      <td>29 Linens || Reinvent Your Rest w/ Copper-Infu...</td>\n",
       "      <td>Product Design</td>\n",
       "      <td>Design</td>\n",
       "      <td>USD</td>\n",
       "      <td>2017-02-16</td>\n",
       "      <td>12000.0</td>\n",
       "      <td>2017-01-16 15:02:09</td>\n",
       "      <td>1</td>\n",
       "      <td>625</td>\n",
       "      <td>US</td>\n",
       "      <td>110551.0</td>\n",
       "      <td>12000.0</td>\n",
       "      <td>30</td>\n",
       "      <td>176.881600</td>\n",
       "      <td>2017</td>\n",
       "      <td>1</td>\n",
       "    </tr>\n",
       "  </tbody>\n",
       "</table>\n",
       "</div>"
      ],
      "text/plain": [
       "                ID                                               name  \\\n",
       "101928  1606189204           \"The Book of Sam\" Book One Graphic Novel   \n",
       "27898   1165257902           \"The Book of Sam\" Book One Graphic Novel   \n",
       "54430   1323699879                                  1000 Paper Cranes   \n",
       "202968   279477490                                  1000 Paper Cranes   \n",
       "177944  2062423380        12 Days of Chocolate - Xmas Advent Calendar   \n",
       "130043  1773390132        12 Days of Chocolate - Xmas Advent Calendar   \n",
       "317718    96794570                             12 Realms: Dungeonland   \n",
       "180949  2080553542                             12 Realms: Dungeonland   \n",
       "157771  1940823267  29 Linens || Reinvent Your Rest w/ Copper-Infu...   \n",
       "104360  1620528874  29 Linens || Reinvent Your Rest w/ Copper-Infu...   \n",
       "\n",
       "              category main_category currency   deadline     goal  \\\n",
       "101928          Comics        Comics      USD 2017-02-05   5000.0   \n",
       "27898           Comics        Comics      USD 2017-02-09    300.0   \n",
       "54430           Crafts        Crafts      USD 2014-09-06   1000.0   \n",
       "202968          Crafts        Crafts      USD 2015-08-21    650.0   \n",
       "177944            Food          Food      USD 2016-12-12   3500.0   \n",
       "130043            Food          Food      USD 2016-12-05   3500.0   \n",
       "317718  Tabletop Games         Games      USD 2017-06-05  55000.0   \n",
       "180949  Tabletop Games         Games      USD 2017-06-27  30000.0   \n",
       "157771  Product Design        Design      USD 2017-02-15  12000.0   \n",
       "104360  Product Design        Design      USD 2017-02-16  12000.0   \n",
       "\n",
       "                  launched     state  backers country  usd_pledged_real  \\\n",
       "101928 2017-01-06 01:55:34  canceled        1      US               5.0   \n",
       "27898  2017-01-10 17:09:27         0       10      US             111.0   \n",
       "54430  2014-07-08 19:32:28         0        5      US               6.0   \n",
       "202968 2015-07-22 00:07:53         0       19      US             199.0   \n",
       "177944 2016-11-17 19:42:48  canceled        1      US              35.0   \n",
       "130043 2016-11-21 08:46:28         1       19      US            3593.0   \n",
       "317718 2017-05-15 15:59:45  canceled      300      US           29863.0   \n",
       "180949 2017-06-02 01:48:29         1      400      US           44631.0   \n",
       "157771 2017-01-10 01:05:06  canceled       85      US           13978.0   \n",
       "104360 2017-01-16 15:02:09         1      625      US          110551.0   \n",
       "\n",
       "        usd_goal_real  project_length  pledged_per_backer  year_launched  \\\n",
       "101928         5000.0              29            5.000000           2017   \n",
       "27898           300.0              29           11.100000           2017   \n",
       "54430          1000.0              59            1.200000           2014   \n",
       "202968          650.0              29           10.473684           2015   \n",
       "177944         3500.0              24           35.000000           2016   \n",
       "130043         3500.0              13          189.105263           2016   \n",
       "317718        55000.0              20           99.543333           2017   \n",
       "180949        30000.0              24          111.577500           2017   \n",
       "157771        12000.0              35          164.447059           2017   \n",
       "104360        12000.0              30          176.881600           2017   \n",
       "\n",
       "        month_launched  \n",
       "101928               1  \n",
       "27898                1  \n",
       "54430                7  \n",
       "202968               7  \n",
       "177944              11  \n",
       "130043              11  \n",
       "317718               5  \n",
       "180949               6  \n",
       "157771               1  \n",
       "104360               1  "
      ]
     },
     "execution_count": 129,
     "metadata": {},
     "output_type": "execute_result"
    }
   ],
   "source": [
    "repeat = kickstarter[kickstarter.duplicated(['name', 'category','country'],keep=False)]\n",
    "\n",
    "counts = repeat.name.value_counts()\n",
    "twice = counts[counts == 2]\n",
    "twice = list(twice.index)\n",
    "print(len(twice)) # 716 exact projects that repeated twice\n",
    "\n",
    "duplicated = repeat[repeat.name.isin(twice)].sort_values(by=['name','launched'])\n",
    "duplicated.reset_index()\n",
    "duplicated.head(10)"
   ]
  },
  {
   "cell_type": "code",
   "execution_count": null,
   "metadata": {},
   "outputs": [],
   "source": [
    "first_instance = duplicated.drop_duplicates(['name','category','country'],keep='first')\n",
    "first_instance.shape\n",
    "\n",
    "second_instance = duplicated.drop_duplicates(['name','category','country'],keep='last')\n",
    "second_instance.shape"
   ]
  },
  {
   "cell_type": "code",
   "execution_count": 123,
   "metadata": {},
   "outputs": [
    {
     "data": {
      "text/plain": [
       "Games           113\n",
       "Film & Video     86\n",
       "Design           60\n",
       "Technology       33\n",
       "Publishing       23\n",
       "Theater          21\n",
       "Food             19\n",
       "Music            16\n",
       "Art              12\n",
       "Crafts           11\n",
       "Photography      10\n",
       "Fashion           9\n",
       "Comics            7\n",
       "Dance             2\n",
       "Journalism        1\n",
       "Name: main_category, dtype: int64"
      ]
     },
     "execution_count": 123,
     "metadata": {},
     "output_type": "execute_result"
    }
   ],
   "source": [
    "first_instance.main_category.value_counts()"
   ]
  },
  {
   "cell_type": "code",
   "execution_count": 124,
   "metadata": {},
   "outputs": [
    {
     "data": {
      "text/plain": [
       "canceled     236\n",
       "0            102\n",
       "1             80\n",
       "suspended      5\n",
       "Name: state, dtype: int64"
      ]
     },
     "execution_count": 124,
     "metadata": {},
     "output_type": "execute_result"
    }
   ],
   "source": [
    "first_instance.head(10)\n",
    "first_instance.state.value_counts()"
   ]
  },
  {
   "cell_type": "code",
   "execution_count": 125,
   "metadata": {},
   "outputs": [
    {
     "data": {
      "text/plain": [
       "1            195\n",
       "0            168\n",
       "canceled      49\n",
       "live           8\n",
       "suspended      3\n",
       "Name: state, dtype: int64"
      ]
     },
     "execution_count": 125,
     "metadata": {},
     "output_type": "execute_result"
    }
   ],
   "source": [
    "second_instance.state.value_counts()"
   ]
  },
  {
   "cell_type": "markdown",
   "metadata": {},
   "source": [
    "Some main categories are more precise than other categories. If the sub categories are more different and precise, then the model works better. \n",
    "\n",
    "check pledge amount is 100 times the goal - do it by category and see which category has the most outliers. "
   ]
  }
 ],
 "metadata": {
  "kernelspec": {
   "display_name": "Python 3",
   "language": "python",
   "name": "python3"
  },
  "language_info": {
   "codemirror_mode": {
    "name": "ipython",
    "version": 3
   },
   "file_extension": ".py",
   "mimetype": "text/x-python",
   "name": "python",
   "nbconvert_exporter": "python",
   "pygments_lexer": "ipython3",
   "version": "3.7.3"
  }
 },
 "nbformat": 4,
 "nbformat_minor": 2
}
