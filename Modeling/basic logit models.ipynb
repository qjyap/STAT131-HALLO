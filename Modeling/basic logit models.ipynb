{
 "cells": [
  {
   "cell_type": "code",
   "execution_count": 1,
   "metadata": {},
   "outputs": [],
   "source": [
    "import random\n",
    "import warnings\n",
    "import pandas as pd\n",
    "import numpy as np\n",
    "import seaborn as sns\n",
    "import matplotlib\n",
    "import matplotlib.pyplot as plt\n",
    "import statsmodels.formula.api as smf\n",
    "from sklearn.model_selection import train_test_split\n",
    "from sklearn.linear_model import LogisticRegression,LassoCV\n",
    "\n",
    "random.seed(1)"
   ]
  },
  {
   "cell_type": "markdown",
   "metadata": {},
   "source": [
    "In the following chunk of code, I am importing the initial cleaned dataset, but we will need to do additional cleaning. Steps that we will be taking:\n",
    "\n",
    "1. Dropping the 'Unnamed: 0' column as it contains the original index of the cleaned dataset (which we do not need)\n",
    "2. Filtering the dataset to only include the entries with successful ('1') or failed ('0') projects\n",
    "3. Filtered the dataset to only use games as a main category subset for more specific analysis. Games was the category with the most backers"
   ]
  },
  {
   "cell_type": "code",
   "execution_count": 2,
   "metadata": {},
   "outputs": [],
   "source": [
    "kickstarter_clean = pd.read_csv('kickstarter_cleaned_index.csv')\n",
    "kickstarter_clean = kickstarter_clean.drop(columns = ['Unnamed: 0'])\n",
    "#kickstarter_clean['year_launched'] = kickstarter_clean.launched.apply(lambda x:int(x[0:4]))"
   ]
  },
  {
   "cell_type": "code",
   "execution_count": 3,
   "metadata": {
    "scrolled": true
   },
   "outputs": [
    {
     "name": "stdout",
     "output_type": "stream",
     "text": [
      "            ID                                               name  \\\n",
      "10  1000057089  Tombstone: Old West tabletop game and miniatur...   \n",
      "38  1000170964  Penny Bingo Playing Card Game fun for the whol...   \n",
      "42  1000190427                                       Seas of Iron   \n",
      "52  1000232288                                     Empires at Sea   \n",
      "68  1000328150  Legacy of Svarog | a Unique 3D Action RPG and ...   \n",
      "\n",
      "          category main_category currency             deadline     goal  \\\n",
      "10  Tabletop Games         Games      GBP  2017-05-03 00:00:00   5000.0   \n",
      "38  Tabletop Games         Games      USD  2017-03-27 00:00:00   1500.0   \n",
      "42  Tabletop Games         Games      USD  2013-07-19 00:00:00   3000.0   \n",
      "52  Tabletop Games         Games      USD  2015-06-23 00:00:00  25000.0   \n",
      "68     Video Games         Games      USD  2015-10-30 00:00:00  50000.0   \n",
      "\n",
      "               launched state  backers country  usd_pledged_real  \\\n",
      "10  2017-04-05 19:44:18     1      761      GB         121857.33   \n",
      "38  2017-03-02 04:01:43     0       25      US            856.00   \n",
      "42  2013-06-19 03:16:33     1      218      US           8105.00   \n",
      "52  2015-05-24 12:47:52     1      448      US          37199.00   \n",
      "68  2015-08-31 06:33:31     0       38      US           1410.00   \n",
      "\n",
      "    usd_goal_real  project_length  pledged_per_backer  \n",
      "10        6469.73              27          160.127898  \n",
      "38        1500.00              24           34.240000  \n",
      "42        3000.00              29           37.178899  \n",
      "52       25000.00              29           83.033482  \n",
      "68       50000.00              59           37.105263  \n"
     ]
    }
   ],
   "source": [
    "kickstarter_clean_fail_successful = kickstarter_clean[(kickstarter_clean.state == '1') | (kickstarter_clean.state == '0')] \n",
    "\n",
    "kickstarter_games = kickstarter_clean_fail_successful[kickstarter_clean_fail_successful['main_category'] == 'Games']\n",
    "\n",
    "print(kickstarter_games.head())"
   ]
  },
  {
   "cell_type": "markdown",
   "metadata": {},
   "source": [
    "We will now split the dataset into training and testing. We will also convert the y of the train and test sets into integers to run our logistic regression using smf."
   ]
  },
  {
   "cell_type": "code",
   "execution_count": 4,
   "metadata": {},
   "outputs": [
    {
     "name": "stdout",
     "output_type": "stream",
     "text": [
      "(18932, 14) (18932, 1)\n",
      "(8115, 14) (8115, 1)\n"
     ]
    }
   ],
   "source": [
    "X_train, X_test, y_train, y_test = train_test_split(kickstarter_games[['ID','name','category','main_category','currency','deadline','goal','launched','backers','country','usd_pledged_real','usd_goal_real','project_length','pledged_per_backer']],kickstarter_games[['state']], test_size=0.3)\n",
    "print(X_train.shape, y_train.shape)\n",
    "print(X_test.shape, y_test.shape)\n",
    "\n",
    "y_train['state'] = y_train.state.apply(int)\n",
    "y_test['state'] = y_test.state.apply(int)"
   ]
  },
  {
   "cell_type": "code",
   "execution_count": 5,
   "metadata": {},
   "outputs": [],
   "source": [
    "#SKLEARN STUFF\n",
    "#logreg_model = LogisticRegression()\n",
    "#VARIABLES WE WANT\n",
    "#X_train_goal_length = X_train[['goal','project_length']]\n",
    "#X_test_goal_length = X_test[['goal','project_length']]\n",
    "#logitfit = smf.logit(formula = str(f), data = hgc).fit()\n",
    "#logreg_model.fit(X_train_goal_length,y_train)\n",
    "#print(logreg_model.coef_)\n",
    "#print(logreg_model.intercept_)"
   ]
  },
  {
   "cell_type": "markdown",
   "metadata": {},
   "source": [
    "We will now run our model using the X_train and y_train datasets.\n",
    "We can observe from the model summary that Tabletop Games appear to have the best project success rates, while Mobile Games appear to have the least."
   ]
  },
  {
   "cell_type": "code",
   "execution_count": 6,
   "metadata": {
    "scrolled": false
   },
   "outputs": [
    {
     "name": "stdout",
     "output_type": "stream",
     "text": [
      "Optimization terminated successfully.\n",
      "         Current function value: 0.590210\n",
      "         Iterations 8\n",
      "                           Logit Regression Results                           \n",
      "==============================================================================\n",
      "Dep. Variable:                  state   No. Observations:                18932\n",
      "Model:                          Logit   Df Residuals:                    18921\n",
      "Method:                           MLE   Df Model:                           10\n",
      "Date:                Sun, 24 Nov 2019   Pseudo R-squ.:                  0.1450\n",
      "Time:                        00:25:13   Log-Likelihood:                -11174.\n",
      "converged:                       True   LL-Null:                       -13068.\n",
      "Covariance Type:            nonrobust   LLR p-value:                     0.000\n",
      "===============================================================================================\n",
      "                                  coef    std err          z      P>|z|      [0.025      0.975]\n",
      "-----------------------------------------------------------------------------------------------\n",
      "Intercept                       0.2680      0.077      3.484      0.000       0.117       0.419\n",
      "category[T.Gaming Hardware]     0.1126      0.166      0.680      0.497      -0.212       0.437\n",
      "category[T.Live Games]         -0.4129      0.119     -3.460      0.001      -0.647      -0.179\n",
      "category[T.Mobile Games]       -1.0548      0.117     -9.025      0.000      -1.284      -0.826\n",
      "category[T.Playing Cards]       0.5975      0.078      7.702      0.000       0.445       0.749\n",
      "category[T.Puzzles]             0.4063      0.193      2.109      0.035       0.029       0.784\n",
      "category[T.Tabletop Games]      1.3031      0.060     21.814      0.000       1.186       1.420\n",
      "category[T.Video Games]        -0.2425      0.062     -3.897      0.000      -0.365      -0.121\n",
      "usd_goal_real               -4.292e-06   4.38e-07     -9.803      0.000   -5.15e-06   -3.43e-06\n",
      "project_length                 -0.0330      0.002    -19.525      0.000      -0.036      -0.030\n",
      "pledged_per_backer              0.0034      0.000     12.763      0.000       0.003       0.004\n",
      "===============================================================================================\n"
     ]
    }
   ],
   "source": [
    "logitmodel = smf.logit(formula = 'state ~ category + usd_goal_real + project_length + pledged_per_backer', data = pd.concat([X_train, y_train], axis=1))\n",
    "results = logitmodel.fit()\n",
    "print(results.summary())"
   ]
  },
  {
   "cell_type": "markdown",
   "metadata": {},
   "source": [
    "We obtain an accuracy of ~70% on the test dataset. TO DO: Crossvalidation to verify our results (but based on running this code multiple times the 70% appears to hold steady)."
   ]
  },
  {
   "cell_type": "code",
   "execution_count": 7,
   "metadata": {},
   "outputs": [
    {
     "name": "stdout",
     "output_type": "stream",
     "text": [
      "[1 0 0 ... 1 1 0]\n",
      "[1 0 1 ... 1 1 0]\n"
     ]
    },
    {
     "data": {
      "text/plain": [
       "0.7043746149106592"
      ]
     },
     "execution_count": 7,
     "metadata": {},
     "output_type": "execute_result"
    }
   ],
   "source": [
    "testresult_logit = results.predict(X_test)\n",
    "#print(wholedataset_log)\n",
    "testresult_logit = np.where(testresult_logit > 0.5, 1, 0)\n",
    "print(testresult_logit)\n",
    "print(y_test.state.to_numpy())\n",
    "np.mean(testresult_logit == y_test.state.to_numpy()) #~70% accuracy on test dataset\n"
   ]
  },
  {
   "cell_type": "markdown",
   "metadata": {},
   "source": [
    "The number of failed projects constitute 54% of our training data. Thus, our model does represent a noticeable improvement in prediction accuracy (compared to a simple 'failed' prediction for all the data)"
   ]
  },
  {
   "cell_type": "code",
   "execution_count": 8,
   "metadata": {
    "scrolled": true
   },
   "outputs": [
    {
     "data": {
      "text/plain": [
       "0.5356746765249538"
      ]
     },
     "execution_count": 8,
     "metadata": {},
     "output_type": "execute_result"
    }
   ],
   "source": [
    "y_test.state.value_counts().iloc[0]/(y_test.state.value_counts().iloc[0] + y_test.state.value_counts().iloc[1])"
   ]
  },
  {
   "cell_type": "markdown",
   "metadata": {},
   "source": [
    "Out of interest, I also checked the number of each subcategory within the 'Games' main category. Tabletop Games were indeed the most popular type of project on Kickstarter, perhaps as a result of the higher success rate of such projects on the website. We also observe that more successful projects have a higher amount pledged per backer, which was a different result from my hypothesis that small donations (but many backers) could lead to more successful projects."
   ]
  },
  {
   "cell_type": "code",
   "execution_count": 9,
   "metadata": {},
   "outputs": [
    {
     "name": "stdout",
     "output_type": "stream",
     "text": [
      "       pledged_per_backer\n",
      "state                    \n",
      "0               45.824228\n",
      "1               64.125363\n"
     ]
    },
    {
     "data": {
      "text/plain": [
       "Tabletop Games     11657\n",
       "Video Games         8858\n",
       "Games               2307\n",
       "Playing Cards       1946\n",
       "Mobile Games        1116\n",
       "Live Games           714\n",
       "Gaming Hardware      260\n",
       "Puzzles              189\n",
       "Name: category, dtype: int64"
      ]
     },
     "execution_count": 9,
     "metadata": {},
     "output_type": "execute_result"
    }
   ],
   "source": [
    "print(kickstarter_games[['pledged_per_backer','state']].sort_values('pledged_per_backer').groupby('state').mean())\n",
    "\n",
    "#plot.bar(x='state',y='pledged_per_backer')\n",
    "#plt.show()\n",
    "kickstarter_games.category.value_counts()"
   ]
  }
 ],
 "metadata": {
  "kernelspec": {
   "display_name": "Python 3",
   "language": "python",
   "name": "python3"
  },
  "language_info": {
   "codemirror_mode": {
    "name": "ipython",
    "version": 3
   },
   "file_extension": ".py",
   "mimetype": "text/x-python",
   "name": "python",
   "nbconvert_exporter": "python",
   "pygments_lexer": "ipython3",
   "version": "3.7.3"
  }
 },
 "nbformat": 4,
 "nbformat_minor": 2
}
